{
 "metadata": {
  "name": "",
  "signature": "sha256:c8fd0d6aaa608c26014db8acbd35aa94d0e24428468639dc8fc6ac27b7bfcef4"
 },
 "nbformat": 3,
 "nbformat_minor": 0,
 "worksheets": [
  {
   "cells": [
    {
     "cell_type": "code",
     "collapsed": false,
     "input": [
      "import glob\n",
      "import pybrain\n",
      "from pybrain.structure import FeedForwardNetwork\n",
      "from pybrain.structure import LinearLayer, SigmoidLayer\n",
      "from pybrain.structure import FullConnection\n",
      "from pybrain.datasets import SupervisedDataSet\n",
      "from pybrain.supervised.trainers import BackpropTrainer\n",
      "import matplotlib.pyplot as plt\n",
      "import datetime\n",
      "%matplotlib inline\n",
      "import random\n",
      "import ast\n",
      "import time\n",
      "import sqlalchemy\n",
      "from sqlalchemy import *\n",
      "from sqlalchemy import event\n",
      "import sqlite3\n",
      "from sqlalchemy.ext.declarative import declarative_base\n",
      "from sqlalchemy.orm import *\n",
      "import urllib2\n",
      "import urllib\n",
      "import json\n",
      "import glob\n",
      "import pprint\n",
      "import dateutil.parser\n",
      "import pprint\n",
      "import re\n",
      "from sklearn import linear_model, datasets\n",
      "import time\n",
      "from sklearn.naive_bayes import GaussianNB\n",
      "import nltk\n",
      "from collections import defaultdict\n",
      "from sklearn import svm\n",
      "pp = pprint.PrettyPrinter(indent=4)"
     ],
     "language": "python",
     "metadata": {},
     "outputs": [],
     "prompt_number": 187
    },
    {
     "cell_type": "code",
     "collapsed": false,
     "input": [
      "def mean(l):\n",
      "    return sum(l)/float(len(l))"
     ],
     "language": "python",
     "metadata": {},
     "outputs": [],
     "prompt_number": 188
    },
    {
     "cell_type": "code",
     "collapsed": false,
     "input": [
      "n = FeedForwardNetwork()\n",
      "inLayer = LinearLayer(9)\n",
      "hiddenLayer = SigmoidLayer(18)\n",
      "outLayer = LinearLayer(3)\n",
      "n.addInputModule(inLayer)\n",
      "n.addModule(hiddenLayer)\n",
      "n.addOutputModule(outLayer)\n",
      "in_to_hidden = FullConnection(inLayer, hiddenLayer)\n",
      "hidden_to_out = FullConnection(hiddenLayer, outLayer)\n",
      "\n",
      "n.addConnection(in_to_hidden)\n",
      "n.addConnection(hidden_to_out)\n",
      "\n",
      "n.sortModules()"
     ],
     "language": "python",
     "metadata": {},
     "outputs": [],
     "prompt_number": 189
    },
    {
     "cell_type": "code",
     "collapsed": false,
     "input": [
      "trainfile = open('usd_eur_trainingdata.csv', 'r')\n",
      "testfile = open('usd_eur_testingdata.csv', 'r')\n",
      "\n",
      "train, test = [], []\n",
      "for line in trainfile:\n",
      "    line = line.strip().split(',')\n",
      "    features = line[:-3]\n",
      "    outputs = line[-3:]\n",
      "    train.append([features, outputs])\n",
      "\n",
      "for line in testfile:\n",
      "    line = line.strip().split(',')\n",
      "    features = line[:-3]\n",
      "    outputs = line[-3:]\n",
      "    test.append([features, outputs])"
     ],
     "language": "python",
     "metadata": {},
     "outputs": [],
     "prompt_number": 190
    },
    {
     "cell_type": "code",
     "collapsed": false,
     "input": [
      "ds = SupervisedDataSet(9, 3)\n",
      "for t in train:\n",
      "    ds.addSample(t[0], t[1])\n",
      "print \"Dataset of \" + str(len(ds)) + \" samples.\"\n",
      "print \"Test set of \" + str(len(test)) + \" samples.\""
     ],
     "language": "python",
     "metadata": {},
     "outputs": [
      {
       "output_type": "stream",
       "stream": "stdout",
       "text": [
        "Dataset of 1850 samples.\n",
        "Test set of 202 samples.\n"
       ]
      }
     ],
     "prompt_number": 191
    },
    {
     "cell_type": "code",
     "collapsed": false,
     "input": [
      "sortedKeys = sorted(alls.keys())\n",
      "print sortedKeys[:10]"
     ],
     "language": "python",
     "metadata": {},
     "outputs": [
      {
       "output_type": "stream",
       "stream": "stdout",
       "text": [
        "[datetime.datetime(2012, 1, 2, 2, 0), datetime.datetime(2012, 1, 2, 2, 1), datetime.datetime(2012, 1, 2, 2, 2), datetime.datetime(2012, 1, 2, 2, 3), datetime.datetime(2012, 1, 2, 2, 4), datetime.datetime(2012, 1, 2, 2, 5), datetime.datetime(2012, 1, 2, 2, 6), datetime.datetime(2012, 1, 2, 2, 7), datetime.datetime(2012, 1, 2, 2, 8), datetime.datetime(2012, 1, 2, 2, 9)]\n"
       ]
      }
     ],
     "prompt_number": 192
    },
    {
     "cell_type": "code",
     "collapsed": false,
     "input": [
      "trainer = BackpropTrainer(n, ds)"
     ],
     "language": "python",
     "metadata": {},
     "outputs": [],
     "prompt_number": 193
    },
    {
     "cell_type": "code",
     "collapsed": false,
     "input": [
      "# trainer.trainUntilConvergence(verbose=True)\n",
      "trainer.train()"
     ],
     "language": "python",
     "metadata": {},
     "outputs": [
      {
       "metadata": {},
       "output_type": "pyout",
       "prompt_number": 195,
       "text": [
        "8.1074490115653069e-06"
       ]
      }
     ],
     "prompt_number": 195
    },
    {
     "cell_type": "code",
     "collapsed": false,
     "input": [
      "for x in range(10):\n",
      "    if x % 100 == 0:\n",
      "        print \"Error on iteration \" + str(x) + \": \" + str(trainer.train())\n",
      "    trainer.train()\n"
     ],
     "language": "python",
     "metadata": {},
     "outputs": [
      {
       "output_type": "stream",
       "stream": "stdout",
       "text": [
        "Error on iteration 0: 0.000976803443165\n"
       ]
      }
     ],
     "prompt_number": 168
    },
    {
     "cell_type": "code",
     "collapsed": false,
     "input": [
      "directions = []\n",
      "errors = []\n",
      "for d in test:\n",
      "\n",
      "    out = n.activate(d[0])\n",
      "    errors.append(out**2)\n",
      "    out = out\n",
      "#     print out, d[1]\n",
      "    directions.append((out[0] < 0 and d[1] < 0) or (out[0] > 0 and d[1]  > 0)) #30 min pre"
     ],
     "language": "python",
     "metadata": {},
     "outputs": [],
     "prompt_number": 196
    },
    {
     "cell_type": "code",
     "collapsed": false,
     "input": [
      "print \"SSE: \" + str(sum(errors))\n",
      "print \"Pct in correct direction: \" + str(directions.count(True)/float(len(directions)))"
     ],
     "language": "python",
     "metadata": {},
     "outputs": [
      {
       "output_type": "stream",
       "stream": "stdout",
       "text": [
        "SSE: [ 0.00172134  0.00537832  0.00251428]\n",
        "Pct in correct direction: 0.519801980198\n"
       ]
      }
     ],
     "prompt_number": 197
    },
    {
     "cell_type": "code",
     "collapsed": false,
     "input": [
      "cache = {}\n",
      "count = 0\n",
      "for k in sortedKeys:\n",
      "    cache[k] = count\n",
      "    count += 1"
     ],
     "language": "python",
     "metadata": {},
     "outputs": [],
     "prompt_number": 198
    },
    {
     "cell_type": "code",
     "collapsed": false,
     "input": [
      "# def moving_average(delta, data, date):\n",
      "\n",
      "#     points = []\n",
      "\n",
      "#     pts = []\n",
      "#     for ind in range(delta.days):\n",
      "#         d = date - datetime.timedelta(days=ind)\n",
      "#         for hour in range(0,23,2):\n",
      "#             for minute in range(0,59,5):\n",
      "#                 pt =  dct[d.year][d.month][d.day][hour][minute]\n",
      "#                 if str(type(pt)) != \"<type 'collections.defaultdict'>\":\n",
      "#                     pts.append(pt)\n",
      "#     return mean(pts)\n",
      "\n",
      "# def moving_average_hours(delta, data, date):\n",
      "\n",
      "#     points = []\n",
      "#     kys = alls.keys()\n",
      "# #     lst = [k for k in kys if abs(k - date ).days <= delta.days]\n",
      "\n",
      "\n",
      "\n",
      "#     for z in [k for k in kys if abs(k - date ).days <= delta.days]:\n",
      "#         if z < date:\n",
      "#             points.append(float(alls[z]))\n",
      "#     if len(points) == 0:\n",
      "#         return -1\n",
      "#     return mean(points)\n",
      "def moving_average(delta, data, date):\n",
      "#     date = date - delta\n",
      "    kys = sortedKeys\n",
      "#     print kys\n",
      "    i1, i2 = 1, 1\n",
      "#     print delta.hours\n",
      "    try:\n",
      "        d1 = closest_date(date)\n",
      "        i1 = cache[d1]\n",
      "    except:\n",
      "        count = 0\n",
      "        for k in kys:\n",
      "    #       print k\n",
      "            if k > date:\n",
      "                i1 = count\n",
      "                break   \n",
      "        count += 1\n",
      "    try:\n",
      "        d2 = closest_date(date - delta)\n",
      "        i2 = cache[d2]\n",
      "    except:\n",
      "        count = 0\n",
      "        for k in kys:\n",
      "    #       print k\n",
      "            if k > date - delta:\n",
      "                i2 = count\n",
      "                break   \n",
      "            count += 1#     print d1, d2\n",
      "    points = []\n",
      "\n",
      "    #compute avg approx for speed\n",
      "    datapoints = 5\n",
      "    ptz = []\n",
      "    if abs(i1-i2)/5 == 0:\n",
      "        return mean([float(alls[kys[i1]]), float(alls[kys[i2]])])\n",
      "    for z in range(i1, i2, abs(i1-i2)/5):\n",
      "        ptz.append(float(alls[kys[z]]))\n",
      "    return mean(ptz)\n",
      "    for z in kys[i2:i1]:\n",
      "        if z < date:\n",
      "            points.append(float(alls[z]))\n",
      "    return mean(points)\n",
      "\n",
      "\n",
      "def get_past_averages(date, dct=dct):\n",
      "#     print date\n",
      "    vec = []\n",
      "    for back in [1/24.0,.25,1,3,7,31,90,180,365]:\n",
      "\n",
      "#         if back < 1:    \n",
      "#             dlt = datetime.timedelta(hours=back*24)\n",
      "\n",
      "#             vec.append(moving_average_hours(dlt, dct, date))\n",
      "#         else:\n",
      "        dlt = datetime.timedelta(days=back)\n",
      "\n",
      "        vec.append(moving_average(dlt, dct, date))\n",
      "    return vec\n",
      "\n",
      "def closest_datapoint(d):\n",
      "    closest =  dct[d.year][d.month][d.day][d.hour][d.minute]\n",
      "    if str(type(closest)) != \"<type 'collections.defaultdict'>\":\n",
      "        return closest\n",
      "    else:\n",
      "        return closest_datapoint(d + datetime.timedelta(seconds=60))\n",
      "\n",
      "def closest_date(d):\n",
      "    closest =  dct[d.year][d.month][d.day][d.hour][d.minute]\n",
      "    if str(type(closest)) != \"<type 'collections.defaultdict'>\":\n",
      "        return datetime.datetime(d.year,d.month,d.day,d.hour,d.minute)\n",
      "    else:\n",
      "        return closest_date(d + datetime.timedelta(seconds=120))\n"
     ],
     "language": "python",
     "metadata": {},
     "outputs": [],
     "prompt_number": 199
    },
    {
     "cell_type": "code",
     "collapsed": false,
     "input": [],
     "language": "python",
     "metadata": {},
     "outputs": [],
     "prompt_number": 199
    },
    {
     "cell_type": "code",
     "collapsed": false,
     "input": [
      "d = datetime.datetime(2015,2,4,1,1)\n",
      "\n",
      "print get_past_averages(d)"
     ],
     "language": "python",
     "metadata": {},
     "outputs": [
      {
       "output_type": "stream",
       "stream": "stdout",
       "text": [
        "[1.29326, 1.29326, 1.29326, 1.2940633333333333, 1.2940633333333333, 1.2940633333333333, 1.2940633333333333, 1.2940633333333333, 1.2940633333333333]\n"
       ]
      }
     ],
     "prompt_number": 200
    },
    {
     "cell_type": "code",
     "collapsed": false,
     "input": [
      "dates=[]; times=[]; asks=[]; predictions=[]\n",
      "preds = []\n",
      "pred = 1.13\n",
      "alls = {}\n",
      "tree = lambda: defaultdict(tree)\n",
      "dct = tree()\n",
      "first = True\n",
      "for fl in glob.glob('Forex_Data/EURO_USD/*/*.csv')[8:13]:\n",
      "    print fl\n",
      "    for line in open(fl):\n",
      "        line = line.strip('\\n').split(' ')\n",
      "        date = line[0]\n",
      "        rest  = line[1].split(';')\n",
      "        time = rest[0]\n",
      "        ask = rest[1]\n",
      "        \n",
      "        d = datetime.datetime(int(date[:4]), int(date[4:6]), int(date[6:8]), int(time[:2]), int(time[2:4]), int(time[4:]))\n",
      "        alls[d] = ask\n",
      "\n",
      "        if first == True:\n",
      "            first = d\n",
      "        else:\n",
      "            if (d - first).seconds > 1800:\n",
      "                break\n",
      "            else:\n",
      "                predictions.append(pred)\n",
      "\n",
      "        \n",
      "for fl in glob.glob('Forex_Data/EURO_USD/*/*.csv')[10:13]:\n",
      "    print fl\n",
      "    for line in open(fl):\n",
      "        line = line.strip('\\n').split(' ')\n",
      "        date = line[0]\n",
      "        rest  = line[1].split(';')\n",
      "        time = rest[0]\n",
      "        ask = rest[1]\n",
      "    #     print int(date[:4]), int(date[4:6]), int(date[6:8]), int(time[:2]), int(time[2:4]), int(time[4:])\n",
      "        d = datetime.datetime(int(date[:4]), int(date[4:6]), int(date[6:8]), int(time[:2]), int(time[2:4]), int(time[4:]))\n",
      "    #     print d\n",
      "    #     dates.append( date[:4]+\" \"+date[4:6]*3600*24*30+\" \"+date[6:8]*3600*24+\" \"+time[0:2]*3600+\" \"+time[2:4]*60 )\n",
      "        dates.append(d)\n",
      "        times.append(time)\n",
      "        asks.append(ask)\n",
      "        dct[d.year][d.month][d.day][d.hour][d.minute] = ask\n",
      "\n",
      "for fl in glob.glob('Forex_Data/EURO_USD/*/*.csv')[11:13]:\n",
      "    print fl\n",
      "    for line in open(fl):\n",
      "        line = line.strip('\\n').split(' ')\n",
      "        date = line[0]\n",
      "        rest  = line[1].split(';')\n",
      "        time = rest[0]\n",
      "        ask = rest[1]\n",
      "    #     print int(date[:4]), int(date[4:6]), int(date[6:8]), int(time[:2]), int(time[2:4]), int(time[4:])\n",
      "        d = datetime.datetime(int(date[:4]), int(date[4:6]), int(date[6:8]), int(time[:2]), int(time[2:4]), int(time[4:]))\n",
      "    #     print d\n",
      "    #     dates.append( date[:4]+\" \"+date[4:6]*3600*24*30+\" \"+date[6:8]*3600*24+\" \"+time[0:2]*3600+\" \"+time[2:4]*60 )\n",
      "#         dates.append(d)\n",
      "#         times.append(time)\n",
      "#         asks.append(ask)\n",
      "#         dct[d.year][d.month][d.day][d.hour][d.minute] = ask\n",
      "#         alls[d] = ask\n",
      "        if random.randint(1,100) == 10:\n",
      "            print d\n",
      "        pred = float(n.activate(get_past_averages(d))[0]) + float(ask)\n",
      "        predictions.append(pred)\n",
      "        preds.append([pred, d])\n",
      "\n",
      "lastAsk = asks[-1]\n",
      "#below is future\n",
      "# for day in range(22,24):\n",
      "#     print \"Day: \" + str(day)\n",
      "#     for hour in range(24):\n",
      "#         for minute in range(0,60,3):\n",
      "#             d = datetime.datetime(2015,2,day,hour,minute,0)\n",
      "#             dct[d.year][d.month][d.day][d.hour][d.minute] = pred\n",
      "\n",
      "#             pred = float(n.activate(get_past_averages(d))[0]) + float(ask)\n",
      "\n",
      "#             dates.append(d)\n",
      "#             asks.append(lastAsk)\n",
      "#             predictions.append(pred)"
     ],
     "language": "python",
     "metadata": {},
     "outputs": [
      {
       "output_type": "stream",
       "stream": "stdout",
       "text": [
        "Forex_Data/EURO_USD/HISTDATA_COM_ASCII_EURUSD_M12012/DAT_ASCII_EURUSD_M1_2012.csv\n",
        "Forex_Data/EURO_USD/HISTDATA_COM_ASCII_EURUSD_M12013/DAT_ASCII_EURUSD_M1_2013.csv\n",
        "Forex_Data/EURO_USD/HISTDATA_COM_ASCII_EURUSD_M12014/DAT_ASCII_EURUSD_M1_2014.csv\n",
        "Forex_Data/EURO_USD/HISTDATA_COM_ASCII_EURUSD_M1201501/DAT_ASCII_EURUSD_M1_201501.csv\n",
        "Forex_Data/EURO_USD/HISTDATA_COM_ASCII_EURUSD_M1201502/DAT_ASCII_EURUSD_M1_201502.csv\n",
        "Forex_Data/EURO_USD/HISTDATA_COM_ASCII_EURUSD_M12014/DAT_ASCII_EURUSD_M1_2014.csv\n",
        "Forex_Data/EURO_USD/HISTDATA_COM_ASCII_EURUSD_M1201501/DAT_ASCII_EURUSD_M1_201501.csv"
       ]
      },
      {
       "output_type": "stream",
       "stream": "stdout",
       "text": [
        "\n",
        "Forex_Data/EURO_USD/HISTDATA_COM_ASCII_EURUSD_M1201502/DAT_ASCII_EURUSD_M1_201502.csv"
       ]
      },
      {
       "output_type": "stream",
       "stream": "stdout",
       "text": [
        "\n",
        "Forex_Data/EURO_USD/HISTDATA_COM_ASCII_EURUSD_M1201501/DAT_ASCII_EURUSD_M1_201501.csv"
       ]
      },
      {
       "output_type": "stream",
       "stream": "stdout",
       "text": [
        "\n",
        "2015-01-01 13:06:00"
       ]
      },
      {
       "output_type": "stream",
       "stream": "stdout",
       "text": [
        "\n",
        "2015-01-01 17:11:00"
       ]
      },
      {
       "output_type": "stream",
       "stream": "stdout",
       "text": [
        "\n",
        "2015-01-01 18:43:00"
       ]
      },
      {
       "output_type": "stream",
       "stream": "stdout",
       "text": [
        "\n",
        "2015-01-01 19:33:00"
       ]
      },
      {
       "output_type": "stream",
       "stream": "stdout",
       "text": [
        "\n",
        "2015-01-01 19:52:00"
       ]
      },
      {
       "output_type": "stream",
       "stream": "stdout",
       "text": [
        "\n",
        "2015-01-01 20:05:00"
       ]
      },
      {
       "output_type": "stream",
       "stream": "stdout",
       "text": [
        "\n",
        "2015-01-01 21:36:00"
       ]
      },
      {
       "output_type": "stream",
       "stream": "stdout",
       "text": [
        "\n",
        "2015-01-01 22:43:00"
       ]
      },
      {
       "output_type": "stream",
       "stream": "stdout",
       "text": [
        "\n",
        "2015-01-01 22:46:00\n",
        "2015-01-01 22:55:00"
       ]
      },
      {
       "output_type": "stream",
       "stream": "stdout",
       "text": [
        "\n",
        "2015-01-02 00:00:00"
       ]
      },
      {
       "output_type": "stream",
       "stream": "stdout",
       "text": [
        "\n",
        "2015-01-02 06:08:00"
       ]
      },
      {
       "output_type": "stream",
       "stream": "stdout",
       "text": [
        "\n",
        "2015-01-02 07:06:00"
       ]
      },
      {
       "output_type": "stream",
       "stream": "stdout",
       "text": [
        "\n",
        "2015-01-02 07:34:00"
       ]
      },
      {
       "output_type": "stream",
       "stream": "stdout",
       "text": [
        "\n",
        "2015-01-02 09:22:00"
       ]
      },
      {
       "output_type": "stream",
       "stream": "stdout",
       "text": [
        "\n",
        "2015-01-02 10:40:00"
       ]
      },
      {
       "output_type": "stream",
       "stream": "stdout",
       "text": [
        "\n",
        "2015-01-02 11:46:00"
       ]
      },
      {
       "output_type": "stream",
       "stream": "stdout",
       "text": [
        "\n",
        "2015-01-02 16:59:00"
       ]
      },
      {
       "output_type": "stream",
       "stream": "stdout",
       "text": [
        "\n",
        "2015-01-04 20:21:00"
       ]
      },
      {
       "output_type": "stream",
       "stream": "stdout",
       "text": [
        "\n",
        "2015-01-04 20:39:00"
       ]
      },
      {
       "output_type": "stream",
       "stream": "stdout",
       "text": [
        "\n",
        "2015-01-05 01:04:00"
       ]
      },
      {
       "output_type": "stream",
       "stream": "stdout",
       "text": [
        "\n",
        "2015-01-05 02:49:00"
       ]
      },
      {
       "output_type": "stream",
       "stream": "stdout",
       "text": [
        "\n",
        "2015-01-05 03:22:00"
       ]
      },
      {
       "output_type": "stream",
       "stream": "stdout",
       "text": [
        "\n",
        "2015-01-05 03:40:00"
       ]
      },
      {
       "output_type": "stream",
       "stream": "stdout",
       "text": [
        "\n",
        "2015-01-05 07:09:00"
       ]
      },
      {
       "output_type": "stream",
       "stream": "stdout",
       "text": [
        "\n",
        "2015-01-05 09:26:00"
       ]
      },
      {
       "output_type": "stream",
       "stream": "stdout",
       "text": [
        "\n",
        "2015-01-05 09:40:00\n",
        "2015-01-05 12:12:00"
       ]
      },
      {
       "output_type": "stream",
       "stream": "stdout",
       "text": [
        "\n",
        "2015-01-05 12:39:00"
       ]
      },
      {
       "output_type": "stream",
       "stream": "stdout",
       "text": [
        "\n",
        "2015-01-05 13:08:00"
       ]
      },
      {
       "output_type": "stream",
       "stream": "stdout",
       "text": [
        "\n",
        "2015-01-05 16:27:00"
       ]
      },
      {
       "output_type": "stream",
       "stream": "stdout",
       "text": [
        "\n",
        "2015-01-05 18:06:00"
       ]
      },
      {
       "output_type": "stream",
       "stream": "stdout",
       "text": [
        "\n",
        "2015-01-05 18:07:00\n",
        "2015-01-05 18:24:00"
       ]
      },
      {
       "output_type": "stream",
       "stream": "stdout",
       "text": [
        "\n",
        "2015-01-05 20:28:00"
       ]
      },
      {
       "output_type": "stream",
       "stream": "stdout",
       "text": [
        "\n",
        "2015-01-05 22:28:00"
       ]
      },
      {
       "output_type": "stream",
       "stream": "stdout",
       "text": [
        "\n",
        "2015-01-05 23:16:00"
       ]
      },
      {
       "output_type": "stream",
       "stream": "stdout",
       "text": [
        "\n",
        "2015-01-05 23:54:00"
       ]
      },
      {
       "output_type": "stream",
       "stream": "stdout",
       "text": [
        "\n",
        "2015-01-06 01:45:00"
       ]
      },
      {
       "output_type": "stream",
       "stream": "stdout",
       "text": [
        "\n",
        "2015-01-06 03:23:00"
       ]
      },
      {
       "output_type": "stream",
       "stream": "stdout",
       "text": [
        "\n",
        "2015-01-06 06:44:00"
       ]
      },
      {
       "output_type": "stream",
       "stream": "stdout",
       "text": [
        "\n",
        "2015-01-06 07:20:00"
       ]
      },
      {
       "output_type": "stream",
       "stream": "stdout",
       "text": [
        "\n",
        "2015-01-06 07:43:00"
       ]
      },
      {
       "output_type": "stream",
       "stream": "stdout",
       "text": [
        "\n",
        "2015-01-06 09:36:00"
       ]
      },
      {
       "output_type": "stream",
       "stream": "stdout",
       "text": [
        "\n",
        "2015-01-06 12:21:00"
       ]
      },
      {
       "output_type": "stream",
       "stream": "stdout",
       "text": [
        "\n",
        "2015-01-06 15:19:00"
       ]
      },
      {
       "output_type": "stream",
       "stream": "stdout",
       "text": [
        "\n",
        "2015-01-06 16:25:00"
       ]
      },
      {
       "output_type": "stream",
       "stream": "stdout",
       "text": [
        "\n",
        "2015-01-06 17:47:00"
       ]
      },
      {
       "output_type": "stream",
       "stream": "stdout",
       "text": [
        "\n",
        "2015-01-06 18:37:00"
       ]
      },
      {
       "output_type": "stream",
       "stream": "stdout",
       "text": [
        "\n",
        "2015-01-06 19:00:00"
       ]
      },
      {
       "output_type": "stream",
       "stream": "stdout",
       "text": [
        "\n",
        "2015-01-06 19:40:00"
       ]
      },
      {
       "output_type": "stream",
       "stream": "stdout",
       "text": [
        "\n",
        "2015-01-06 19:47:00\n",
        "2015-01-06 20:02:00"
       ]
      },
      {
       "output_type": "stream",
       "stream": "stdout",
       "text": [
        "\n",
        "2015-01-06 22:01:00"
       ]
      },
      {
       "output_type": "stream",
       "stream": "stdout",
       "text": [
        "\n",
        "2015-01-07 03:09:00"
       ]
      },
      {
       "output_type": "stream",
       "stream": "stdout",
       "text": [
        "\n",
        "2015-01-07 03:53:00"
       ]
      },
      {
       "output_type": "stream",
       "stream": "stdout",
       "text": [
        "\n",
        "2015-01-07 08:17:00"
       ]
      },
      {
       "output_type": "stream",
       "stream": "stdout",
       "text": [
        "\n",
        "2015-01-07 11:00:00"
       ]
      },
      {
       "output_type": "stream",
       "stream": "stdout",
       "text": [
        "\n",
        "2015-01-07 11:01:00\n",
        "2015-01-07 15:12:00"
       ]
      },
      {
       "output_type": "stream",
       "stream": "stdout",
       "text": [
        "\n",
        "2015-01-07 16:25:00"
       ]
      },
      {
       "output_type": "stream",
       "stream": "stdout",
       "text": [
        "\n",
        "2015-01-07 18:44:00"
       ]
      },
      {
       "output_type": "stream",
       "stream": "stdout",
       "text": [
        "\n",
        "2015-01-07 18:45:00\n",
        "2015-01-07 22:48:00"
       ]
      },
      {
       "output_type": "stream",
       "stream": "stdout",
       "text": [
        "\n",
        "2015-01-07 22:54:00\n",
        "2015-01-08 01:04:00"
       ]
      },
      {
       "output_type": "stream",
       "stream": "stdout",
       "text": [
        "\n",
        "2015-01-08 02:04:00"
       ]
      },
      {
       "output_type": "stream",
       "stream": "stdout",
       "text": [
        "\n",
        "2015-01-08 03:22:00"
       ]
      },
      {
       "output_type": "stream",
       "stream": "stdout",
       "text": [
        "\n",
        "2015-01-08 04:59:00"
       ]
      },
      {
       "output_type": "stream",
       "stream": "stdout",
       "text": [
        "\n",
        "2015-01-08 05:54:00"
       ]
      },
      {
       "output_type": "stream",
       "stream": "stdout",
       "text": [
        "\n",
        "2015-01-08 07:14:00"
       ]
      },
      {
       "output_type": "stream",
       "stream": "stdout",
       "text": [
        "\n",
        "2015-01-08 09:55:00"
       ]
      },
      {
       "output_type": "stream",
       "stream": "stdout",
       "text": [
        "\n",
        "2015-01-08 12:58:00"
       ]
      },
      {
       "output_type": "stream",
       "stream": "stdout",
       "text": [
        "\n",
        "2015-01-08 15:26:00"
       ]
      },
      {
       "output_type": "stream",
       "stream": "stdout",
       "text": [
        "\n",
        "2015-01-08 18:42:00"
       ]
      },
      {
       "output_type": "stream",
       "stream": "stdout",
       "text": [
        "\n",
        "2015-01-08 20:13:00"
       ]
      },
      {
       "output_type": "stream",
       "stream": "stdout",
       "text": [
        "\n",
        "2015-01-08 21:19:00"
       ]
      },
      {
       "output_type": "stream",
       "stream": "stdout",
       "text": [
        "\n",
        "2015-01-08 22:10:00"
       ]
      },
      {
       "output_type": "stream",
       "stream": "stdout",
       "text": [
        "\n",
        "2015-01-08 22:27:00"
       ]
      },
      {
       "output_type": "stream",
       "stream": "stdout",
       "text": [
        "\n",
        "2015-01-09 06:04:00"
       ]
      },
      {
       "output_type": "stream",
       "stream": "stdout",
       "text": [
        "\n",
        "2015-01-09 08:32:00"
       ]
      },
      {
       "output_type": "stream",
       "stream": "stdout",
       "text": [
        "\n",
        "2015-01-09 08:37:00\n",
        "2015-01-09 11:44:00"
       ]
      },
      {
       "output_type": "stream",
       "stream": "stdout",
       "text": [
        "\n",
        "2015-01-09 13:06:00"
       ]
      },
      {
       "output_type": "stream",
       "stream": "stdout",
       "text": [
        "\n",
        "2015-01-09 14:43:00"
       ]
      },
      {
       "output_type": "stream",
       "stream": "stdout",
       "text": [
        "\n",
        "2015-01-09 14:46:00\n",
        "2015-01-09 16:04:00"
       ]
      },
      {
       "output_type": "stream",
       "stream": "stdout",
       "text": [
        "\n",
        "2015-01-11 17:44:00"
       ]
      },
      {
       "output_type": "stream",
       "stream": "stdout",
       "text": [
        "\n",
        "2015-01-11 20:19:00"
       ]
      },
      {
       "output_type": "stream",
       "stream": "stdout",
       "text": [
        "\n",
        "2015-01-11 23:42:00"
       ]
      },
      {
       "output_type": "stream",
       "stream": "stdout",
       "text": [
        "\n",
        "2015-01-12 10:37:00"
       ]
      },
      {
       "output_type": "stream",
       "stream": "stdout",
       "text": [
        "\n",
        "2015-01-12 15:12:00"
       ]
      },
      {
       "output_type": "stream",
       "stream": "stdout",
       "text": [
        "\n",
        "2015-01-12 15:34:00\n",
        "2015-01-12 17:09:00"
       ]
      },
      {
       "output_type": "stream",
       "stream": "stdout",
       "text": [
        "\n",
        "2015-01-12 17:43:00"
       ]
      },
      {
       "output_type": "stream",
       "stream": "stdout",
       "text": [
        "\n",
        "2015-01-12 19:46:00"
       ]
      },
      {
       "output_type": "stream",
       "stream": "stdout",
       "text": [
        "\n",
        "2015-01-12 22:12:00"
       ]
      },
      {
       "output_type": "stream",
       "stream": "stdout",
       "text": [
        "\n",
        "2015-01-12 22:56:00"
       ]
      },
      {
       "output_type": "stream",
       "stream": "stdout",
       "text": [
        "\n",
        "2015-01-13 01:47:00"
       ]
      },
      {
       "output_type": "stream",
       "stream": "stdout",
       "text": [
        "\n",
        "2015-01-13 01:56:00"
       ]
      },
      {
       "output_type": "stream",
       "stream": "stdout",
       "text": [
        "\n",
        "2015-01-13 03:25:00"
       ]
      },
      {
       "output_type": "stream",
       "stream": "stdout",
       "text": [
        "\n",
        "2015-01-13 05:03:00"
       ]
      },
      {
       "output_type": "stream",
       "stream": "stdout",
       "text": [
        "\n",
        "2015-01-13 10:47:00"
       ]
      },
      {
       "output_type": "stream",
       "stream": "stdout",
       "text": [
        "\n",
        "2015-01-13 15:29:00"
       ]
      },
      {
       "output_type": "stream",
       "stream": "stdout",
       "text": [
        "\n",
        "2015-01-13 15:35:00"
       ]
      },
      {
       "output_type": "stream",
       "stream": "stdout",
       "text": [
        "\n",
        "2015-01-13 17:30:00"
       ]
      },
      {
       "output_type": "stream",
       "stream": "stdout",
       "text": [
        "\n",
        "2015-01-13 17:35:00"
       ]
      },
      {
       "output_type": "stream",
       "stream": "stdout",
       "text": [
        "\n",
        "2015-01-13 20:52:00"
       ]
      },
      {
       "output_type": "stream",
       "stream": "stdout",
       "text": [
        "\n",
        "2015-01-13 20:57:00\n",
        "2015-01-13 21:00:00"
       ]
      },
      {
       "output_type": "stream",
       "stream": "stdout",
       "text": [
        "\n",
        "2015-01-13 22:00:00"
       ]
      },
      {
       "output_type": "stream",
       "stream": "stdout",
       "text": [
        "\n",
        "2015-01-13 22:08:00"
       ]
      },
      {
       "output_type": "stream",
       "stream": "stdout",
       "text": [
        "\n",
        "2015-01-14 02:33:00"
       ]
      },
      {
       "output_type": "stream",
       "stream": "stdout",
       "text": [
        "\n",
        "2015-01-14 04:27:00"
       ]
      },
      {
       "output_type": "stream",
       "stream": "stdout",
       "text": [
        "\n",
        "2015-01-14 07:23:00"
       ]
      },
      {
       "output_type": "stream",
       "stream": "stdout",
       "text": [
        "\n",
        "2015-01-14 08:23:00"
       ]
      },
      {
       "output_type": "stream",
       "stream": "stdout",
       "text": [
        "\n",
        "2015-01-14 09:09:00"
       ]
      },
      {
       "output_type": "stream",
       "stream": "stdout",
       "text": [
        "\n",
        "2015-01-14 09:56:00"
       ]
      },
      {
       "output_type": "stream",
       "stream": "stdout",
       "text": [
        "\n",
        "2015-01-14 11:40:00"
       ]
      },
      {
       "output_type": "stream",
       "stream": "stdout",
       "text": [
        "\n",
        "2015-01-14 12:53:00"
       ]
      },
      {
       "output_type": "stream",
       "stream": "stdout",
       "text": [
        "\n",
        "2015-01-14 14:17:00"
       ]
      },
      {
       "output_type": "stream",
       "stream": "stdout",
       "text": [
        "\n",
        "2015-01-14 14:46:00\n",
        "2015-01-14 16:28:00"
       ]
      },
      {
       "output_type": "stream",
       "stream": "stdout",
       "text": [
        "\n",
        "2015-01-14 19:29:00"
       ]
      },
      {
       "output_type": "stream",
       "stream": "stdout",
       "text": [
        "\n",
        "2015-01-14 20:01:00"
       ]
      },
      {
       "output_type": "stream",
       "stream": "stdout",
       "text": [
        "\n",
        "2015-01-14 21:55:00"
       ]
      },
      {
       "output_type": "stream",
       "stream": "stdout",
       "text": [
        "\n",
        "2015-01-15 05:08:00"
       ]
      },
      {
       "output_type": "stream",
       "stream": "stdout",
       "text": [
        "\n",
        "2015-01-15 10:14:00"
       ]
      },
      {
       "output_type": "stream",
       "stream": "stdout",
       "text": [
        "\n",
        "2015-01-15 10:42:00"
       ]
      },
      {
       "output_type": "stream",
       "stream": "stdout",
       "text": [
        "\n",
        "2015-01-15 11:26:00"
       ]
      },
      {
       "output_type": "stream",
       "stream": "stdout",
       "text": [
        "\n",
        "2015-01-15 12:10:00"
       ]
      },
      {
       "output_type": "stream",
       "stream": "stdout",
       "text": [
        "\n",
        "2015-01-15 12:25:00"
       ]
      },
      {
       "output_type": "stream",
       "stream": "stdout",
       "text": [
        "\n",
        "2015-01-15 13:39:00"
       ]
      },
      {
       "output_type": "stream",
       "stream": "stdout",
       "text": [
        "\n",
        "2015-01-15 15:37:00"
       ]
      },
      {
       "output_type": "stream",
       "stream": "stdout",
       "text": [
        "\n",
        "2015-01-15 15:45:00\n",
        "2015-01-15 17:32:00"
       ]
      },
      {
       "output_type": "stream",
       "stream": "stdout",
       "text": [
        "\n",
        "2015-01-15 19:24:00"
       ]
      },
      {
       "output_type": "stream",
       "stream": "stdout",
       "text": [
        "\n",
        "2015-01-15 20:14:00"
       ]
      },
      {
       "output_type": "stream",
       "stream": "stdout",
       "text": [
        "\n",
        "2015-01-15 21:35:00"
       ]
      },
      {
       "output_type": "stream",
       "stream": "stdout",
       "text": [
        "\n",
        "2015-01-15 21:36:00\n",
        "2015-01-15 22:45:00"
       ]
      },
      {
       "output_type": "stream",
       "stream": "stdout",
       "text": [
        "\n",
        "2015-01-15 23:36:00"
       ]
      },
      {
       "output_type": "stream",
       "stream": "stdout",
       "text": [
        "\n",
        "2015-01-16 00:28:00"
       ]
      },
      {
       "output_type": "stream",
       "stream": "stdout",
       "text": [
        "\n",
        "2015-01-16 03:19:00"
       ]
      },
      {
       "output_type": "stream",
       "stream": "stdout",
       "text": [
        "\n",
        "2015-01-16 05:52:00"
       ]
      },
      {
       "output_type": "stream",
       "stream": "stdout",
       "text": [
        "\n",
        "2015-01-16 06:18:00"
       ]
      },
      {
       "output_type": "stream",
       "stream": "stdout",
       "text": [
        "\n",
        "2015-01-16 06:22:00\n",
        "2015-01-16 07:52:00"
       ]
      },
      {
       "output_type": "stream",
       "stream": "stdout",
       "text": [
        "\n",
        "2015-01-16 12:20:00"
       ]
      },
      {
       "output_type": "stream",
       "stream": "stdout",
       "text": [
        "\n",
        "2015-01-16 13:02:00"
       ]
      },
      {
       "output_type": "stream",
       "stream": "stdout",
       "text": [
        "\n",
        "2015-01-16 13:50:00"
       ]
      },
      {
       "output_type": "stream",
       "stream": "stdout",
       "text": [
        "\n",
        "2015-01-18 17:40:00"
       ]
      },
      {
       "output_type": "stream",
       "stream": "stdout",
       "text": [
        "\n",
        "2015-01-19 01:21:00"
       ]
      },
      {
       "output_type": "stream",
       "stream": "stdout",
       "text": [
        "\n",
        "2015-01-19 02:26:00"
       ]
      },
      {
       "output_type": "stream",
       "stream": "stdout",
       "text": [
        "\n",
        "2015-01-19 02:32:00\n",
        "2015-01-19 03:16:00"
       ]
      },
      {
       "output_type": "stream",
       "stream": "stdout",
       "text": [
        "\n",
        "2015-01-19 06:20:00"
       ]
      },
      {
       "output_type": "stream",
       "stream": "stdout",
       "text": [
        "\n",
        "2015-01-19 07:26:00"
       ]
      },
      {
       "output_type": "stream",
       "stream": "stdout",
       "text": [
        "\n",
        "2015-01-19 07:31:00\n",
        "2015-01-19 08:56:00"
       ]
      },
      {
       "output_type": "stream",
       "stream": "stdout",
       "text": [
        "\n",
        "2015-01-19 10:19:00"
       ]
      },
      {
       "output_type": "stream",
       "stream": "stdout",
       "text": [
        "\n",
        "2015-01-19 10:32:00\n",
        "2015-01-19 13:01:00"
       ]
      },
      {
       "output_type": "stream",
       "stream": "stdout",
       "text": [
        "\n",
        "2015-01-19 15:02:00"
       ]
      },
      {
       "output_type": "stream",
       "stream": "stdout",
       "text": [
        "\n",
        "2015-01-19 16:03:00\n",
        "2015-01-20 02:49:00"
       ]
      },
      {
       "output_type": "stream",
       "stream": "stdout",
       "text": [
        "\n",
        "2015-01-20 04:12:00"
       ]
      },
      {
       "output_type": "stream",
       "stream": "stdout",
       "text": [
        "\n",
        "2015-01-20 06:57:00"
       ]
      },
      {
       "output_type": "stream",
       "stream": "stdout",
       "text": [
        "\n",
        "2015-01-20 07:33:00"
       ]
      },
      {
       "output_type": "stream",
       "stream": "stdout",
       "text": [
        "\n",
        "2015-01-20 08:04:00"
       ]
      },
      {
       "output_type": "stream",
       "stream": "stdout",
       "text": [
        "\n",
        "2015-01-20 08:23:00"
       ]
      },
      {
       "output_type": "stream",
       "stream": "stdout",
       "text": [
        "\n",
        "2015-01-20 11:30:00"
       ]
      },
      {
       "output_type": "stream",
       "stream": "stdout",
       "text": [
        "\n",
        "2015-01-20 12:15:00"
       ]
      },
      {
       "output_type": "stream",
       "stream": "stdout",
       "text": [
        "\n",
        "2015-01-20 13:03:00"
       ]
      },
      {
       "output_type": "stream",
       "stream": "stdout",
       "text": [
        "\n",
        "2015-01-20 13:39:00"
       ]
      },
      {
       "output_type": "stream",
       "stream": "stdout",
       "text": [
        "\n",
        "2015-01-20 16:05:00"
       ]
      },
      {
       "output_type": "stream",
       "stream": "stdout",
       "text": [
        "\n",
        "2015-01-20 16:11:00\n",
        "2015-01-20 16:35:00"
       ]
      },
      {
       "output_type": "stream",
       "stream": "stdout",
       "text": [
        "\n",
        "2015-01-20 16:53:00"
       ]
      },
      {
       "output_type": "stream",
       "stream": "stdout",
       "text": [
        "\n",
        "2015-01-20 18:01:00"
       ]
      },
      {
       "output_type": "stream",
       "stream": "stdout",
       "text": [
        "\n",
        "2015-01-20 18:03:00\n",
        "2015-01-20 22:21:00"
       ]
      },
      {
       "output_type": "stream",
       "stream": "stdout",
       "text": [
        "\n",
        "2015-01-21 01:21:00"
       ]
      },
      {
       "output_type": "stream",
       "stream": "stdout",
       "text": [
        "\n",
        "2015-01-21 03:11:00"
       ]
      },
      {
       "output_type": "stream",
       "stream": "stdout",
       "text": [
        "\n",
        "2015-01-21 03:27:00"
       ]
      },
      {
       "output_type": "stream",
       "stream": "stdout",
       "text": [
        "\n",
        "2015-01-21 04:13:00"
       ]
      },
      {
       "output_type": "stream",
       "stream": "stdout",
       "text": [
        "\n",
        "2015-01-21 04:44:00"
       ]
      },
      {
       "output_type": "stream",
       "stream": "stdout",
       "text": [
        "\n",
        "2015-01-21 05:13:00"
       ]
      },
      {
       "output_type": "stream",
       "stream": "stdout",
       "text": [
        "\n",
        "2015-01-21 06:11:00"
       ]
      },
      {
       "output_type": "stream",
       "stream": "stdout",
       "text": [
        "\n",
        "2015-01-21 06:22:00\n",
        "2015-01-21 06:44:00"
       ]
      },
      {
       "output_type": "stream",
       "stream": "stdout",
       "text": [
        "\n",
        "2015-01-21 11:00:00"
       ]
      },
      {
       "output_type": "stream",
       "stream": "stdout",
       "text": [
        "\n",
        "2015-01-21 11:01:00\n",
        "2015-01-21 11:21:00"
       ]
      },
      {
       "output_type": "stream",
       "stream": "stdout",
       "text": [
        "\n",
        "2015-01-21 13:31:00"
       ]
      },
      {
       "output_type": "stream",
       "stream": "stdout",
       "text": [
        "\n",
        "2015-01-21 17:25:00"
       ]
      },
      {
       "output_type": "stream",
       "stream": "stdout",
       "text": [
        "\n",
        "2015-01-21 18:49:00"
       ]
      },
      {
       "output_type": "stream",
       "stream": "stdout",
       "text": [
        "\n",
        "2015-01-21 21:17:00"
       ]
      },
      {
       "output_type": "stream",
       "stream": "stdout",
       "text": [
        "\n",
        "2015-01-21 22:12:00"
       ]
      },
      {
       "output_type": "stream",
       "stream": "stdout",
       "text": [
        "\n",
        "2015-01-22 01:20:00"
       ]
      },
      {
       "output_type": "stream",
       "stream": "stdout",
       "text": [
        "\n",
        "2015-01-22 01:49:00"
       ]
      },
      {
       "output_type": "stream",
       "stream": "stdout",
       "text": [
        "\n",
        "2015-01-22 04:18:00"
       ]
      },
      {
       "output_type": "stream",
       "stream": "stdout",
       "text": [
        "\n",
        "2015-01-22 05:16:00"
       ]
      },
      {
       "output_type": "stream",
       "stream": "stdout",
       "text": [
        "\n",
        "2015-01-22 05:19:00\n",
        "2015-01-22 05:28:00"
       ]
      },
      {
       "output_type": "stream",
       "stream": "stdout",
       "text": [
        "\n",
        "2015-01-22 07:17:00"
       ]
      },
      {
       "output_type": "stream",
       "stream": "stdout",
       "text": [
        "\n",
        "2015-01-22 08:09:00"
       ]
      },
      {
       "output_type": "stream",
       "stream": "stdout",
       "text": [
        "\n",
        "2015-01-22 08:33:00"
       ]
      },
      {
       "output_type": "stream",
       "stream": "stdout",
       "text": [
        "\n",
        "2015-01-22 09:29:00"
       ]
      },
      {
       "output_type": "stream",
       "stream": "stdout",
       "text": [
        "\n",
        "2015-01-22 09:33:00\n",
        "2015-01-22 09:57:00"
       ]
      },
      {
       "output_type": "stream",
       "stream": "stdout",
       "text": [
        "\n",
        "2015-01-22 10:26:00"
       ]
      },
      {
       "output_type": "stream",
       "stream": "stdout",
       "text": [
        "\n",
        "2015-01-22 14:59:00"
       ]
      },
      {
       "output_type": "stream",
       "stream": "stdout",
       "text": [
        "\n",
        "2015-01-22 16:02:00"
       ]
      },
      {
       "output_type": "stream",
       "stream": "stdout",
       "text": [
        "\n",
        "2015-01-22 17:52:00"
       ]
      },
      {
       "output_type": "stream",
       "stream": "stdout",
       "text": [
        "\n",
        "2015-01-22 18:52:00"
       ]
      },
      {
       "output_type": "stream",
       "stream": "stdout",
       "text": [
        "\n",
        "2015-01-22 22:53:00"
       ]
      },
      {
       "output_type": "stream",
       "stream": "stdout",
       "text": [
        "\n",
        "2015-01-22 22:58:00\n",
        "2015-01-22 23:30:00"
       ]
      },
      {
       "output_type": "stream",
       "stream": "stdout",
       "text": [
        "\n",
        "2015-01-23 00:10:00"
       ]
      },
      {
       "output_type": "stream",
       "stream": "stdout",
       "text": [
        "\n",
        "2015-01-23 00:14:00\n",
        "2015-01-23 00:40:00"
       ]
      },
      {
       "output_type": "stream",
       "stream": "stdout",
       "text": [
        "\n",
        "2015-01-23 01:13:00"
       ]
      },
      {
       "output_type": "stream",
       "stream": "stdout",
       "text": [
        "\n",
        "2015-01-23 02:32:00"
       ]
      },
      {
       "output_type": "stream",
       "stream": "stdout",
       "text": [
        "\n",
        "2015-01-23 03:01:00"
       ]
      },
      {
       "output_type": "stream",
       "stream": "stdout",
       "text": [
        "\n",
        "2015-01-23 09:21:00"
       ]
      },
      {
       "output_type": "stream",
       "stream": "stdout",
       "text": [
        "\n",
        "2015-01-23 09:23:00\n",
        "2015-01-23 10:47:00"
       ]
      },
      {
       "output_type": "stream",
       "stream": "stdout",
       "text": [
        "\n",
        "2015-01-23 15:30:00"
       ]
      },
      {
       "output_type": "stream",
       "stream": "stdout",
       "text": [
        "\n",
        "2015-01-25 17:25:00"
       ]
      },
      {
       "output_type": "stream",
       "stream": "stdout",
       "text": [
        "\n",
        "2015-01-25 17:33:00\n",
        "2015-01-25 18:31:00"
       ]
      },
      {
       "output_type": "stream",
       "stream": "stdout",
       "text": [
        "\n",
        "2015-01-25 18:52:00"
       ]
      },
      {
       "output_type": "stream",
       "stream": "stdout",
       "text": [
        "\n",
        "2015-01-25 21:43:00"
       ]
      },
      {
       "output_type": "stream",
       "stream": "stdout",
       "text": [
        "\n",
        "2015-01-25 22:34:00"
       ]
      },
      {
       "output_type": "stream",
       "stream": "stdout",
       "text": [
        "\n",
        "2015-01-25 23:39:00"
       ]
      },
      {
       "output_type": "stream",
       "stream": "stdout",
       "text": [
        "\n",
        "2015-01-26 04:11:00"
       ]
      },
      {
       "output_type": "stream",
       "stream": "stdout",
       "text": [
        "\n",
        "2015-01-26 06:13:00"
       ]
      },
      {
       "output_type": "stream",
       "stream": "stdout",
       "text": [
        "\n",
        "2015-01-26 07:30:00"
       ]
      },
      {
       "output_type": "stream",
       "stream": "stdout",
       "text": [
        "\n",
        "2015-01-26 07:45:00\n",
        "2015-01-26 07:52:00\n",
        "2015-01-26 08:46:00"
       ]
      },
      {
       "output_type": "stream",
       "stream": "stdout",
       "text": [
        "\n",
        "2015-01-26 10:10:00"
       ]
      },
      {
       "output_type": "stream",
       "stream": "stdout",
       "text": [
        "\n",
        "2015-01-26 11:27:00"
       ]
      },
      {
       "output_type": "stream",
       "stream": "stdout",
       "text": [
        "\n",
        "2015-01-26 11:35:00\n",
        "2015-01-26 12:47:00"
       ]
      },
      {
       "output_type": "stream",
       "stream": "stdout",
       "text": [
        "\n",
        "2015-01-26 13:26:00\n",
        "2015-01-26 15:17:00"
       ]
      },
      {
       "output_type": "stream",
       "stream": "stdout",
       "text": [
        "\n",
        "2015-01-27 02:08:00"
       ]
      },
      {
       "output_type": "stream",
       "stream": "stdout",
       "text": [
        "\n",
        "2015-01-27 02:41:00"
       ]
      },
      {
       "output_type": "stream",
       "stream": "stdout",
       "text": [
        "\n",
        "2015-01-27 03:14:00"
       ]
      },
      {
       "output_type": "stream",
       "stream": "stdout",
       "text": [
        "\n",
        "2015-01-27 06:11:00"
       ]
      },
      {
       "output_type": "stream",
       "stream": "stdout",
       "text": [
        "\n",
        "2015-01-27 06:45:00"
       ]
      },
      {
       "output_type": "stream",
       "stream": "stdout",
       "text": [
        "\n",
        "2015-01-27 09:21:00"
       ]
      },
      {
       "output_type": "stream",
       "stream": "stdout",
       "text": [
        "\n",
        "2015-01-27 09:31:00"
       ]
      },
      {
       "output_type": "stream",
       "stream": "stdout",
       "text": [
        "\n",
        "2015-01-27 09:37:00\n",
        "2015-01-27 09:38:00\n",
        "2015-01-27 11:55:00"
       ]
      },
      {
       "output_type": "stream",
       "stream": "stdout",
       "text": [
        "\n",
        "2015-01-27 12:05:00"
       ]
      },
      {
       "output_type": "stream",
       "stream": "stdout",
       "text": [
        "\n",
        "2015-01-27 12:37:00"
       ]
      },
      {
       "output_type": "stream",
       "stream": "stdout",
       "text": [
        "\n",
        "2015-01-27 12:45:00\n",
        "2015-01-27 13:43:00"
       ]
      },
      {
       "output_type": "stream",
       "stream": "stdout",
       "text": [
        "\n",
        "2015-01-27 15:29:00"
       ]
      },
      {
       "output_type": "stream",
       "stream": "stdout",
       "text": [
        "\n",
        "2015-01-27 20:03:00"
       ]
      },
      {
       "output_type": "stream",
       "stream": "stdout",
       "text": [
        "\n",
        "2015-01-28 08:04:00"
       ]
      },
      {
       "output_type": "stream",
       "stream": "stdout",
       "text": [
        "\n",
        "2015-01-28 11:13:00"
       ]
      },
      {
       "output_type": "stream",
       "stream": "stdout",
       "text": [
        "\n",
        "2015-01-28 11:20:00\n",
        "2015-01-28 12:21:00"
       ]
      },
      {
       "output_type": "stream",
       "stream": "stdout",
       "text": [
        "\n",
        "2015-01-28 14:26:00"
       ]
      },
      {
       "output_type": "stream",
       "stream": "stdout",
       "text": [
        "\n",
        "2015-01-28 17:06:00"
       ]
      },
      {
       "output_type": "stream",
       "stream": "stdout",
       "text": [
        "\n",
        "2015-01-28 18:20:00"
       ]
      },
      {
       "output_type": "stream",
       "stream": "stdout",
       "text": [
        "\n",
        "2015-01-28 18:50:00"
       ]
      },
      {
       "output_type": "stream",
       "stream": "stdout",
       "text": [
        "\n",
        "2015-01-28 19:39:00"
       ]
      },
      {
       "output_type": "stream",
       "stream": "stdout",
       "text": [
        "\n",
        "2015-01-29 02:06:00"
       ]
      },
      {
       "output_type": "stream",
       "stream": "stdout",
       "text": [
        "\n",
        "2015-01-29 02:38:00"
       ]
      },
      {
       "output_type": "stream",
       "stream": "stdout",
       "text": [
        "\n",
        "2015-01-29 05:04:00"
       ]
      },
      {
       "output_type": "stream",
       "stream": "stdout",
       "text": [
        "\n",
        "2015-01-29 07:38:00"
       ]
      },
      {
       "output_type": "stream",
       "stream": "stdout",
       "text": [
        "\n",
        "2015-01-29 11:25:00"
       ]
      },
      {
       "output_type": "stream",
       "stream": "stdout",
       "text": [
        "\n",
        "2015-01-29 15:59:00"
       ]
      },
      {
       "output_type": "stream",
       "stream": "stdout",
       "text": [
        "\n",
        "2015-01-29 18:37:00"
       ]
      },
      {
       "output_type": "stream",
       "stream": "stdout",
       "text": [
        "\n",
        "2015-01-29 18:41:00\n",
        "2015-01-29 20:15:00"
       ]
      },
      {
       "output_type": "stream",
       "stream": "stdout",
       "text": [
        "\n",
        "2015-01-29 21:24:00"
       ]
      },
      {
       "output_type": "stream",
       "stream": "stdout",
       "text": [
        "\n",
        "2015-01-29 22:59:00"
       ]
      },
      {
       "output_type": "stream",
       "stream": "stdout",
       "text": [
        "\n",
        "2015-01-30 05:23:00"
       ]
      },
      {
       "output_type": "stream",
       "stream": "stdout",
       "text": [
        "\n",
        "2015-01-30 06:08:00"
       ]
      },
      {
       "output_type": "stream",
       "stream": "stdout",
       "text": [
        "\n",
        "2015-01-30 07:01:00"
       ]
      },
      {
       "output_type": "stream",
       "stream": "stdout",
       "text": [
        "\n",
        "2015-01-30 10:13:00"
       ]
      },
      {
       "output_type": "stream",
       "stream": "stdout",
       "text": [
        "\n",
        "2015-01-30 12:52:00"
       ]
      },
      {
       "output_type": "stream",
       "stream": "stdout",
       "text": [
        "\n",
        "2015-01-30 14:27:00"
       ]
      },
      {
       "output_type": "stream",
       "stream": "stdout",
       "text": [
        "\n",
        "2015-01-30 14:35:00\n",
        "Forex_Data/EURO_USD/HISTDATA_COM_ASCII_EURUSD_M1201502/DAT_ASCII_EURUSD_M1_201502.csv"
       ]
      },
      {
       "output_type": "stream",
       "stream": "stdout",
       "text": [
        "\n",
        "2015-02-01 18:24:00"
       ]
      },
      {
       "output_type": "stream",
       "stream": "stdout",
       "text": [
        "\n",
        "2015-02-01 21:04:00"
       ]
      },
      {
       "output_type": "stream",
       "stream": "stdout",
       "text": [
        "\n",
        "2015-02-02 03:36:00"
       ]
      },
      {
       "output_type": "stream",
       "stream": "stdout",
       "text": [
        "\n",
        "2015-02-02 06:59:00"
       ]
      },
      {
       "output_type": "stream",
       "stream": "stdout",
       "text": [
        "\n",
        "2015-02-02 09:14:00"
       ]
      },
      {
       "output_type": "stream",
       "stream": "stdout",
       "text": [
        "\n",
        "2015-02-02 09:37:00\n",
        "2015-02-02 11:13:00"
       ]
      },
      {
       "output_type": "stream",
       "stream": "stdout",
       "text": [
        "\n",
        "2015-02-02 12:10:00"
       ]
      },
      {
       "output_type": "stream",
       "stream": "stdout",
       "text": [
        "\n",
        "2015-02-02 13:00:00"
       ]
      },
      {
       "output_type": "stream",
       "stream": "stdout",
       "text": [
        "\n",
        "2015-02-02 13:05:00\n",
        "2015-02-02 14:28:00"
       ]
      },
      {
       "output_type": "stream",
       "stream": "stdout",
       "text": [
        "\n",
        "2015-02-02 15:23:00"
       ]
      },
      {
       "output_type": "stream",
       "stream": "stdout",
       "text": [
        "\n",
        "2015-02-02 15:28:00\n",
        "2015-02-02 18:46:00"
       ]
      },
      {
       "output_type": "stream",
       "stream": "stdout",
       "text": [
        "\n",
        "2015-02-02 20:27:00"
       ]
      },
      {
       "output_type": "stream",
       "stream": "stdout",
       "text": [
        "\n",
        "2015-02-03 05:13:00"
       ]
      },
      {
       "output_type": "stream",
       "stream": "stdout",
       "text": [
        "\n",
        "2015-02-03 07:36:00"
       ]
      },
      {
       "output_type": "stream",
       "stream": "stdout",
       "text": [
        "\n",
        "2015-02-03 08:00:00"
       ]
      },
      {
       "output_type": "stream",
       "stream": "stdout",
       "text": [
        "\n",
        "2015-02-03 08:32:00"
       ]
      },
      {
       "output_type": "stream",
       "stream": "stdout",
       "text": [
        "\n",
        "2015-02-03 09:26:00"
       ]
      },
      {
       "output_type": "stream",
       "stream": "stdout",
       "text": [
        "\n",
        "2015-02-03 10:31:00"
       ]
      },
      {
       "output_type": "stream",
       "stream": "stdout",
       "text": [
        "\n",
        "2015-02-03 11:34:00"
       ]
      },
      {
       "output_type": "stream",
       "stream": "stdout",
       "text": [
        "\n",
        "2015-02-03 12:24:00"
       ]
      },
      {
       "output_type": "stream",
       "stream": "stdout",
       "text": [
        "\n",
        "2015-02-03 20:38:00"
       ]
      },
      {
       "output_type": "stream",
       "stream": "stdout",
       "text": [
        "\n",
        "2015-02-03 21:15:00"
       ]
      },
      {
       "output_type": "stream",
       "stream": "stdout",
       "text": [
        "\n",
        "2015-02-04 00:29:00"
       ]
      },
      {
       "output_type": "stream",
       "stream": "stdout",
       "text": [
        "\n",
        "2015-02-04 02:38:00"
       ]
      },
      {
       "output_type": "stream",
       "stream": "stdout",
       "text": [
        "\n",
        "2015-02-04 03:49:00"
       ]
      },
      {
       "output_type": "stream",
       "stream": "stdout",
       "text": [
        "\n",
        "2015-02-04 03:55:00\n",
        "2015-02-04 04:00:00\n",
        "2015-02-04 07:50:00"
       ]
      },
      {
       "output_type": "stream",
       "stream": "stdout",
       "text": [
        "\n",
        "2015-02-04 09:36:00"
       ]
      },
      {
       "output_type": "stream",
       "stream": "stdout",
       "text": [
        "\n",
        "2015-02-04 09:56:00\n",
        "2015-02-04 10:08:00"
       ]
      },
      {
       "output_type": "stream",
       "stream": "stdout",
       "text": [
        "\n",
        "2015-02-04 12:33:00"
       ]
      },
      {
       "output_type": "stream",
       "stream": "stdout",
       "text": [
        "\n",
        "2015-02-04 21:29:00"
       ]
      },
      {
       "output_type": "stream",
       "stream": "stdout",
       "text": [
        "\n",
        "2015-02-04 23:47:00"
       ]
      },
      {
       "output_type": "stream",
       "stream": "stdout",
       "text": [
        "\n",
        "2015-02-05 00:08:00"
       ]
      },
      {
       "output_type": "stream",
       "stream": "stdout",
       "text": [
        "\n",
        "2015-02-05 02:15:00"
       ]
      },
      {
       "output_type": "stream",
       "stream": "stdout",
       "text": [
        "\n",
        "2015-02-05 03:24:00"
       ]
      },
      {
       "output_type": "stream",
       "stream": "stdout",
       "text": [
        "\n",
        "2015-02-05 04:03:00"
       ]
      },
      {
       "output_type": "stream",
       "stream": "stdout",
       "text": [
        "\n",
        "2015-02-05 04:33:00"
       ]
      },
      {
       "output_type": "stream",
       "stream": "stdout",
       "text": [
        "\n",
        "2015-02-05 09:11:00"
       ]
      },
      {
       "output_type": "stream",
       "stream": "stdout",
       "text": [
        "\n",
        "2015-02-05 12:40:00"
       ]
      },
      {
       "output_type": "stream",
       "stream": "stdout",
       "text": [
        "\n",
        "2015-02-05 13:00:00"
       ]
      },
      {
       "output_type": "stream",
       "stream": "stdout",
       "text": [
        "\n",
        "2015-02-05 19:26:00"
       ]
      },
      {
       "output_type": "stream",
       "stream": "stdout",
       "text": [
        "\n",
        "2015-02-05 19:38:00"
       ]
      },
      {
       "output_type": "stream",
       "stream": "stdout",
       "text": [
        "\n",
        "2015-02-05 19:40:00\n",
        "2015-02-05 19:47:00"
       ]
      },
      {
       "output_type": "stream",
       "stream": "stdout",
       "text": [
        "\n",
        "2015-02-05 19:52:00\n",
        "2015-02-05 20:19:00"
       ]
      },
      {
       "output_type": "stream",
       "stream": "stdout",
       "text": [
        "\n",
        "2015-02-05 22:58:00"
       ]
      },
      {
       "output_type": "stream",
       "stream": "stdout",
       "text": [
        "\n",
        "2015-02-06 00:25:00"
       ]
      },
      {
       "output_type": "stream",
       "stream": "stdout",
       "text": [
        "\n",
        "2015-02-06 00:28:00\n",
        "2015-02-06 01:22:00"
       ]
      },
      {
       "output_type": "stream",
       "stream": "stdout",
       "text": [
        "\n",
        "2015-02-06 04:04:00"
       ]
      },
      {
       "output_type": "stream",
       "stream": "stdout",
       "text": [
        "\n",
        "2015-02-06 07:09:00"
       ]
      },
      {
       "output_type": "stream",
       "stream": "stdout",
       "text": [
        "\n",
        "2015-02-06 07:55:00"
       ]
      },
      {
       "output_type": "stream",
       "stream": "stdout",
       "text": [
        "\n",
        "2015-02-06 08:17:00"
       ]
      },
      {
       "output_type": "stream",
       "stream": "stdout",
       "text": [
        "\n",
        "2015-02-06 11:11:00"
       ]
      },
      {
       "output_type": "stream",
       "stream": "stdout",
       "text": [
        "\n",
        "2015-02-06 12:44:00"
       ]
      },
      {
       "output_type": "stream",
       "stream": "stdout",
       "text": [
        "\n",
        "2015-02-06 13:18:00"
       ]
      },
      {
       "output_type": "stream",
       "stream": "stdout",
       "text": [
        "\n",
        "2015-02-06 13:30:00\n",
        "2015-02-06 13:37:00"
       ]
      },
      {
       "output_type": "stream",
       "stream": "stdout",
       "text": [
        "\n",
        "2015-02-06 14:31:00"
       ]
      },
      {
       "output_type": "stream",
       "stream": "stdout",
       "text": [
        "\n",
        "2015-02-06 15:27:00"
       ]
      },
      {
       "output_type": "stream",
       "stream": "stdout",
       "text": [
        "\n",
        "2015-02-06 16:18:00"
       ]
      },
      {
       "output_type": "stream",
       "stream": "stdout",
       "text": [
        "\n",
        "2015-02-08 19:31:00"
       ]
      },
      {
       "output_type": "stream",
       "stream": "stdout",
       "text": [
        "\n",
        "2015-02-08 22:21:00"
       ]
      },
      {
       "output_type": "stream",
       "stream": "stdout",
       "text": [
        "\n",
        "2015-02-08 23:24:00"
       ]
      },
      {
       "output_type": "stream",
       "stream": "stdout",
       "text": [
        "\n",
        "2015-02-08 23:47:00"
       ]
      },
      {
       "output_type": "stream",
       "stream": "stdout",
       "text": [
        "\n",
        "2015-02-09 00:20:00"
       ]
      },
      {
       "output_type": "stream",
       "stream": "stdout",
       "text": [
        "\n",
        "2015-02-09 03:29:00"
       ]
      },
      {
       "output_type": "stream",
       "stream": "stdout",
       "text": [
        "\n",
        "2015-02-09 06:43:00"
       ]
      },
      {
       "output_type": "stream",
       "stream": "stdout",
       "text": [
        "\n",
        "2015-02-09 07:55:00"
       ]
      },
      {
       "output_type": "stream",
       "stream": "stdout",
       "text": [
        "\n",
        "2015-02-09 08:04:00"
       ]
      },
      {
       "output_type": "stream",
       "stream": "stdout",
       "text": [
        "\n",
        "2015-02-09 08:31:00"
       ]
      },
      {
       "output_type": "stream",
       "stream": "stdout",
       "text": [
        "\n",
        "2015-02-09 08:35:00\n",
        "2015-02-09 10:43:00"
       ]
      },
      {
       "output_type": "stream",
       "stream": "stdout",
       "text": [
        "\n",
        "2015-02-09 11:46:00"
       ]
      },
      {
       "output_type": "stream",
       "stream": "stdout",
       "text": [
        "\n",
        "2015-02-09 12:05:00"
       ]
      },
      {
       "output_type": "stream",
       "stream": "stdout",
       "text": [
        "\n",
        "2015-02-09 12:20:00\n",
        "2015-02-09 13:36:00"
       ]
      },
      {
       "output_type": "stream",
       "stream": "stdout",
       "text": [
        "\n",
        "2015-02-09 13:56:00\n",
        "2015-02-09 14:04:00"
       ]
      },
      {
       "output_type": "stream",
       "stream": "stdout",
       "text": [
        "\n",
        "2015-02-09 16:16:00"
       ]
      },
      {
       "output_type": "stream",
       "stream": "stdout",
       "text": [
        "\n",
        "2015-02-09 17:47:00"
       ]
      },
      {
       "output_type": "stream",
       "stream": "stdout",
       "text": [
        "\n",
        "2015-02-09 18:38:00"
       ]
      },
      {
       "output_type": "stream",
       "stream": "stdout",
       "text": [
        "\n",
        "2015-02-09 19:17:00"
       ]
      },
      {
       "output_type": "stream",
       "stream": "stdout",
       "text": [
        "\n",
        "2015-02-09 21:21:00"
       ]
      },
      {
       "output_type": "stream",
       "stream": "stdout",
       "text": [
        "\n",
        "2015-02-10 01:05:00"
       ]
      },
      {
       "output_type": "stream",
       "stream": "stdout",
       "text": [
        "\n",
        "2015-02-10 01:31:00"
       ]
      },
      {
       "output_type": "stream",
       "stream": "stdout",
       "text": [
        "\n",
        "2015-02-10 04:33:00"
       ]
      },
      {
       "output_type": "stream",
       "stream": "stdout",
       "text": [
        "\n",
        "2015-02-10 07:37:00"
       ]
      },
      {
       "output_type": "stream",
       "stream": "stdout",
       "text": [
        "\n",
        "2015-02-10 08:21:00"
       ]
      },
      {
       "output_type": "stream",
       "stream": "stdout",
       "text": [
        "\n",
        "2015-02-10 08:22:00\n",
        "2015-02-10 10:28:00"
       ]
      },
      {
       "output_type": "stream",
       "stream": "stdout",
       "text": [
        "\n",
        "2015-02-10 13:49:00"
       ]
      },
      {
       "output_type": "stream",
       "stream": "stdout",
       "text": [
        "\n",
        "2015-02-10 14:48:00"
       ]
      },
      {
       "output_type": "stream",
       "stream": "stdout",
       "text": [
        "\n",
        "2015-02-10 15:30:00"
       ]
      },
      {
       "output_type": "stream",
       "stream": "stdout",
       "text": [
        "\n",
        "2015-02-10 15:33:00\n",
        "2015-02-10 18:43:00"
       ]
      },
      {
       "output_type": "stream",
       "stream": "stdout",
       "text": [
        "\n",
        "2015-02-10 18:57:00"
       ]
      },
      {
       "output_type": "stream",
       "stream": "stdout",
       "text": [
        "\n",
        "2015-02-10 20:03:00"
       ]
      },
      {
       "output_type": "stream",
       "stream": "stdout",
       "text": [
        "\n",
        "2015-02-10 21:05:00"
       ]
      },
      {
       "output_type": "stream",
       "stream": "stdout",
       "text": [
        "\n",
        "2015-02-10 21:51:00"
       ]
      },
      {
       "output_type": "stream",
       "stream": "stdout",
       "text": [
        "\n",
        "2015-02-11 00:24:00"
       ]
      },
      {
       "output_type": "stream",
       "stream": "stdout",
       "text": [
        "\n",
        "2015-02-11 01:30:00"
       ]
      },
      {
       "output_type": "stream",
       "stream": "stdout",
       "text": [
        "\n",
        "2015-02-11 04:27:00"
       ]
      },
      {
       "output_type": "stream",
       "stream": "stdout",
       "text": [
        "\n",
        "2015-02-11 06:24:00"
       ]
      },
      {
       "output_type": "stream",
       "stream": "stdout",
       "text": [
        "\n",
        "2015-02-11 09:34:00"
       ]
      },
      {
       "output_type": "stream",
       "stream": "stdout",
       "text": [
        "\n",
        "2015-02-11 13:06:00"
       ]
      },
      {
       "output_type": "stream",
       "stream": "stdout",
       "text": [
        "\n",
        "2015-02-11 18:04:00"
       ]
      },
      {
       "output_type": "stream",
       "stream": "stdout",
       "text": [
        "\n",
        "2015-02-11 18:05:00\n",
        "2015-02-11 18:22:00"
       ]
      },
      {
       "output_type": "stream",
       "stream": "stdout",
       "text": [
        "\n",
        "2015-02-11 20:50:00"
       ]
      },
      {
       "output_type": "stream",
       "stream": "stdout",
       "text": [
        "\n",
        "2015-02-11 20:52:00\n",
        "2015-02-12 00:09:00"
       ]
      },
      {
       "output_type": "stream",
       "stream": "stdout",
       "text": [
        "\n",
        "2015-02-12 05:01:00"
       ]
      },
      {
       "output_type": "stream",
       "stream": "stdout",
       "text": [
        "\n",
        "2015-02-12 05:48:00"
       ]
      },
      {
       "output_type": "stream",
       "stream": "stdout",
       "text": [
        "\n",
        "2015-02-12 06:40:00"
       ]
      },
      {
       "output_type": "stream",
       "stream": "stdout",
       "text": [
        "\n",
        "2015-02-12 08:05:00"
       ]
      },
      {
       "output_type": "stream",
       "stream": "stdout",
       "text": [
        "\n",
        "2015-02-12 10:15:00"
       ]
      },
      {
       "output_type": "stream",
       "stream": "stdout",
       "text": [
        "\n",
        "2015-02-12 10:19:00\n",
        "2015-02-12 12:12:00"
       ]
      },
      {
       "output_type": "stream",
       "stream": "stdout",
       "text": [
        "\n",
        "2015-02-12 14:35:00"
       ]
      },
      {
       "output_type": "stream",
       "stream": "stdout",
       "text": [
        "\n",
        "2015-02-12 14:43:00\n",
        "2015-02-12 16:52:00"
       ]
      },
      {
       "output_type": "stream",
       "stream": "stdout",
       "text": [
        "\n",
        "2015-02-12 18:05:00"
       ]
      },
      {
       "output_type": "stream",
       "stream": "stdout",
       "text": [
        "\n",
        "2015-02-12 19:43:00"
       ]
      },
      {
       "output_type": "stream",
       "stream": "stdout",
       "text": [
        "\n",
        "2015-02-12 20:07:00"
       ]
      },
      {
       "output_type": "stream",
       "stream": "stdout",
       "text": [
        "\n",
        "2015-02-12 20:45:00"
       ]
      },
      {
       "output_type": "stream",
       "stream": "stdout",
       "text": [
        "\n",
        "2015-02-12 21:13:00"
       ]
      },
      {
       "output_type": "stream",
       "stream": "stdout",
       "text": [
        "\n",
        "2015-02-12 23:22:00"
       ]
      },
      {
       "output_type": "stream",
       "stream": "stdout",
       "text": [
        "\n",
        "2015-02-13 02:31:00"
       ]
      },
      {
       "output_type": "stream",
       "stream": "stdout",
       "text": [
        "\n",
        "2015-02-13 08:34:00"
       ]
      },
      {
       "output_type": "stream",
       "stream": "stdout",
       "text": [
        "\n",
        "2015-02-13 08:42:00\n",
        "2015-02-13 10:03:00"
       ]
      },
      {
       "output_type": "stream",
       "stream": "stdout",
       "text": [
        "\n",
        "2015-02-13 11:40:00"
       ]
      },
      {
       "output_type": "stream",
       "stream": "stdout",
       "text": [
        "\n",
        "2015-02-13 15:58:00"
       ]
      },
      {
       "output_type": "stream",
       "stream": "stdout",
       "text": [
        "\n",
        "2015-02-15 17:03:00"
       ]
      },
      {
       "output_type": "stream",
       "stream": "stdout",
       "text": [
        "\n",
        "2015-02-15 17:17:00"
       ]
      },
      {
       "output_type": "stream",
       "stream": "stdout",
       "text": [
        "\n",
        "2015-02-15 17:21:00\n",
        "2015-02-15 17:28:00\n",
        "2015-02-15 21:04:00"
       ]
      },
      {
       "output_type": "stream",
       "stream": "stdout",
       "text": [
        "\n",
        "2015-02-15 21:05:00\n",
        "2015-02-15 22:07:00"
       ]
      },
      {
       "output_type": "stream",
       "stream": "stdout",
       "text": [
        "\n",
        "2015-02-16 00:14:00"
       ]
      },
      {
       "output_type": "stream",
       "stream": "stdout",
       "text": [
        "\n",
        "2015-02-16 05:07:00"
       ]
      },
      {
       "output_type": "stream",
       "stream": "stdout",
       "text": [
        "\n",
        "2015-02-16 06:07:00"
       ]
      },
      {
       "output_type": "stream",
       "stream": "stdout",
       "text": [
        "\n",
        "2015-02-16 07:15:00"
       ]
      },
      {
       "output_type": "stream",
       "stream": "stdout",
       "text": [
        "\n",
        "2015-02-16 07:45:00"
       ]
      },
      {
       "output_type": "stream",
       "stream": "stdout",
       "text": [
        "\n",
        "2015-02-16 10:03:00"
       ]
      },
      {
       "output_type": "stream",
       "stream": "stdout",
       "text": [
        "\n",
        "2015-02-16 10:29:00"
       ]
      },
      {
       "output_type": "stream",
       "stream": "stdout",
       "text": [
        "\n",
        "2015-02-16 11:26:00"
       ]
      },
      {
       "output_type": "stream",
       "stream": "stdout",
       "text": [
        "\n",
        "2015-02-16 14:22:00"
       ]
      },
      {
       "output_type": "stream",
       "stream": "stdout",
       "text": [
        "\n",
        "2015-02-16 15:10:00\n",
        "2015-02-16 15:18:00"
       ]
      },
      {
       "output_type": "stream",
       "stream": "stdout",
       "text": [
        "\n",
        "2015-02-16 16:01:00\n",
        "2015-02-16 16:36:00"
       ]
      },
      {
       "output_type": "stream",
       "stream": "stdout",
       "text": [
        "\n",
        "2015-02-16 21:54:00"
       ]
      },
      {
       "output_type": "stream",
       "stream": "stdout",
       "text": [
        "\n",
        "2015-02-17 05:53:00"
       ]
      },
      {
       "output_type": "stream",
       "stream": "stdout",
       "text": [
        "\n",
        "2015-02-17 09:06:00"
       ]
      },
      {
       "output_type": "stream",
       "stream": "stdout",
       "text": [
        "\n",
        "2015-02-17 12:56:00"
       ]
      },
      {
       "output_type": "stream",
       "stream": "stdout",
       "text": [
        "\n",
        "2015-02-17 13:33:00"
       ]
      },
      {
       "output_type": "stream",
       "stream": "stdout",
       "text": [
        "\n",
        "2015-02-17 14:14:00"
       ]
      },
      {
       "output_type": "stream",
       "stream": "stdout",
       "text": [
        "\n",
        "2015-02-17 15:53:00"
       ]
      },
      {
       "output_type": "stream",
       "stream": "stdout",
       "text": [
        "\n",
        "2015-02-17 16:03:00"
       ]
      },
      {
       "output_type": "stream",
       "stream": "stdout",
       "text": [
        "\n",
        "2015-02-17 16:10:00\n",
        "2015-02-17 16:38:00"
       ]
      },
      {
       "output_type": "stream",
       "stream": "stdout",
       "text": [
        "\n",
        "2015-02-17 16:55:00"
       ]
      },
      {
       "output_type": "stream",
       "stream": "stdout",
       "text": [
        "\n",
        "2015-02-17 22:33:00"
       ]
      },
      {
       "output_type": "stream",
       "stream": "stdout",
       "text": [
        "\n",
        "2015-02-17 23:32:00"
       ]
      },
      {
       "output_type": "stream",
       "stream": "stdout",
       "text": [
        "\n",
        "2015-02-18 01:16:00"
       ]
      },
      {
       "output_type": "stream",
       "stream": "stdout",
       "text": [
        "\n",
        "2015-02-18 02:05:00"
       ]
      },
      {
       "output_type": "stream",
       "stream": "stdout",
       "text": [
        "\n",
        "2015-02-18 02:48:00"
       ]
      },
      {
       "output_type": "stream",
       "stream": "stdout",
       "text": [
        "\n",
        "2015-02-18 02:57:00\n",
        "2015-02-18 03:53:00"
       ]
      },
      {
       "output_type": "stream",
       "stream": "stdout",
       "text": [
        "\n",
        "2015-02-18 06:19:00"
       ]
      },
      {
       "output_type": "stream",
       "stream": "stdout",
       "text": [
        "\n",
        "2015-02-18 08:47:00"
       ]
      },
      {
       "output_type": "stream",
       "stream": "stdout",
       "text": [
        "\n",
        "2015-02-18 13:22:00"
       ]
      },
      {
       "output_type": "stream",
       "stream": "stdout",
       "text": [
        "\n",
        "2015-02-18 18:29:00"
       ]
      },
      {
       "output_type": "stream",
       "stream": "stdout",
       "text": [
        "\n",
        "2015-02-18 20:11:00"
       ]
      },
      {
       "output_type": "stream",
       "stream": "stdout",
       "text": [
        "\n",
        "2015-02-18 22:07:00"
       ]
      },
      {
       "output_type": "stream",
       "stream": "stdout",
       "text": [
        "\n",
        "2015-02-18 22:08:00\n",
        "2015-02-19 00:13:00"
       ]
      },
      {
       "output_type": "stream",
       "stream": "stdout",
       "text": [
        "\n",
        "2015-02-19 04:28:00"
       ]
      },
      {
       "output_type": "stream",
       "stream": "stdout",
       "text": [
        "\n",
        "2015-02-19 04:57:00"
       ]
      },
      {
       "output_type": "stream",
       "stream": "stdout",
       "text": [
        "\n",
        "2015-02-19 09:18:00"
       ]
      },
      {
       "output_type": "stream",
       "stream": "stdout",
       "text": [
        "\n",
        "2015-02-19 11:03:00"
       ]
      },
      {
       "output_type": "stream",
       "stream": "stdout",
       "text": [
        "\n",
        "2015-02-19 12:47:00"
       ]
      },
      {
       "output_type": "stream",
       "stream": "stdout",
       "text": [
        "\n",
        "2015-02-19 13:00:00\n",
        "2015-02-19 15:28:00"
       ]
      },
      {
       "output_type": "stream",
       "stream": "stdout",
       "text": [
        "\n",
        "2015-02-19 18:14:00"
       ]
      },
      {
       "output_type": "stream",
       "stream": "stdout",
       "text": [
        "\n",
        "2015-02-19 18:17:00\n",
        "2015-02-19 18:18:00\n",
        "2015-02-19 19:39:00"
       ]
      },
      {
       "output_type": "stream",
       "stream": "stdout",
       "text": [
        "\n",
        "2015-02-19 19:50:00"
       ]
      },
      {
       "output_type": "stream",
       "stream": "stdout",
       "text": [
        "\n",
        "2015-02-19 20:01:00"
       ]
      },
      {
       "output_type": "stream",
       "stream": "stdout",
       "text": [
        "\n",
        "2015-02-19 21:44:00"
       ]
      },
      {
       "output_type": "stream",
       "stream": "stdout",
       "text": [
        "\n",
        "2015-02-19 22:53:00"
       ]
      },
      {
       "output_type": "stream",
       "stream": "stdout",
       "text": [
        "\n",
        "2015-02-20 00:48:00"
       ]
      },
      {
       "output_type": "stream",
       "stream": "stdout",
       "text": [
        "\n",
        "2015-02-20 06:14:00"
       ]
      },
      {
       "output_type": "stream",
       "stream": "stdout",
       "text": [
        "\n",
        "2015-02-20 06:37:00"
       ]
      },
      {
       "output_type": "stream",
       "stream": "stdout",
       "text": [
        "\n",
        "2015-02-20 07:38:00"
       ]
      },
      {
       "output_type": "stream",
       "stream": "stdout",
       "text": [
        "\n",
        "2015-02-20 10:21:00"
       ]
      },
      {
       "output_type": "stream",
       "stream": "stdout",
       "text": [
        "\n",
        "2015-02-20 14:07:00"
       ]
      },
      {
       "output_type": "stream",
       "stream": "stdout",
       "text": [
        "\n",
        "2015-02-20 14:14:00"
       ]
      },
      {
       "output_type": "stream",
       "stream": "stdout",
       "text": [
        "\n",
        "2015-02-20 15:55:00"
       ]
      },
      {
       "output_type": "stream",
       "stream": "stdout",
       "text": [
        "\n"
       ]
      }
     ],
     "prompt_number": 209
    },
    {
     "cell_type": "code",
     "collapsed": false,
     "input": [
      "print len(asks), len(predictions)"
     ],
     "language": "python",
     "metadata": {},
     "outputs": [
      {
       "output_type": "stream",
       "stream": "stdout",
       "text": [
        "418297 418297\n"
       ]
      }
     ],
     "prompt_number": 211
    },
    {
     "cell_type": "code",
     "collapsed": false,
     "input": [
      "r = len(asks) - len(predictions)\n",
      "r = (r * [pred])\n",
      "r.extend(predictions)\n",
      "predictions = r\n",
      "\n",
      "# for x in range(r):\n",
      "#     predictions.insert(0,1.13) #make this shit faster its like the slowest part lol\n",
      "\n",
      "print str(len(set(predictions))) + \" unique predictions.\"\n",
      "print str(len(set(asks))) + \" unique asks.\"\n",
      "print str(len(set(dates))) + \" unique dates.\""
     ],
     "language": "python",
     "metadata": {},
     "outputs": [
      {
       "output_type": "stream",
       "stream": "stdout",
       "text": [
        "11830 unique predictions.\n",
        "24128 unique asks."
       ]
      },
      {
       "output_type": "stream",
       "stream": "stdout",
       "text": [
        "\n",
        "418297 unique dates."
       ]
      },
      {
       "output_type": "stream",
       "stream": "stdout",
       "text": [
        "\n"
       ]
      }
     ],
     "prompt_number": 210
    },
    {
     "cell_type": "code",
     "collapsed": false,
     "input": [
      "directions = []\n",
      "errors = []\n",
      "bal = 10000\n",
      "for p in preds:\n",
      "    try:\n",
      "        change = float(closest_datapoint(p[1])) - float(closest_datapoint(datetime.timedelta(hours=.5) + p[1]))\n",
      "        predChange = float(p[0]) - float(closest_datapoint(datetime.timedelta(hours=.5) + p[1]))\n",
      "#         print predChange\n",
      "        errors.append((change - predChange)**2)\n",
      "        directions.append((change < 0 and predChange < 0) or (change > 0 and predChange  > 0))\n",
      "        if predChange > 0:\n",
      "            bal += change * (bal*.05) #buy\n",
      "        else:\n",
      "            bal -= change * (bal*.05) #short\n",
      "    except:\n",
      "#         print \"Can't find datapoint\"\n",
      "        pass\n",
      "\n",
      "print \"End Bal: $ \" + str(bal)\n",
      "print \"SSE: \" + str(sum(errors))\n",
      "print \"Pct in correct direction: \" + str(directions.count(True)/float(len(directions)))"
     ],
     "language": "python",
     "metadata": {},
     "outputs": [
      {
       "output_type": "stream",
       "stream": "stdout",
       "text": [
        "End Bal: $ 74457.8823259\n",
        "SSE: 0.000141053359705\n",
        "Pct in correct direction: 0.969077161691\n"
       ]
      }
     ],
     "prompt_number": 212
    },
    {
     "cell_type": "code",
     "collapsed": false,
     "input": [
      "graphstart = datetime.datetime(2014,1,1,1,1)\n",
      "for d in dates:\n",
      "    if d > graphstart:\n",
      "        start = dates.index(d)\n",
      "        break\n",
      "        \n",
      "plt.plot(dates[start:], asks[start:])\n",
      "plt.plot(dates[start:],predictions[start:])\n",
      "\n",
      "plt.show()"
     ],
     "language": "python",
     "metadata": {},
     "outputs": [
      {
       "metadata": {},
       "output_type": "display_data",
       "png": "[encoded data removed]",
       "text": [
        "<matplotlib.figure.Figure at 0x114816810>"
       ]
      }
     ],
     "prompt_number": 213
    },
    {
     "cell_type": "code",
     "collapsed": false,
     "input": [
      "graphstart = datetime.datetime(2015,1,5,1,1)\n",
      "for d in dates:\n",
      "    if d > graphstart:\n",
      "        start = dates.index(d)\n",
      "        break\n",
      "graphsend = datetime.datetime(2015,1,10,20,1,1)\n",
      "for d in dates:\n",
      "    if d > graphsend:\n",
      "        end = dates.index(d)\n",
      "        break\n",
      "                \n",
      "plt.plot(dates[start:end], asks[start:end])\n",
      "plt.plot(dates[start:end],predictions[start:end])\n",
      "\n",
      "plt.show()"
     ],
     "language": "python",
     "metadata": {},
     "outputs": [
      {
       "metadata": {},
       "output_type": "display_data",
       "png": "[encoded data removed]",
       "text": [
        "<matplotlib.figure.Figure at 0x117d2ab10>"
       ]
      }
     ],
     "prompt_number": 217
    },
    {
     "cell_type": "code",
     "collapsed": false,
     "input": [],
     "language": "python",
     "metadata": {},
     "outputs": []
    }
   ],
   "metadata": {}
  }
 ]
}