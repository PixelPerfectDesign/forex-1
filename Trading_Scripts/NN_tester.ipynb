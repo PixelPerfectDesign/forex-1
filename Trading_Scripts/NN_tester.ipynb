{
 "metadata": {
  "name": "",
  "signature": "sha256:1f92b9f00cea74a4d3b39f0587bef8b081b0db397f9af93b797a355b2d07ba44"
 },
 "nbformat": 3,
 "nbformat_minor": 0,
 "worksheets": [
  {
   "cells": [
    {
     "cell_type": "code",
     "collapsed": false,
     "input": [
      "import glob\n",
      "import pybrain\n",
      "from pybrain.structure import FeedForwardNetwork\n",
      "from pybrain.structure import LinearLayer, SigmoidLayer\n",
      "from pybrain.structure import FullConnection\n",
      "from pybrain.datasets import SupervisedDataSet\n",
      "from pybrain.supervised.trainers import BackpropTrainer\n",
      "import matplotlib.pyplot as plt\n",
      "import datetime\n",
      "%matplotlib inline\n",
      "import random\n",
      "import ast\n",
      "import time\n",
      "import sqlalchemy\n",
      "from sqlalchemy import *\n",
      "from sqlalchemy import event\n",
      "import sqlite3\n",
      "from sqlalchemy.ext.declarative import declarative_base\n",
      "from sqlalchemy.orm import *\n",
      "import urllib2\n",
      "import urllib\n",
      "import json\n",
      "import glob\n",
      "import pprint\n",
      "import dateutil.parser\n",
      "import pprint\n",
      "import re\n",
      "from sklearn import linear_model, datasets\n",
      "import time\n",
      "from sklearn.naive_bayes import GaussianNB\n",
      "import nltk\n",
      "from collections import defaultdict\n",
      "from sklearn import svm\n",
      "pp = pprint.PrettyPrinter(indent=4)"
     ],
     "language": "python",
     "metadata": {},
     "outputs": [],
     "prompt_number": 187
    },
    {
     "cell_type": "code",
     "collapsed": false,
     "input": [
      "def mean(l):\n",
      "    return sum(l)/float(len(l))"
     ],
     "language": "python",
     "metadata": {},
     "outputs": [],
     "prompt_number": 188
    },
    {
     "cell_type": "code",
     "collapsed": false,
     "input": [
      "n = FeedForwardNetwork()\n",
      "inLayer = LinearLayer(9)\n",
      "hiddenLayer = SigmoidLayer(18)\n",
      "outLayer = LinearLayer(3)\n",
      "n.addInputModule(inLayer)\n",
      "n.addModule(hiddenLayer)\n",
      "n.addOutputModule(outLayer)\n",
      "in_to_hidden = FullConnection(inLayer, hiddenLayer)\n",
      "hidden_to_out = FullConnection(hiddenLayer, outLayer)\n",
      "\n",
      "n.addConnection(in_to_hidden)\n",
      "n.addConnection(hidden_to_out)\n",
      "\n",
      "n.sortModules()"
     ],
     "language": "python",
     "metadata": {},
     "outputs": [],
     "prompt_number": 189
    },
    {
     "cell_type": "code",
     "collapsed": false,
     "input": [
      "trainfile = open('usd_eur_trainingdata.csv', 'r')\n",
      "testfile = open('usd_eur_testingdata.csv', 'r')\n",
      "\n",
      "train, test = [], []\n",
      "for line in trainfile:\n",
      "    line = line.strip().split(',')\n",
      "    features = line[:-3]\n",
      "    outputs = line[-3:]\n",
      "    train.append([features, outputs])\n",
      "\n",
      "for line in testfile:\n",
      "    line = line.strip().split(',')\n",
      "    features = line[:-3]\n",
      "    outputs = line[-3:]\n",
      "    test.append([features, outputs])"
     ],
     "language": "python",
     "metadata": {},
     "outputs": [],
     "prompt_number": 190
    },
    {
     "cell_type": "code",
     "collapsed": false,
     "input": [
      "ds = SupervisedDataSet(9, 3)\n",
      "for t in train:\n",
      "    ds.addSample(t[0], t[1])\n",
      "print \"Dataset of \" + str(len(ds)) + \" samples.\"\n",
      "print \"Test set of \" + str(len(test)) + \" samples.\""
     ],
     "language": "python",
     "metadata": {},
     "outputs": [
      {
       "output_type": "stream",
       "stream": "stdout",
       "text": [
        "Dataset of 1850 samples.\n",
        "Test set of 202 samples.\n"
       ]
      }
     ],
     "prompt_number": 191
    },
    {
     "cell_type": "code",
     "collapsed": false,
     "input": [
      "sortedKeys = sorted(alls.keys())\n",
      "print sortedKeys[:10]"
     ],
     "language": "python",
     "metadata": {},
     "outputs": [
      {
       "output_type": "stream",
       "stream": "stdout",
       "text": [
        "[datetime.datetime(2012, 1, 2, 2, 0), datetime.datetime(2012, 1, 2, 2, 1), datetime.datetime(2012, 1, 2, 2, 2), datetime.datetime(2012, 1, 2, 2, 3), datetime.datetime(2012, 1, 2, 2, 4), datetime.datetime(2012, 1, 2, 2, 5), datetime.datetime(2012, 1, 2, 2, 6), datetime.datetime(2012, 1, 2, 2, 7), datetime.datetime(2012, 1, 2, 2, 8), datetime.datetime(2012, 1, 2, 2, 9)]\n"
       ]
      }
     ],
     "prompt_number": 192
    },
    {
     "cell_type": "code",
     "collapsed": false,
     "input": [
      "trainer = BackpropTrainer(n, ds)"
     ],
     "language": "python",
     "metadata": {},
     "outputs": [],
     "prompt_number": 193
    },
    {
     "cell_type": "code",
     "collapsed": false,
     "input": [
      "# trainer.trainUntilConvergence(verbose=True)\n",
      "trainer.train()"
     ],
     "language": "python",
     "metadata": {},
     "outputs": [
      {
       "metadata": {},
       "output_type": "pyout",
       "prompt_number": 195,
       "text": [
        "8.1074490115653069e-06"
       ]
      }
     ],
     "prompt_number": 195
    },
    {
     "cell_type": "code",
     "collapsed": false,
     "input": [
      "for x in range(10):\n",
      "    if x % 100 == 0:\n",
      "        print \"Error on iteration \" + str(x) + \": \" + str(trainer.train())\n",
      "    trainer.train()\n"
     ],
     "language": "python",
     "metadata": {},
     "outputs": [
      {
       "output_type": "stream",
       "stream": "stdout",
       "text": [
        "Error on iteration 0: 0.000976803443165\n"
       ]
      }
     ],
     "prompt_number": 168
    },
    {
     "cell_type": "code",
     "collapsed": false,
     "input": [
      "directions = []\n",
      "errors = []\n",
      "for d in test:\n",
      "\n",
      "    out = n.activate(d[0])\n",
      "    errors.append(out**2)\n",
      "    out = out\n",
      "#     print out, d[1]\n",
      "    directions.append((out[0] < 0 and d[1] < 0) or (out[0] > 0 and d[1]  > 0)) #30 min pre"
     ],
     "language": "python",
     "metadata": {},
     "outputs": [],
     "prompt_number": 196
    },
    {
     "cell_type": "code",
     "collapsed": false,
     "input": [
      "print \"SSE: \" + str(sum(errors))\n",
      "print \"Pct in correct direction: \" + str(directions.count(True)/float(len(directions)))"
     ],
     "language": "python",
     "metadata": {},
     "outputs": [
      {
       "output_type": "stream",
       "stream": "stdout",
       "text": [
        "SSE: [ 0.00172134  0.00537832  0.00251428]\n",
        "Pct in correct direction: 0.519801980198\n"
       ]
      }
     ],
     "prompt_number": 197
    },
    {
     "cell_type": "code",
     "collapsed": false,
     "input": [
      "cache = {}\n",
      "count = 0\n",
      "for k in sortedKeys:\n",
      "    cache[k] = count\n",
      "    count += 1"
     ],
     "language": "python",
     "metadata": {},
     "outputs": [],
     "prompt_number": 198
    },
    {
     "cell_type": "code",
     "collapsed": false,
     "input": [
      "# def moving_average(delta, data, date):\n",
      "\n",
      "#     points = []\n",
      "\n",
      "#     pts = []\n",
      "#     for ind in range(delta.days):\n",
      "#         d = date - datetime.timedelta(days=ind)\n",
      "#         for hour in range(0,23,2):\n",
      "#             for minute in range(0,59,5):\n",
      "#                 pt =  dct[d.year][d.month][d.day][hour][minute]\n",
      "#                 if str(type(pt)) != \"<type 'collections.defaultdict'>\":\n",
      "#                     pts.append(pt)\n",
      "#     return mean(pts)\n",
      "\n",
      "# def moving_average_hours(delta, data, date):\n",
      "\n",
      "#     points = []\n",
      "#     kys = alls.keys()\n",
      "# #     lst = [k for k in kys if abs(k - date ).days <= delta.days]\n",
      "\n",
      "\n",
      "\n",
      "#     for z in [k for k in kys if abs(k - date ).days <= delta.days]:\n",
      "#         if z < date:\n",
      "#             points.append(float(alls[z]))\n",
      "#     if len(points) == 0:\n",
      "#         return -1\n",
      "#     return mean(points)\n",
      "def moving_average(delta, data, date):\n",
      "#     date = date - delta\n",
      "    kys = sortedKeys\n",
      "#     print kys\n",
      "    i1, i2 = 1, 1\n",
      "#     print delta.hours\n",
      "    try:\n",
      "        d1 = closest_date(date)\n",
      "        i1 = cache[d1]\n",
      "    except:\n",
      "        count = 0\n",
      "        for k in kys:\n",
      "    #       print k\n",
      "            if k > date:\n",
      "                i1 = count\n",
      "                break   \n",
      "        count += 1\n",
      "    try:\n",
      "        d2 = closest_date(date - delta)\n",
      "        i2 = cache[d2]\n",
      "    except:\n",
      "        count = 0\n",
      "        for k in kys:\n",
      "    #       print k\n",
      "            if k > date - delta:\n",
      "                i2 = count\n",
      "                break   \n",
      "            count += 1#     print d1, d2\n",
      "    points = []\n",
      "\n",
      "    #compute avg approx for speed\n",
      "    datapoints = 5\n",
      "    ptz = []\n",
      "    if abs(i1-i2)/5 == 0:\n",
      "        return mean([float(alls[kys[i1]]), float(alls[kys[i2]])])\n",
      "    for z in range(i1, i2, abs(i1-i2)/5):\n",
      "        ptz.append(float(alls[kys[z]]))\n",
      "    return mean(ptz)\n",
      "    for z in kys[i2:i1]:\n",
      "        if z < date:\n",
      "            points.append(float(alls[z]))\n",
      "    return mean(points)\n",
      "\n",
      "\n",
      "def get_past_averages(date, dct=dct):\n",
      "#     print date\n",
      "    vec = []\n",
      "    for back in [1/24.0,.25,1,3,7,31,90,180,365]:\n",
      "\n",
      "#         if back < 1:    \n",
      "#             dlt = datetime.timedelta(hours=back*24)\n",
      "\n",
      "#             vec.append(moving_average_hours(dlt, dct, date))\n",
      "#         else:\n",
      "        dlt = datetime.timedelta(days=back)\n",
      "\n",
      "        vec.append(moving_average(dlt, dct, date))\n",
      "    return vec\n",
      "\n",
      "def closest_datapoint(d):\n",
      "    closest =  dct[d.year][d.month][d.day][d.hour][d.minute]\n",
      "    if str(type(closest)) != \"<type 'collections.defaultdict'>\":\n",
      "        return closest\n",
      "    else:\n",
      "        return closest_datapoint(d + datetime.timedelta(seconds=60))\n",
      "\n",
      "def closest_date(d):\n",
      "    closest =  dct[d.year][d.month][d.day][d.hour][d.minute]\n",
      "    if str(type(closest)) != \"<type 'collections.defaultdict'>\":\n",
      "        return datetime.datetime(d.year,d.month,d.day,d.hour,d.minute)\n",
      "    else:\n",
      "        return closest_date(d + datetime.timedelta(seconds=120))\n"
     ],
     "language": "python",
     "metadata": {},
     "outputs": [],
     "prompt_number": 199
    },
    {
     "cell_type": "code",
     "collapsed": false,
     "input": [],
     "language": "python",
     "metadata": {},
     "outputs": [],
     "prompt_number": 199
    },
    {
     "cell_type": "code",
     "collapsed": false,
     "input": [
      "d = datetime.datetime(2015,2,4,1,1)\n",
      "\n",
      "print get_past_averages(d)"
     ],
     "language": "python",
     "metadata": {},
     "outputs": [
      {
       "output_type": "stream",
       "stream": "stdout",
       "text": [
        "[1.29326, 1.29326, 1.29326, 1.2940633333333333, 1.2940633333333333, 1.2940633333333333, 1.2940633333333333, 1.2940633333333333, 1.2940633333333333]\n"
       ]
      }
     ],
     "prompt_number": 200
    },
    {
     "cell_type": "code",
     "collapsed": false,
     "input": [
      "dates=[]; times=[]; asks=[]; predictions=[]\n",
      "preds = []\n",
      "pred = 1.13\n",
      "alls = {}\n",
      "tree = lambda: defaultdict(tree)\n",
      "dct = tree()\n",
      "first = True\n",
      "for fl in glob.glob('Forex_Data/EURO_USD/*/*.csv')[8:13]:\n",
      "    print fl\n",
      "    for line in open(fl):\n",
      "        line = line.strip('\\n').split(' ')\n",
      "        date = line[0]\n",
      "        rest  = line[1].split(';')\n",
      "        time = rest[0]\n",
      "        ask = rest[1]\n",
      "        \n",
      "        d = datetime.datetime(int(date[:4]), int(date[4:6]), int(date[6:8]), int(time[:2]), int(time[2:4]), int(time[4:]))\n",
      "        alls[d] = ask\n",
      "\n",
      "        if first == True:\n",
      "            first = d\n",
      "        else:\n",
      "            if (d - first).seconds > 1800:\n",
      "                break\n",
      "            else:\n",
      "                predictions.append(pred)\n",
      "\n",
      "        \n",
      "for fl in glob.glob('Forex_Data/EURO_USD/*/*.csv')[10:13]:\n",
      "    print fl\n",
      "    for line in open(fl):\n",
      "        line = line.strip('\\n').split(' ')\n",
      "        date = line[0]\n",
      "        rest  = line[1].split(';')\n",
      "        time = rest[0]\n",
      "        ask = rest[1]\n",
      "    #     print int(date[:4]), int(date[4:6]), int(date[6:8]), int(time[:2]), int(time[2:4]), int(time[4:])\n",
      "        d = datetime.datetime(int(date[:4]), int(date[4:6]), int(date[6:8]), int(time[:2]), int(time[2:4]), int(time[4:]))\n",
      "    #     print d\n",
      "    #     dates.append( date[:4]+\" \"+date[4:6]*3600*24*30+\" \"+date[6:8]*3600*24+\" \"+time[0:2]*3600+\" \"+time[2:4]*60 )\n",
      "        dates.append(d)\n",
      "        times.append(time)\n",
      "        asks.append(ask)\n",
      "        dct[d.year][d.month][d.day][d.hour][d.minute] = ask\n",
      "\n",
      "for fl in glob.glob('Forex_Data/EURO_USD/*/*.csv')[11:13]:\n",
      "    print fl\n",
      "    for line in open(fl):\n",
      "        line = line.strip('\\n').split(' ')\n",
      "        date = line[0]\n",
      "        rest  = line[1].split(';')\n",
      "        time = rest[0]\n",
      "        ask = rest[1]\n",
      "    #     print int(date[:4]), int(date[4:6]), int(date[6:8]), int(time[:2]), int(time[2:4]), int(time[4:])\n",
      "        d = datetime.datetime(int(date[:4]), int(date[4:6]), int(date[6:8]), int(time[:2]), int(time[2:4]), int(time[4:]))\n",
      "    #     print d\n",
      "    #     dates.append( date[:4]+\" \"+date[4:6]*3600*24*30+\" \"+date[6:8]*3600*24+\" \"+time[0:2]*3600+\" \"+time[2:4]*60 )\n",
      "#         dates.append(d)\n",
      "#         times.append(time)\n",
      "#         asks.append(ask)\n",
      "#         dct[d.year][d.month][d.day][d.hour][d.minute] = ask\n",
      "#         alls[d] = ask\n",
      "        if random.randint(1,25) == 3:\n",
      "            if random.randint(1,100) == 10:\n",
      "                print d\n",
      "            pred = float(n.activate(get_past_averages(d))[0]) + float(ask)\n",
      "            predictions.append(pred)\n",
      "            preds.append([pred, d])\n",
      "        else:\n",
      "            predictions.append(pred)\n",
      "lastAsk = asks[-1]\n",
      "#below is future\n",
      "# for day in range(22,24):\n",
      "#     print \"Day: \" + str(day)\n",
      "#     for hour in range(24):\n",
      "#         for minute in range(0,60,3):\n",
      "#             d = datetime.datetime(2015,2,day,hour,minute,0)\n",
      "#             dct[d.year][d.month][d.day][d.hour][d.minute] = pred\n",
      "\n",
      "#             pred = float(n.activate(get_past_averages(d))[0]) + float(ask)\n",
      "\n",
      "#             dates.append(d)\n",
      "#             asks.append(lastAsk)\n",
      "#             predictions.append(pred)"
     ],
     "language": "python",
     "metadata": {},
     "outputs": [
      {
       "output_type": "stream",
       "stream": "stdout",
       "text": [
        "Forex_Data/EURO_USD/HISTDATA_COM_ASCII_EURUSD_M12012/DAT_ASCII_EURUSD_M1_2012.csv\n",
        "Forex_Data/EURO_USD/HISTDATA_COM_ASCII_EURUSD_M12013/DAT_ASCII_EURUSD_M1_2013.csv\n",
        "Forex_Data/EURO_USD/HISTDATA_COM_ASCII_EURUSD_M12014/DAT_ASCII_EURUSD_M1_2014.csv\n",
        "Forex_Data/EURO_USD/HISTDATA_COM_ASCII_EURUSD_M1201501/DAT_ASCII_EURUSD_M1_201501.csv\n",
        "Forex_Data/EURO_USD/HISTDATA_COM_ASCII_EURUSD_M1201502/DAT_ASCII_EURUSD_M1_201502.csv\n",
        "Forex_Data/EURO_USD/HISTDATA_COM_ASCII_EURUSD_M12014/DAT_ASCII_EURUSD_M1_2014.csv\n",
        "Forex_Data/EURO_USD/HISTDATA_COM_ASCII_EURUSD_M1201501/DAT_ASCII_EURUSD_M1_201501.csv"
       ]
      },
      {
       "output_type": "stream",
       "stream": "stdout",
       "text": [
        "\n",
        "Forex_Data/EURO_USD/HISTDATA_COM_ASCII_EURUSD_M1201502/DAT_ASCII_EURUSD_M1_201502.csv"
       ]
      },
      {
       "output_type": "stream",
       "stream": "stdout",
       "text": [
        "\n",
        "Forex_Data/EURO_USD/HISTDATA_COM_ASCII_EURUSD_M1201501/DAT_ASCII_EURUSD_M1_201501.csv"
       ]
      },
      {
       "output_type": "stream",
       "stream": "stdout",
       "text": [
        "\n",
        "2015-01-04 23:38:00"
       ]
      },
      {
       "output_type": "stream",
       "stream": "stdout",
       "text": [
        "\n",
        "2015-01-04 23:41:00\n",
        "2015-01-05 20:37:00"
       ]
      },
      {
       "output_type": "stream",
       "stream": "stdout",
       "text": [
        "\n",
        "2015-01-09 04:39:00"
       ]
      },
      {
       "output_type": "stream",
       "stream": "stdout",
       "text": [
        "\n",
        "2015-01-09 14:33:00"
       ]
      },
      {
       "output_type": "stream",
       "stream": "stdout",
       "text": [
        "\n",
        "2015-01-12 23:07:00"
       ]
      },
      {
       "output_type": "stream",
       "stream": "stdout",
       "text": [
        "\n",
        "2015-01-13 21:16:00"
       ]
      },
      {
       "output_type": "stream",
       "stream": "stdout",
       "text": [
        "\n",
        "2015-01-14 14:28:00"
       ]
      },
      {
       "output_type": "stream",
       "stream": "stdout",
       "text": [
        "\n",
        "2015-01-20 13:45:00"
       ]
      },
      {
       "output_type": "stream",
       "stream": "stdout",
       "text": [
        "\n",
        "2015-01-22 07:17:00"
       ]
      },
      {
       "output_type": "stream",
       "stream": "stdout",
       "text": [
        "\n",
        "2015-01-28 14:07:00"
       ]
      },
      {
       "output_type": "stream",
       "stream": "stdout",
       "text": [
        "\n",
        "Forex_Data/EURO_USD/HISTDATA_COM_ASCII_EURUSD_M1201502/DAT_ASCII_EURUSD_M1_201502.csv"
       ]
      },
      {
       "output_type": "stream",
       "stream": "stdout",
       "text": [
        "\n",
        "2015-02-03 02:40:00"
       ]
      },
      {
       "output_type": "stream",
       "stream": "stdout",
       "text": [
        "\n",
        "2015-02-04 14:45:00"
       ]
      },
      {
       "output_type": "stream",
       "stream": "stdout",
       "text": [
        "\n",
        "2015-02-09 03:18:00"
       ]
      },
      {
       "output_type": "stream",
       "stream": "stdout",
       "text": [
        "\n",
        "2015-02-09 15:52:00"
       ]
      },
      {
       "output_type": "stream",
       "stream": "stdout",
       "text": [
        "\n",
        "2015-02-10 20:47:00"
       ]
      },
      {
       "output_type": "stream",
       "stream": "stdout",
       "text": [
        "\n",
        "2015-02-12 20:23:00"
       ]
      },
      {
       "output_type": "stream",
       "stream": "stdout",
       "text": [
        "\n",
        "2015-02-15 20:56:00"
       ]
      },
      {
       "output_type": "stream",
       "stream": "stdout",
       "text": [
        "\n",
        "2015-02-16 07:55:00"
       ]
      },
      {
       "output_type": "stream",
       "stream": "stdout",
       "text": [
        "\n",
        "2015-02-18 11:45:00"
       ]
      },
      {
       "output_type": "stream",
       "stream": "stdout",
       "text": [
        "\n"
       ]
      }
     ],
     "prompt_number": 202
    },
    {
     "cell_type": "code",
     "collapsed": false,
     "input": [
      "print len(asks), len(predictions)"
     ],
     "language": "python",
     "metadata": {},
     "outputs": [
      {
       "output_type": "stream",
       "stream": "stdout",
       "text": [
        "418297 418297\n"
       ]
      }
     ],
     "prompt_number": 205
    },
    {
     "cell_type": "code",
     "collapsed": false,
     "input": [
      "r = len(asks) - len(predictions)\n",
      "r = (r * [pred])\n",
      "r.extend(predictions)\n",
      "predictions = r\n",
      "\n",
      "# for x in range(r):\n",
      "#     predictions.insert(0,1.13) #make this shit faster its like the slowest part lol\n",
      "\n",
      "print str(len(set(predictions))) + \" unique predictions.\"\n",
      "print str(len(set(asks))) + \" unique asks.\"\n",
      "print str(len(set(dates))) + \" unique dates.\""
     ],
     "language": "python",
     "metadata": {},
     "outputs": [
      {
       "output_type": "stream",
       "stream": "stdout",
       "text": [
        "1828 unique predictions.\n",
        "24128 unique asks."
       ]
      },
      {
       "output_type": "stream",
       "stream": "stdout",
       "text": [
        "\n",
        "418297 unique dates."
       ]
      },
      {
       "output_type": "stream",
       "stream": "stdout",
       "text": [
        "\n"
       ]
      }
     ],
     "prompt_number": 204
    },
    {
     "cell_type": "code",
     "collapsed": false,
     "input": [
      "directions = []\n",
      "errors = []\n",
      "bal = 10000\n",
      "for p in preds:\n",
      "    try:\n",
      "        change = float(closest_datapoint(p[1])) - float(closest_datapoint(datetime.timedelta(hours=.5) + p[1]))\n",
      "        predChange = float(p[0]) - float(closest_datapoint(datetime.timedelta(hours=.5) + p[1]))\n",
      "#         print predChange\n",
      "        errors.append((change - predChange)**2)\n",
      "        directions.append((change < 0 and predChange < 0) or (change > 0 and predChange  > 0))\n",
      "        if predChange > 0:\n",
      "            bal += change * (bal*.05) #buy\n",
      "        else:\n",
      "            bal -= change * (bal*.05) #short\n",
      "    except:\n",
      "#         print \"Can't find datapoint\"\n",
      "        pass\n",
      "\n",
      "print \"End Bal: $ \" + str(bal)\n",
      "print \"SSE: \" + str(sum(errors))\n",
      "print \"Pct in correct direction: \" + str(directions.count(True)/float(len(directions)))"
     ],
     "language": "python",
     "metadata": {},
     "outputs": [
      {
       "output_type": "stream",
       "stream": "stdout",
       "text": [
        "End Bal: $ 10841.4597162\n",
        "SSE: 5.33821502033e-06\n",
        "Pct in correct direction: 0.96518836433\n"
       ]
      }
     ],
     "prompt_number": 206
    },
    {
     "cell_type": "code",
     "collapsed": false,
     "input": [
      "graphstart = datetime.datetime(2014,1,1,1,1)\n",
      "for d in dates:\n",
      "    if d > graphstart:\n",
      "        start = dates.index(d)\n",
      "        break\n",
      "        \n",
      "plt.plot(dates[start:], asks[start:])\n",
      "plt.plot(dates[start:],predictions[start:])\n",
      "\n",
      "plt.show()"
     ],
     "language": "python",
     "metadata": {},
     "outputs": [
      {
       "metadata": {},
       "output_type": "display_data",
       "png": "[encoded data removed]",
       "text": [
        "<matplotlib.figure.Figure at 0x113533cd0>"
       ]
      }
     ],
     "prompt_number": 207
    },
    {
     "cell_type": "code",
     "collapsed": false,
     "input": [
      "graphstart = datetime.datetime(2015,1,1,1,1)\n",
      "for d in dates:\n",
      "    if d > graphstart:\n",
      "        start = dates.index(d)\n",
      "        break\n",
      "graphsend = datetime.datetime(2015,2,20,1,1)\n",
      "for d in dates:\n",
      "    if d > graphsend:\n",
      "        end = dates.index(d)\n",
      "        break\n",
      "                \n",
      "plt.plot(dates[start:end], asks[start:end])\n",
      "plt.plot(dates[start:end],predictions[start:end])\n",
      "\n",
      "plt.show()"
     ],
     "language": "python",
     "metadata": {},
     "outputs": [
      {
       "metadata": {},
       "output_type": "display_data",
       "png": "[encoded data removed]",
       "text": [
        "<matplotlib.figure.Figure at 0x114828590>"
       ]
      }
     ],
     "prompt_number": 208
    },
    {
     "cell_type": "code",
     "collapsed": false,
     "input": [],
     "language": "python",
     "metadata": {},
     "outputs": []
    }
   ],
   "metadata": {}
  }
 ]
}