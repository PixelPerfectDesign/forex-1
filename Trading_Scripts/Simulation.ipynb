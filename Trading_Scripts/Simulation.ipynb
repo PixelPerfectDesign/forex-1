{
 "metadata": {
  "name": "",
  "signature": "sha256:b0e3deace3874fd7e7dfbf455bbfa773e6bcc04767c0151610360ad553614b75"
 },
 "nbformat": 3,
 "nbformat_minor": 0,
 "worksheets": [
  {
   "cells": [
    {
     "cell_type": "code",
     "collapsed": false,
     "input": [
      "import datetime\n",
      "import glob\n",
      "from collections import defaultdict\n"
     ],
     "language": "python",
     "metadata": {},
     "outputs": [],
     "prompt_number": 522
    },
    {
     "cell_type": "code",
     "collapsed": false,
     "input": [
      "def closest_date(d, dct, direction=\"F\", delta=60, currency_pair=None):\n",
      "    \"\"\"Make delta bigger for faster compute but worse estimate\"\"\"\n",
      "    if currency_pair != None:\n",
      "        p1 = currency_pair[0] + \"-\" + currency_pair[1]\n",
      "        p2 = currency_pair[1] + \"-\" + currency_pair[0]\n",
      "        closest =  dct[d.year][d.month][d.day][d.hour][d.minute][p1]\n",
      "        if str(type(closest)) == \"<type 'collections.defaultdict'>\":\n",
      "            closest =  dct[d.year][d.month][d.day][d.hour][d.minute][p2]\n",
      "    else:\n",
      "        closest =  dct[d.year][d.month][d.day][d.hour][d.minute][p2]\n",
      "    if str(type(closest)) != \"<type 'collections.defaultdict'>\":\n",
      "            return datetime.datetime(d.year,d.month,d.day,d.hour,d.minute)\n",
      "        \n",
      "    if direction == \"F\":\n",
      "        return closest_date(d + datetime.timedelta(seconds=delta), dct, direction=direction, delta=delta, currency_pair=currency_pair)\n",
      "    else:\n",
      "        return closest_date(d - datetime.timedelta(seconds=delta), dct, direction=direction, delta=delta, currency_pair=currency_pair)"
     ],
     "language": "python",
     "metadata": {},
     "outputs": [],
     "prompt_number": 534
    },
    {
     "cell_type": "code",
     "collapsed": false,
     "input": [
      "from collections import defaultdict\n",
      "\n",
      "tree = lambda: defaultdict(tree)\n",
      "\n",
      "class Simulation(object):\n",
      "    def __init__(self, currencies, trade_start_date):\n",
      "        self.currencies = currencies\n",
      "        self.dates = []\n",
      "        self.pair_names = []\n",
      "        self.dct = tree()\n",
      "        self.asks = {}\n",
      "        self.balances = {}\n",
      "        for cur in currencies:\n",
      "            self.balances[cur] = 0\n",
      "        self.start = trade_start_date\n",
      "        self.read_data_from_csvs(currencies)\n",
      "\n",
      "        \n",
      "    def dep_currency(self, cur, ammt):\n",
      "        self.balances[cur] += ammt\n",
      "        \n",
      "    def read_data_from_csvs(self, currencies):\n",
      "        for c1 in currencies:\n",
      "            for c2 in currencies:\n",
      "                if c1 != c2:\n",
      "                    files = glob.glob('Forex_Data/' +c1+\"_\"+c2+'/*/*.csv')[10:12]\n",
      "                    pair_name = c1 + \"-\" + c2\n",
      "                    self.pair_names.append(pair_name)\n",
      "                    for fl in files:\n",
      "                        print fl\n",
      "                        for line in open(fl):\n",
      "                            line = line.strip('\\n').split(' ')\n",
      "                            date = line[0]\n",
      "                            rest  = line[1].split(';')\n",
      "                            time = rest[0]\n",
      "                            ask = rest[1]\n",
      "                            d = datetime.datetime(int(date[:4]), int(date[4:6]), int(date[6:8]), int(time[:2]), int(time[2:4]), int(time[4:]))\n",
      "#                             if pair_name == \"GBP-USD\" and d.month == 2:\n",
      "#                                 print d\n",
      "                            \n",
      "                            self.dct[d.year][d.month][d.day][d.hour][d.minute][pair_name] = [pair_name, ask]\n",
      "                            self.dates.append(d)\n",
      "#                             print d\n",
      "                            if d not in asks:\n",
      "                                self.asks[d] = {}\n",
      "                            self.asks[d][pair_name] = ask\n",
      "        self.sorteddates = sorted(self.dates)\n",
      "        \n",
      "    def buy_order_on_date(self, from_cur, to_cur, date, buy_ammt, verbose=False):\n",
      "        return self.buy_order(from_cur, to_cur, self.rate_for_date(date, [from_cur, to_cur]), buy_ammt, verbose=verbose)\n",
      "    \n",
      "    def sell_order_on_date(self, from_cur, to_cur, date, buy_ammt, verbose=False):\n",
      "        return self.sell_order(from_cur, to_cur, self.rate_for_date(date, [from_cur, to_cur]), buy_ammt, verbose=verbose)\n",
      "    \n",
      "    \n",
      "    def buy_order(self, from_cur, to_cur, rate, buy_ammt, verbose=False):\n",
      "        \"\"\"Buy ammount in source currency\"\"\"\n",
      "        \"\"\"Rate is a pair of [CUR1-CUR2, rate]\"\"\"\n",
      "        rateNum = float(rate[1])\n",
      "        c1, c2 = rate[0].split(\"-\")\n",
      "        if verbose:\n",
      "            print \"Starting Bals:\"\n",
      "            for b in self.balances:\n",
      "                print str(b) + \": \" + str(self.balances[b])\n",
      "        ammt = min(buy_ammt, self.balances[from_cur])\n",
      "        if ammt != buy_ammt:\n",
      "            print \"Not enough money in source currency, completing partial buy\"\n",
      "        \n",
      "        if from_cur == c2:\n",
      "            self.balances[to_cur] += buy_ammt / rateNum\n",
      "            self.balances[from_cur] -= buy_ammt\n",
      "        else:\n",
      "            self.balances[to_cur] += buy_ammt * rateNum \n",
      "            self.balances[from_cur] -= buy_ammt\n",
      "        if verbose:\n",
      "            print \"Ending Bals:\"\n",
      "            for b in self.balances:\n",
      "                print str(b) + \": \" + str(self.balances[b])\n",
      "                \n",
      "    def sell_order(self, from_cur, to_cur, rate, buy_ammt, verbose=False):\n",
      "        \"\"\"Sell ammount in source currency\"\"\"\n",
      "        \"\"\"Rate is a pair of [CUR1-CUR2, rate]\"\"\"\n",
      "        self.buy_order(to_cur, from_cur, rate, buy_ammt, verbose=verbose)\n",
      "                \n",
      "                \n",
      "                \n",
      "    def convert_all_to_USD(self, d):\n",
      "        curs_to_convert = [z for z in self.currencies if z != 'USD']\n",
      "        for cur in curs_to_convert:\n",
      "#             print \"Converting: \" + str(cur)\n",
      "            cl = closest_date(d, self.dct, direction=\"B\", currency_pair=[cur, 'USD'])\n",
      "#             print cl\n",
      "            rate = self.dct[cl.year][cl.month][cl.day][cl.hour][cl.minute]\n",
      "            if cur + \"-USD\" in self.pair_names:\n",
      "                self.buy_order(cur, 'USD', rate[cur + \"-USD\"], self.balances[cur])\n",
      "            else:\n",
      "                self.buy_order(cur, 'USD', rate[\"USD-\"+cur], self.balances[cur])\n",
      "        \n",
      "    def print_balances(self):\n",
      "        for b in self.balances:\n",
      "                print str(b) + \": \" + str(self.balances[b])\n",
      "                \n",
      "    def reset_currencies(self):\n",
      "        for c in self.balances:\n",
      "            self.balances[c] = 0\n",
      "            \n",
      "\n",
      "    def rate_for_date(self, d, currency_pair):\n",
      "\n",
      "        r = self.dct[d.year][d.month][d.day][d.hour][d.minute][currency_pair[0] + '-' + currency_pair[1]]\n",
      "        if str(type(r)) == \"<type 'collections.defaultdict'>\":\n",
      "            r = self.dct[d.year][d.month][d.day][d.hour][d.minute][currency_pair[1] + '-' + currency_pair[0]]\n",
      "        print d, r\n",
      "        return r\n"
     ],
     "language": "python",
     "metadata": {},
     "outputs": [],
     "prompt_number": 529
    },
    {
     "cell_type": "code",
     "collapsed": false,
     "input": [
      "d = datetime.datetime(2015,1,15)\n",
      "s = Simulation(['USD', 'GBP', \"EURO\"], d)\n"
     ],
     "language": "python",
     "metadata": {},
     "outputs": [
      {
       "output_type": "stream",
       "stream": "stdout",
       "text": [
        "Forex_Data/GBP_USD/HISTDATA_COM_ASCII_GBPUSD_M1201501/DAT_ASCII_GBPUSD_M1_201501.csv\n",
        "Forex_Data/GBP_USD/HISTDATA_COM_ASCII_GBPUSD_M1201502/DAT_ASCII_GBPUSD_M1_201502.csv"
       ]
      },
      {
       "output_type": "stream",
       "stream": "stdout",
       "text": [
        "\n",
        "Forex_Data/GBP_EURO/HISTDATA_COM_ASCII_EURGBP_M1201501/data.csv"
       ]
      },
      {
       "output_type": "stream",
       "stream": "stdout",
       "text": [
        "\n",
        "Forex_Data/GBP_EURO/HISTDATA_COM_ASCII_EURGBP_M1201502/data.csv"
       ]
      },
      {
       "output_type": "stream",
       "stream": "stdout",
       "text": [
        "\n",
        "Forex_Data/EURO_USD/HISTDATA_COM_ASCII_EURUSD_M1201501/DAT_ASCII_EURUSD_M1_201501.csv"
       ]
      },
      {
       "output_type": "stream",
       "stream": "stdout",
       "text": [
        "\n",
        "Forex_Data/EURO_USD/HISTDATA_COM_ASCII_EURUSD_M1201502/DAT_ASCII_EURUSD_M1_201502.csv"
       ]
      },
      {
       "output_type": "stream",
       "stream": "stdout",
       "text": [
        "\n"
       ]
      }
     ],
     "prompt_number": 530
    },
    {
     "cell_type": "code",
     "collapsed": false,
     "input": [
      "s.reset_currencies()\n",
      "s.dep_currency('USD', 100.0)\n",
      "s.dep_currency('GBP', 20.0)\n",
      "s.dep_currency('EURO', 10.0)\n",
      "\n"
     ],
     "language": "python",
     "metadata": {},
     "outputs": [],
     "prompt_number": 531
    },
    {
     "cell_type": "code",
     "collapsed": false,
     "input": [
      "buyTime = datetime.datetime(2015,2,10,10,53,10)\n",
      "sellTime = datetime.datetime(2015,2,12,10,53,10)\n",
      "\n",
      "closestBuy = closest_date(buyTime, s.dct, currency_pair = ['USD', 'EURO'])\n",
      "closestSell = closest_date(sellTime, s.dct,  currency_pair = ['USD', 'EURO'])\n",
      "\n",
      "s.buy_order_on_date('USD','EURO', buyTime, 10)\n",
      "s.sell_order_on_date('EURO','USD', sellTime, 10)"
     ],
     "language": "python",
     "metadata": {},
     "outputs": [
      {
       "output_type": "stream",
       "stream": "stdout",
       "text": [
        "2015-02-10 10:53:10 ['EURO-USD', '1.131520']\n",
        "2015-02-12 10:53:10 ['EURO-USD', '1.137170']\n"
       ]
      }
     ],
     "prompt_number": 532
    },
    {
     "cell_type": "code",
     "collapsed": false,
     "input": [
      "d = datetime.datetime(2015,2,10,10,53,10)\n",
      "s.convert_all_to_USD(d)\n",
      "s.print_balances()"
     ],
     "language": "python",
     "metadata": {},
     "outputs": [
      {
       "output_type": "stream",
       "stream": "stdout",
       "text": [
        "USD: 141.739715256\n",
        "GBP: 0.0\n",
        "EURO: 0.0\n"
       ]
      }
     ],
     "prompt_number": 533
    },
    {
     "cell_type": "code",
     "collapsed": false,
     "input": [],
     "language": "python",
     "metadata": {},
     "outputs": [],
     "prompt_number": 533
    },
    {
     "cell_type": "code",
     "collapsed": false,
     "input": [],
     "language": "python",
     "metadata": {},
     "outputs": [],
     "prompt_number": 495
    },
    {
     "cell_type": "code",
     "collapsed": false,
     "input": [],
     "language": "python",
     "metadata": {},
     "outputs": []
    },
    {
     "cell_type": "code",
     "collapsed": false,
     "input": [],
     "language": "python",
     "metadata": {},
     "outputs": []
    }
   ],
   "metadata": {}
  }
 ]
}