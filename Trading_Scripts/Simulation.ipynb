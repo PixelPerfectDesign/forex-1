{
 "metadata": {
  "name": "",
  "signature": "sha256:17c007a7b3ba1efd28e34de24cb9e561f46c11e38b3808c98b69708746c52a29"
 },
 "nbformat": 3,
 "nbformat_minor": 0,
 "worksheets": [
  {
   "cells": [
    {
     "cell_type": "raw",
     "metadata": {},
     "source": []
    },
    {
     "cell_type": "code",
     "collapsed": false,
     "input": [
      "import datetime\n",
      "import glob\n",
      "import matplotlib.pyplot as plt\n",
      "from collections import defaultdict\n",
      "import requests\n",
      "%matplotlib inline\n",
      "\n",
      "import random"
     ],
     "language": "python",
     "metadata": {},
     "outputs": [],
     "prompt_number": 27
    },
    {
     "cell_type": "code",
     "collapsed": false,
     "input": [
      "def closest_date(d, dct, direction=\"F\", delta=60, currency_pair=None):\n",
      "    \"\"\"Make delta bigger for faster compute but worse estimate\"\"\"\n",
      "    if currency_pair != None:\n",
      "        p1 = currency_pair[0] + \"-\" + currency_pair[1]\n",
      "        p2 = currency_pair[1] + \"-\" + currency_pair[0]\n",
      "        closest =  dct[d.year][d.month][d.day][d.hour][d.minute][p1]\n",
      "        if str(type(closest)) == \"<type 'collections.defaultdict'>\":\n",
      "            closest =  dct[d.year][d.month][d.day][d.hour][d.minute][p2]\n",
      "    else:\n",
      "        closest =  dct[d.year][d.month][d.day][d.hour][d.minute][p2]\n",
      "    if str(type(closest)) != \"<type 'collections.defaultdict'>\":\n",
      "            return datetime.datetime(d.year,d.month,d.day,d.hour,d.minute)\n",
      "        \n",
      "    if direction == \"F\":\n",
      "        return closest_date(d + datetime.timedelta(seconds=delta), dct, direction=direction, delta=delta, currency_pair=currency_pair)\n",
      "    else:\n",
      "        return closest_date(d - datetime.timedelta(seconds=delta), dct, direction=direction, delta=delta, currency_pair=currency_pair)"
     ],
     "language": "python",
     "metadata": {},
     "outputs": [],
     "prompt_number": 51
    },
    {
     "cell_type": "code",
     "collapsed": false,
     "input": [
      "class Trade(object):\n",
      "    def __init__(self, from_cur, to_cur, date, buy_ammt, buy_or_sell):\n",
      "        self.from_cur = from_cur\n",
      "        self.to_cur = to_cur\n",
      "        self.date = date\n",
      "        self.ammt = buy_ammt\n",
      "        self.buy = buy_or_sell.upper() == \"BUY\""
     ],
     "language": "python",
     "metadata": {},
     "outputs": [],
     "prompt_number": 52
    },
    {
     "cell_type": "code",
     "collapsed": false,
     "input": [
      "\n",
      "tree = lambda: defaultdict(tree)\n",
      "\n",
      "class Simulation(object):\n",
      "    def __init__(self, currencies, trade_start_date):\n",
      "        self.currencies = currencies\n",
      "        self.dates = []\n",
      "        self.pair_names = []\n",
      "        self.dct = tree()\n",
      "        self.asks = {}\n",
      "        self.balances = {}\n",
      "        for cur in currencies:\n",
      "            self.balances[cur] = 0\n",
      "        self.start = trade_start_date\n",
      "        self.dateindex = 0\n",
      "        self.future_trades = []\n",
      "        self.read_data_from_csvs(currencies)\n",
      "\n",
      "        \n",
      "    def dep_currency(self, cur, ammt):\n",
      "        self.balances[cur] += ammt\n",
      "        \n",
      "    def read_data_from_csvs(self, currencies):\n",
      "        for c1 in currencies:\n",
      "            for c2 in currencies:\n",
      "                if c1 != c2:\n",
      "                    files = glob.glob('../Forex_Data/' +c1+\"_\"+c2+'/*/*.csv')[10:12]\n",
      "                    pair_name = c1 + \"-\" + c2\n",
      "                    self.pair_names.append(pair_name)\n",
      "                    for fl in files:\n",
      "                        print fl\n",
      "                        for line in open(fl):\n",
      "                            line = line.strip('\\n').split(' ')\n",
      "                            date = line[0]\n",
      "                            rest  = line[1].split(';')\n",
      "                            time = rest[0]\n",
      "                            ask = rest[1]\n",
      "                            d = datetime.datetime(int(date[:4]), int(date[4:6]), int(date[6:8]), int(time[:2]), int(time[2:4]), int(time[4:]))\n",
      "#                             if pair_name == \"GBP-USD\" and d.month == 2:\n",
      "#                                 print d\n",
      "                            \n",
      "                            self.dct[d.year][d.month][d.day][d.hour][d.minute][pair_name] = [pair_name, ask]\n",
      "                            self.dates.append(d)\n",
      "#                             print d\n",
      "                            if d not in self.asks:\n",
      "                                self.asks[d] = {}\n",
      "                            self.asks[d][pair_name] = ask\n",
      "        self.sorteddates = sorted(self.dates)\n",
      "        self.dateset = sorted(list(set(self.sorteddates)))\n",
      "        \n",
      "    def buy_order_on_date(self, from_cur, to_cur, date, buy_ammt, verbose=False):\n",
      "        return self.buy_order(from_cur, to_cur, self.rate_for_date(date, [from_cur, to_cur]), buy_ammt, verbose=verbose)\n",
      "    \n",
      "    def sell_order_on_date(self, from_cur, to_cur, date, buy_ammt, verbose=False):\n",
      "        return self.sell_order(from_cur, to_cur, self.rate_for_date(date, [from_cur, to_cur]), buy_ammt, verbose=verbose)\n",
      "    \n",
      "    \n",
      "    def buy_order(self, from_cur, to_cur, rate, buy_ammt, verbose=False):\n",
      "        \"\"\"Buy ammount in source currency\"\"\"\n",
      "        \"\"\"Rate is a pair of [CUR1-CUR2, rate]\"\"\"\n",
      "        rateNum = float(rate[1])\n",
      "        c1, c2 = rate[0].split(\"-\")\n",
      "        if verbose:\n",
      "            print \"Starting Bals:\"\n",
      "            for b in self.balances:\n",
      "                print str(b) + \": \" + str(self.balances[b])\n",
      "        ammt = min(buy_ammt, self.balances[from_cur])\n",
      "        if ammt != buy_ammt:\n",
      "#             print \"Not enough money in source currency, completing partial buy\"\n",
      "            pass\n",
      "            \n",
      "        if from_cur == c2:\n",
      "            self.balances[to_cur] += ammt / rateNum\n",
      "            self.balances[from_cur] -= ammt\n",
      "        else:\n",
      "            self.balances[to_cur] += ammt * rateNum \n",
      "            self.balances[from_cur] -= ammt\n",
      "        if verbose:\n",
      "            print \"Ending Bals:\"\n",
      "            for b in self.balances:\n",
      "                print str(b) + \": \" + str(self.balances[b])\n",
      "                \n",
      "    def sell_order(self, from_cur, to_cur, rate, buy_ammt, verbose=False):\n",
      "        \"\"\"Sell ammount in source currency\"\"\"\n",
      "        \"\"\"Rate is a pair of [CUR1-CUR2, rate]\"\"\"\n",
      "        self.buy_order(to_cur, from_cur, rate, buy_ammt, verbose=verbose)\n",
      "                \n",
      "                \n",
      "                \n",
      "    def convert_all_to_USD(self, d):\n",
      "        curs_to_convert = [z for z in self.currencies if z != 'USD']\n",
      "        for cur in curs_to_convert:\n",
      "#             print \"Converting: \" + str(cur)\n",
      "            cl = closest_date(d, self.dct, direction=\"B\", currency_pair=[cur, 'USD'])\n",
      "#             print cl\n",
      "            rate = self.dct[cl.year][cl.month][cl.day][cl.hour][cl.minute]\n",
      "            if cur + \"-USD\" in self.pair_names:\n",
      "                self.buy_order(cur, 'USD', rate[cur + \"-USD\"], self.balances[cur])\n",
      "            else:\n",
      "                self.buy_order(cur, 'USD', rate[\"USD-\"+cur], self.balances[cur])\n",
      "                \n",
      "    def get_money_as_usd(self, d):\n",
      "        bal = 0\n",
      "        curs_to_convert = [z for z in self.currencies if z != 'USD']\n",
      "        bal += self.balances['USD']\n",
      "        for cur in curs_to_convert:\n",
      "#             print \"Converting: \" + str(cur)\n",
      "            cl = closest_date(d, self.dct, direction=\"B\", currency_pair=[cur, 'USD'])\n",
      "#             print cl\n",
      "            rate = self.dct[cl.year][cl.month][cl.day][cl.hour][cl.minute]\n",
      "            print rate\n",
      "            if cur + \"-USD\" in self.pair_names:\n",
      "                try:\n",
      "                    rate = rate[cur + \"-USD\"]\n",
      "                    \n",
      "                    bal += self.balances[cur] * rate\n",
      "#                 self.buy_order(cur, 'USD', rate[cur + \"-USD\"], self.balances[cur])\n",
      "                except:\n",
      "                    rate = rate[\"USD-\" + cur]\n",
      "                    bal += self.balances[cur] * rate\n",
      "\n",
      "        return bal\n",
      "        \n",
      "    def print_balances(self):\n",
      "        for b in self.balances:\n",
      "                print str(b) + \": \" + str(self.balances[b])\n",
      "                \n",
      "    def reset_currencies(self):\n",
      "        for c in self.balances:\n",
      "            self.balances[c] = 0\n",
      "            \n",
      "    def get_next_date(self):\n",
      "        self.dateindex += 1\n",
      "        \n",
      "        for trade in self.future_trades:\n",
      "            if trade.date == self.dateset[self.dateindex - 1]:\n",
      "                print \"Executing Trade\"\n",
      "                if trade.buy:\n",
      "                    self.buy_order_on_date(trade.from_cur, trade.to_cur, trade.date, trade.ammt)\n",
      "                else:\n",
      "                    self.sell_order_on_date(trade.from_cur, trade.to_cur, trade.date, trade.ammt)\n",
      "        return self.dateset[self.dateindex - 1]\n",
      "    \n",
      "    def all_rates_for_date(self, d):\n",
      "        z = []\n",
      "        for c in self.pair_names:\n",
      "            z.append(self.rate_for_date(d, c.split('-')))\n",
      "            \n",
      "        ret = [f for f in z if str(type(f)) != \"<type 'collections.defaultdict'>\"]\n",
      "        noDupes = []\n",
      "        for r in ret:\n",
      "            if r not in noDupes:\n",
      "                noDupes.append(r)\n",
      "        return noDupes\n",
      "    \n",
      "    def rate_for_date(self, d, currency_pair):\n",
      "\n",
      "        r = self.dct[d.year][d.month][d.day][d.hour][d.minute][currency_pair[0] + '-' + currency_pair[1]]\n",
      "        if str(type(r)) == \"<type 'collections.defaultdict'>\":\n",
      "            r = self.dct[d.year][d.month][d.day][d.hour][d.minute][currency_pair[1] + '-' + currency_pair[0]]\n",
      "#         print d, r\n",
      "        return r\n",
      "    \n",
      "    \n",
      "    def add_future_trade(self, trade):\n",
      "        self.future_trades.append(trade)"
     ],
     "language": "python",
     "metadata": {},
     "outputs": [],
     "prompt_number": 87
    },
    {
     "cell_type": "code",
     "collapsed": false,
     "input": [
      "d = datetime.datetime(2015,1,3)\n",
      "s = Simulation(['USD', 'GBP', \"EURO\"], d)\n"
     ],
     "language": "python",
     "metadata": {},
     "outputs": [
      {
       "output_type": "stream",
       "stream": "stdout",
       "text": [
        "../Forex_Data/GBP_USD/HISTDATA_COM_ASCII_GBPUSD_M1201501/DAT_ASCII_GBPUSD_M1_201501.csv\n",
        "../Forex_Data/GBP_USD/HISTDATA_COM_ASCII_GBPUSD_M1201502/DAT_ASCII_GBPUSD_M1_201502.csv"
       ]
      },
      {
       "output_type": "stream",
       "stream": "stdout",
       "text": [
        "\n",
        "../Forex_Data/GBP_EURO/HISTDATA_COM_ASCII_EURGBP_M1201501/data.csv"
       ]
      },
      {
       "output_type": "stream",
       "stream": "stdout",
       "text": [
        "\n",
        "../Forex_Data/GBP_EURO/HISTDATA_COM_ASCII_EURGBP_M1201502/data.csv"
       ]
      },
      {
       "output_type": "stream",
       "stream": "stdout",
       "text": [
        "\n",
        "../Forex_Data/EURO_USD/HISTDATA_COM_ASCII_EURUSD_M1201501/DAT_ASCII_EURUSD_M1_201501.csv"
       ]
      },
      {
       "output_type": "stream",
       "stream": "stdout",
       "text": [
        "\n",
        "../Forex_Data/EURO_USD/HISTDATA_COM_ASCII_EURUSD_M1201502/DAT_ASCII_EURUSD_M1_201502.csv"
       ]
      },
      {
       "output_type": "stream",
       "stream": "stdout",
       "text": [
        "\n"
       ]
      }
     ],
     "prompt_number": 88
    },
    {
     "cell_type": "code",
     "collapsed": false,
     "input": [
      "s.reset_currencies()\n",
      "s.dep_currency('USD', 10000.0)\n",
      "# s.dep_currency('GBP', 20.0)\n",
      "s.dep_currency('EURO', 10000.0)\n",
      "\n",
      "s.print_balances()\n"
     ],
     "language": "python",
     "metadata": {},
     "outputs": [
      {
       "output_type": "stream",
       "stream": "stdout",
       "text": [
        "USD: 10000.0\n",
        "GBP: 0\n",
        "EURO: 10000.0\n"
       ]
      }
     ],
     "prompt_number": 89
    },
    {
     "cell_type": "code",
     "collapsed": false,
     "input": [
      "buyTime = datetime.datetime(2015,2,10,10,53,10)\n",
      "sellTime = datetime.datetime(2015,2,12,10,53,10)\n",
      "\n",
      "closestBuy = closest_date(buyTime, s.dct, currency_pair = ['USD', 'EURO'])\n",
      "closestSell = closest_date(sellTime, s.dct,  currency_pair = ['USD', 'EURO'])\n",
      "\n",
      "s.buy_order_on_date('USD','EURO', buyTime, 10)\n",
      "s.sell_order_on_date('EURO','USD', sellTime, 10)"
     ],
     "language": "python",
     "metadata": {},
     "outputs": [],
     "prompt_number": 447
    },
    {
     "cell_type": "code",
     "collapsed": false,
     "input": [
      "d = datetime.datetime(2015,1,8,12,0,10)\n",
      "s.convert_all_to_USD(d)\n",
      "s.print_balances()"
     ],
     "language": "python",
     "metadata": {},
     "outputs": [
      {
       "output_type": "stream",
       "stream": "stdout",
       "text": [
        "USD: 21809.8\n",
        "GBP: 0\n",
        "EURO: 0.0\n"
       ]
      }
     ],
     "prompt_number": 74
    },
    {
     "cell_type": "code",
     "collapsed": false,
     "input": [
      "d = datetime.datetime(2015,1,1,13,2,0)\n",
      "d2 = datetime.datetime(2015,1,2,13,2,0)\n",
      "\n",
      "# t = Trade('USD', 'GBP', d, 100, \"BUY\")\n",
      "# t2 = Trade('GBP', 'USD', d2, 9999, \"BUY\")\n",
      "\n",
      "# s.add_future_trade(t)\n",
      "# s.add_future_trade(t2)\n"
     ],
     "language": "python",
     "metadata": {},
     "outputs": [],
     "prompt_number": 56
    },
    {
     "cell_type": "code",
     "collapsed": false,
     "input": [
      "dates = []\n",
      "dollars = []\n",
      "euros = []\n",
      "prices = []\n",
      "prevdate = None\n",
      "for x in range(len(s.dates)):\n",
      "    if x > 7000:\n",
      "        break\n",
      "    nextdate = s.get_next_date()\n",
      "    if prevdate is None or (nextdate - prevdate).seconds >= 3600:\n",
      "        prevdate = nextdate\n",
      "        print nextdate, x\n",
      "    data = {'year': nextdate.year, 'month': nextdate.month, 'day': nextdate.day,\n",
      "            'hour': nextdate.hour, 'minute': nextdate.minute , 'rate': s.rate_for_date(nextdate, ['USD', 'EURO'])}\n",
      "    header = {'content-type': 'application/json'}\n",
      "    if nextdate > s.start and random.randint(1,10) == 5:\n",
      "        predictions = requests.post('http://127.0.0.1:5000/predict', json=data, headers=header).text\n",
      "        pred = float(predictions)\n",
      "        if pred > 0:\n",
      "#             print \"BUYING\"\n",
      "#             print \"Starting: \"\n",
      "#             print s.print_balances()\n",
      "            s.buy_order_on_date('USD', 'EURO', nextdate, 10)\n",
      "            rt = s.rate_for_date(nextdate, ['EURO', 'USD'])\n",
      "            delt = datetime.timedelta(hours=.5)\n",
      "            t = Trade('EURO', 'USD', nextdate + delt, 10*float(rt[1]), \"BUY\")\n",
      "            s.add_future_trade(t)\n",
      "#             s.buy_order_on_date('USD', 'EURO', nextdate + delt, 10)\n",
      "#             print \"Ending: \"\n",
      "#             print s.print_balances()\n",
      "    else:\n",
      "        requests.post('http://127.0.0.1:5000/tick', json=data, headers=header)    \n",
      "    dates.append(nextdate)\n",
      "    dollars.append(s.balances['USD'])\n",
      "    euros.append(s.balances['EURO'])\n",
      "    prices.append(s.rate_for_date(nextdate, ['USD', 'EURO'])[1])\n",
      "\n",
      "s.convert_all_to_USD(d)\n",
      "\n",
      "# nextdate = s.get_next_date()\n",
      "# dates.append(nextdate)\n",
      "# dollars.append(s.balances['USD'])\n",
      "# euros.append(s.balances['EURO'])\n",
      "# prices.append(s.rate_for_date(nextdate, ['USD', 'EURO']))\n",
      "\n",
      "#     print nextdate\n",
      "s.print_balances()\n"
     ],
     "language": "python",
     "metadata": {},
     "outputs": [
      {
       "output_type": "stream",
       "stream": "stdout",
       "text": [
        "2015-01-01 13:00:00 0\n",
        "2015-01-01 14:01:00"
       ]
      },
      {
       "output_type": "stream",
       "stream": "stdout",
       "text": [
        " 40\n",
        "2015-01-01 17:00:00 44\n",
        "2015-01-01 18:00:00"
       ]
      },
      {
       "output_type": "stream",
       "stream": "stdout",
       "text": [
        " 104\n",
        "2015-01-01 19:00:00"
       ]
      },
      {
       "output_type": "stream",
       "stream": "stdout",
       "text": [
        " 164\n",
        "2015-01-01 20:00:00"
       ]
      },
      {
       "output_type": "stream",
       "stream": "stdout",
       "text": [
        " 224\n",
        "2015-01-01 21:00:00"
       ]
      },
      {
       "output_type": "stream",
       "stream": "stdout",
       "text": [
        " 284\n",
        "2015-01-01 22:00:00"
       ]
      },
      {
       "output_type": "stream",
       "stream": "stdout",
       "text": [
        " 344\n",
        "2015-01-01 23:00:00"
       ]
      },
      {
       "output_type": "stream",
       "stream": "stdout",
       "text": [
        " 404\n",
        "2015-01-02 00:00:00"
       ]
      },
      {
       "output_type": "stream",
       "stream": "stdout",
       "text": [
        " 464\n",
        "2015-01-02 01:00:00"
       ]
      },
      {
       "output_type": "stream",
       "stream": "stdout",
       "text": [
        " 524\n",
        "2015-01-02 02:00:00"
       ]
      },
      {
       "output_type": "stream",
       "stream": "stdout",
       "text": [
        " 584\n",
        "2015-01-02 03:00:00"
       ]
      },
      {
       "output_type": "stream",
       "stream": "stdout",
       "text": [
        " 644\n",
        "2015-01-02 04:00:00"
       ]
      },
      {
       "output_type": "stream",
       "stream": "stdout",
       "text": [
        " 704\n",
        "2015-01-02 05:00:00"
       ]
      },
      {
       "output_type": "stream",
       "stream": "stdout",
       "text": [
        " 764\n",
        "2015-01-02 06:00:00"
       ]
      },
      {
       "output_type": "stream",
       "stream": "stdout",
       "text": [
        " 824\n",
        "2015-01-02 07:00:00"
       ]
      },
      {
       "output_type": "stream",
       "stream": "stdout",
       "text": [
        " 884\n",
        "2015-01-02 08:00:00"
       ]
      },
      {
       "output_type": "stream",
       "stream": "stdout",
       "text": [
        " 944\n",
        "2015-01-02 09:00:00"
       ]
      },
      {
       "output_type": "stream",
       "stream": "stdout",
       "text": [
        " 1004\n",
        "2015-01-02 10:00:00"
       ]
      },
      {
       "output_type": "stream",
       "stream": "stdout",
       "text": [
        " 1064\n",
        "2015-01-02 11:00:00"
       ]
      },
      {
       "output_type": "stream",
       "stream": "stdout",
       "text": [
        " 1124\n",
        "2015-01-02 12:00:00"
       ]
      },
      {
       "output_type": "stream",
       "stream": "stdout",
       "text": [
        " 1184\n",
        "2015-01-02 13:00:00"
       ]
      },
      {
       "output_type": "stream",
       "stream": "stdout",
       "text": [
        " 1244\n",
        "2015-01-02 14:00:00"
       ]
      },
      {
       "output_type": "stream",
       "stream": "stdout",
       "text": [
        " 1304\n",
        "2015-01-02 15:00:00"
       ]
      },
      {
       "output_type": "stream",
       "stream": "stdout",
       "text": [
        " 1364\n",
        "2015-01-02 16:00:00"
       ]
      },
      {
       "output_type": "stream",
       "stream": "stdout",
       "text": [
        " 1424\n",
        "2015-01-04 17:00:00"
       ]
      }
     ]
    },
    {
     "cell_type": "code",
     "collapsed": false,
     "input": [
      "print nextdate\n",
      "plt.plot(dates, dollars)\n",
      "plt.plot(dates, euros)\n",
      "\n",
      "plt.show()"
     ],
     "language": "python",
     "metadata": {},
     "outputs": [
      {
       "output_type": "stream",
       "stream": "stdout",
       "text": [
        "2015-01-08 12:56:00\n"
       ]
      },
      {
       "metadata": {},
       "output_type": "display_data",
       "png": "[encoded data removed]",
       "text": [
        "<matplotlib.figure.Figure at 0x10bcae3d0>"
       ]
      }
     ],
     "prompt_number": 86
    },
    {
     "cell_type": "code",
     "collapsed": false,
     "input": [
      "# print len(dates), len(prices)\n",
      "# plt.plot(dates, prices)\n",
      "\n",
      "# plt.show()"
     ],
     "language": "python",
     "metadata": {},
     "outputs": [],
     "prompt_number": 604
    },
    {
     "cell_type": "code",
     "collapsed": false,
     "input": [
      "print nextdate"
     ],
     "language": "python",
     "metadata": {},
     "outputs": [
      {
       "output_type": "stream",
       "stream": "stdout",
       "text": [
        "2015-01-13 23:49:00\n"
       ]
      }
     ],
     "prompt_number": 61
    },
    {
     "cell_type": "raw",
     "metadata": {},
     "source": [
      "print nextdate"
     ]
    },
    {
     "cell_type": "code",
     "collapsed": false,
     "input": [
      "d = datetime.datetime(2015,1,13,17,2,0)\n",
      "# print s.get_money_as_usd(d)\n",
      "s.convert_all_to_USD(d)\n",
      "s.print_balances()"
     ],
     "language": "python",
     "metadata": {},
     "outputs": [
      {
       "output_type": "stream",
       "stream": "stdout",
       "text": [
        "USD: 21982.0415539\n",
        "GBP: 0\n",
        "EURO: 0.0\n"
       ]
      }
     ],
     "prompt_number": 72
    },
    {
     "cell_type": "code",
     "collapsed": false,
     "input": [],
     "language": "python",
     "metadata": {},
     "outputs": [],
     "prompt_number": 262
    },
    {
     "cell_type": "code",
     "collapsed": false,
     "input": [],
     "language": "python",
     "metadata": {},
     "outputs": []
    }
   ],
   "metadata": {}
  }
 ]
}