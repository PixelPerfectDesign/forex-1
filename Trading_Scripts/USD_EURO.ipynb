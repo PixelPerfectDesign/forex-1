{
 "metadata": {
  "name": "",
  "signature": "sha256:b6acf69dd497c80667cf2974a91c02ad22aa9f90cfe96835ead9f03ed691caf8"
 },
 "nbformat": 3,
 "nbformat_minor": 0,
 "worksheets": [
  {
   "cells": [
    {
     "cell_type": "code",
     "collapsed": false,
     "input": [
      "import matplotlib.pyplot as plt\n",
      "import datetime\n",
      "%matplotlib inline\n",
      "import random\n",
      "import ast\n",
      "import time\n",
      "import sqlalchemy\n",
      "from sqlalchemy import *\n",
      "from sqlalchemy import event\n",
      "import sqlite3\n",
      "from sqlalchemy.ext.declarative import declarative_base\n",
      "from sqlalchemy.orm import *\n",
      "import urllib2\n",
      "import urllib\n",
      "import json\n",
      "import glob\n",
      "import pprint\n",
      "import dateutil.parser\n",
      "import pprint\n",
      "import re\n",
      "from sklearn import linear_model, datasets\n",
      "import time\n",
      "from sklearn.naive_bayes import GaussianNB\n",
      "import nltk\n",
      "from collections import defaultdict\n",
      "from sklearn import svm\n",
      "pp = pprint.PrettyPrinter(indent=4)"
     ],
     "language": "python",
     "metadata": {},
     "outputs": [],
     "prompt_number": 1
    },
    {
     "cell_type": "code",
     "collapsed": false,
     "input": [
      "def mean(l):\n",
      "    return sum(l)/float(len(l))"
     ],
     "language": "python",
     "metadata": {},
     "outputs": [],
     "prompt_number": 2
    },
    {
     "cell_type": "code",
     "collapsed": false,
     "input": [
      "dates=[]; times=[]; asks=[]\n",
      "alls = {}\n",
      "tree = lambda: defaultdict(tree)\n",
      "dct = tree()\n",
      "for fl in glob.glob('Forex_Data/EURO_USD/*/*.csv'):\n",
      "    print fl\n",
      "    for line in open(fl):\n",
      "        line = line.strip('\\n').split(' ')\n",
      "        date = line[0]\n",
      "        rest  = line[1].split(';')\n",
      "        time = rest[0]\n",
      "        ask = rest[1]\n",
      "    #     print int(date[:4]), int(date[4:6]), int(date[6:8]), int(time[:2]), int(time[2:4]), int(time[4:])\n",
      "        d = datetime.datetime(int(date[:4]), int(date[4:6]), int(date[6:8]), int(time[:2]), int(time[2:4]), int(time[4:]))\n",
      "    #     print d\n",
      "    #     dates.append( date[:4]+\" \"+date[4:6]*3600*24*30+\" \"+date[6:8]*3600*24+\" \"+time[0:2]*3600+\" \"+time[2:4]*60 )\n",
      "        dates.append(d)\n",
      "        times.append(time)\n",
      "        asks.append(ask)\n",
      "        dct[d.year][d.month][d.day][d.hour][d.minute] = ask\n",
      "        alls[d] = ask"
     ],
     "language": "python",
     "metadata": {},
     "outputs": [
      {
       "output_type": "stream",
       "stream": "stdout",
       "text": [
        "Forex_Data/EURO_USD/HISTDATA_COM_ASCII_EURUSD_M12004/DAT_ASCII_EURUSD_M1_2004.csv\n",
        "Forex_Data/EURO_USD/HISTDATA_COM_ASCII_EURUSD_M12005/DAT_ASCII_EURUSD_M1_2005.csv"
       ]
      },
      {
       "output_type": "stream",
       "stream": "stdout",
       "text": [
        "\n",
        "Forex_Data/EURO_USD/HISTDATA_COM_ASCII_EURUSD_M12006/data.csv"
       ]
      },
      {
       "output_type": "stream",
       "stream": "stdout",
       "text": [
        "\n",
        "Forex_Data/EURO_USD/HISTDATA_COM_ASCII_EURUSD_M12007/data.csv"
       ]
      },
      {
       "output_type": "stream",
       "stream": "stdout",
       "text": [
        "\n",
        "Forex_Data/EURO_USD/HISTDATA_COM_ASCII_EURUSD_M12008/data.csv"
       ]
      },
      {
       "output_type": "stream",
       "stream": "stdout",
       "text": [
        "\n",
        "Forex_Data/EURO_USD/HISTDATA_COM_ASCII_EURUSD_M12009/DAT_ASCII_EURUSD_M1_2009.csv"
       ]
      },
      {
       "output_type": "stream",
       "stream": "stdout",
       "text": [
        "\n",
        "Forex_Data/EURO_USD/HISTDATA_COM_ASCII_EURUSD_M12010/DAT_ASCII_EURUSD_M1_2010.csv"
       ]
      },
      {
       "output_type": "stream",
       "stream": "stdout",
       "text": [
        "\n",
        "Forex_Data/EURO_USD/HISTDATA_COM_ASCII_EURUSD_M12011/DAT_ASCII_EURUSD_M1_2011.csv"
       ]
      },
      {
       "output_type": "stream",
       "stream": "stdout",
       "text": [
        "\n",
        "Forex_Data/EURO_USD/HISTDATA_COM_ASCII_EURUSD_M12012/DAT_ASCII_EURUSD_M1_2012.csv"
       ]
      },
      {
       "output_type": "stream",
       "stream": "stdout",
       "text": [
        "\n",
        "Forex_Data/EURO_USD/HISTDATA_COM_ASCII_EURUSD_M12013/DAT_ASCII_EURUSD_M1_2013.csv"
       ]
      },
      {
       "output_type": "stream",
       "stream": "stdout",
       "text": [
        "\n",
        "Forex_Data/EURO_USD/HISTDATA_COM_ASCII_EURUSD_M12014/DAT_ASCII_EURUSD_M1_2014.csv"
       ]
      },
      {
       "output_type": "stream",
       "stream": "stdout",
       "text": [
        "\n",
        "Forex_Data/EURO_USD/HISTDATA_COM_ASCII_EURUSD_M1201501/DAT_ASCII_EURUSD_M1_201501.csv"
       ]
      },
      {
       "output_type": "stream",
       "stream": "stdout",
       "text": [
        "\n",
        "Forex_Data/EURO_USD/HISTDATA_COM_ASCII_EURUSD_M1201502/DAT_ASCII_EURUSD_M1_201502.csv"
       ]
      },
      {
       "output_type": "stream",
       "stream": "stdout",
       "text": [
        "\n"
       ]
      }
     ],
     "prompt_number": 3
    },
    {
     "cell_type": "code",
     "collapsed": false,
     "input": [
      "plt.plot(dates,asks)\n",
      "plt.show()"
     ],
     "language": "python",
     "metadata": {},
     "outputs": [
      {
       "metadata": {},
       "output_type": "display_data",
       "png": "[encoded data removed]",
       "text": [
        "<matplotlib.figure.Figure at 0x10403e150>"
       ]
      }
     ],
     "prompt_number": 4
    },
    {
     "cell_type": "code",
     "collapsed": false,
     "input": [
      "sortedKeys = sorted(alls.keys())\n",
      "cache = {}\n",
      "count = 0\n",
      "for k in sortedKeys:\n",
      "    cache[k] = count\n",
      "    count += 1"
     ],
     "language": "python",
     "metadata": {},
     "outputs": [],
     "prompt_number": 5
    },
    {
     "cell_type": "code",
     "collapsed": false,
     "input": [
      "def moving_average(delta, data, date):\n",
      "#     date = date - delta\n",
      "    kys = sortedKeys\n",
      "#     print kys\n",
      "    i1, i2 = 1, 1\n",
      "#     print delta.hours\n",
      "    try:\n",
      "        d1 = closest_date(date)\n",
      "        i1 = cache[d1]\n",
      "    except:\n",
      "        count = 0\n",
      "        for k in kys:\n",
      "    #       print k\n",
      "            if k > date:\n",
      "                i1 = count\n",
      "                break   \n",
      "        count += 1\n",
      "    try:\n",
      "        d2 = closest_date(date - delta)\n",
      "        i2 = cache[d2]\n",
      "    except:\n",
      "        count = 0\n",
      "        for k in kys:\n",
      "    #       print k\n",
      "            if k > date - delta:\n",
      "                i2 = count\n",
      "                break   \n",
      "            count += 1#     print d1, d2\n",
      "    points = []\n",
      "#     print i1, i2\n",
      "    #compute avg approx for speed\n",
      "    datapoints = 5\n",
      "    ptz = []\n",
      "    if abs(i1-i2)/5 == 0:\n",
      "        return mean([float(alls[kys[i1]]), float(alls[kys[i2]])])\n",
      "    for z in range(i2, i1, abs(i1-i2)/5):\n",
      "        ptz.append(float(alls[kys[z]]))\n",
      "    return mean(ptz)\n",
      "    for z in kys[i2:i1]:\n",
      "        if z < date:\n",
      "            points.append(float(alls[z]))\n",
      "    return mean(points)"
     ],
     "language": "python",
     "metadata": {},
     "outputs": [],
     "prompt_number": 34
    },
    {
     "cell_type": "raw",
     "metadata": {},
     "source": []
    },
    {
     "cell_type": "code",
     "collapsed": false,
     "input": [
      "def get_past_averages(date):\n",
      "    print date\n",
      "    vec = []\n",
      "    for back in [1/24.0,.25,1,3,7,31,90,180,365]:\n",
      "        dlt = datetime.timedelta(hours=back * 24)\n",
      "        vec.append(moving_average(dlt, dct, date))\n",
      "    return vec"
     ],
     "language": "python",
     "metadata": {},
     "outputs": [],
     "prompt_number": 22
    },
    {
     "cell_type": "code",
     "collapsed": false,
     "input": [
      "def closest_datapoint(d):\n",
      "    closest =  dct[d.year][d.month][d.day][d.hour][d.minute]\n",
      "    if str(type(closest)) != \"<type 'collections.defaultdict'>\":\n",
      "        return closest\n",
      "    else:\n",
      "        return closest_datapoint(d + datetime.timedelta(seconds=60))\n"
     ],
     "language": "python",
     "metadata": {},
     "outputs": [],
     "prompt_number": 23
    },
    {
     "cell_type": "code",
     "collapsed": false,
     "input": [
      "def closest_date(d):\n",
      "    closest =  dct[d.year][d.month][d.day][d.hour][d.minute]\n",
      "    if str(type(closest)) != \"<type 'collections.defaultdict'>\":\n",
      "        return datetime.datetime(d.year,d.month,d.day,d.hour,d.minute)\n",
      "    else:\n",
      "        return closest_date(d + datetime.timedelta(seconds=120))\n"
     ],
     "language": "python",
     "metadata": {},
     "outputs": [],
     "prompt_number": 24
    },
    {
     "cell_type": "code",
     "collapsed": false,
     "input": [
      "print len(alls.keys())"
     ],
     "language": "python",
     "metadata": {},
     "outputs": [
      {
       "output_type": "stream",
       "stream": "stdout",
       "text": [
        "3826012\n"
       ]
      }
     ],
     "prompt_number": 25
    },
    {
     "cell_type": "code",
     "collapsed": false,
     "input": [
      "dp = datetime.datetime(2014,1,1,1,1)\n",
      "# srt = sorted(dct.keys(), key = lambda x: x)\n",
      "print get_past_averages(dp)"
     ],
     "language": "python",
     "metadata": {},
     "outputs": [
      {
       "output_type": "stream",
       "stream": "stdout",
       "text": [
        "2014-01-01 01:01:00\n",
        "3407716 3407716\n",
        "3407716 3407716\n",
        "3407716 3406818\n",
        "3407716 3404915\n",
        "3407716 3402820\n",
        "3407716"
       ]
      },
      {
       "output_type": "stream",
       "stream": "stdout",
       "text": [
        " 3378542\n",
        "3407716 3318826\n",
        "3407716 3227037\n",
        "3407716 3037105\n",
        "[1.37592, 1.37592, 1.3772583333333335, 1.377481666666667, 1.374765, 1.3707366666666667, 1.361822, 1.3422933333333333, 1.3297033333333335]\n"
       ]
      }
     ],
     "prompt_number": 28
    },
    {
     "cell_type": "code",
     "collapsed": false,
     "input": [
      "trainfile = open('usd_eur_trainingdata.csv', 'a')\n",
      "testfile = open('usd_eur_testingdata.csv', 'a')\n",
      "\n",
      "train_size = 1000\n",
      "training, testing = [], []\n",
      "keys = alls.keys()\n",
      "random.shuffle(keys)\n",
      "\n",
      "for i in range(train_size):\n",
      "    try:\n",
      "        diff30 = float(closest_datapoint(keys[i] + datetime.timedelta(hours=.5))) - float(closest_datapoint(keys[i]))\n",
      "        diff60 = float(closest_datapoint(keys[i] + datetime.timedelta(hours=1))) - float(closest_datapoint(keys[i]))\n",
      "        diff120 = float(closest_datapoint(keys[i] + datetime.timedelta(hours=2))) - float(closest_datapoint(keys[i]))\n",
      "        diffs = [diff30, diff60, diff120]\n",
      "        \n",
      "        avgs = get_past_averages(keys[i])\n",
      "        training.append([avgs,  diff])\n",
      "        if random.randint(1,10) == 7:\n",
      "            fl = testfile\n",
      "        else:\n",
      "            fl = trainfile\n",
      "        for a in avgs:\n",
      "            fl.write(str(a) + \",\")\n",
      "        for diff in diffs[:-1]:\n",
      "            fl.write(str(diff) + \",\")\n",
      "        fl.write(str(diffs[-1]) + \"\\n\")\n",
      "        fl.flush()\n",
      "    except:\n",
      "        pass\n",
      "\n",
      "# for i in range(train_size/5):\n",
      "#     diff = float(closest_datapoint(keys[train_size + i] + datetime.timedelta(hours=.5))) - float(closest_datapoint(keys[train_size + i]))\n",
      "#     avgs = get_past_averages(keys[train_size + i])\n",
      "#     print diff\n",
      "#     testing.append([avgs,  diff])\n",
      "#     for a in avgs:\n",
      "#         testfile.write(str(a) + \",\")\n",
      "#     testfile.write(str(diff) + \"\\n\")\n",
      "#     testfile.flush()\n",
      "\n",
      "# print training\n",
      "# print testing"
     ],
     "language": "python",
     "metadata": {},
     "outputs": [
      {
       "output_type": "stream",
       "stream": "stdout",
       "text": [
        "2008-04-29 19:24:00\n",
        "2004-12-22 04:17:00"
       ]
      },
      {
       "output_type": "stream",
       "stream": "stdout",
       "text": [
        "\n",
        "2007-08-31 11:35:00\n",
        "2004-03-15 16:16:00\n",
        "2005-04-19 00:54:00\n",
        "2007-07-25 01:20:00"
       ]
      },
      {
       "output_type": "stream",
       "stream": "stdout",
       "text": [
        "\n",
        "2014-05-22 01:16:00\n",
        "2005-07-11 08:01:00"
       ]
      },
      {
       "output_type": "stream",
       "stream": "stdout",
       "text": [
        "\n",
        "2010-03-30 03:25:00\n",
        "2013-05-09 21:08:00"
       ]
      },
      {
       "output_type": "stream",
       "stream": "stdout",
       "text": [
        "\n",
        "2008-02-26 07:04:00"
       ]
      },
      {
       "output_type": "stream",
       "stream": "stdout",
       "text": [
        "\n",
        "2008-08-25 03:31:00"
       ]
      },
      {
       "output_type": "stream",
       "stream": "stdout",
       "text": [
        "\n",
        "2013-11-07 22:50:00\n",
        "2012-06-25 02:39:00"
       ]
      },
      {
       "output_type": "stream",
       "stream": "stdout",
       "text": [
        "\n",
        "2008-02-11 01:01:00\n",
        "2009-11-05 22:55:00\n",
        "2005-04-28 19:36:00"
       ]
      },
      {
       "output_type": "stream",
       "stream": "stdout",
       "text": [
        "\n",
        "2009-07-19 21:26:00\n",
        "2004-12-07 17:48:00\n",
        "2005-04-13 10:14:00\n",
        "2004-10-08 12:56:00"
       ]
      },
      {
       "output_type": "stream",
       "stream": "stdout",
       "text": [
        "\n",
        "2009-05-15 08:56:00"
       ]
      },
      {
       "output_type": "stream",
       "stream": "stdout",
       "text": [
        "\n",
        "2007-08-14 14:00:00"
       ]
      },
      {
       "output_type": "stream",
       "stream": "stdout",
       "text": [
        "\n",
        "2011-03-31 07:15:00"
       ]
      },
      {
       "output_type": "stream",
       "stream": "stdout",
       "text": [
        "\n",
        "2005-08-04 01:05:00"
       ]
      },
      {
       "output_type": "stream",
       "stream": "stdout",
       "text": [
        "\n",
        "2004-12-22 11:44:00"
       ]
      },
      {
       "output_type": "stream",
       "stream": "stdout",
       "text": [
        "\n",
        "2014-02-13 04:14:00\n",
        "2012-09-04 03:26:00"
       ]
      },
      {
       "output_type": "stream",
       "stream": "stdout",
       "text": [
        "\n",
        "2005-08-14 19:36:00"
       ]
      },
      {
       "output_type": "stream",
       "stream": "stdout",
       "text": [
        "\n",
        "2010-11-18 12:58:00\n",
        "2009-02-19 01:58:00\n",
        "2007-10-30 13:20:00"
       ]
      },
      {
       "output_type": "stream",
       "stream": "stdout",
       "text": [
        "\n",
        "2009-01-15 03:58:00\n",
        "2007-12-27 11:30:00"
       ]
      },
      {
       "output_type": "stream",
       "stream": "stdout",
       "text": [
        "\n",
        "2012-04-13 12:51:00"
       ]
      },
      {
       "output_type": "stream",
       "stream": "stdout",
       "text": [
        "\n",
        "2014-05-26 03:01:00\n",
        "2005-10-13 08:32:00\n",
        "2005-08-11 17:31:00\n",
        "2008-09-17 20:16:00"
       ]
      },
      {
       "output_type": "stream",
       "stream": "stdout",
       "text": [
        "\n",
        "2009-06-11 02:29:00"
       ]
      },
      {
       "output_type": "stream",
       "stream": "stdout",
       "text": [
        "\n",
        "2011-06-27 00:43:00"
       ]
      },
      {
       "output_type": "stream",
       "stream": "stdout",
       "text": [
        "\n",
        "2005-07-21 07:24:00\n",
        "2012-10-01 07:44:00\n",
        "2012-01-11 10:14:00\n",
        "2004-08-27 04:46:00\n",
        "2006-05-18 05:10:00"
       ]
      },
      {
       "output_type": "stream",
       "stream": "stdout",
       "text": [
        "\n",
        "2012-11-15 00:40:00"
       ]
      },
      {
       "output_type": "stream",
       "stream": "stdout",
       "text": [
        "\n",
        "2010-03-18 03:55:00"
       ]
      },
      {
       "output_type": "stream",
       "stream": "stdout",
       "text": [
        "\n",
        "2007-09-20 05:51:00"
       ]
      },
      {
       "output_type": "stream",
       "stream": "stdout",
       "text": [
        "\n",
        "2013-05-24 13:26:00"
       ]
      },
      {
       "output_type": "stream",
       "stream": "stdout",
       "text": [
        "\n",
        "2005-01-31 18:54:00\n",
        "2011-05-05 07:52:00"
       ]
      },
      {
       "output_type": "stream",
       "stream": "stdout",
       "text": [
        "\n",
        "2014-01-05 21:24:00"
       ]
      },
      {
       "output_type": "stream",
       "stream": "stdout",
       "text": [
        "\n",
        "2010-10-25 12:56:00\n",
        "2010-12-16 15:19:00\n",
        "2009-06-26 11:46:00\n",
        "2005-11-23 20:34:00\n",
        "2014-02-17 18:16:00"
       ]
      },
      {
       "output_type": "stream",
       "stream": "stdout",
       "text": [
        "\n",
        "2006-05-15 08:05:00"
       ]
      },
      {
       "output_type": "stream",
       "stream": "stdout",
       "text": [
        "\n",
        "2012-10-12 04:11:00\n",
        "2010-03-28 19:18:00"
       ]
      },
      {
       "output_type": "stream",
       "stream": "stdout",
       "text": [
        "\n",
        "2008-03-26 15:08:00\n",
        "2010-03-09 03:13:00\n",
        "2012-04-12 20:02:00"
       ]
      },
      {
       "output_type": "stream",
       "stream": "stdout",
       "text": [
        "\n",
        "2012-04-06 00:34:00"
       ]
      },
      {
       "output_type": "stream",
       "stream": "stdout",
       "text": [
        "\n",
        "2009-01-30 04:00:00"
       ]
      },
      {
       "output_type": "stream",
       "stream": "stdout",
       "text": [
        "\n",
        "2005-08-03 05:35:00"
       ]
      },
      {
       "output_type": "stream",
       "stream": "stdout",
       "text": [
        "\n",
        "2012-03-30 12:49:00\n",
        "2008-02-07 19:04:00"
       ]
      },
      {
       "output_type": "stream",
       "stream": "stdout",
       "text": [
        "\n",
        "2007-09-19 06:45:00"
       ]
      },
      {
       "output_type": "stream",
       "stream": "stdout",
       "text": [
        "\n",
        "2009-03-17 20:09:00\n",
        "2014-01-19 19:20:00\n",
        "2008-09-01 00:23:00\n",
        "2014-05-05 05:30:00\n",
        "2004-05-24 00:59:00\n",
        "2013-11-20 13:38:00\n",
        "2004-09-01 06:36:00\n",
        "2014-02-11 11:49:00\n",
        "2008-07-01 03:34:00"
       ]
      },
      {
       "output_type": "stream",
       "stream": "stdout",
       "text": [
        "\n",
        "2005-06-02 07:38:00"
       ]
      },
      {
       "output_type": "stream",
       "stream": "stdout",
       "text": [
        "\n",
        "2011-02-13 18:07:00"
       ]
      },
      {
       "output_type": "stream",
       "stream": "stdout",
       "text": [
        "\n",
        "2007-04-09 03:56:00\n",
        "2009-12-21 08:01:00"
       ]
      },
      {
       "output_type": "stream",
       "stream": "stdout",
       "text": [
        "\n",
        "2007-12-17 22:10:00\n",
        "2015-01-07 06:05:00"
       ]
      },
      {
       "output_type": "stream",
       "stream": "stdout",
       "text": [
        "\n",
        "2009-05-08 06:15:00\n",
        "2009-10-14 18:00:00"
       ]
      },
      {
       "output_type": "stream",
       "stream": "stdout",
       "text": [
        "\n",
        "2008-10-21 13:42:00"
       ]
      },
      {
       "output_type": "stream",
       "stream": "stdout",
       "text": [
        "\n",
        "2004-07-02 01:01:00\n",
        "2009-06-05 11:30:00"
       ]
      },
      {
       "output_type": "stream",
       "stream": "stdout",
       "text": [
        "\n",
        "2009-03-27 03:55:00\n",
        "2010-03-18 07:08:00"
       ]
      },
      {
       "output_type": "stream",
       "stream": "stdout",
       "text": [
        "\n",
        "2005-11-28 08:52:00"
       ]
      },
      {
       "output_type": "stream",
       "stream": "stdout",
       "text": [
        "\n",
        "2011-05-27 06:20:00\n",
        "2013-05-09 08:04:00"
       ]
      },
      {
       "output_type": "stream",
       "stream": "stdout",
       "text": [
        "\n",
        "2007-09-13 23:12:00"
       ]
      },
      {
       "output_type": "stream",
       "stream": "stdout",
       "text": [
        "\n",
        "2011-03-10 14:04:00"
       ]
      },
      {
       "output_type": "stream",
       "stream": "stdout",
       "text": [
        "\n",
        "2011-11-17 16:37:00\n",
        "2007-10-30 09:45:00\n",
        "2009-10-05 10:45:00\n",
        "2004-05-24 07:53:00\n",
        "2012-02-10 01:18:00"
       ]
      },
      {
       "output_type": "stream",
       "stream": "stdout",
       "text": [
        "\n",
        "2013-11-24 21:45:00"
       ]
      },
      {
       "output_type": "stream",
       "stream": "stdout",
       "text": [
        "\n",
        "2013-02-11 12:04:00\n",
        "2012-03-26 17:12:00\n",
        "2011-01-04 20:36:00"
       ]
      },
      {
       "output_type": "stream",
       "stream": "stdout",
       "text": [
        "\n",
        "2010-10-06 05:56:00\n",
        "2006-10-23 02:55:00\n",
        "2014-11-26 23:06:00\n",
        "2013-02-08 00:26:00"
       ]
      },
      {
       "output_type": "stream",
       "stream": "stdout",
       "text": [
        "\n",
        "2011-12-29 02:09:00"
       ]
      },
      {
       "output_type": "stream",
       "stream": "stdout",
       "text": [
        "\n",
        "2010-01-18 20:20:00"
       ]
      },
      {
       "output_type": "stream",
       "stream": "stdout",
       "text": [
        "\n",
        "2005-07-13 09:47:00"
       ]
      },
      {
       "output_type": "stream",
       "stream": "stdout",
       "text": [
        "\n",
        "2007-06-13 15:04:00\n",
        "2009-05-20 06:20:00\n",
        "2009-06-15 03:35:00\n",
        "2012-03-26 10:27:00\n",
        "2004-10-12 00:14:00\n",
        "2007-03-25 17:17:00"
       ]
      },
      {
       "output_type": "stream",
       "stream": "stdout",
       "text": [
        "\n",
        "2006-09-20 14:05:00\n",
        "2010-05-14 03:19:00\n",
        "2008-07-28 04:41:00"
       ]
      },
      {
       "output_type": "stream",
       "stream": "stdout",
       "text": [
        "\n",
        "2013-08-26 08:12:00\n",
        "2011-01-30 21:41:00\n",
        "2010-07-19 08:04:00\n",
        "2011-05-26 03:16:00\n",
        "2013-11-20 18:39:00"
       ]
      },
      {
       "output_type": "stream",
       "stream": "stdout",
       "text": [
        "\n",
        "2005-12-07 20:58:00"
       ]
      },
      {
       "output_type": "stream",
       "stream": "stdout",
       "text": [
        "\n",
        "2008-02-26 13:20:00"
       ]
      },
      {
       "output_type": "stream",
       "stream": "stdout",
       "text": [
        "\n",
        "2013-04-09 02:07:00\n",
        "2006-10-26 07:13:00"
       ]
      },
      {
       "output_type": "stream",
       "stream": "stdout",
       "text": [
        "\n",
        "2004-06-02 12:30:00"
       ]
      },
      {
       "output_type": "stream",
       "stream": "stdout",
       "text": [
        "\n",
        "2013-10-16 00:14:00\n",
        "2005-01-19 03:34:00\n",
        "2009-02-04 22:09:00\n",
        "2010-02-14 19:49:00"
       ]
      },
      {
       "output_type": "stream",
       "stream": "stdout",
       "text": [
        "\n",
        "2010-06-16 08:42:00\n",
        "2006-10-12 04:13:00\n",
        "2009-03-31 14:19:00"
       ]
      },
      {
       "output_type": "stream",
       "stream": "stdout",
       "text": [
        "\n",
        "2010-10-12 20:17:00\n",
        "2006-12-12 08:49:00\n",
        "2013-12-06 04:12:00\n",
        "2013-03-31 18:56:00"
       ]
      },
      {
       "output_type": "stream",
       "stream": "stdout",
       "text": [
        "\n",
        "2012-09-25 20:31:00\n",
        "2014-10-08 16:15:00\n",
        "2009-10-12 16:47:00\n",
        "2013-04-10 02:16:00\n",
        "2006-08-31 10:39:00\n",
        "2005-02-08 13:05:00\n",
        "2010-06-10 18:16:00\n",
        "2007-01-09 20:22:00"
       ]
      },
      {
       "output_type": "stream",
       "stream": "stdout",
       "text": [
        "\n",
        "2007-05-02 06:05:00\n",
        "2012-04-19 09:55:00\n",
        "2011-05-10 22:38:00\n",
        "2006-10-18 09:24:00\n",
        "2011-06-13 04:40:00\n",
        "2008-02-27 00:25:00\n",
        "2006-07-04 18:16:00\n",
        "2012-09-28 05:54:00\n",
        "2012-03-14 05:30:00"
       ]
      },
      {
       "output_type": "stream",
       "stream": "stdout",
       "text": [
        "\n",
        "2008-10-08 02:21:00\n",
        "2011-06-20 13:57:00\n",
        "2007-12-27 23:12:00\n",
        "2009-08-11 08:42:00"
       ]
      },
      {
       "output_type": "stream",
       "stream": "stdout",
       "text": [
        "\n",
        "2004-09-20 11:45:00\n",
        "2005-11-23 01:40:00\n",
        "2011-03-08 22:55:00\n",
        "2010-09-06 02:46:00\n",
        "2006-10-16 01:33:00\n",
        "2011-07-07 06:37:00\n",
        "2013-10-31 19:04:00"
       ]
      },
      {
       "output_type": "stream",
       "stream": "stdout",
       "text": [
        "\n",
        "2009-07-01 12:58:00"
       ]
      },
      {
       "output_type": "stream",
       "stream": "stdout",
       "text": [
        "\n",
        "2004-03-30 07:36:00\n",
        "2013-06-05 06:18:00"
       ]
      },
      {
       "output_type": "stream",
       "stream": "stdout",
       "text": [
        "\n",
        "2013-02-10 21:01:00\n",
        "2007-09-28 00:30:00\n",
        "2007-12-21 12:00:00"
       ]
      },
      {
       "output_type": "stream",
       "stream": "stdout",
       "text": [
        "\n",
        "2014-02-19 11:28:00\n",
        "2008-02-13 08:51:00\n",
        "2005-11-29 16:54:00\n",
        "2012-01-25 11:36:00\n",
        "2011-07-08 11:28:00\n",
        "2009-03-25 11:02:00\n",
        "2014-07-21 15:41:00\n",
        "2014-08-11 22:03:00\n",
        "2008-02-05 08:13:00"
       ]
      },
      {
       "output_type": "stream",
       "stream": "stdout",
       "text": [
        "\n",
        "2008-10-15 10:10:00"
       ]
      },
      {
       "output_type": "stream",
       "stream": "stdout",
       "text": [
        "\n",
        "2013-09-23 20:43:00\n",
        "2007-03-29 07:44:00"
       ]
      },
      {
       "output_type": "stream",
       "stream": "stdout",
       "text": [
        "\n",
        "2009-04-23 08:10:00"
       ]
      },
      {
       "output_type": "stream",
       "stream": "stdout",
       "text": [
        "\n",
        "2008-12-22 01:35:00"
       ]
      },
      {
       "output_type": "stream",
       "stream": "stdout",
       "text": [
        "\n",
        "2011-08-02 13:05:00\n",
        "2013-03-21 09:49:00\n",
        "2006-08-01 03:41:00\n",
        "2015-01-16 12:52:00"
       ]
      },
      {
       "output_type": "stream",
       "stream": "stdout",
       "text": [
        "\n",
        "2004-10-19 03:59:00\n",
        "2010-01-12 22:02:00"
       ]
      },
      {
       "output_type": "stream",
       "stream": "stdout",
       "text": [
        "\n",
        "2007-04-05 10:12:00\n",
        "2014-04-29 02:11:00\n",
        "2010-10-12 12:52:00"
       ]
      },
      {
       "output_type": "stream",
       "stream": "stdout",
       "text": [
        "\n",
        "2006-07-28 06:53:00\n",
        "2008-05-14 18:38:00"
       ]
      },
      {
       "output_type": "stream",
       "stream": "stdout",
       "text": [
        "\n",
        "2014-07-28 02:45:00"
       ]
      },
      {
       "output_type": "stream",
       "stream": "stdout",
       "text": [
        "\n",
        "2014-11-10 07:07:00\n",
        "2010-09-08 16:05:00\n",
        "2005-02-09 05:17:00\n",
        "2011-03-11 06:44:00\n",
        "2012-04-09 15:04:00"
       ]
      },
      {
       "output_type": "stream",
       "stream": "stdout",
       "text": [
        "\n",
        "2010-02-19 03:14:00\n",
        "2007-09-26 07:11:00"
       ]
      },
      {
       "output_type": "stream",
       "stream": "stdout",
       "text": [
        "\n",
        "2008-10-01 22:48:00\n",
        "2012-04-18 07:53:00"
       ]
      },
      {
       "output_type": "stream",
       "stream": "stdout",
       "text": [
        "\n",
        "2015-01-30 10:47:00\n",
        "2009-02-16 05:58:00\n",
        "2005-09-22 19:42:00\n",
        "2011-05-04 15:50:00"
       ]
      },
      {
       "output_type": "stream",
       "stream": "stdout",
       "text": [
        "\n",
        "2012-10-03 20:38:00\n",
        "2012-05-24 09:19:00"
       ]
      },
      {
       "output_type": "stream",
       "stream": "stdout",
       "text": [
        "\n",
        "2006-04-06 23:36:00\n",
        "2006-06-26 20:56:00"
       ]
      },
      {
       "output_type": "stream",
       "stream": "stdout",
       "text": [
        "\n",
        "2009-09-23 23:55:00"
       ]
      },
      {
       "output_type": "stream",
       "stream": "stdout",
       "text": [
        "\n",
        "2006-03-02 04:16:00"
       ]
      },
      {
       "output_type": "stream",
       "stream": "stdout",
       "text": [
        "\n",
        "2010-03-03 11:11:00"
       ]
      },
      {
       "output_type": "stream",
       "stream": "stdout",
       "text": [
        "\n",
        "2008-12-16 10:41:00\n",
        "2004-11-26 04:53:00\n",
        "2012-08-30 23:02:00"
       ]
      },
      {
       "output_type": "stream",
       "stream": "stdout",
       "text": [
        "\n",
        "2009-08-03 03:41:00"
       ]
      },
      {
       "output_type": "stream",
       "stream": "stdout",
       "text": [
        "\n",
        "2012-07-31 05:55:00\n",
        "2013-10-03 10:55:00"
       ]
      },
      {
       "output_type": "stream",
       "stream": "stdout",
       "text": [
        "\n",
        "2005-08-25 09:49:00\n",
        "2011-05-30 04:54:00\n",
        "2014-02-27 16:23:00\n",
        "2009-09-23 20:59:00\n",
        "2012-11-13 18:36:00"
       ]
      },
      {
       "output_type": "stream",
       "stream": "stdout",
       "text": [
        "\n",
        "2011-07-13 04:32:00\n",
        "2010-05-13 17:20:00\n",
        "2009-10-29 10:15:00"
       ]
      },
      {
       "output_type": "stream",
       "stream": "stdout",
       "text": [
        "\n",
        "2010-06-01 02:14:00\n",
        "2004-01-27 10:40:00"
       ]
      },
      {
       "output_type": "stream",
       "stream": "stdout",
       "text": [
        "\n",
        "2005-02-18 08:20:00"
       ]
      },
      {
       "output_type": "stream",
       "stream": "stdout",
       "text": [
        "\n",
        "2008-11-18 19:47:00\n",
        "2010-08-08 19:24:00\n",
        "2008-06-06 07:44:00\n",
        "2011-01-28 01:57:00"
       ]
      },
      {
       "output_type": "stream",
       "stream": "stdout",
       "text": [
        "\n",
        "2007-10-24 15:51:00"
       ]
      },
      {
       "output_type": "stream",
       "stream": "stdout",
       "text": [
        "\n",
        "2014-05-05 14:43:00\n",
        "2009-06-14 20:16:00\n",
        "2009-01-23 05:25:00\n",
        "2007-08-27 12:53:00"
       ]
      },
      {
       "output_type": "stream",
       "stream": "stdout",
       "text": [
        "\n",
        "2011-01-09 17:31:00\n",
        "2013-07-19 14:13:00\n",
        "2013-04-23 23:42:00\n",
        "2006-02-13 02:42:00\n",
        "2011-11-02 14:03:00\n",
        "2010-10-19 22:05:00\n",
        "2014-06-15 20:07:00\n",
        "2011-07-27 02:14:00\n",
        "2005-12-21 11:55:00\n",
        "2011-04-27 08:34:00\n",
        "2007-06-28 22:03:00\n",
        "2008-10-13 06:02:00"
       ]
      },
      {
       "output_type": "stream",
       "stream": "stdout",
       "text": [
        "\n",
        "2008-04-09 18:57:00\n",
        "2004-03-16 01:25:00"
       ]
      },
      {
       "output_type": "stream",
       "stream": "stdout",
       "text": [
        "\n",
        "2012-03-16 08:23:00"
       ]
      },
      {
       "output_type": "stream",
       "stream": "stdout",
       "text": [
        "\n",
        "2012-07-08 22:57:00"
       ]
      },
      {
       "output_type": "stream",
       "stream": "stdout",
       "text": [
        "\n",
        "2010-05-21 08:20:00\n",
        "2012-12-03 14:05:00"
       ]
      },
      {
       "output_type": "stream",
       "stream": "stdout",
       "text": [
        "\n",
        "2008-07-02 05:58:00\n",
        "2013-04-05 04:38:00\n",
        "2012-03-06 21:42:00"
       ]
      },
      {
       "output_type": "stream",
       "stream": "stdout",
       "text": [
        "\n",
        "2013-12-12 22:20:00\n",
        "2011-04-21 02:17:00"
       ]
      },
      {
       "output_type": "stream",
       "stream": "stdout",
       "text": [
        "\n",
        "2007-12-26 13:54:00"
       ]
      },
      {
       "output_type": "stream",
       "stream": "stdout",
       "text": [
        "\n",
        "2008-09-11 11:41:00\n",
        "2007-07-31 16:46:00\n",
        "2007-10-11 21:25:00\n",
        "2006-12-12 20:00:00"
       ]
      },
      {
       "output_type": "stream",
       "stream": "stdout",
       "text": [
        "\n",
        "2006-05-17 11:47:00\n",
        "2014-01-06 10:55:00\n",
        "2012-11-12 04:07:00\n",
        "2011-09-23 12:41:00\n",
        "2010-02-22 03:35:00\n",
        "2014-03-07 05:24:00\n",
        "2013-08-06 06:35:00"
       ]
      },
      {
       "output_type": "stream",
       "stream": "stdout",
       "text": [
        "\n",
        "2008-10-08 12:21:00"
       ]
      },
      {
       "output_type": "stream",
       "stream": "stdout",
       "text": [
        "\n",
        "2005-04-03 20:35:00\n",
        "2004-02-23 11:28:00\n",
        "2004-09-29 07:34:00\n",
        "2012-10-31 08:52:00\n",
        "2012-01-19 17:11:00\n",
        "2004-02-04 23:23:00"
       ]
      },
      {
       "output_type": "stream",
       "stream": "stdout",
       "text": [
        "\n",
        "2007-10-19 10:48:00\n",
        "2008-07-03 16:57:00\n",
        "2008-07-17 03:27:00\n",
        "2006-06-15 06:26:00"
       ]
      },
      {
       "output_type": "stream",
       "stream": "stdout",
       "text": [
        "\n",
        "2013-05-09 10:46:00"
       ]
      },
      {
       "output_type": "stream",
       "stream": "stdout",
       "text": [
        "\n",
        "2005-05-06 06:07:00\n",
        "2009-10-08 17:00:00"
       ]
      },
      {
       "output_type": "stream",
       "stream": "stdout",
       "text": [
        "\n",
        "2009-12-31 06:52:00"
       ]
      },
      {
       "output_type": "stream",
       "stream": "stdout",
       "text": [
        "\n",
        "2011-07-10 17:17:00"
       ]
      },
      {
       "output_type": "stream",
       "stream": "stdout",
       "text": [
        "\n",
        "2005-09-26 03:35:00\n",
        "2015-02-18 17:49:00\n",
        "2010-05-18 03:14:00"
       ]
      },
      {
       "output_type": "stream",
       "stream": "stdout",
       "text": [
        "\n",
        "2010-02-12 00:32:00"
       ]
      },
      {
       "output_type": "stream",
       "stream": "stdout",
       "text": [
        "\n",
        "2014-06-17 15:15:00"
       ]
      },
      {
       "output_type": "stream",
       "stream": "stdout",
       "text": [
        "\n",
        "2012-01-24 06:51:00\n",
        "2012-09-24 06:09:00"
       ]
      },
      {
       "output_type": "stream",
       "stream": "stdout",
       "text": [
        "\n",
        "2013-10-16 14:34:00\n",
        "2007-09-18 05:20:00\n",
        "2004-06-02 20:37:00"
       ]
      },
      {
       "output_type": "stream",
       "stream": "stdout",
       "text": [
        "\n",
        "2008-02-04 12:34:00\n",
        "2005-07-06 07:03:00\n",
        "2014-09-25 09:43:00\n",
        "2007-06-20 06:26:00\n",
        "2004-09-27 14:07:00\n",
        "2007-01-15 03:22:00\n",
        "2007-08-01 00:55:00\n",
        "2006-07-27 10:27:00\n",
        "2014-06-23 11:12:00\n",
        "2012-11-28 04:05:00\n",
        "2009-05-07 04:06:00\n",
        "2012-01-18 12:02:00"
       ]
      },
      {
       "output_type": "stream",
       "stream": "stdout",
       "text": [
        "\n",
        "2013-07-18 10:29:00\n",
        "2006-07-13 03:37:00\n",
        "2010-08-11 12:18:00"
       ]
      },
      {
       "output_type": "stream",
       "stream": "stdout",
       "text": [
        "\n",
        "2005-03-07 07:49:00\n",
        "2007-01-17 10:49:00\n",
        "2006-12-22 11:56:00\n",
        "2004-03-01 10:36:00\n",
        "2014-07-29 09:04:00\n",
        "2014-02-11 19:31:00\n",
        "2005-08-29 03:18:00\n",
        "2014-04-17 03:54:00\n",
        "2008-01-17 11:42:00"
       ]
      },
      {
       "output_type": "stream",
       "stream": "stdout",
       "text": [
        "\n",
        "2013-12-13 07:51:00\n",
        "2014-02-26 17:45:00"
       ]
      },
      {
       "output_type": "stream",
       "stream": "stdout",
       "text": [
        "\n",
        "2012-04-01 17:24:00"
       ]
      },
      {
       "output_type": "stream",
       "stream": "stdout",
       "text": [
        "\n",
        "2009-01-27 21:30:00\n",
        "2013-11-28 02:49:00\n",
        "2012-09-14 09:08:00"
       ]
      },
      {
       "output_type": "stream",
       "stream": "stdout",
       "text": [
        "\n",
        "2012-10-08 09:19:00\n",
        "2011-07-05 18:31:00\n",
        "2007-05-01 17:55:00\n",
        "2009-01-15 01:44:00\n",
        "2014-09-04 14:28:00"
       ]
      },
      {
       "output_type": "stream",
       "stream": "stdout",
       "text": [
        "\n",
        "2009-04-16 07:30:00\n",
        "2008-07-01 22:21:00"
       ]
      },
      {
       "output_type": "stream",
       "stream": "stdout",
       "text": [
        "\n",
        "2004-02-03 17:37:00\n",
        "2005-07-05 00:37:00\n",
        "2014-01-08 19:43:00"
       ]
      },
      {
       "output_type": "stream",
       "stream": "stdout",
       "text": [
        "\n",
        "2013-09-30 19:39:00"
       ]
      },
      {
       "output_type": "stream",
       "stream": "stdout",
       "text": [
        "\n",
        "2014-07-16 17:23:00"
       ]
      },
      {
       "output_type": "stream",
       "stream": "stdout",
       "text": [
        "\n",
        "2013-11-18 07:21:00"
       ]
      },
      {
       "output_type": "stream",
       "stream": "stdout",
       "text": [
        "\n",
        "2007-07-08 19:57:00\n",
        "2014-07-30 16:21:00\n",
        "2010-03-09 22:50:00\n",
        "2006-09-05 12:10:00\n",
        "2009-09-23 23:13:00\n",
        "2009-11-10 11:23:00"
       ]
      },
      {
       "output_type": "stream",
       "stream": "stdout",
       "text": [
        "\n",
        "2012-06-20 18:29:00\n",
        "2005-09-22 07:47:00"
       ]
      },
      {
       "output_type": "stream",
       "stream": "stdout",
       "text": [
        "\n",
        "2012-11-20 08:40:00"
       ]
      },
      {
       "output_type": "stream",
       "stream": "stdout",
       "text": [
        "\n",
        "2011-05-23 02:13:00\n",
        "2007-02-07 22:59:00\n",
        "2006-10-30 01:31:00"
       ]
      },
      {
       "output_type": "stream",
       "stream": "stdout",
       "text": [
        "\n",
        "2012-12-13 19:29:00\n",
        "2010-07-15 05:10:00"
       ]
      },
      {
       "output_type": "stream",
       "stream": "stdout",
       "text": [
        "\n",
        "2008-01-08 04:35:00"
       ]
      },
      {
       "output_type": "stream",
       "stream": "stdout",
       "text": [
        "\n",
        "2010-08-12 16:24:00"
       ]
      },
      {
       "output_type": "stream",
       "stream": "stdout",
       "text": [
        "\n",
        "2014-01-15 01:18:00\n",
        "2008-04-09 18:21:00\n",
        "2008-05-27 19:19:00"
       ]
      },
      {
       "output_type": "stream",
       "stream": "stdout",
       "text": [
        "\n",
        "2007-11-28 19:43:00\n",
        "2009-11-09 15:14:00"
       ]
      },
      {
       "output_type": "stream",
       "stream": "stdout",
       "text": [
        "\n",
        "2005-07-12 22:58:00\n",
        "2013-07-30 19:17:00\n",
        "2009-10-08 04:00:00\n",
        "2010-02-11 17:50:00"
       ]
      },
      {
       "output_type": "stream",
       "stream": "stdout",
       "text": [
        "\n",
        "2013-06-04 18:49:00"
       ]
      },
      {
       "output_type": "stream",
       "stream": "stdout",
       "text": [
        "\n",
        "2007-09-25 03:45:00\n",
        "2008-04-10 08:12:00"
       ]
      },
      {
       "output_type": "stream",
       "stream": "stdout",
       "text": [
        "\n",
        "2010-01-20 17:48:00"
       ]
      },
      {
       "output_type": "stream",
       "stream": "stdout",
       "text": [
        "\n",
        "2006-03-15 02:25:00"
       ]
      },
      {
       "output_type": "stream",
       "stream": "stdout",
       "text": [
        "\n",
        "2013-07-10 19:11:00\n",
        "2013-06-18 06:18:00"
       ]
      },
      {
       "output_type": "stream",
       "stream": "stdout",
       "text": [
        "\n",
        "2012-12-19 00:57:00"
       ]
      },
      {
       "output_type": "stream",
       "stream": "stdout",
       "text": [
        "\n",
        "2014-05-15 11:42:00\n",
        "2010-07-02 10:54:00\n",
        "2004-12-09 02:31:00\n",
        "2010-12-07 02:46:00"
       ]
      },
      {
       "output_type": "stream",
       "stream": "stdout",
       "text": [
        "\n",
        "2007-09-21 02:37:00"
       ]
      },
      {
       "output_type": "stream",
       "stream": "stdout",
       "text": [
        "\n",
        "2011-05-18 18:26:00"
       ]
      },
      {
       "output_type": "stream",
       "stream": "stdout",
       "text": [
        "\n",
        "2005-11-29 08:30:00"
       ]
      },
      {
       "output_type": "stream",
       "stream": "stdout",
       "text": [
        "\n",
        "2009-12-29 23:47:00\n",
        "2007-01-29 20:50:00\n",
        "2010-08-31 18:55:00"
       ]
      },
      {
       "output_type": "stream",
       "stream": "stdout",
       "text": [
        "\n",
        "2013-12-18 00:14:00\n",
        "2012-10-29 18:38:00\n",
        "2007-01-16 14:56:00"
       ]
      },
      {
       "output_type": "stream",
       "stream": "stdout",
       "text": [
        "\n",
        "2008-12-01 05:14:00\n",
        "2012-08-08 07:09:00\n",
        "2006-12-20 11:23:00\n",
        "2014-05-14 01:10:00\n",
        "2013-07-31 17:45:00\n",
        "2009-10-09 04:37:00"
       ]
      },
      {
       "output_type": "stream",
       "stream": "stdout",
       "text": [
        "\n",
        "2013-07-04 09:28:00"
       ]
      },
      {
       "output_type": "stream",
       "stream": "stdout",
       "text": [
        "\n",
        "2008-12-19 10:04:00\n",
        "2012-01-10 09:30:00\n",
        "2004-08-09 16:05:00\n",
        "2005-09-27 15:42:00\n",
        "2004-02-05 14:14:00\n",
        "2013-10-03 11:28:00\n",
        "2014-06-23 06:29:00\n",
        "2014-06-10 20:28:00"
       ]
      },
      {
       "output_type": "stream",
       "stream": "stdout",
       "text": [
        "\n",
        "2013-10-22 21:55:00\n",
        "2004-08-19 13:42:00\n",
        "2004-07-16 10:27:00\n",
        "2006-02-17 10:04:00\n",
        "2013-04-10 00:50:00\n",
        "2011-01-14 09:31:00\n",
        "2008-07-10 14:25:00\n",
        "2009-01-04 23:08:00\n",
        "2008-05-30 08:56:00\n",
        "2004-02-11 13:41:00"
       ]
      },
      {
       "output_type": "stream",
       "stream": "stdout",
       "text": [
        "\n",
        "2004-04-20 07:56:00\n",
        "2010-02-10 09:58:00"
       ]
      },
      {
       "output_type": "stream",
       "stream": "stdout",
       "text": [
        "\n",
        "2009-10-20 16:53:00\n",
        "2010-04-22 05:53:00\n",
        "2007-10-03 03:36:00"
       ]
      },
      {
       "output_type": "stream",
       "stream": "stdout",
       "text": [
        "\n",
        "2009-07-29 03:47:00\n",
        "2010-08-18 05:44:00\n",
        "2013-11-14 22:08:00\n",
        "2006-02-20 17:59:00"
       ]
      },
      {
       "output_type": "stream",
       "stream": "stdout",
       "text": [
        "\n",
        "2005-05-03 20:25:00"
       ]
      },
      {
       "output_type": "stream",
       "stream": "stdout",
       "text": [
        "\n",
        "2011-04-14 10:04:00\n",
        "2008-05-25 21:35:00\n",
        "2007-04-17 17:34:00\n",
        "2008-11-20 00:02:00\n",
        "2004-02-10 14:50:00"
       ]
      },
      {
       "output_type": "stream",
       "stream": "stdout",
       "text": [
        "\n",
        "2010-05-19 18:03:00\n",
        "2010-07-22 17:09:00"
       ]
      },
      {
       "output_type": "stream",
       "stream": "stdout",
       "text": [
        "\n",
        "2004-09-10 02:57:00"
       ]
      },
      {
       "output_type": "stream",
       "stream": "stdout",
       "text": [
        "\n",
        "2009-09-18 14:25:00"
       ]
      },
      {
       "output_type": "stream",
       "stream": "stdout",
       "text": [
        "\n",
        "2011-08-22 03:06:00\n",
        "2008-04-25 04:18:00\n",
        "2013-09-10 21:02:00"
       ]
      },
      {
       "output_type": "stream",
       "stream": "stdout",
       "text": [
        "\n",
        "2011-06-10 09:11:00\n",
        "2007-04-27 04:13:00\n",
        "2004-12-15 14:05:00"
       ]
      },
      {
       "output_type": "stream",
       "stream": "stdout",
       "text": [
        "\n",
        "2005-12-07 18:29:00\n",
        "2007-04-16 16:16:00"
       ]
      },
      {
       "output_type": "stream",
       "stream": "stdout",
       "text": [
        "\n",
        "2007-11-25 20:52:00\n",
        "2010-02-19 11:17:00\n",
        "2013-01-17 00:11:00\n",
        "2010-08-24 23:27:00"
       ]
      },
      {
       "output_type": "stream",
       "stream": "stdout",
       "text": [
        "\n",
        "2013-08-28 07:02:00\n",
        "2011-08-30 05:23:00\n",
        "2009-01-29 09:21:00"
       ]
      },
      {
       "output_type": "stream",
       "stream": "stdout",
       "text": [
        "\n",
        "2008-05-02 09:41:00\n",
        "2010-05-18 22:20:00\n",
        "2012-02-07 16:43:00\n",
        "2004-08-24 21:11:00\n",
        "2008-07-07 18:28:00\n",
        "2014-03-31 17:59:00"
       ]
      },
      {
       "output_type": "stream",
       "stream": "stdout",
       "text": [
        "\n",
        "2008-11-04 04:39:00"
       ]
      },
      {
       "output_type": "stream",
       "stream": "stdout",
       "text": [
        "\n",
        "2008-09-05 03:05:00"
       ]
      },
      {
       "output_type": "stream",
       "stream": "stdout",
       "text": [
        "\n",
        "2009-12-02 02:23:00"
       ]
      },
      {
       "output_type": "stream",
       "stream": "stdout",
       "text": [
        "\n",
        "2011-09-05 17:54:00\n",
        "2005-07-11 21:33:00"
       ]
      },
      {
       "output_type": "stream",
       "stream": "stdout",
       "text": [
        "\n",
        "2013-11-19 06:51:00"
       ]
      },
      {
       "output_type": "stream",
       "stream": "stdout",
       "text": [
        "\n",
        "2013-06-03 03:21:00"
       ]
      },
      {
       "output_type": "stream",
       "stream": "stdout",
       "text": [
        "\n",
        "2014-11-26 11:24:00\n",
        "2008-11-03 12:09:00\n",
        "2004-02-18 14:58:00\n",
        "2012-06-01 05:05:00\n",
        "2008-05-26 09:01:00"
       ]
      },
      {
       "output_type": "stream",
       "stream": "stdout",
       "text": [
        "\n",
        "2008-12-17 20:01:00\n",
        "2013-06-24 01:32:00"
       ]
      },
      {
       "output_type": "stream",
       "stream": "stdout",
       "text": [
        "\n",
        "2013-12-08 21:36:00\n",
        "2006-07-12 12:06:00\n",
        "2006-04-13 23:07:00\n",
        "2012-09-14 14:18:00"
       ]
      },
      {
       "output_type": "stream",
       "stream": "stdout",
       "text": [
        "\n",
        "2007-04-12 13:54:00\n",
        "2006-10-31 23:46:00\n",
        "2005-09-05 22:39:00\n",
        "2010-10-29 08:53:00"
       ]
      },
      {
       "output_type": "stream",
       "stream": "stdout",
       "text": [
        "\n",
        "2007-12-17 06:40:00\n",
        "2014-06-03 00:45:00\n",
        "2007-08-02 13:58:00"
       ]
      },
      {
       "output_type": "stream",
       "stream": "stdout",
       "text": [
        "\n",
        "2006-05-05 11:14:00\n",
        "2007-07-11 01:23:00\n",
        "2009-07-12 21:00:00\n",
        "2009-07-16 06:06:00\n",
        "2010-11-28 19:11:00"
       ]
      },
      {
       "output_type": "stream",
       "stream": "stdout",
       "text": [
        "\n",
        "2012-04-09 04:05:00\n",
        "2009-01-28 01:49:00\n",
        "2011-06-24 09:07:00\n",
        "2014-08-26 13:24:00\n",
        "2008-07-22 09:23:00\n",
        "2011-08-08 18:39:00\n",
        "2004-01-13 18:23:00"
       ]
      },
      {
       "output_type": "stream",
       "stream": "stdout",
       "text": [
        "\n",
        "2005-06-01 16:03:00\n",
        "2014-09-15 05:26:00\n",
        "2013-04-26 07:11:00\n",
        "2007-12-10 23:51:00"
       ]
      },
      {
       "output_type": "stream",
       "stream": "stdout",
       "text": [
        "\n",
        "2012-05-23 00:00:00"
       ]
      },
      {
       "output_type": "stream",
       "stream": "stdout",
       "text": [
        "\n",
        "2010-02-26 06:54:00\n",
        "2006-04-20 10:59:00"
       ]
      },
      {
       "output_type": "stream",
       "stream": "stdout",
       "text": [
        "\n",
        "2010-09-21 16:14:00\n",
        "2009-07-01 18:01:00\n",
        "2009-02-27 05:14:00"
       ]
      },
      {
       "output_type": "stream",
       "stream": "stdout",
       "text": [
        "\n",
        "2011-06-06 04:37:00"
       ]
      },
      {
       "output_type": "stream",
       "stream": "stdout",
       "text": [
        "\n",
        "2012-12-10 13:30:00\n",
        "2011-03-14 11:34:00\n",
        "2011-01-17 17:40:00\n",
        "2012-04-17 00:03:00"
       ]
      },
      {
       "output_type": "stream",
       "stream": "stdout",
       "text": [
        "\n",
        "2008-07-02 20:46:00"
       ]
      },
      {
       "output_type": "stream",
       "stream": "stdout",
       "text": [
        "\n",
        "2008-11-19 21:40:00"
       ]
      },
      {
       "output_type": "stream",
       "stream": "stdout",
       "text": [
        "\n",
        "2014-11-13 14:53:00"
       ]
      },
      {
       "output_type": "stream",
       "stream": "stdout",
       "text": [
        "\n",
        "2009-05-17 18:18:00\n",
        "2008-08-01 03:08:00\n",
        "2009-08-13 22:23:00"
       ]
      },
      {
       "output_type": "stream",
       "stream": "stdout",
       "text": [
        "\n",
        "2014-12-26 06:33:00"
       ]
      },
      {
       "output_type": "stream",
       "stream": "stdout",
       "text": [
        "\n",
        "2010-02-16 17:30:00"
       ]
      },
      {
       "output_type": "stream",
       "stream": "stdout",
       "text": [
        "\n",
        "2014-09-25 02:03:00\n",
        "2005-04-27 17:42:00"
       ]
      },
      {
       "output_type": "stream",
       "stream": "stdout",
       "text": [
        "\n",
        "2004-07-01 23:47:00"
       ]
      },
      {
       "output_type": "stream",
       "stream": "stdout",
       "text": [
        "\n",
        "2013-12-22 23:06:00\n",
        "2013-10-03 02:10:00\n",
        "2009-09-30 06:42:00"
       ]
      },
      {
       "output_type": "stream",
       "stream": "stdout",
       "text": [
        "\n",
        "2005-05-27 00:45:00\n",
        "2013-01-11 04:15:00\n",
        "2004-01-08 19:00:00"
       ]
      },
      {
       "output_type": "stream",
       "stream": "stdout",
       "text": [
        "\n",
        "2007-01-16 11:59:00\n",
        "2008-04-18 01:27:00\n",
        "2010-03-02 18:41:00"
       ]
      },
      {
       "output_type": "stream",
       "stream": "stdout",
       "text": [
        "\n",
        "2004-05-04 04:32:00\n",
        "2006-07-18 14:22:00"
       ]
      },
      {
       "output_type": "stream",
       "stream": "stdout",
       "text": [
        "\n",
        "2014-09-19 03:12:00\n",
        "2007-08-03 03:23:00"
       ]
      },
      {
       "output_type": "stream",
       "stream": "stdout",
       "text": [
        "\n",
        "2013-12-31 00:48:00"
       ]
      },
      {
       "output_type": "stream",
       "stream": "stdout",
       "text": [
        "\n",
        "2013-01-16 02:40:00"
       ]
      },
      {
       "output_type": "stream",
       "stream": "stdout",
       "text": [
        "\n",
        "2006-12-28 09:08:00\n",
        "2007-11-30 11:38:00\n",
        "2013-04-30 18:54:00\n",
        "2015-01-14 13:21:00\n",
        "2004-08-09 11:33:00\n",
        "2004-12-01 00:07:00\n",
        "2006-01-04 00:22:00\n",
        "2012-01-13 02:06:00"
       ]
      },
      {
       "output_type": "stream",
       "stream": "stdout",
       "text": [
        "\n",
        "2013-05-06 07:35:00"
       ]
      },
      {
       "output_type": "stream",
       "stream": "stdout",
       "text": [
        "\n",
        "2011-06-22 19:27:00\n",
        "2011-08-31 23:43:00"
       ]
      },
      {
       "output_type": "stream",
       "stream": "stdout",
       "text": [
        "\n",
        "2013-11-13 03:18:00"
       ]
      },
      {
       "output_type": "stream",
       "stream": "stdout",
       "text": [
        "\n",
        "2007-09-26 12:06:00\n",
        "2006-01-10 04:11:00\n",
        "2005-06-06 02:31:00"
       ]
      },
      {
       "output_type": "stream",
       "stream": "stdout",
       "text": [
        "\n",
        "2004-09-17 07:31:00\n",
        "2013-05-29 12:51:00"
       ]
      },
      {
       "output_type": "stream",
       "stream": "stdout",
       "text": [
        "\n",
        "2009-05-22 14:54:00\n",
        "2008-04-21 06:59:00\n",
        "2006-06-23 07:49:00\n",
        "2010-04-01 20:43:00"
       ]
      },
      {
       "output_type": "stream",
       "stream": "stdout",
       "text": [
        "\n",
        "2009-10-13 06:04:00"
       ]
      },
      {
       "output_type": "stream",
       "stream": "stdout",
       "text": [
        "\n",
        "2009-11-17 00:01:00"
       ]
      },
      {
       "output_type": "stream",
       "stream": "stdout",
       "text": [
        "\n",
        "2011-06-17 01:09:00"
       ]
      },
      {
       "output_type": "stream",
       "stream": "stdout",
       "text": [
        "\n",
        "2010-06-22 09:13:00"
       ]
      },
      {
       "output_type": "stream",
       "stream": "stdout",
       "text": [
        "\n",
        "2013-02-20 09:29:00\n",
        "2012-08-10 00:34:00\n",
        "2010-03-26 02:34:00"
       ]
      },
      {
       "output_type": "stream",
       "stream": "stdout",
       "text": [
        "\n",
        "2007-03-22 21:27:00"
       ]
      },
      {
       "output_type": "stream",
       "stream": "stdout",
       "text": [
        "\n",
        "2014-11-26 19:35:00"
       ]
      },
      {
       "output_type": "stream",
       "stream": "stdout",
       "text": [
        "\n",
        "2013-02-07 09:27:00"
       ]
      },
      {
       "output_type": "stream",
       "stream": "stdout",
       "text": [
        "\n",
        "2012-06-19 23:36:00\n",
        "2007-08-06 19:11:00\n",
        "2008-09-30 23:45:00"
       ]
      },
      {
       "output_type": "stream",
       "stream": "stdout",
       "text": [
        "\n",
        "2008-09-04 08:24:00\n",
        "2013-05-03 05:38:00"
       ]
      },
      {
       "output_type": "stream",
       "stream": "stdout",
       "text": [
        "\n",
        "2011-08-09 16:27:00"
       ]
      },
      {
       "output_type": "stream",
       "stream": "stdout",
       "text": [
        "\n",
        "2012-06-18 17:22:00\n",
        "2010-01-14 03:00:00"
       ]
      },
      {
       "output_type": "stream",
       "stream": "stdout",
       "text": [
        "\n",
        "2011-09-05 16:16:00"
       ]
      },
      {
       "output_type": "stream",
       "stream": "stdout",
       "text": [
        "\n",
        "2006-07-19 04:44:00\n",
        "2011-11-10 17:50:00\n",
        "2005-04-12 10:55:00"
       ]
      },
      {
       "output_type": "stream",
       "stream": "stdout",
       "text": [
        "\n",
        "2010-10-17 20:58:00\n",
        "2009-06-22 13:04:00\n",
        "2008-07-16 23:43:00\n",
        "2009-06-03 07:16:00"
       ]
      },
      {
       "output_type": "stream",
       "stream": "stdout",
       "text": [
        "\n",
        "2009-04-27 20:47:00\n",
        "2011-09-30 07:48:00"
       ]
      },
      {
       "output_type": "stream",
       "stream": "stdout",
       "text": [
        "\n",
        "2014-10-08 11:18:00"
       ]
      },
      {
       "output_type": "stream",
       "stream": "stdout",
       "text": [
        "\n",
        "2010-09-15 02:27:00\n",
        "2006-06-14 01:53:00\n",
        "2010-08-20 00:18:00\n",
        "2010-03-12 11:48:00"
       ]
      },
      {
       "output_type": "stream",
       "stream": "stdout",
       "text": [
        "\n",
        "2008-04-29 19:54:00\n",
        "2006-05-17 13:40:00\n",
        "2011-06-14 04:43:00\n",
        "2011-02-08 00:17:00"
       ]
      },
      {
       "output_type": "stream",
       "stream": "stdout",
       "text": [
        "\n",
        "2011-05-02 01:55:00"
       ]
      },
      {
       "output_type": "stream",
       "stream": "stdout",
       "text": [
        "\n",
        "2006-10-12 20:37:00\n",
        "2009-07-06 00:00:00"
       ]
      },
      {
       "output_type": "stream",
       "stream": "stdout",
       "text": [
        "\n",
        "2013-06-05 11:52:00\n",
        "2014-09-02 12:24:00\n",
        "2004-05-23 18:39:00\n",
        "2010-08-31 04:28:00\n",
        "2008-05-04 19:45:00"
       ]
      },
      {
       "output_type": "stream",
       "stream": "stdout",
       "text": [
        "\n",
        "2011-09-15 17:05:00\n",
        "2013-11-04 17:30:00"
       ]
      },
      {
       "output_type": "stream",
       "stream": "stdout",
       "text": [
        "\n",
        "2010-05-31 12:36:00"
       ]
      },
      {
       "output_type": "stream",
       "stream": "stdout",
       "text": [
        "\n",
        "2014-02-19 16:06:00\n",
        "2012-03-27 17:40:00\n",
        "2011-12-18 17:19:00\n",
        "2005-07-12 22:01:00\n",
        "2009-05-14 01:33:00\n",
        "2011-03-21 12:22:00"
       ]
      },
      {
       "output_type": "stream",
       "stream": "stdout",
       "text": [
        "\n",
        "2014-06-23 10:12:00\n",
        "2005-11-13 21:13:00\n",
        "2004-04-21 18:21:00\n",
        "2015-02-20 04:53:00\n",
        "2008-08-05 15:26:00"
       ]
      },
      {
       "output_type": "stream",
       "stream": "stdout",
       "text": [
        "\n",
        "2006-03-30 13:28:00\n",
        "2005-03-10 14:11:00"
       ]
      },
      {
       "output_type": "stream",
       "stream": "stdout",
       "text": [
        "\n",
        "2004-03-16 13:26:00\n",
        "2007-08-05 19:26:00\n",
        "2013-11-21 15:31:00\n",
        "2005-02-17 18:27:00\n",
        "2014-12-09 22:21:00"
       ]
      },
      {
       "output_type": "stream",
       "stream": "stdout",
       "text": [
        "\n",
        "2013-01-15 16:12:00\n",
        "2004-08-19 19:57:00\n",
        "2008-03-10 15:26:00"
       ]
      },
      {
       "output_type": "stream",
       "stream": "stdout",
       "text": [
        "\n",
        "2013-06-28 03:15:00\n",
        "2007-01-28 19:39:00"
       ]
      },
      {
       "output_type": "stream",
       "stream": "stdout",
       "text": [
        "\n",
        "2004-07-04 21:30:00\n",
        "2007-12-03 07:20:00\n",
        "2014-10-14 19:59:00\n",
        "2011-10-28 09:53:00\n",
        "2014-12-02 06:07:00\n",
        "2013-03-14 20:14:00"
       ]
      },
      {
       "output_type": "stream",
       "stream": "stdout",
       "text": [
        "\n",
        "2009-04-27 09:30:00"
       ]
      },
      {
       "output_type": "stream",
       "stream": "stdout",
       "text": [
        "\n",
        "2013-09-02 00:57:00\n",
        "2013-12-16 17:34:00\n",
        "2015-02-13 01:41:00"
       ]
      },
      {
       "output_type": "stream",
       "stream": "stdout",
       "text": [
        "\n",
        "2010-05-21 11:46:00"
       ]
      },
      {
       "output_type": "stream",
       "stream": "stdout",
       "text": [
        "\n",
        "2009-01-08 12:15:00\n",
        "2012-11-27 11:43:00\n",
        "2004-12-28 10:56:00\n",
        "2010-01-04 22:19:00\n",
        "2014-06-03 02:48:00"
       ]
      },
      {
       "output_type": "stream",
       "stream": "stdout",
       "text": [
        "\n",
        "2004-12-24 06:04:00"
       ]
      },
      {
       "output_type": "stream",
       "stream": "stdout",
       "text": [
        "\n",
        "2013-08-26 13:04:00"
       ]
      },
      {
       "output_type": "stream",
       "stream": "stdout",
       "text": [
        "\n",
        "2014-09-02 09:30:00\n",
        "2013-04-01 09:48:00\n",
        "2014-06-12 09:19:00\n",
        "2012-07-30 04:32:00\n",
        "2012-01-02 12:15:00\n",
        "2006-12-29 00:51:00\n",
        "2010-02-28 18:00:00"
       ]
      },
      {
       "output_type": "stream",
       "stream": "stdout",
       "text": [
        "\n",
        "2009-03-24 18:41:00\n",
        "2006-02-07 16:35:00"
       ]
      },
      {
       "output_type": "stream",
       "stream": "stdout",
       "text": [
        "\n",
        "2006-03-29 17:09:00\n",
        "2010-06-11 11:55:00"
       ]
      },
      {
       "output_type": "stream",
       "stream": "stdout",
       "text": [
        "\n",
        "2014-07-01 08:49:00\n",
        "2007-07-17 07:37:00"
       ]
      },
      {
       "output_type": "stream",
       "stream": "stdout",
       "text": [
        "\n",
        "2012-02-26 19:42:00"
       ]
      },
      {
       "output_type": "stream",
       "stream": "stdout",
       "text": [
        "\n",
        "2012-02-22 07:13:00\n",
        "2004-02-24 00:49:00\n",
        "2013-12-05 01:38:00\n",
        "2011-01-05 15:39:00"
       ]
      },
      {
       "output_type": "stream",
       "stream": "stdout",
       "text": [
        "\n",
        "2011-11-17 17:39:00\n",
        "2013-05-01 07:00:00"
       ]
      },
      {
       "output_type": "stream",
       "stream": "stdout",
       "text": [
        "\n",
        "2012-11-15 13:56:00\n",
        "2012-03-04 22:21:00\n",
        "2013-02-19 01:56:00\n",
        "2005-06-14 06:45:00"
       ]
      },
      {
       "output_type": "stream",
       "stream": "stdout",
       "text": [
        "\n",
        "2006-01-03 16:16:00"
       ]
      },
      {
       "output_type": "stream",
       "stream": "stdout",
       "text": [
        "\n",
        "2014-06-20 02:12:00"
       ]
      },
      {
       "output_type": "stream",
       "stream": "stdout",
       "text": [
        "\n",
        "2011-09-22 09:39:00"
       ]
      },
      {
       "output_type": "stream",
       "stream": "stdout",
       "text": [
        "\n",
        "2011-01-09 17:25:00\n",
        "2005-10-12 22:02:00\n",
        "2008-01-18 09:06:00"
       ]
      },
      {
       "output_type": "stream",
       "stream": "stdout",
       "text": [
        "\n",
        "2007-06-19 03:35:00\n",
        "2009-03-17 10:18:00"
       ]
      },
      {
       "output_type": "stream",
       "stream": "stdout",
       "text": [
        "\n",
        "2004-07-09 14:00:00\n",
        "2009-11-09 02:18:00\n",
        "2005-04-11 11:39:00\n",
        "2007-10-16 13:03:00\n",
        "2006-03-29 01:52:00\n",
        "2010-04-20 00:24:00"
       ]
      },
      {
       "output_type": "stream",
       "stream": "stdout",
       "text": [
        "\n",
        "2004-11-03 02:58:00"
       ]
      },
      {
       "output_type": "stream",
       "stream": "stdout",
       "text": [
        "\n",
        "2014-02-13 13:19:00\n",
        "2008-03-11 20:13:00\n",
        "2007-10-02 18:09:00\n",
        "2011-11-08 14:16:00\n",
        "2008-07-02 11:16:00\n",
        "2012-08-16 11:44:00\n",
        "2008-03-12 05:42:00\n",
        "2012-09-25 01:09:00\n",
        "2013-04-04 13:55:00"
       ]
      },
      {
       "output_type": "stream",
       "stream": "stdout",
       "text": [
        "\n",
        "2012-08-22 19:18:00\n",
        "2013-07-17 23:31:00"
       ]
      },
      {
       "output_type": "stream",
       "stream": "stdout",
       "text": [
        "\n",
        "2004-07-22 04:06:00"
       ]
      },
      {
       "output_type": "stream",
       "stream": "stdout",
       "text": [
        "\n",
        "2006-05-22 05:10:00\n",
        "2012-05-10 01:59:00\n",
        "2012-04-17 04:48:00"
       ]
      },
      {
       "output_type": "stream",
       "stream": "stdout",
       "text": [
        "\n",
        "2007-08-23 04:30:00"
       ]
      },
      {
       "output_type": "stream",
       "stream": "stdout",
       "text": [
        "\n",
        "2013-03-18 00:18:00"
       ]
      },
      {
       "output_type": "stream",
       "stream": "stdout",
       "text": [
        "\n",
        "2007-03-22 07:52:00\n",
        "2009-09-22 06:25:00"
       ]
      },
      {
       "output_type": "stream",
       "stream": "stdout",
       "text": [
        "\n",
        "2006-03-06 20:24:00"
       ]
      },
      {
       "output_type": "stream",
       "stream": "stdout",
       "text": [
        "\n",
        "2007-03-14 12:01:00"
       ]
      },
      {
       "output_type": "stream",
       "stream": "stdout",
       "text": [
        "\n",
        "2008-09-01 15:29:00\n",
        "2006-04-13 14:48:00\n",
        "2004-11-16 19:27:00\n",
        "2011-07-10 21:50:00\n",
        "2013-01-10 01:08:00\n",
        "2009-03-15 17:05:00"
       ]
      },
      {
       "output_type": "stream",
       "stream": "stdout",
       "text": [
        "\n",
        "2010-04-20 14:36:00\n",
        "2007-08-27 06:55:00\n",
        "2006-02-03 09:39:00\n",
        "2011-01-25 15:06:00\n",
        "2008-05-30 03:17:00\n",
        "2012-08-02 15:54:00"
       ]
      },
      {
       "output_type": "stream",
       "stream": "stdout",
       "text": [
        "\n",
        "2013-03-08 02:12:00\n",
        "2014-05-22 17:32:00"
       ]
      },
      {
       "output_type": "stream",
       "stream": "stdout",
       "text": [
        "\n",
        "2014-10-15 17:39:00"
       ]
      },
      {
       "output_type": "stream",
       "stream": "stdout",
       "text": [
        "\n",
        "2010-11-04 10:25:00"
       ]
      },
      {
       "output_type": "stream",
       "stream": "stdout",
       "text": [
        "\n",
        "2008-07-15 13:06:00\n",
        "2012-04-25 07:04:00\n",
        "2005-01-17 09:13:00\n",
        "2013-01-18 08:15:00\n",
        "2011-09-19 14:53:00"
       ]
      },
      {
       "output_type": "stream",
       "stream": "stdout",
       "text": [
        "\n",
        "2009-12-23 07:36:00\n",
        "2004-08-02 21:13:00\n",
        "2008-09-18 20:21:00"
       ]
      },
      {
       "output_type": "stream",
       "stream": "stdout",
       "text": [
        "\n",
        "2005-05-20 04:58:00"
       ]
      },
      {
       "output_type": "stream",
       "stream": "stdout",
       "text": [
        "\n",
        "2005-01-26 17:00:00\n",
        "2004-02-12 15:06:00"
       ]
      },
      {
       "output_type": "stream",
       "stream": "stdout",
       "text": [
        "\n",
        "2007-04-11 07:47:00\n",
        "2014-02-27 17:55:00\n",
        "2010-05-27 17:56:00"
       ]
      },
      {
       "output_type": "stream",
       "stream": "stdout",
       "text": [
        "\n",
        "2010-10-05 08:12:00"
       ]
      },
      {
       "output_type": "stream",
       "stream": "stdout",
       "text": [
        "\n",
        "2010-07-01 20:26:00"
       ]
      },
      {
       "output_type": "stream",
       "stream": "stdout",
       "text": [
        "\n",
        "2009-05-14 12:31:00"
       ]
      },
      {
       "output_type": "stream",
       "stream": "stdout",
       "text": [
        "\n",
        "2008-06-25 14:18:00\n",
        "2010-12-27 03:57:00\n",
        "2013-07-19 13:31:00\n",
        "2014-05-08 16:28:00\n",
        "2004-08-12 22:23:00\n",
        "2012-01-06 11:17:00"
       ]
      },
      {
       "output_type": "stream",
       "stream": "stdout",
       "text": [
        "\n",
        "2014-08-31 21:54:00\n",
        "2006-12-28 13:04:00\n",
        "2013-12-09 01:23:00\n",
        "2009-04-29 16:50:00\n",
        "2009-08-28 14:52:00\n",
        "2009-10-14 02:32:00\n",
        "2005-05-25 00:44:00\n",
        "2008-05-02 08:16:00\n",
        "2009-12-01 07:02:00"
       ]
      },
      {
       "output_type": "stream",
       "stream": "stdout",
       "text": [
        "\n",
        "2006-06-27 00:11:00"
       ]
      },
      {
       "output_type": "stream",
       "stream": "stdout",
       "text": [
        "\n",
        "2010-08-09 13:53:00"
       ]
      },
      {
       "output_type": "stream",
       "stream": "stdout",
       "text": [
        "\n",
        "2008-04-06 21:44:00\n",
        "2010-05-03 17:50:00\n",
        "2011-02-28 22:00:00"
       ]
      },
      {
       "output_type": "stream",
       "stream": "stdout",
       "text": [
        "\n",
        "2013-10-31 19:45:00"
       ]
      },
      {
       "output_type": "stream",
       "stream": "stdout",
       "text": [
        "\n",
        "2010-12-28 15:26:00"
       ]
      },
      {
       "output_type": "stream",
       "stream": "stdout",
       "text": [
        "\n",
        "2010-10-19 15:27:00\n",
        "2006-09-24 23:24:00\n",
        "2012-02-27 21:58:00\n",
        "2007-02-01 15:56:00"
       ]
      },
      {
       "output_type": "stream",
       "stream": "stdout",
       "text": [
        "\n",
        "2012-04-05 16:06:00\n",
        "2004-09-30 10:01:00\n",
        "2006-06-16 06:50:00\n",
        "2007-02-15 14:29:00"
       ]
      },
      {
       "output_type": "stream",
       "stream": "stdout",
       "text": [
        "\n",
        "2013-05-14 18:51:00\n",
        "2007-03-01 04:55:00\n",
        "2012-01-06 05:37:00"
       ]
      },
      {
       "output_type": "stream",
       "stream": "stdout",
       "text": [
        "\n",
        "2009-08-17 11:20:00"
       ]
      },
      {
       "output_type": "stream",
       "stream": "stdout",
       "text": [
        "\n",
        "2007-09-11 14:01:00\n",
        "2004-12-01 17:34:00\n",
        "2012-08-09 22:32:00"
       ]
      },
      {
       "output_type": "stream",
       "stream": "stdout",
       "text": [
        "\n",
        "2010-07-01 08:22:00"
       ]
      },
      {
       "output_type": "stream",
       "stream": "stdout",
       "text": [
        "\n",
        "2004-08-30 03:17:00"
       ]
      },
      {
       "output_type": "stream",
       "stream": "stdout",
       "text": [
        "\n",
        "2011-01-19 12:50:00\n",
        "2005-05-10 09:57:00\n",
        "2012-03-21 01:03:00\n",
        "2004-07-20 18:02:00\n",
        "2011-04-05 18:46:00\n",
        "2010-09-06 00:09:00\n",
        "2009-09-09 14:42:00\n",
        "2010-01-05 10:06:00\n",
        "2009-08-11 19:46:00\n",
        "2010-06-07 20:00:00"
       ]
      },
      {
       "output_type": "stream",
       "stream": "stdout",
       "text": [
        "\n",
        "2011-04-04 07:44:00"
       ]
      },
      {
       "output_type": "stream",
       "stream": "stdout",
       "text": [
        "\n",
        "2012-11-19 04:35:00\n",
        "2013-09-04 04:16:00\n",
        "2008-06-20 10:14:00\n",
        "2011-10-24 17:48:00\n",
        "2005-01-06 09:32:00"
       ]
      },
      {
       "output_type": "stream",
       "stream": "stdout",
       "text": [
        "\n",
        "2014-11-26 04:08:00\n",
        "2013-07-29 03:58:00\n",
        "2004-09-22 06:00:00\n",
        "2013-07-08 22:17:00\n",
        "2008-12-09 04:17:00"
       ]
      },
      {
       "output_type": "stream",
       "stream": "stdout",
       "text": [
        "\n",
        "2007-01-15 05:05:00"
       ]
      },
      {
       "output_type": "stream",
       "stream": "stdout",
       "text": [
        "\n",
        "2013-09-15 23:56:00\n",
        "2009-04-01 00:39:00\n",
        "2009-09-01 18:11:00\n",
        "2009-03-03 04:27:00\n",
        "2012-02-29 12:48:00"
       ]
      },
      {
       "output_type": "stream",
       "stream": "stdout",
       "text": [
        "\n",
        "2008-12-16 12:02:00\n",
        "2006-02-17 09:27:00\n",
        "2012-04-18 12:44:00\n",
        "2014-07-16 06:15:00\n",
        "2014-11-19 13:32:00\n",
        "2005-07-21 19:59:00\n",
        "2011-09-29 13:11:00"
       ]
      },
      {
       "output_type": "stream",
       "stream": "stdout",
       "text": [
        "\n",
        "2010-08-18 19:30:00\n",
        "2008-11-03 19:36:00"
       ]
      },
      {
       "output_type": "stream",
       "stream": "stdout",
       "text": [
        "\n",
        "2006-03-16 05:59:00"
       ]
      },
      {
       "output_type": "stream",
       "stream": "stdout",
       "text": [
        "\n",
        "2013-02-14 04:45:00"
       ]
      },
      {
       "output_type": "stream",
       "stream": "stdout",
       "text": [
        "\n",
        "2008-03-21 00:41:00"
       ]
      },
      {
       "output_type": "stream",
       "stream": "stdout",
       "text": [
        "\n",
        "2015-01-05 14:28:00"
       ]
      },
      {
       "output_type": "stream",
       "stream": "stdout",
       "text": [
        "\n",
        "2009-11-24 14:29:00\n",
        "2005-11-29 09:25:00\n",
        "2006-09-18 14:31:00\n",
        "2005-07-22 09:05:00\n",
        "2011-11-17 03:59:00\n",
        "2014-11-12 06:49:00"
       ]
      },
      {
       "output_type": "stream",
       "stream": "stdout",
       "text": [
        "\n",
        "2013-12-03 20:10:00\n",
        "2006-11-30 16:58:00\n",
        "2012-05-25 01:34:00"
       ]
      },
      {
       "output_type": "stream",
       "stream": "stdout",
       "text": [
        "\n",
        "2009-11-16 04:54:00"
       ]
      },
      {
       "output_type": "stream",
       "stream": "stdout",
       "text": [
        "\n",
        "2009-08-26 21:40:00\n",
        "2005-11-24 02:42:00"
       ]
      },
      {
       "output_type": "stream",
       "stream": "stdout",
       "text": [
        "\n",
        "2009-04-24 09:29:00"
       ]
      },
      {
       "output_type": "stream",
       "stream": "stdout",
       "text": [
        "\n",
        "2007-06-11 22:20:00\n",
        "2009-06-25 13:30:00"
       ]
      },
      {
       "output_type": "stream",
       "stream": "stdout",
       "text": [
        "\n",
        "2008-09-29 00:31:00\n",
        "2010-01-12 21:26:00\n",
        "2013-02-27 08:36:00\n",
        "2011-01-10 22:29:00\n",
        "2009-06-23 04:41:00"
       ]
      },
      {
       "output_type": "stream",
       "stream": "stdout",
       "text": [
        "\n",
        "2008-12-03 08:46:00"
       ]
      },
      {
       "output_type": "stream",
       "stream": "stdout",
       "text": [
        "\n",
        "2011-08-09 04:23:00\n",
        "2006-08-29 19:57:00"
       ]
      },
      {
       "output_type": "stream",
       "stream": "stdout",
       "text": [
        "\n",
        "2010-11-10 12:19:00\n",
        "2015-02-19 12:06:00\n",
        "2009-10-07 04:20:00\n",
        "2005-11-29 19:29:00\n",
        "2008-03-03 17:01:00\n",
        "2011-11-14 05:17:00"
       ]
      },
      {
       "output_type": "stream",
       "stream": "stdout",
       "text": [
        "\n",
        "2013-08-22 16:32:00\n",
        "2004-08-16 23:47:00\n",
        "2008-06-13 07:36:00"
       ]
      },
      {
       "output_type": "stream",
       "stream": "stdout",
       "text": [
        "\n",
        "2014-12-31 00:48:00"
       ]
      },
      {
       "output_type": "stream",
       "stream": "stdout",
       "text": [
        "\n",
        "2012-10-01 21:08:00\n",
        "2013-07-17 12:25:00"
       ]
      },
      {
       "output_type": "stream",
       "stream": "stdout",
       "text": [
        "\n",
        "2013-07-21 20:06:00\n",
        "2007-05-21 00:31:00\n",
        "2013-05-21 15:21:00\n",
        "2011-04-20 03:23:00\n",
        "2009-12-07 04:02:00\n",
        "2013-03-15 06:45:00\n",
        "2012-02-15 23:33:00"
       ]
      },
      {
       "output_type": "stream",
       "stream": "stdout",
       "text": [
        "\n",
        "2006-07-20 09:36:00"
       ]
      },
      {
       "output_type": "stream",
       "stream": "stdout",
       "text": [
        "\n",
        "2009-11-16 12:10:00\n",
        "2011-06-14 23:10:00\n",
        "2004-02-26 00:45:00\n",
        "2014-02-19 13:32:00\n",
        "2006-05-23 15:06:00\n",
        "2013-06-28 09:40:00\n",
        "2013-03-06 03:58:00\n",
        "2014-02-11 10:36:00\n",
        "2013-08-09 05:47:00\n",
        "2014-08-19 06:52:00"
       ]
      },
      {
       "output_type": "stream",
       "stream": "stdout",
       "text": [
        "\n",
        "2006-08-17 11:33:00"
       ]
      },
      {
       "output_type": "stream",
       "stream": "stdout",
       "text": [
        "\n",
        "2014-12-31 00:38:00\n",
        "2010-04-14 02:28:00\n",
        "2004-11-18 15:43:00\n",
        "2013-09-10 18:22:00\n",
        "2006-03-23 16:50:00\n",
        "2010-10-31 22:32:00"
       ]
      },
      {
       "output_type": "stream",
       "stream": "stdout",
       "text": [
        "\n",
        "2010-11-03 20:04:00\n",
        "2008-08-06 13:37:00"
       ]
      },
      {
       "output_type": "stream",
       "stream": "stdout",
       "text": [
        "\n",
        "2005-06-01 03:36:00\n",
        "2009-03-27 12:52:00\n",
        "2009-08-18 03:30:00\n",
        "2011-05-11 06:10:00"
       ]
      },
      {
       "output_type": "stream",
       "stream": "stdout",
       "text": [
        "\n",
        "2013-07-05 02:47:00\n",
        "2012-08-20 07:58:00"
       ]
      },
      {
       "output_type": "stream",
       "stream": "stdout",
       "text": [
        "\n",
        "2010-04-14 03:48:00\n",
        "2004-06-28 08:15:00\n",
        "2004-06-17 02:33:00\n",
        "2013-02-01 04:34:00\n",
        "2012-07-19 23:17:00"
       ]
      },
      {
       "output_type": "stream",
       "stream": "stdout",
       "text": [
        "\n",
        "2004-06-24 03:57:00"
       ]
      },
      {
       "output_type": "stream",
       "stream": "stdout",
       "text": [
        "\n",
        "2004-05-26 06:01:00\n",
        "2011-04-19 08:19:00\n",
        "2007-05-15 11:52:00"
       ]
      },
      {
       "output_type": "stream",
       "stream": "stdout",
       "text": [
        "\n",
        "2014-10-28 05:15:00\n",
        "2012-10-01 13:10:00"
       ]
      },
      {
       "output_type": "stream",
       "stream": "stdout",
       "text": [
        "\n",
        "2006-09-13 07:30:00\n",
        "2004-09-17 00:52:00\n",
        "2014-10-31 06:50:00"
       ]
      },
      {
       "output_type": "stream",
       "stream": "stdout",
       "text": [
        "\n",
        "2011-07-06 12:10:00"
       ]
      },
      {
       "output_type": "stream",
       "stream": "stdout",
       "text": [
        "\n",
        "2011-05-17 11:27:00\n",
        "2006-01-10 16:24:00\n",
        "2013-02-19 12:08:00\n",
        "2013-04-15 02:26:00\n",
        "2012-08-10 07:05:00\n",
        "2004-03-22 11:21:00"
       ]
      },
      {
       "output_type": "stream",
       "stream": "stdout",
       "text": [
        "\n",
        "2004-09-15 22:12:00\n",
        "2014-07-30 01:36:00\n",
        "2012-01-25 22:02:00\n",
        "2014-09-25 22:21:00"
       ]
      },
      {
       "output_type": "stream",
       "stream": "stdout",
       "text": [
        "\n",
        "2012-04-30 13:54:00"
       ]
      },
      {
       "output_type": "stream",
       "stream": "stdout",
       "text": [
        "\n",
        "2008-10-28 01:40:00\n",
        "2009-10-27 23:55:00"
       ]
      },
      {
       "output_type": "stream",
       "stream": "stdout",
       "text": [
        "\n",
        "2009-11-20 14:58:00\n",
        "2005-04-28 12:01:00\n",
        "2011-05-30 11:27:00\n",
        "2004-08-12 19:52:00\n",
        "2005-07-27 18:21:00"
       ]
      },
      {
       "output_type": "stream",
       "stream": "stdout",
       "text": [
        "\n",
        "2010-09-09 20:35:00\n",
        "2011-11-03 23:59:00"
       ]
      },
      {
       "output_type": "stream",
       "stream": "stdout",
       "text": [
        "\n",
        "2008-04-10 01:32:00"
       ]
      },
      {
       "output_type": "stream",
       "stream": "stdout",
       "text": [
        "\n",
        "2007-02-08 04:18:00"
       ]
      },
      {
       "output_type": "stream",
       "stream": "stdout",
       "text": [
        "\n",
        "2007-10-04 05:02:00"
       ]
      },
      {
       "output_type": "stream",
       "stream": "stdout",
       "text": [
        "\n",
        "2012-10-18 22:40:00"
       ]
      },
      {
       "output_type": "stream",
       "stream": "stdout",
       "text": [
        "\n",
        "2004-08-10 16:03:00"
       ]
      },
      {
       "output_type": "stream",
       "stream": "stdout",
       "text": [
        "\n",
        "2008-09-07 17:40:00\n",
        "2004-01-05 22:37:00\n",
        "2012-11-08 20:23:00\n",
        "2008-01-14 04:06:00"
       ]
      },
      {
       "output_type": "stream",
       "stream": "stdout",
       "text": [
        "\n",
        "2011-03-02 12:44:00\n",
        "2014-07-15 04:18:00\n",
        "2008-05-21 01:58:00"
       ]
      },
      {
       "output_type": "stream",
       "stream": "stdout",
       "text": [
        "\n",
        "2007-10-24 14:44:00\n",
        "2008-12-11 12:16:00\n",
        "2011-04-12 23:28:00\n",
        "2009-10-18 22:46:00\n",
        "2008-08-14 16:09:00\n",
        "2013-03-26 16:55:00\n",
        "2008-09-25 16:29:00\n",
        "2014-08-25 23:53:00\n",
        "2013-06-14 05:28:00"
       ]
      },
      {
       "output_type": "stream",
       "stream": "stdout",
       "text": [
        "\n",
        "2014-09-16 15:48:00"
       ]
      },
      {
       "output_type": "stream",
       "stream": "stdout",
       "text": [
        "\n",
        "2007-04-12 12:31:00\n",
        "2004-11-09 12:45:00\n",
        "2010-03-28 17:20:00\n",
        "2004-03-12 00:46:00\n",
        "2010-06-24 21:20:00"
       ]
      },
      {
       "output_type": "stream",
       "stream": "stdout",
       "text": [
        "\n",
        "2013-12-05 19:13:00"
       ]
      },
      {
       "output_type": "stream",
       "stream": "stdout",
       "text": [
        "\n",
        "2008-07-18 00:56:00"
       ]
      },
      {
       "output_type": "stream",
       "stream": "stdout",
       "text": [
        "\n",
        "2008-01-28 13:56:00"
       ]
      },
      {
       "output_type": "stream",
       "stream": "stdout",
       "text": [
        "\n",
        "2004-12-27 00:07:00\n",
        "2008-01-30 14:09:00\n",
        "2006-05-09 04:44:00\n",
        "2009-11-11 06:41:00"
       ]
      },
      {
       "output_type": "stream",
       "stream": "stdout",
       "text": [
        "\n",
        "2005-04-20 01:04:00\n",
        "2006-07-06 10:02:00\n",
        "2011-12-06 01:22:00\n",
        "2006-08-16 02:54:00"
       ]
      },
      {
       "output_type": "stream",
       "stream": "stdout",
       "text": [
        "\n",
        "2007-05-25 00:05:00\n",
        "2015-02-18 10:42:00"
       ]
      },
      {
       "output_type": "stream",
       "stream": "stdout",
       "text": [
        "\n",
        "2013-05-06 09:50:00\n",
        "2009-03-17 18:38:00\n",
        "2010-03-25 09:03:00\n",
        "2014-04-03 09:13:00"
       ]
      },
      {
       "output_type": "stream",
       "stream": "stdout",
       "text": [
        "\n",
        "2010-02-19 13:59:00\n",
        "2005-01-04 08:20:00\n",
        "2006-08-18 06:34:00"
       ]
      },
      {
       "output_type": "stream",
       "stream": "stdout",
       "text": [
        "\n",
        "2010-01-20 10:18:00"
       ]
      },
      {
       "output_type": "stream",
       "stream": "stdout",
       "text": [
        "\n",
        "2005-05-24 07:48:00\n",
        "2012-01-19 16:49:00"
       ]
      },
      {
       "output_type": "stream",
       "stream": "stdout",
       "text": [
        "\n",
        "2014-03-28 08:07:00\n",
        "2004-03-17 08:01:00"
       ]
      },
      {
       "output_type": "stream",
       "stream": "stdout",
       "text": [
        "\n",
        "2014-04-25 08:26:00\n",
        "2007-02-15 23:06:00"
       ]
      },
      {
       "output_type": "stream",
       "stream": "stdout",
       "text": [
        "\n",
        "2010-12-28 07:20:00"
       ]
      },
      {
       "output_type": "stream",
       "stream": "stdout",
       "text": [
        "\n",
        "2006-06-14 09:43:00"
       ]
      },
      {
       "output_type": "stream",
       "stream": "stdout",
       "text": [
        "\n",
        "2015-02-09 20:59:00\n",
        "2011-01-27 10:31:00"
       ]
      },
      {
       "output_type": "stream",
       "stream": "stdout",
       "text": [
        "\n",
        "2009-05-05 02:47:00\n",
        "2005-08-08 10:03:00"
       ]
      },
      {
       "output_type": "stream",
       "stream": "stdout",
       "text": [
        "\n",
        "2009-11-23 01:16:00\n",
        "2011-04-20 05:25:00\n",
        "2005-05-23 15:37:00\n",
        "2013-01-25 13:54:00\n"
       ]
      }
     ],
     "prompt_number": 40
    },
    {
     "cell_type": "code",
     "collapsed": false,
     "input": [
      "print testing"
     ],
     "language": "python",
     "metadata": {},
     "outputs": [
      {
       "output_type": "stream",
       "stream": "stdout",
       "text": [
        "[]\n"
       ]
      }
     ],
     "prompt_number": 31
    },
    {
     "cell_type": "code",
     "collapsed": false,
     "input": [
      "\n",
      "# for d in datapoints:"
     ],
     "language": "python",
     "metadata": {},
     "outputs": [],
     "prompt_number": 32
    },
    {
     "cell_type": "code",
     "collapsed": false,
     "input": [],
     "language": "python",
     "metadata": {},
     "outputs": []
    }
   ],
   "metadata": {}
  }
 ]
}