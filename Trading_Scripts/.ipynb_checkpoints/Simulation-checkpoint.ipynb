{
 "metadata": {
  "name": "",
  "signature": "sha256:297b7f4c7594422a2857380a1742f0c2c7399d03407737c1422f7d80fc8153ec"
 },
 "nbformat": 3,
 "nbformat_minor": 0,
 "worksheets": [
  {
   "cells": [
    {
     "cell_type": "raw",
     "metadata": {},
     "source": []
    },
    {
     "cell_type": "code",
     "collapsed": false,
     "input": [
      "import datetime\n",
      "import glob\n",
      "import matplotlib.pyplot as plt\n",
      "from collections import defaultdict\n",
      "import requests\n",
      "%matplotlib inline\n",
      "\n",
      "import random"
     ],
     "language": "python",
     "metadata": {},
     "outputs": [],
     "prompt_number": 7
    },
    {
     "cell_type": "code",
     "collapsed": false,
     "input": [
      "def closest_date(d, dct, direction=\"F\", delta=60, currency_pair=None):\n",
      "    \"\"\"Make delta bigger for faster compute but worse estimate\"\"\"\n",
      "    if currency_pair != None:\n",
      "        p1 = currency_pair[0] + \"-\" + currency_pair[1]\n",
      "        p2 = currency_pair[1] + \"-\" + currency_pair[0]\n",
      "        closest =  dct[d.year][d.month][d.day][d.hour][d.minute][p1]\n",
      "        if str(type(closest)) == \"<type 'collections.defaultdict'>\":\n",
      "            closest =  dct[d.year][d.month][d.day][d.hour][d.minute][p2]\n",
      "    else:\n",
      "        closest =  dct[d.year][d.month][d.day][d.hour][d.minute][p2]\n",
      "    if str(type(closest)) != \"<type 'collections.defaultdict'>\":\n",
      "            return datetime.datetime(d.year,d.month,d.day,d.hour,d.minute)\n",
      "        \n",
      "    if direction == \"F\":\n",
      "        return closest_date(d + datetime.timedelta(seconds=delta), dct, direction=direction, delta=delta, currency_pair=currency_pair)\n",
      "    else:\n",
      "        return closest_date(d - datetime.timedelta(seconds=delta), dct, direction=direction, delta=delta, currency_pair=currency_pair)"
     ],
     "language": "python",
     "metadata": {},
     "outputs": [],
     "prompt_number": 12
    },
    {
     "cell_type": "code",
     "collapsed": false,
     "input": [
      "class Trade(object):\n",
      "    def __init__(self, from_cur, to_cur, date, buy_ammt, buy_or_sell):\n",
      "        self.from_cur = from_cur\n",
      "        self.to_cur = to_cur\n",
      "        self.date = date\n",
      "        self.ammt = buy_ammt\n",
      "        self.buy = buy_or_sell.upper() == \"BUY\""
     ],
     "language": "python",
     "metadata": {},
     "outputs": [],
     "prompt_number": 13
    },
    {
     "cell_type": "code",
     "collapsed": false,
     "input": [
      "\n",
      "tree = lambda: defaultdict(tree)\n",
      "\n",
      "class Simulation(object):\n",
      "    def __init__(self, currencies, trade_start_date):\n",
      "        self.currencies = currencies\n",
      "        self.dates = []\n",
      "        self.pair_names = []\n",
      "        self.dct = tree()\n",
      "        self.asks = {}\n",
      "        self.balances = {}\n",
      "        for cur in currencies:\n",
      "            self.balances[cur] = 0\n",
      "        self.start = trade_start_date\n",
      "        self.dateindex = 0\n",
      "        self.future_trades = []\n",
      "        self.read_data_from_csvs(currencies)\n",
      "\n",
      "        \n",
      "    def dep_currency(self, cur, ammt):\n",
      "        self.balances[cur] += ammt\n",
      "        \n",
      "    def read_data_from_csvs(self, currencies):\n",
      "        for c1 in currencies:\n",
      "            for c2 in currencies:\n",
      "                if c1 != c2:\n",
      "                    files = glob.glob('../Forex_Data/' +c1+\"_\"+c2+'/*/*.csv')[10:12]\n",
      "                    pair_name = c1 + \"-\" + c2\n",
      "                    self.pair_names.append(pair_name)\n",
      "                    for fl in files:\n",
      "                        print fl\n",
      "                        for line in open(fl):\n",
      "                            line = line.strip('\\n').split(' ')\n",
      "                            date = line[0]\n",
      "                            rest  = line[1].split(';')\n",
      "                            time = rest[0]\n",
      "                            ask = rest[1]\n",
      "                            d = datetime.datetime(int(date[:4]), int(date[4:6]), int(date[6:8]), int(time[:2]), int(time[2:4]), int(time[4:]))\n",
      "#                             if pair_name == \"GBP-USD\" and d.month == 2:\n",
      "#                                 print d\n",
      "                            \n",
      "                            self.dct[d.year][d.month][d.day][d.hour][d.minute][pair_name] = [pair_name, ask]\n",
      "                            self.dates.append(d)\n",
      "#                             print d\n",
      "                            if d not in self.asks:\n",
      "                                self.asks[d] = {}\n",
      "                            self.asks[d][pair_name] = ask\n",
      "        self.sorteddates = sorted(self.dates)\n",
      "        self.dateset = sorted(list(set(self.sorteddates)))\n",
      "        \n",
      "    def buy_order_on_date(self, from_cur, to_cur, date, buy_ammt, verbose=False):\n",
      "        return self.buy_order(from_cur, to_cur, self.rate_for_date(date, [from_cur, to_cur]), buy_ammt, verbose=verbose)\n",
      "    \n",
      "    def sell_order_on_date(self, from_cur, to_cur, date, buy_ammt, verbose=False):\n",
      "        return self.sell_order(from_cur, to_cur, self.rate_for_date(date, [from_cur, to_cur]), buy_ammt, verbose=verbose)\n",
      "    \n",
      "    \n",
      "    def buy_order(self, from_cur, to_cur, rate, buy_ammt, verbose=False):\n",
      "        \"\"\"Buy ammount in source currency\"\"\"\n",
      "        \"\"\"Rate is a pair of [CUR1-CUR2, rate]\"\"\"\n",
      "        rateNum = float(rate[1])\n",
      "        c1, c2 = rate[0].split(\"-\")\n",
      "        if verbose:\n",
      "            print \"Starting Bals:\"\n",
      "            for b in self.balances:\n",
      "                print str(b) + \": \" + str(self.balances[b])\n",
      "        ammt = min(buy_ammt, self.balances[from_cur])\n",
      "        if ammt != buy_ammt:\n",
      "#             print \"Not enough money in source currency, completing partial buy\"\n",
      "            pass\n",
      "            \n",
      "        if from_cur == c2:\n",
      "            self.balances[to_cur] += ammt / rateNum\n",
      "            self.balances[from_cur] -= ammt\n",
      "        else:\n",
      "            self.balances[to_cur] += ammt * rateNum \n",
      "            self.balances[from_cur] -= ammt\n",
      "        if verbose:\n",
      "            print \"Ending Bals:\"\n",
      "            for b in self.balances:\n",
      "                print str(b) + \": \" + str(self.balances[b])\n",
      "                \n",
      "    def sell_order(self, from_cur, to_cur, rate, buy_ammt, verbose=False):\n",
      "        \"\"\"Sell ammount in source currency\"\"\"\n",
      "        \"\"\"Rate is a pair of [CUR1-CUR2, rate]\"\"\"\n",
      "        self.buy_order(to_cur, from_cur, rate, buy_ammt, verbose=verbose)\n",
      "                \n",
      "                \n",
      "                \n",
      "    def convert_all_to_USD(self, d):\n",
      "        curs_to_convert = [z for z in self.currencies if z != 'USD']\n",
      "        for cur in curs_to_convert:\n",
      "#             print \"Converting: \" + str(cur)\n",
      "            cl = closest_date(d, self.dct, direction=\"B\", currency_pair=[cur, 'USD'])\n",
      "#             print cl\n",
      "            rate = self.dct[cl.year][cl.month][cl.day][cl.hour][cl.minute]\n",
      "            if cur + \"-USD\" in self.pair_names:\n",
      "                self.buy_order(cur, 'USD', rate[cur + \"-USD\"], self.balances[cur])\n",
      "            else:\n",
      "                self.buy_order(cur, 'USD', rate[\"USD-\"+cur], self.balances[cur])\n",
      "                \n",
      "    def get_money_as_usd(self, d):\n",
      "        bal = 0\n",
      "        curs_to_convert = [z for z in self.currencies if z != 'USD']\n",
      "        bal += self.balances['USD']\n",
      "        for cur in curs_to_convert:\n",
      "#             print \"Converting: \" + str(cur)\n",
      "            cl = closest_date(d, self.dct, direction=\"B\", currency_pair=[cur, 'USD'])\n",
      "#             print cl\n",
      "            rate = self.dct[cl.year][cl.month][cl.day][cl.hour][cl.minute]\n",
      "            print rate\n",
      "            if cur + \"-USD\" in self.pair_names:\n",
      "                try:\n",
      "                    rate = rate[cur + \"-USD\"]\n",
      "                    \n",
      "                    bal += self.balances[cur] * rate\n",
      "#                 self.buy_order(cur, 'USD', rate[cur + \"-USD\"], self.balances[cur])\n",
      "                except:\n",
      "                    rate = rate[\"USD-\" + cur]\n",
      "                    bal += self.balances[cur] * rate\n",
      "\n",
      "        return bal\n",
      "        \n",
      "    def print_balances(self):\n",
      "        for b in self.balances:\n",
      "                print str(b) + \": \" + str(self.balances[b])\n",
      "                \n",
      "    def reset_currencies(self):\n",
      "        for c in self.balances:\n",
      "            self.balances[c] = 0\n",
      "            \n",
      "    def get_next_date(self):\n",
      "        self.dateindex += 1\n",
      "        \n",
      "        for trade in self.future_trades:\n",
      "            if trade.date == self.dateset[self.dateindex - 1]:\n",
      "#                 print \"Executing Trade\"\n",
      "                if trade.buy:\n",
      "                    self.buy_order_on_date(trade.from_cur, trade.to_cur, trade.date, trade.ammt)\n",
      "                else:\n",
      "                    self.sell_order_on_date(trade.from_cur, trade.to_cur, trade.date, trade.ammt)\n",
      "        return self.dateset[self.dateindex - 1]\n",
      "    \n",
      "    def all_rates_for_date(self, d):\n",
      "        z = []\n",
      "        for c in self.pair_names:\n",
      "            z.append(self.rate_for_date(d, c.split('-')))\n",
      "            \n",
      "        ret = [f for f in z if str(type(f)) != \"<type 'collections.defaultdict'>\"]\n",
      "        noDupes = []\n",
      "        for r in ret:\n",
      "            if r not in noDupes:\n",
      "                noDupes.append(r)\n",
      "        return noDupes\n",
      "    \n",
      "    def rate_for_date(self, d, currency_pair):\n",
      "\n",
      "        r = self.dct[d.year][d.month][d.day][d.hour][d.minute][currency_pair[0] + '-' + currency_pair[1]]\n",
      "        if str(type(r)) == \"<type 'collections.defaultdict'>\":\n",
      "            r = self.dct[d.year][d.month][d.day][d.hour][d.minute][currency_pair[1] + '-' + currency_pair[0]]\n",
      "#         print d, r\n",
      "        return r\n",
      "    \n",
      "    \n",
      "    def add_future_trade(self, trade):\n",
      "        self.future_trades.append(trade)"
     ],
     "language": "python",
     "metadata": {},
     "outputs": [],
     "prompt_number": 23
    },
    {
     "cell_type": "code",
     "collapsed": false,
     "input": [
      "d = datetime.datetime(2015,1,8)\n",
      "s = Simulation(['USD', 'GBP', \"EURO\"], d)\n"
     ],
     "language": "python",
     "metadata": {},
     "outputs": [
      {
       "output_type": "stream",
       "stream": "stdout",
       "text": [
        "../Forex_Data/GBP_USD/HISTDATA_COM_ASCII_GBPUSD_M1201501/DAT_ASCII_GBPUSD_M1_201501.csv\n",
        "../Forex_Data/GBP_USD/HISTDATA_COM_ASCII_GBPUSD_M1201502/DAT_ASCII_GBPUSD_M1_201502.csv"
       ]
      },
      {
       "output_type": "stream",
       "stream": "stdout",
       "text": [
        "\n",
        "../Forex_Data/GBP_EURO/HISTDATA_COM_ASCII_EURGBP_M1201501/data.csv"
       ]
      },
      {
       "output_type": "stream",
       "stream": "stdout",
       "text": [
        "\n",
        "../Forex_Data/GBP_EURO/HISTDATA_COM_ASCII_EURGBP_M1201502/data.csv"
       ]
      },
      {
       "output_type": "stream",
       "stream": "stdout",
       "text": [
        "\n",
        "../Forex_Data/EURO_USD/HISTDATA_COM_ASCII_EURUSD_M1201501/DAT_ASCII_EURUSD_M1_201501.csv"
       ]
      },
      {
       "output_type": "stream",
       "stream": "stdout",
       "text": [
        "\n",
        "../Forex_Data/EURO_USD/HISTDATA_COM_ASCII_EURUSD_M1201502/DAT_ASCII_EURUSD_M1_201502.csv"
       ]
      },
      {
       "output_type": "stream",
       "stream": "stdout",
       "text": [
        "\n"
       ]
      }
     ],
     "prompt_number": 24
    },
    {
     "cell_type": "code",
     "collapsed": false,
     "input": [
      "s.reset_currencies()\n",
      "s.dep_currency('USD', 10000.0)\n",
      "# s.dep_currency('GBP', 20.0)\n",
      "s.dep_currency('EURO', 10000.0)\n",
      "\n",
      "s.print_balances()\n"
     ],
     "language": "python",
     "metadata": {},
     "outputs": [
      {
       "output_type": "stream",
       "stream": "stdout",
       "text": [
        "USD: 10000.0\n",
        "GBP: 0\n",
        "EURO: 10000.0\n"
       ]
      }
     ],
     "prompt_number": 25
    },
    {
     "cell_type": "code",
     "collapsed": false,
     "input": [
      "buyTime = datetime.datetime(2015,2,10,10,53,10)\n",
      "sellTime = datetime.datetime(2015,2,12,10,53,10)\n",
      "\n",
      "closestBuy = closest_date(buyTime, s.dct, currency_pair = ['USD', 'EURO'])\n",
      "closestSell = closest_date(sellTime, s.dct,  currency_pair = ['USD', 'EURO'])\n",
      "\n",
      "s.buy_order_on_date('USD','EURO', buyTime, 10)\n",
      "s.sell_order_on_date('EURO','USD', sellTime, 10)"
     ],
     "language": "python",
     "metadata": {},
     "outputs": [],
     "prompt_number": 447
    },
    {
     "cell_type": "code",
     "collapsed": false,
     "input": [
      "d = datetime.datetime(2015,2,10,10,53,10)\n",
      "s.convert_all_to_USD(d)\n",
      "s.print_balances()"
     ],
     "language": "python",
     "metadata": {},
     "outputs": [
      {
       "output_type": "stream",
       "stream": "stdout",
       "text": [
        "USD: 21315.2\n",
        "GBP: 0\n",
        "EURO: 0.0\n"
       ]
      }
     ],
     "prompt_number": 589
    },
    {
     "cell_type": "code",
     "collapsed": false,
     "input": [
      "d = datetime.datetime(2015,1,1,13,2,0)\n",
      "d2 = datetime.datetime(2015,1,2,13,2,0)\n",
      "\n",
      "# t = Trade('USD', 'GBP', d, 100, \"BUY\")\n",
      "# t2 = Trade('GBP', 'USD', d2, 9999, \"BUY\")\n",
      "\n",
      "# s.add_future_trade(t)\n",
      "# s.add_future_trade(t2)\n"
     ],
     "language": "python",
     "metadata": {},
     "outputs": [],
     "prompt_number": 381
    },
    {
     "cell_type": "code",
     "collapsed": false,
     "input": [
      "dates = []\n",
      "dollars = []\n",
      "euros = []\n",
      "prices = []\n",
      "prevdate = None\n",
      "for x in range(len(s.dates)):\n",
      "    \n",
      "    nextdate = s.get_next_date()\n",
      "    if prevdate is None or (nextdate - prevdate).seconds > 3600:\n",
      "        prevdate = nextdate\n",
      "        print nextdate, x\n",
      "    data = {'year': nextdate.year, 'month': nextdate.month, 'day': nextdate.day,\n",
      "            'hour': nextdate.hour, 'minute': nextdate.minute , 'rate': s.rate_for_date(nextdate, ['USD', 'EURO'])}\n",
      "    header = {'content-type': 'application/json'}\n",
      "    if nextdate > s.start and random.randint(1,10) == 5:\n",
      "        predictions = requests.post('http://127.0.0.1:5000/predict', json=data, headers=header).text\n",
      "        pred = float(predictions)\n",
      "        if pred > 0:\n",
      "#             print \"BUYING\"\n",
      "#             print \"Starting: \"\n",
      "#             print s.print_balances()\n",
      "            s.buy_order_on_date('EURO', 'USD', nextdate, 10)\n",
      "            rt = s.rate_for_date(nextdate, ['EURO', 'USD'])\n",
      "            delt = datetime.timedelta(hours=.5)\n",
      "            t = Trade('USD', 'EURO', nextdate + delt, 10/float(rt[1]), \"BUY\")\n",
      "            s.add_future_trade(t)\n",
      "#             s.buy_order_on_date('USD', 'EURO', nextdate + delt, 10)\n",
      "#             print \"Ending: \"\n",
      "#             print s.print_balances()\n",
      "    else:\n",
      "        requests.post('http://127.0.0.1:5000/tick', json=data, headers=header)    \n",
      "    dates.append(nextdate)\n",
      "    dollars.append(s.balances['USD'])\n",
      "    euros.append(s.balances['EURO'])\n",
      "    prices.append(s.rate_for_date(nextdate, ['USD', 'EURO'])[1])\n",
      "\n",
      "s.convert_all_to_USD(d)\n",
      "\n",
      "# nextdate = s.get_next_date()\n",
      "# dates.append(nextdate)\n",
      "# dollars.append(s.balances['USD'])\n",
      "# euros.append(s.balances['EURO'])\n",
      "# prices.append(s.rate_for_date(nextdate, ['USD', 'EURO']))\n",
      "\n",
      "#     print nextdate\n",
      "s.print_balances()\n"
     ],
     "language": "python",
     "metadata": {},
     "outputs": [
      {
       "output_type": "stream",
       "stream": "stdout",
       "text": [
        "2015-01-01 13:00:00 0\n",
        "2015-01-01 14:01:00"
       ]
      },
      {
       "output_type": "stream",
       "stream": "stdout",
       "text": [
        " 40\n",
        "2015-01-01 17:00:00 44\n",
        "2015-01-01 18:01:00"
       ]
      },
      {
       "output_type": "stream",
       "stream": "stdout",
       "text": [
        " 105\n",
        "2015-01-01 19:02:00"
       ]
      },
      {
       "output_type": "stream",
       "stream": "stdout",
       "text": [
        " 166\n",
        "2015-01-01 20:03:00"
       ]
      },
      {
       "output_type": "stream",
       "stream": "stdout",
       "text": [
        " 227\n",
        "2015-01-01 21:04:00"
       ]
      },
      {
       "output_type": "stream",
       "stream": "stdout",
       "text": [
        " 288\n",
        "2015-01-01 22:05:00"
       ]
      },
      {
       "output_type": "stream",
       "stream": "stdout",
       "text": [
        " 349\n",
        "2015-01-01 23:06:00"
       ]
      },
      {
       "output_type": "stream",
       "stream": "stdout",
       "text": [
        " 410\n",
        "2015-01-02 00:07:00"
       ]
      },
      {
       "output_type": "stream",
       "stream": "stdout",
       "text": [
        " 471\n",
        "2015-01-02 01:08:00"
       ]
      },
      {
       "output_type": "stream",
       "stream": "stdout",
       "text": [
        " 532\n",
        "2015-01-02 02:09:00"
       ]
      },
      {
       "output_type": "stream",
       "stream": "stdout",
       "text": [
        " 593\n",
        "2015-01-02 03:10:00"
       ]
      },
      {
       "output_type": "stream",
       "stream": "stdout",
       "text": [
        " 654\n",
        "2015-01-02 04:11:00"
       ]
      },
      {
       "output_type": "stream",
       "stream": "stdout",
       "text": [
        " 715\n",
        "2015-01-02 05:12:00"
       ]
      },
      {
       "output_type": "stream",
       "stream": "stdout",
       "text": [
        " 776\n",
        "2015-01-02 06:13:00"
       ]
      },
      {
       "output_type": "stream",
       "stream": "stdout",
       "text": [
        " 837\n",
        "2015-01-02 07:14:00"
       ]
      },
      {
       "output_type": "stream",
       "stream": "stdout",
       "text": [
        " 898\n",
        "2015-01-02 08:15:00"
       ]
      },
      {
       "output_type": "stream",
       "stream": "stdout",
       "text": [
        " 959\n",
        "2015-01-02 09:16:00"
       ]
      },
      {
       "output_type": "stream",
       "stream": "stdout",
       "text": [
        " 1020\n",
        "2015-01-02 10:17:00"
       ]
      },
      {
       "output_type": "stream",
       "stream": "stdout",
       "text": [
        " 1081\n",
        "2015-01-02 11:18:00"
       ]
      },
      {
       "output_type": "stream",
       "stream": "stdout",
       "text": [
        " 1142\n",
        "2015-01-02 12:19:00"
       ]
      },
      {
       "output_type": "stream",
       "stream": "stdout",
       "text": [
        " 1203\n",
        "2015-01-02 13:20:00"
       ]
      },
      {
       "output_type": "stream",
       "stream": "stdout",
       "text": [
        " 1264\n",
        "2015-01-02 14:21:00"
       ]
      },
      {
       "output_type": "stream",
       "stream": "stdout",
       "text": [
        " 1325\n",
        "2015-01-02 15:22:00"
       ]
      },
      {
       "output_type": "stream",
       "stream": "stdout",
       "text": [
        " 1386\n",
        "2015-01-02 16:23:00"
       ]
      },
      {
       "output_type": "stream",
       "stream": "stdout",
       "text": [
        " 1447\n",
        "2015-01-04 17:24:00"
       ]
      },
      {
       "output_type": "stream",
       "stream": "stdout",
       "text": [
        " 1508\n",
        "2015-01-04 18:25:00"
       ]
      },
      {
       "output_type": "stream",
       "stream": "stdout",
       "text": [
        " 1569\n",
        "2015-01-04 19:26:00"
       ]
      },
      {
       "output_type": "stream",
       "stream": "stdout",
       "text": [
        " 1630\n",
        "2015-01-04 20:27:00"
       ]
      },
      {
       "output_type": "stream",
       "stream": "stdout",
       "text": [
        " 1691\n",
        "2015-01-04 21:28:00"
       ]
      },
      {
       "output_type": "stream",
       "stream": "stdout",
       "text": [
        " 1752\n",
        "2015-01-04 22:29:00"
       ]
      },
      {
       "output_type": "stream",
       "stream": "stdout",
       "text": [
        " 1813\n",
        "2015-01-04 23:30:00"
       ]
      },
      {
       "output_type": "stream",
       "stream": "stdout",
       "text": [
        " 1874\n",
        "2015-01-05 00:31:00"
       ]
      },
      {
       "output_type": "stream",
       "stream": "stdout",
       "text": [
        " 1935\n",
        "2015-01-05 01:32:00"
       ]
      },
      {
       "output_type": "stream",
       "stream": "stdout",
       "text": [
        " 1996\n",
        "2015-01-05 02:33:00"
       ]
      },
      {
       "output_type": "stream",
       "stream": "stdout",
       "text": [
        " 2057\n",
        "2015-01-05 03:34:00"
       ]
      },
      {
       "output_type": "stream",
       "stream": "stdout",
       "text": [
        " 2118\n",
        "2015-01-05 04:35:00"
       ]
      },
      {
       "output_type": "stream",
       "stream": "stdout",
       "text": [
        " 2179\n",
        "2015-01-05 05:36:00"
       ]
      },
      {
       "output_type": "stream",
       "stream": "stdout",
       "text": [
        " 2240\n",
        "2015-01-05 06:37:00"
       ]
      },
      {
       "output_type": "stream",
       "stream": "stdout",
       "text": [
        " 2301\n",
        "2015-01-05 07:38:00"
       ]
      },
      {
       "output_type": "stream",
       "stream": "stdout",
       "text": [
        " 2362\n",
        "2015-01-05 08:39:00"
       ]
      },
      {
       "output_type": "stream",
       "stream": "stdout",
       "text": [
        " 2423\n",
        "2015-01-05 09:40:00"
       ]
      },
      {
       "output_type": "stream",
       "stream": "stdout",
       "text": [
        " 2484\n",
        "2015-01-05 10:41:00"
       ]
      },
      {
       "output_type": "stream",
       "stream": "stdout",
       "text": [
        " 2545\n",
        "2015-01-05 11:42:00"
       ]
      },
      {
       "output_type": "stream",
       "stream": "stdout",
       "text": [
        " 2606\n",
        "2015-01-05 12:43:00"
       ]
      },
      {
       "output_type": "stream",
       "stream": "stdout",
       "text": [
        " 2667\n",
        "2015-01-05 13:44:00"
       ]
      },
      {
       "output_type": "stream",
       "stream": "stdout",
       "text": [
        " 2728\n",
        "2015-01-05 14:45:00"
       ]
      },
      {
       "output_type": "stream",
       "stream": "stdout",
       "text": [
        " 2789\n",
        "2015-01-05 15:46:00"
       ]
      },
      {
       "output_type": "stream",
       "stream": "stdout",
       "text": [
        " 2850\n",
        "2015-01-05 16:47:00"
       ]
      },
      {
       "output_type": "stream",
       "stream": "stdout",
       "text": [
        " 2911\n",
        "2015-01-05 17:48:00"
       ]
      },
      {
       "output_type": "stream",
       "stream": "stdout",
       "text": [
        " 2972\n",
        "2015-01-05 18:49:00"
       ]
      },
      {
       "output_type": "stream",
       "stream": "stdout",
       "text": [
        " 3033\n",
        "2015-01-05 19:50:00"
       ]
      },
      {
       "output_type": "stream",
       "stream": "stdout",
       "text": [
        " 3094\n",
        "2015-01-05 20:51:00"
       ]
      },
      {
       "output_type": "stream",
       "stream": "stdout",
       "text": [
        " 3155\n",
        "2015-01-05 21:52:00"
       ]
      },
      {
       "output_type": "stream",
       "stream": "stdout",
       "text": [
        " 3216\n",
        "2015-01-05 22:53:00"
       ]
      },
      {
       "output_type": "stream",
       "stream": "stdout",
       "text": [
        " 3277\n",
        "2015-01-05 23:54:00"
       ]
      },
      {
       "output_type": "stream",
       "stream": "stdout",
       "text": [
        " 3338\n",
        "2015-01-06 00:55:00"
       ]
      }
     ]
    },
    {
     "cell_type": "code",
     "collapsed": false,
     "input": [
      "print nextdate\n",
      "plt.plot(dates, dollars)\n",
      "plt.plot(dates, euros)\n",
      "\n",
      "plt.show()"
     ],
     "language": "python",
     "metadata": {},
     "outputs": [
      {
       "output_type": "stream",
       "stream": "stdout",
       "text": [
        "2015-01-06 02:35:00\n"
       ]
      },
      {
       "metadata": {},
       "output_type": "display_data",
       "png": "[encoded data removed]",
       "text": [
        "<matplotlib.figure.Figure at 0x1093cbb10>"
       ]
      }
     ],
     "prompt_number": 600
    },
    {
     "cell_type": "code",
     "collapsed": false,
     "input": [
      "# print len(dates), len(prices)\n",
      "# plt.plot(dates, prices)\n",
      "\n",
      "# plt.show()"
     ],
     "language": "python",
     "metadata": {},
     "outputs": [],
     "prompt_number": 604
    },
    {
     "cell_type": "code",
     "collapsed": false,
     "input": [
      "print nextdate"
     ],
     "language": "python",
     "metadata": {},
     "outputs": []
    },
    {
     "cell_type": "raw",
     "metadata": {},
     "source": [
      "print nextdate"
     ]
    },
    {
     "cell_type": "code",
     "collapsed": false,
     "input": [
      "d = datetime.datetime(2015,1,2,13,2,0)\n",
      "# print s.get_money_as_usd(d)\n",
      "s.convert_all_to_USD(d)\n",
      "s.print_balances()"
     ],
     "language": "python",
     "metadata": {},
     "outputs": [
      {
       "output_type": "stream",
       "stream": "stdout",
       "text": [
        "USD: 142.7206\n",
        "GBP: 0.0\n",
        "EURO: 0.0\n"
       ]
      }
     ],
     "prompt_number": 454
    },
    {
     "cell_type": "code",
     "collapsed": false,
     "input": [],
     "language": "python",
     "metadata": {},
     "outputs": [],
     "prompt_number": 262
    },
    {
     "cell_type": "code",
     "collapsed": false,
     "input": [],
     "language": "python",
     "metadata": {},
     "outputs": []
    }
   ],
   "metadata": {}
  }
 ]
}