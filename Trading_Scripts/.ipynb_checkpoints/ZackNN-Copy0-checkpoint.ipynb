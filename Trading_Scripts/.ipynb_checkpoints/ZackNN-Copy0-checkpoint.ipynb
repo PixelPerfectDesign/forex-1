{
 "metadata": {
  "name": "",
  "signature": "sha256:99b462152447e4639eb3960727790207b8d65a8b42b6c0c718bb1fe609bface8"
 },
 "nbformat": 3,
 "nbformat_minor": 0,
 "worksheets": [
  {
   "cells": [
    {
     "cell_type": "code",
     "collapsed": false,
     "input": [
      "import glob\n",
      "import pybrain\n",
      "from pybrain.structure import FeedForwardNetwork\n",
      "from pybrain.structure import LinearLayer, SigmoidLayer\n",
      "from pybrain.structure import FullConnection\n",
      "from pybrain.datasets import SupervisedDataSet\n",
      "from pybrain.supervised.trainers import BackpropTrainer\n",
      "import matplotlib.pyplot as plt\n",
      "import datetime\n",
      "%matplotlib inline\n",
      "import random\n",
      "import ast\n",
      "import time\n",
      "import sqlalchemy\n",
      "from sqlalchemy import *\n",
      "from sqlalchemy import event\n",
      "import sqlite3\n",
      "from sqlalchemy.ext.declarative import declarative_base\n",
      "from sqlalchemy.orm import *\n",
      "from sqlalchemy.dialects.mysql import LONGTEXT\n",
      "import urllib2\n",
      "import urllib\n",
      "import json\n",
      "import glob\n",
      "import pprint\n",
      "import dateutil.parser\n",
      "import pprint\n",
      "import re\n",
      "from sklearn import linear_model, datasets\n",
      "import time\n",
      "from sklearn.naive_bayes import GaussianNB\n",
      "import nltk\n",
      "from collections import defaultdict\n",
      "from sklearn import svm\n",
      "pp = pprint.PrettyPrinter(indent=4)\n",
      "import gevent.monkey\n",
      "gevent.monkey.patch_socket()\n",
      "\n"
     ],
     "language": "python",
     "metadata": {},
     "outputs": [],
     "prompt_number": 1
    },
    {
     "cell_type": "code",
     "collapsed": false,
     "input": [],
     "language": "python",
     "metadata": {},
     "outputs": [],
     "prompt_number": 2
    },
    {
     "cell_type": "code",
     "collapsed": false,
     "input": [],
     "language": "python",
     "metadata": {},
     "outputs": [],
     "prompt_number": 3
    },
    {
     "cell_type": "code",
     "collapsed": false,
     "input": [],
     "language": "python",
     "metadata": {},
     "outputs": [],
     "prompt_number": 4
    },
    {
     "cell_type": "code",
     "collapsed": false,
     "input": [],
     "language": "python",
     "metadata": {},
     "outputs": [],
     "prompt_number": 5
    },
    {
     "cell_type": "code",
     "collapsed": false,
     "input": [],
     "language": "python",
     "metadata": {},
     "outputs": [],
     "prompt_number": 5
    },
    {
     "cell_type": "code",
     "collapsed": false,
     "input": [],
     "language": "python",
     "metadata": {},
     "outputs": [],
     "prompt_number": 6
    },
    {
     "cell_type": "code",
     "collapsed": false,
     "input": [],
     "language": "python",
     "metadata": {},
     "outputs": [],
     "prompt_number": 6
    },
    {
     "cell_type": "code",
     "collapsed": false,
     "input": [],
     "language": "python",
     "metadata": {},
     "outputs": [],
     "prompt_number": 7
    },
    {
     "cell_type": "code",
     "collapsed": false,
     "input": [
      "grouped_data = defaultdict(list)\n",
      "for i in raw_data:\n",
      "     grouped_data[i[0].date()].append((i[1] + i[2]) / 2)"
     ],
     "language": "python",
     "metadata": {},
     "outputs": [],
     "prompt_number": 9
    },
    {
     "cell_type": "code",
     "collapsed": false,
     "input": [
      "print \"there are %s days of forex data loaded\" % len(grouped_data)"
     ],
     "language": "python",
     "metadata": {},
     "outputs": [
      {
       "output_type": "stream",
       "stream": "stdout",
       "text": [
        "there are 2672 days of forex data loaded\n"
       ]
      }
     ],
     "prompt_number": 10
    },
    {
     "cell_type": "code",
     "collapsed": false,
     "input": [
      "from dateutil.relativedelta import relativedelta\n",
      "import datetime\n",
      "\n",
      "six_months = datetime.date.today() + relativedelta(months=-11)"
     ],
     "language": "python",
     "metadata": {},
     "outputs": [],
     "prompt_number": 11
    },
    {
     "cell_type": "code",
     "collapsed": false,
     "input": [
      "print len(grouped_data[six_months])"
     ],
     "language": "python",
     "metadata": {},
     "outputs": [
      {
       "output_type": "stream",
       "stream": "stdout",
       "text": [
        "1421\n"
       ]
      }
     ],
     "prompt_number": 12
    },
    {
     "cell_type": "code",
     "collapsed": false,
     "input": [
      "print six_months"
     ],
     "language": "python",
     "metadata": {},
     "outputs": [
      {
       "output_type": "stream",
       "stream": "stdout",
       "text": [
        "2014-04-01\n"
       ]
      }
     ],
     "prompt_number": 13
    },
    {
     "cell_type": "code",
     "collapsed": false,
     "input": [],
     "language": "python",
     "metadata": {},
     "outputs": [],
     "prompt_number": 13
    },
    {
     "cell_type": "code",
     "collapsed": false,
     "input": [
      "moving_average = defaultdict(list)\n",
      "\n",
      "for key, value in grouped_data.iteritems():\n",
      "    if len(value) > 1000:\n",
      "        interval = len(value) / 19\n",
      "        moving_average[key].append(value[0])\n",
      "        for i in range(1,18):\n",
      "            nearby = (value[i*interval - interval/2 : i*interval + interval/2])\n",
      "            average = sum(nearby) / len(nearby)\n",
      "            moving_average[key].append(average)\n",
      "        \n",
      "        moving_average[key].append(value[len(value)-1])"
     ],
     "language": "python",
     "metadata": {},
     "outputs": [],
     "prompt_number": 14
    },
    {
     "cell_type": "code",
     "collapsed": false,
     "input": [
      "moving_average_list = []\n",
      "for key in sort(moving_average.keys()):\n",
      "    moving_average_list.append(moving_average[key])"
     ],
     "language": "python",
     "metadata": {},
     "outputs": [],
     "prompt_number": 118
    },
    {
     "cell_type": "code",
     "collapsed": false,
     "input": [
      "direction_list = []\n",
      "for item in moving_average_list:\n",
      "    direction_list.append(0 if item[0] - item[len(item)-1] > 0 else 1)"
     ],
     "language": "python",
     "metadata": {},
     "outputs": [],
     "prompt_number": 120
    },
    {
     "cell_type": "code",
     "collapsed": false,
     "input": [
      "plot([item[0] for item in moving_average_list[1:50]])\n",
      "plot([1.3 if item < 1 else 1.2 for item in direction_list[1:50]])"
     ],
     "language": "python",
     "metadata": {},
     "outputs": [
      {
       "metadata": {},
       "output_type": "pyout",
       "prompt_number": 138,
       "text": [
        "[<matplotlib.lines.Line2D at 0x7fb600b784d0>]"
       ]
      },
      {
       "metadata": {},
       "output_type": "display_data",
       "png": "[encoded data removed]",
       "text": [
        "<matplotlib.figure.Figure at 0x7fb600b78550>"
       ]
      }
     ],
     "prompt_number": 138
    },
    {
     "cell_type": "code",
     "collapsed": false,
     "input": [],
     "language": "python",
     "metadata": {},
     "outputs": [],
     "prompt_number": 134
    },
    {
     "cell_type": "code",
     "collapsed": false,
     "input": [
      "#direction = {}\n",
      "#for key, item in moving_average.iteritems():\n",
      "#    direction[key] = 0 if item[0] - item[len(item)-1] > 0 else 1"
     ],
     "language": "python",
     "metadata": {},
     "outputs": [],
     "prompt_number": 67
    },
    {
     "cell_type": "code",
     "collapsed": false,
     "input": [
      "direction[six_months]"
     ],
     "language": "python",
     "metadata": {},
     "outputs": [
      {
       "metadata": {},
       "output_type": "pyout",
       "prompt_number": 68,
       "text": [
        "0"
       ]
      }
     ],
     "prompt_number": 68
    },
    {
     "cell_type": "code",
     "collapsed": false,
     "input": [
      "sum(direction.values())"
     ],
     "language": "python",
     "metadata": {},
     "outputs": [
      {
       "metadata": {},
       "output_type": "pyout",
       "prompt_number": 69,
       "text": [
        "990"
       ]
      }
     ],
     "prompt_number": 69
    },
    {
     "cell_type": "code",
     "collapsed": false,
     "input": [],
     "language": "python",
     "metadata": {},
     "outputs": [],
     "prompt_number": 117
    },
    {
     "cell_type": "code",
     "collapsed": false,
     "input": [
      "for key, value in enumerate(moving_average_list):\n",
      "    direction =  direction_list[key]\n",
      "    direction2 = value[len(value)-1] - value[0]\n",
      "    print direction, direction2"
     ],
     "language": "python",
     "metadata": {},
     "outputs": [
      {
       "output_type": "stream",
       "stream": "stdout",
       "text": [
        "1 0.00180000\n",
        "0 -0.00780000\n",
        "1 0.00750000\n",
        "0 -0.00455000\n",
        "1 0.00570000\n",
        "1 0.00285000\n",
        "0 -0.00855000\n",
        "1 0.01110000\n",
        "1 0.00120000\n",
        "0 -0.00505000\n",
        "0 -0.00660000\n",
        "1 0.00265000\n",
        "1 0.00060000\n",
        "1 0.00815000\n",
        "1 0.00260000\n",
        "0 -0.00055000\n",
        "0 -0.00195000\n",
        "0 -0.00135000\n",
        "1 0.00075000\n",
        "1 0.00205000\n",
        "1 0.00235000\n",
        "1 0.00175000\n",
        "0 -0.00070000\n",
        "1 0.01010000\n",
        "0 -0.00435000\n",
        "1 0.00325000\n",
        "0 -0.00060000\n",
        "0 -0.00290000\n",
        "0 -0.00625000\n",
        "1 0.00415000\n",
        "0 -0.00430000\n",
        "0 -0.00710000\n",
        "1 0.00550000\n",
        "1 0.00540000\n",
        "0 -0.00240000\n",
        "1 0.00135000\n",
        "0 -0.00820000\n",
        "1 0.00235000\n",
        "1 0.00285000\n",
        "1 0.00125000\n",
        "1 0.00475000\n",
        "1 0.00075000\n",
        "0 -0.00390000\n",
        "0 -0.00355000\n",
        "0 -0.00065000\n",
        "1 0.00035000\n",
        "0 -0.00940000\n",
        "1 0.00690000\n",
        "0 -0.00300000\n",
        "0 -0.00630000\n",
        "0 -0.00685000\n",
        "1 0.00175000\n",
        "0 -0.00515000\n",
        "1 0.00090000\n",
        "0 -0.00605000\n",
        "0 -0.00110000\n",
        "1 0.00115000\n",
        "0 -0.00910000\n",
        "1 0.00450000\n",
        "1 0.00125000\n",
        "0 -0.00150000\n",
        "1 0.00540000\n",
        "1 0.00335000\n",
        "0 -0.00560000\n",
        "0 -0.00715000\n",
        "0 -0.00175000\n",
        "0 -0.00045000\n",
        "0 -0.00550000\n",
        "1 0.00170000\n",
        "0 -0.00775000\n",
        "0 -0.00090000\n",
        "1 0.00030000\n",
        "1 0.00170000\n",
        "1 0.00210000\n",
        "0 -0.01060000\n",
        "0 -0.00235000\n",
        "1 0.00690000\n",
        "1 0.00655000\n",
        "1 0.00025000\n",
        "0 -0.01360000\n",
        "1 0.00340000\n",
        "0 -0.00035000\n",
        "1 0.00140000\n",
        "0 -0.00420000\n",
        "0 -0.00500000\n",
        "1 0.01195000\n",
        "1 0.00965000\n",
        "0 -0.00425000\n",
        "1 0.00705000\n",
        "1 0.00160000\n",
        "1 0.00535000\n",
        "0 -0.00070000\n",
        "1 0.00170000\n",
        "0 -0.00450000\n",
        "0 -0.00290000\n",
        "1 0.00290000\n",
        "0 -0.00920000\n",
        "1 0.00730000\n",
        "1 0.00400000\n",
        "0 -0.00580000\n",
        "1 0.00050000\n",
        "0 -0.00725000\n",
        "1 0.00105000\n",
        "1 0.00140000\n",
        "0 -0.00620000\n",
        "0 -0.00355000\n",
        "0 -0.00175000\n",
        "1 0.00570000\n",
        "0 -0.00715000\n",
        "0 -0.01010000\n",
        "0 -0.00055000\n",
        "1 0.00350000\n",
        "1 0.00115000\n",
        "1 0.00060000\n",
        "0 -0.00005000\n",
        "0 -0.00420000\n",
        "0 -0.00015000\n",
        "1 0.00525000\n",
        "1 0.00460000\n",
        "0 -0.00270000\n",
        "0 -0.00485000\n",
        "1 0.00265000\n",
        "0 -0.00745000\n",
        "0 -0.00085000\n",
        "0 -0.00335000\n",
        "0 -0.00655000\n",
        "1 0.00175000\n",
        "0 -0.00255000\n",
        "0 -0.00710000\n",
        "1 0.00670000\n",
        "0 -0.00630000\n",
        "0 -0.00250000\n",
        "1 0.00315000\n",
        "0 -0.00195000\n",
        "0 -0.00105000\n",
        "1 0.00315000\n",
        "0 -0.00325000\n",
        "0 -0.00540000\n",
        "0 -0.00065000\n",
        "0 -0.00435000\n",
        "0 -0.00500000\n",
        "1 0.00240000\n",
        "0 -0.00470000\n",
        "0 -0.00210000\n",
        "0 -0.00155000\n",
        "1 0.00245000\n",
        "0 -0.00750000\n",
        "0 -0.00120000\n",
        "1 0.00470000\n",
        "0 -0.00065000\n",
        "1 0.00840000\n",
        "0 -0.00310000\n",
        "1 0.00550000\n",
        "1 0.00700000\n",
        "1 0.00140000\n",
        "1 0.00510000\n",
        "0 -0.00510000\n",
        "1 0.00645000\n",
        "1 0.00615000\n",
        "1 0.00065000\n",
        "1 0.00265000\n",
        "0 -0.00165000\n",
        "1 0.00175000\n",
        "0 -0.00205000\n",
        "1 0.00185000\n",
        "1 0.00845000\n",
        "1 0.00605000\n",
        "0 -0.00100000\n",
        "0 -0.00090000\n",
        "0 -0.00140000\n",
        "1 0.00375000\n",
        "1 0.00020000\n",
        "1 0.00240000\n",
        "0 -0.00235000\n",
        "1 0.00220000\n",
        "0 -0.00900000\n",
        "0 -0.01220000\n",
        "0 -0.00190000\n",
        "0 -0.00270000\n",
        "0 -0.00390000\n",
        "1 0.00255000\n",
        "1 0.00020000\n",
        "1 0.00150000\n",
        "1 0.00110000\n",
        "1 0.01030000\n",
        "0 -0.00365000\n",
        "0 -0.00820000\n",
        "1 0.00545000\n",
        "1 0.00010000\n",
        "0 -0.00460000\n",
        "1 0.00085000\n",
        "1 0.00575000\n",
        "1 0.01385000\n",
        "1 0.00900000\n",
        "1 0.00990000\n",
        "1 0.01145000\n",
        "0 -0.00080000\n",
        "0 -0.00615000\n",
        "1 0.00185000\n",
        "1 0.00055000\n",
        "0 -0.00825000\n",
        "0 -0.00160000\n",
        "1 0.00400000\n",
        "1 0.00400000\n",
        "0 -0.00705000\n",
        "0 -0.00140000\n",
        "1 0.00300000\n",
        "0 -0.00100000\n",
        "0 -0.00310000\n",
        "0 -0.00205000\n",
        "0 -0.00330000\n",
        "0 -0.00370000\n",
        "0 -0.00555000\n",
        "1 0.00250000\n",
        "1 0.00195000\n",
        "0 -0.01180000\n",
        "0 -0.00010000\n",
        "0 -0.00985000\n",
        "1 0.00245000\n",
        "0 -0.00585000\n",
        "1 0E-8\n",
        "0 -0.00300000\n",
        "1 0.00480000\n",
        "1 0.00370000\n",
        "1 0.00860000\n",
        "0 -0.00450000\n",
        "1 0.01135000\n",
        "0 -0.00905000\n",
        "0 -0.00435000\n",
        "0 -0.00390000\n",
        "0 -0.00330000\n",
        "1 0.00260000\n",
        "0 -0.00605000\n",
        "0 -0.00705000\n",
        "1 0.01135000\n",
        "0 -0.00665000\n",
        "0 -0.00075000\n",
        "0 -0.00605000\n",
        "1 0.00020000\n",
        "0 -0.00320000\n",
        "0 -0.00260000\n",
        "1 0.00210000\n",
        "1 0.00120000\n",
        "0 -0.01530000\n",
        "1 0.00010000\n",
        "0 -0.00840000\n",
        "1 0.00690000\n",
        "0 -0.00865000\n",
        "0 -0.00215000\n",
        "1 0.00580000\n",
        "0 -0.00040000\n",
        "0 -0.01730000\n",
        "0 -0.00205000\n",
        "0 -0.00630000\n",
        "0 -0.00475000\n",
        "1 0.00525000\n",
        "0 -0.00030000\n",
        "1 0.00820000\n",
        "0 -0.00030000\n",
        "0 -0.00890000\n",
        "1 0.01345000\n",
        "1 0.00080000\n",
        "0 -0.00835000\n",
        "1 0.00680000\n",
        "0 -0.00665000\n",
        "1 0.01020000\n",
        "1 0.00395000\n",
        "0 -0.00195000\n",
        "1 0.00430000\n",
        "1 0.00180000\n",
        "0 -0.01190000\n",
        "0 -0.00760000\n",
        "0 -0.00315000\n",
        "1 0.00270000\n",
        "0 -0.00230000\n",
        "1 0.00365000\n",
        "0 -0.01315000\n",
        "0 -0.00530000\n",
        "1 0.00380000\n",
        "1 0.01785000\n",
        "1 0.00095000\n",
        "1 0.01180000\n",
        "0 -0.02140000\n",
        "1 0.00110000\n",
        "0 -0.01350000\n",
        "0 -0.00950000\n",
        "1 0.00045000\n",
        "0 -0.00735000\n",
        "0 -0.00270000\n",
        "0 -0.00010000\n",
        "1 0.01725000\n",
        "1 0.00275000\n",
        "1 0.01325000\n",
        "1 0.00260000\n",
        "0 -0.00665000\n",
        "1 0.00060000\n",
        "0 -0.00695000\n",
        "1 0.00240000\n",
        "0 -0.00575000\n",
        "1 0.00040000\n",
        "0 -0.00875000\n",
        "0 -0.00135000\n",
        "0 -0.01690000\n",
        "0 -0.01175000\n",
        "0 -0.00670000\n",
        "1 0.00220000\n",
        "0 -0.00130000\n",
        "0 -0.00830000\n",
        "0 -0.01015000\n",
        "1 0.00200000\n",
        "1 0.00025000\n",
        "0 -0.02055000\n",
        "0 -0.00340000\n",
        "0 -0.00720000\n",
        "1 0.00555000\n",
        "1 0.00995000\n",
        "1 0.00875000\n",
        "1 0.01825000\n",
        "0 -0.02085000\n",
        "0 -0.00775000\n",
        "0 -0.01805000\n",
        "1 0.00220000\n",
        "1 0.00245000\n",
        "1 0.01765000\n",
        "0 -0.00435000\n",
        "0 -0.00105000\n",
        "0 -0.00850000\n",
        "1 0.00510000\n",
        "0 -0.01400000\n",
        "1 0.00720000\n",
        "0 -0.01110000\n",
        "1 0.00405000\n",
        "0 -0.01600000\n",
        "1 0.00515000\n",
        "0 -0.00880000\n",
        "0 -0.00780000\n",
        "1 0.01450000\n",
        "1 0.01545000\n",
        "1 0.00645000\n",
        "0 -0.00145000\n",
        "1 0.00790000\n",
        "0 -0.00650000\n",
        "1 0.01845000\n",
        "0 -0.00550000\n",
        "1 0.00165000\n",
        "1 0.01950000\n",
        "0 -0.00915000\n",
        "0 -0.01235000\n",
        "1 0.00820000\n",
        "0 -0.00075000\n",
        "0 -0.00080000\n",
        "1 0.00345000\n",
        "0 -0.01370000\n",
        "0 -0.01040000\n",
        "1 0.00395000\n",
        "0 -0.00255000\n",
        "1 0.00920000\n",
        "1 0.00600000\n",
        "1 0.01180000\n",
        "1 0.00030000\n",
        "1 0.00825000\n",
        "1 0.00560000\n",
        "0 -0.01865000\n",
        "1 0.02010000\n",
        "1 0.01055000\n",
        "0 -0.00105000\n",
        "1 0.00355000\n",
        "0 -0.01325000\n",
        "1 0.00245000\n",
        "0 -0.00605000\n",
        "1 0.00565000\n",
        "1 0.00995000\n",
        "0 -0.00540000\n",
        "0 -0.01060000\n",
        "0 -0.00560000\n",
        "1 0.00300000\n",
        "0 -0.00475000\n",
        "0 -0.00755000\n",
        "1 0.01615000\n",
        "0 -0.00635000\n",
        "1 0.00460000\n",
        "0 -0.00635000\n",
        "0 -0.00675000\n",
        "0 -0.00370000\n",
        "1 0.00355000\n",
        "1 0.00550000\n",
        "1 0.00050000\n",
        "0 -0.00550000\n",
        "1 0.01280000\n",
        "1 0.00985000\n",
        "1 0.00050000\n",
        "0 -0.00225000\n",
        "1 0.01565000\n",
        "0 -0.00010000\n",
        "1 0.00155000\n",
        "1 0.00530000\n",
        "1 0.00415000\n",
        "1 0.00600000\n",
        "1 0.02170000\n",
        "1 0.02075000\n",
        "1 0.01020000\n",
        "0 -0.00490000\n",
        "1 0.00345000\n",
        "1 0.01220000\n",
        "1 0.00710000\n",
        "0 -0.00765000\n",
        "0 -0.00060000\n",
        "0 -0.00935000\n",
        "1 0.00100000\n",
        "0 -0.00220000\n",
        "0 -0.00585000\n",
        "1 0.00500000\n",
        "1 0.00685000\n",
        "1 0.00775000\n",
        "0 -0.00200000\n",
        "1 0.02335000\n",
        "1 0.03210000\n",
        "0 -0.00475000\n",
        "1 0.01820000\n",
        "0 -0.00470000\n",
        "0 -0.02180000\n",
        "1 0.02485000\n",
        "1 0.00300000\n",
        "0 -0.01980000\n",
        "1 0.01470000\n",
        "0 -0.02535000\n",
        "0 -0.02430000\n",
        "1 0.00985000\n",
        "0 -0.00265000\n",
        "1 0.00365000\n",
        "1 0.00605000\n",
        "1 0.01410000\n",
        "1 0.02305000\n",
        "1 0.01525000\n",
        "1 0.01365000\n",
        "1 0.00720000\n",
        "1 0.00515000\n",
        "0 -0.00105000\n",
        "0 -0.00745000\n",
        "1 0.01290000\n",
        "1 0.01320000\n",
        "0 -0.01490000\n",
        "1 0.01050000\n",
        "1 0.01055000\n",
        "1 0.00085000\n",
        "1 0.00545000\n",
        "1 0.01255000\n",
        "1 0.04110000\n",
        "1 0.01635000\n",
        "0 -0.00190000\n",
        "1 0.01435000\n",
        "1 0.01645000\n",
        "0 -0.02850000\n",
        "0 -0.05100000\n",
        "1 0.03770000\n",
        "1 0.01340000\n",
        "1 0.02650000\n",
        "0 -0.02665000\n",
        "0 -0.00320000\n",
        "1 0.01135000\n",
        "1 0.00370000\n",
        "1 0.01500000\n",
        "1 0.01660000\n",
        "1 0.01135000\n",
        "0 -0.02695000\n",
        "1 0.01250000\n",
        "0 -0.00490000\n",
        "0 -0.00025000\n",
        "1 0.01315000\n",
        "0 -0.00005000\n",
        "0 -0.01000000\n",
        "0 -0.02060000\n",
        "0 -0.01280000\n",
        "1 0.00570000\n",
        "1 0.00130000\n",
        "1 0.00345000\n",
        "0 -0.00480000\n",
        "1 0.00280000\n",
        "0 -0.00735000\n",
        "1 0.00285000\n",
        "0 -0.01140000\n",
        "0 -0.00855000\n",
        "0 -0.00910000\n",
        "0 -0.03200000\n",
        "0 -0.00020000\n",
        "0 -0.02400000\n",
        "0 -0.04160000\n",
        "0 -0.02945000\n",
        "1 0.01750000\n",
        "1 0.03540000\n",
        "0 -0.00040000\n",
        "1 0.00205000\n",
        "1 0.00535000\n",
        "1 0.00160000\n",
        "0 -0.00520000\n",
        "1 0.03265000\n",
        "1 0.00335000\n",
        "0 -0.01175000\n",
        "0 -0.00185000\n",
        "1 0.01700000\n",
        "1 0.00585000\n",
        "1 0.00695000\n",
        "1 0.00805000\n",
        "0 -0.00420000\n",
        "0 -0.00445000\n",
        "1 0.03485000\n",
        "1 0.00315000\n",
        "0 -0.00695000\n",
        "1 0.00990000\n",
        "0 -0.00235000\n",
        "0 -0.02660000\n",
        "0 -0.00445000\n",
        "1 0.01395000\n",
        "1 0.02345000\n",
        "1 0.00795000\n",
        "0 -0.01515000\n",
        "0 -0.01315000\n",
        "1 0.01720000\n",
        "1 0.00510000\n",
        "0 -0.01580000\n",
        "1 0.01295000\n",
        "0 -0.00700000\n",
        "0 -0.00230000\n",
        "0 -0.00180000\n",
        "1 0.00640000\n",
        "1 0.01150000\n",
        "1 0.00540000\n",
        "1 0.00125000\n",
        "0 -0.00125000\n",
        "0 -0.02395000\n",
        "1 0.01805000\n",
        "0 -0.01065000\n",
        "1 0.00950000\n",
        "1 0.00005000\n",
        "1 0.00595000\n",
        "0 -0.00455000\n",
        "1 0.01305000\n",
        "0 -0.01295000\n",
        "1 0.00385000\n",
        "0 -0.00705000\n",
        "0 -0.00025000\n",
        "1 0.00085000\n",
        "0 -0.01610000\n",
        "0 -0.00960000\n",
        "0 -0.00035000\n",
        "0 -0.01110000\n",
        "0 -0.00410000\n",
        "0 -0.04105000\n",
        "0 -0.02035000\n",
        "1 0.00755000\n",
        "1 0.00090000\n",
        "1 0.01655000\n",
        "0 -0.00820000\n",
        "0 -0.00010000\n",
        "1 0.02790000\n",
        "1 0.00160000\n",
        "1 0.00465000\n",
        "0 -0.00640000\n",
        "0 -0.01675000\n",
        "0 -0.00405000\n",
        "1 0.02050000\n",
        "1 0.01645000\n",
        "0 -0.00625000\n",
        "1 0.01285000\n",
        "0 -0.01645000\n",
        "1 0.00855000\n",
        "1 0.00275000\n",
        "1 0.00985000\n",
        "1 0.00780000\n",
        "1 0.00640000\n",
        "1 0.00125000\n",
        "0 -0.00720000\n",
        "0 -0.01480000\n",
        "0 -0.00935000\n",
        "1 0.01420000\n",
        "0 -0.01640000\n",
        "0 -0.01260000\n",
        "1 0.00535000\n",
        "0 -0.00490000\n",
        "1 0.00965000\n",
        "0 -0.00135000\n",
        "0 -0.00895000\n",
        "0 -0.02670000\n",
        "1 0.00560000\n",
        "0 -0.00895000\n",
        "1 0.01370000\n",
        "0 -0.00825000\n",
        "1 0.01410000\n",
        "0 -0.01235000\n",
        "0 -0.00425000\n",
        "0 -0.01740000\n",
        "0 -0.01395000\n",
        "1 0.00155000\n",
        "0 -0.00055000\n",
        "1 0.01600000\n",
        "0 -0.01655000\n",
        "0 -0.01785000\n",
        "0 -0.00250000\n",
        "0 -0.01370000\n",
        "1 0.01390000\n",
        "0 -0.00360000\n",
        "1 0.02310000\n",
        "1 0.01135000\n",
        "0 -0.02015000\n",
        "1 0.00450000\n",
        "0 -0.00725000\n",
        "1 0.00805000\n",
        "1 0.01565000\n",
        "0 -0.00640000\n",
        "0 -0.00925000\n",
        "1 0.00390000\n",
        "0 -0.00205000\n",
        "1 0.00460000\n",
        "0 -0.02255000\n",
        "1 0.01200000\n",
        "0 -0.00750000\n",
        "0 -0.00165000\n",
        "0 -0.00815000\n",
        "1 0.00735000\n",
        "0 -0.00770000\n",
        "1 0.01290000\n",
        "0 -0.00080000\n",
        "1 0.00720000\n",
        "1 0.00065000\n",
        "0 -0.00800000\n",
        "1 0.00410000\n",
        "0 -0.00550000\n",
        "0 -0.00020000\n",
        "0 -0.00915000\n",
        "0 -0.00440000\n",
        "1 0.00115000\n",
        "0 -0.00520000\n",
        "1 0.00125000\n",
        "0 -0.00360000\n"
       ]
      },
      {
       "output_type": "stream",
       "stream": "stdout",
       "text": [
        "1 0.00730000\n",
        "0 -0.00125000\n",
        "1 0.00735000\n",
        "1 0.01145000\n",
        "0 -0.00730000\n",
        "0 -0.01305000\n",
        "0 -0.01525000\n",
        "0 -0.00195000\n",
        "1 0.00135000\n",
        "1 0.00380000\n",
        "1 0.00605000\n",
        "0 -0.00015000\n",
        "0 -0.00765000\n",
        "0 -0.00495000\n",
        "1 0.00510000\n",
        "0 -0.00335000\n",
        "0 -0.00825000\n",
        "0 -0.00005000\n",
        "0 -0.01010000\n",
        "1 0.00345000\n",
        "1 0.00005000\n",
        "1 0.00580000\n",
        "0 -0.01110000\n",
        "0 -0.00660000\n",
        "1 0.01405000\n",
        "0 -0.00600000\n",
        "1 0.00225000\n",
        "0 -0.00085000\n",
        "0 -0.01420000\n",
        "0 -0.00935000\n",
        "0 -0.00300000\n",
        "1 0.00315000\n",
        "0 -0.00735000\n",
        "0 -0.00605000\n",
        "0 -0.00475000\n",
        "1 0.00110000\n",
        "0 -0.00315000\n",
        "0 -0.00930000\n",
        "1 0.00855000\n",
        "1 0.00680000\n",
        "0 -0.00380000\n",
        "0 -0.00455000\n",
        "1 0.00075000\n",
        "0 -0.00050000\n",
        "1 0.00805000\n",
        "0 -0.00310000\n",
        "0 -0.00710000\n",
        "1 0.00005000\n",
        "0 -0.00570000\n",
        "1 0.00355000\n",
        "1 0E-8\n",
        "0 -0.00665000\n",
        "0 -0.01140000\n",
        "0 -0.00665000\n",
        "1 0.00185000\n",
        "1 0.00300000\n",
        "0 -0.00915000\n",
        "1 0.00495000\n",
        "0 -0.00605000\n",
        "0 -0.00455000\n",
        "1 0.01560000\n",
        "1 0.00700000\n",
        "1 0.00925000\n",
        "0 -0.01365000\n",
        "1 0.01305000\n",
        "0 -0.00240000\n",
        "1 0.00495000\n",
        "0 -0.01070000\n",
        "0 -0.00330000\n",
        "0 -0.00415000\n",
        "0 -0.00065000\n",
        "0 -0.00055000\n",
        "1 0.01305000\n",
        "0 -0.00020000\n",
        "1 0.00860000\n",
        "0 -0.00305000\n",
        "0 -0.00150000\n",
        "0 -0.00110000\n",
        "0 -0.00450000\n",
        "0 -0.01160000\n",
        "1 0.01760000\n",
        "1 0.00560000\n",
        "0 -0.00800000\n",
        "1 0.00040000\n",
        "1 0.00280000\n",
        "1 0.00445000\n",
        "1 0.01210000\n",
        "1 0.00125000\n",
        "0 -0.00125000\n",
        "1 0.00065000\n",
        "1 0.01155000\n",
        "1 0.01470000\n",
        "0 -0.00065000\n",
        "1 0.00555000\n",
        "1 0.00450000\n",
        "0 -0.00905000\n",
        "1 0.00045000\n",
        "1 0.00550000\n",
        "0 -0.00530000\n",
        "0 -0.01395000\n",
        "1 0.00680000\n",
        "0 -0.00430000\n",
        "1 0.00860000\n",
        "1 0.00155000\n",
        "0 -0.00050000\n",
        "0 -0.00440000\n",
        "1 0.01145000\n",
        "0 -0.00195000\n",
        "1 0.01825000\n",
        "1 0.01150000\n",
        "0 -0.00270000\n",
        "0 -0.00145000\n",
        "1 0.00750000\n",
        "1 0.00175000\n",
        "1 0.00620000\n",
        "1 0.00815000\n",
        "1 0.00690000\n",
        "0 -0.00405000\n",
        "0 -0.00425000\n",
        "1 0.00680000\n",
        "1 0.01770000\n",
        "1 0.00345000\n",
        "0 -0.00465000\n",
        "0 -0.00620000\n",
        "0 -0.00380000\n",
        "1 0.01220000\n",
        "0 -0.00330000\n",
        "0 -0.01340000\n",
        "1 0.02100000\n",
        "1 0.00880000\n",
        "0 -0.01310000\n",
        "1 0.00130000\n",
        "1 0.00860000\n",
        "1 0.00690000\n",
        "0 -0.01140000\n",
        "0 -0.00455000\n",
        "1 0.00705000\n",
        "0 -0.01045000\n",
        "0 -0.00430000\n",
        "1 0.00895000\n",
        "1 0.00580000\n",
        "1 0.00205000\n",
        "0 -0.00420000\n",
        "0 -0.00510000\n",
        "1 0.00410000\n",
        "0 -0.00900000\n",
        "1 0.00635000\n",
        "1 0.00930000\n",
        "0 -0.00445000\n",
        "1 0.01020000\n",
        "1 0.01210000\n",
        "1 0E-8\n",
        "0 -0.00470000\n",
        "1 0.00915000\n",
        "0 -0.01135000\n",
        "0 -0.00575000\n",
        "1 0.00945000\n",
        "1 0.00370000\n",
        "1 0.00595000\n",
        "0 -0.00310000\n",
        "1 0.00805000\n",
        "0 -0.00860000\n",
        "1 0.00105000\n",
        "1 0.01075000\n",
        "0 -0.00165000\n",
        "1 0.00605000\n",
        "1 0.00290000\n",
        "1 0.01635000\n",
        "0 -0.00085000\n",
        "1 0.01660000\n",
        "0 -0.00005000\n",
        "0 -0.00405000\n",
        "1 0.00140000\n",
        "1 0.02435000\n",
        "1 0.01140000\n",
        "1 0.01375000\n",
        "0 -0.00465000\n",
        "1 0.01975000\n",
        "1 0.01095000\n",
        "0 -0.00095000\n",
        "1 0.01105000\n",
        "1 0.01770000\n",
        "0 -0.00690000\n",
        "1 0.01460000\n",
        "0 -0.01675000\n",
        "0 -0.02355000\n",
        "1 0.00230000\n",
        "1 0.02070000\n",
        "0 -0.00035000\n",
        "1 0.00720000\n",
        "0 -0.00760000\n",
        "1 0.00245000\n",
        "1 0.00635000\n",
        "1 0.00440000\n",
        "0 -0.00785000\n",
        "1 0.01145000\n",
        "1 0.02095000\n",
        "0 -0.00750000\n",
        "1 0.00200000\n",
        "0 -0.00870000\n",
        "0 -0.00670000\n",
        "0 -0.00120000\n",
        "0 -0.00390000\n",
        "0 -0.01005000\n",
        "1 0.00440000\n",
        "0 -0.01340000\n",
        "1 0.01140000\n",
        "1 0.00405000\n",
        "0 -0.00830000\n",
        "1 0.00240000\n",
        "0 -0.00500000\n",
        "1 0.01160000\n",
        "1 0.00540000\n",
        "1 0.00070000\n",
        "0 -0.03090000\n",
        "1 0.00040000\n",
        "0 -0.00550000\n",
        "0 -0.00610000\n",
        "0 -0.00335000\n",
        "1 0.00090000\n",
        "0 -0.01275000\n",
        "0 -0.00355000\n",
        "0 -0.01595000\n",
        "0 -0.00590000\n",
        "1 0.00830000\n",
        "1 0.01100000\n",
        "0 -0.01165000\n",
        "0 -0.00795000\n",
        "1 0.00120000\n",
        "0 -0.00170000\n",
        "0 -0.00470000\n",
        "1 0.00055000\n",
        "0 -0.00875000\n",
        "0 -0.00485000\n",
        "1 0.00680000\n",
        "0 -0.00385000\n",
        "1 0.01315000\n",
        "1 0.00250000\n",
        "1 0.02395000\n",
        "1 0.00210000\n",
        "0 -0.00600000\n",
        "0 -0.00030000\n",
        "1 0.00315000\n",
        "0 -0.00040000\n",
        "1 0.00800000\n",
        "0 -0.00215000\n",
        "0 -0.00590000\n",
        "1 0.00045000\n",
        "1 0.00885000\n",
        "0 -0.00520000\n",
        "0 -0.00835000\n",
        "0 -0.00285000\n",
        "1 0.00870000\n",
        "1 0.01140000\n",
        "0 -0.00220000\n",
        "1 0.00485000\n",
        "0 -0.00840000\n",
        "0 -0.00910000\n",
        "0 -0.00210000\n",
        "0 -0.01165000\n",
        "0 -0.00205000\n",
        "0 -0.02010000\n",
        "0 -0.00970000\n",
        "1 0.00510000\n",
        "1 0.00025000\n",
        "0 -0.01255000\n",
        "0 -0.00110000\n",
        "0 -0.00645000\n",
        "1 0.01065000\n",
        "0 -0.01945000\n",
        "0 -0.00695000\n",
        "0 -0.00355000\n",
        "1 0.00875000\n",
        "0 -0.00870000\n",
        "0 -0.01040000\n",
        "1 0.00305000\n",
        "0 -0.00350000\n",
        "1 0.01485000\n",
        "0 -0.01460000\n",
        "0 -0.00115000\n",
        "1 0.00685000\n",
        "1 0.01490000\n",
        "0 -0.00120000\n",
        "0 -0.00770000\n",
        "1 0.00625000\n",
        "0 -0.01015000\n",
        "0 -0.01180000\n",
        "0 -0.00605000\n",
        "1 0.00835000\n",
        "1 0.01080000\n",
        "0 -0.00275000\n",
        "1 0.01705000\n",
        "0 -0.00755000\n",
        "1 0.00665000\n",
        "1 0.01145000\n",
        "0 -0.00815000\n",
        "0 -0.00415000\n",
        "1 0.01790000\n",
        "1 0.01765000\n",
        "1 0.00805000\n",
        "1 0.00025000\n",
        "1 0.01330000\n",
        "1 0.00840000\n",
        "0 -0.00940000\n",
        "0 -0.00980000\n",
        "0 -0.02120000\n",
        "1 0.00175000\n",
        "1 0.01055000\n",
        "0 -0.00835000\n",
        "1 0.00610000\n",
        "0 -0.02035000\n",
        "1 0.00350000\n",
        "1 0.01410000\n",
        "0 -0.00790000\n",
        "0 -0.00140000\n",
        "1 0.00335000\n",
        "1 0.00220000\n",
        "0 -0.00165000\n",
        "0 -0.01150000\n",
        "1 0.01135000\n",
        "0 -0.01075000\n",
        "0 -0.00565000\n",
        "0 -0.00585000\n",
        "1 0.00815000\n",
        "1 0.01320000\n",
        "1 0.01525000\n",
        "1 0.00810000\n",
        "0 -0.00370000\n",
        "0 -0.00470000\n",
        "0 -0.01145000\n",
        "0 -0.02400000\n",
        "0 -0.00400000\n",
        "1 0.00205000\n",
        "0 -0.01315000\n",
        "0 -0.00085000\n",
        "0 -0.00405000\n",
        "0 -0.01245000\n",
        "0 -0.00640000\n",
        "0 -0.00325000\n",
        "0 -0.00105000\n",
        "1 0E-8\n",
        "1 0.00910000\n",
        "0 -0.01245000\n",
        "0 -0.01250000\n",
        "1 0.00555000\n",
        "1 0.01645000\n",
        "0 -0.00045000\n",
        "0 -0.00260000\n",
        "0 -0.00620000\n",
        "1 0.01195000\n",
        "1 0.00260000\n",
        "0 -0.00200000\n",
        "0 -0.00515000\n",
        "0 -0.00250000\n",
        "1 0.00840000\n",
        "0 -0.01015000\n",
        "0 -0.00810000\n",
        "0 -0.00500000\n",
        "0 -0.00475000\n",
        "1 0.00550000\n",
        "0 -0.01065000\n",
        "0 -0.00980000\n",
        "0 -0.00135000\n",
        "1 0.00990000\n",
        "1 0.00210000\n",
        "1 0.00465000\n",
        "0 -0.00080000\n",
        "0 -0.00430000\n",
        "1 0.00455000\n",
        "0 -0.01540000\n",
        "0 -0.00535000\n",
        "1 0.00430000\n",
        "1 0.01005000\n",
        "0 -0.00910000\n",
        "0 -0.00325000\n",
        "0 -0.00055000\n",
        "0 -0.00440000\n",
        "0 -0.00330000\n",
        "1 0.00285000\n",
        "0 -0.00640000\n",
        "0 -0.00535000\n",
        "0 -0.00835000\n",
        "1 0.00680000\n",
        "0 -0.00820000\n",
        "1 0.00105000\n",
        "0 -0.00080000\n",
        "1 0.01535000\n",
        "0 -0.01705000\n",
        "0 -0.01650000\n",
        "1 0.00045000\n",
        "1 0.00120000\n",
        "0 -0.01460000\n",
        "0 -0.01795000\n",
        "1 0.00330000\n",
        "0 -0.00085000\n",
        "1 0.00030000\n",
        "0 -0.00680000\n",
        "1 0.03230000\n",
        "1 0.02220000\n",
        "1 0.00665000\n",
        "0 -0.00680000\n",
        "1 0.01830000\n",
        "1 0.00240000\n",
        "1 0.00825000\n",
        "0 -0.00780000\n",
        "0 -0.01110000\n",
        "0 -0.00125000\n",
        "0 -0.00240000\n",
        "1 0.01520000\n",
        "1 0.00280000\n",
        "0 -0.00010000\n",
        "0 -0.00840000\n",
        "0 -0.01185000\n",
        "0 -0.00540000\n",
        "0 -0.00875000\n",
        "0 -0.00445000\n",
        "1 0.00650000\n",
        "0 -0.01310000\n",
        "0 -0.01485000\n",
        "1 0.00365000\n",
        "0 -0.00560000\n",
        "1 0.00360000\n",
        "1 0.01035000\n",
        "1 0.01670000\n",
        "0 -0.00890000\n",
        "1 0.00160000\n",
        "1 0.02150000\n",
        "1 0.00250000\n",
        "0 -0.01385000\n",
        "0 -0.00780000\n",
        "0 -0.00395000\n",
        "1 0.00635000\n",
        "1 0.00440000\n",
        "1 0.00690000\n",
        "0 -0.01650000\n",
        "0 -0.00575000\n",
        "0 -0.01575000\n",
        "1 0.00140000\n",
        "1 0.00720000\n",
        "1 0.00315000\n",
        "1 0.01305000\n",
        "0 -0.00240000\n",
        "1 0.02335000\n",
        "0 -0.00465000\n",
        "0 -0.02005000\n",
        "1 0.00375000\n",
        "1 0.00175000\n",
        "0 -0.00500000\n",
        "0 -0.00350000\n",
        "0 -0.01020000\n",
        "0 -0.01340000\n",
        "1 0.00300000\n",
        "0 -0.00990000\n",
        "0 -0.00285000\n",
        "1 0.01475000\n",
        "1 0.00195000\n",
        "0 -0.00555000\n",
        "1 0.01370000\n",
        "1 0.00475000\n",
        "0 -0.00945000\n",
        "1 0.02055000\n",
        "0 -0.01870000\n",
        "1 0.00925000\n",
        "0 -0.01260000\n",
        "1 0.01285000\n",
        "1 0.00330000\n",
        "0 -0.00650000\n",
        "0 -0.01380000\n",
        "1 0.00385000\n",
        "0 -0.00195000\n",
        "1 0.00890000\n",
        "0 -0.00795000\n",
        "0 -0.00080000\n",
        "0 -0.00310000\n",
        "0 -0.00015000\n",
        "1 0E-8\n",
        "0 -0.00325000\n",
        "1 0.00800000\n",
        "1 0.00720000\n",
        "1 0.01080000\n",
        "1 0.00895000\n",
        "1 0.00270000\n",
        "0 -0.00045000\n",
        "1 0.01305000\n",
        "1 0.02665000\n",
        "0 -0.01040000\n",
        "1 0.00535000\n",
        "0 -0.00905000\n",
        "0 -0.01400000\n",
        "1 0.00655000\n",
        "1 0.00550000\n",
        "0 -0.01090000\n",
        "1 0.01760000\n",
        "1 0.00120000\n",
        "1 0.00295000\n",
        "0 -0.01315000\n",
        "0 -0.00295000\n",
        "0 -0.00520000\n",
        "1 0.00855000\n",
        "1 0.01385000\n",
        "1 0.01290000\n",
        "0 -0.00915000\n",
        "0 -0.00385000\n",
        "0 -0.01075000\n",
        "1 0.00565000\n",
        "0 -0.01670000\n",
        "1 0.00115000\n",
        "0 -0.01800000\n",
        "1 0.00305000\n",
        "0 -0.01230000\n",
        "1 0.00600000\n",
        "0 -0.00215000\n",
        "1 0.00735000\n",
        "0 -0.00495000\n",
        "0 -0.00240000\n",
        "0 -0.00150000\n",
        "0 -0.00460000\n",
        "0 -0.01970000\n",
        "1 0.00180000\n",
        "1 0.01675000\n",
        "1 0.01300000\n",
        "1 0.00160000\n",
        "0 -0.01030000\n",
        "1 0.00265000\n",
        "0 -0.00750000\n",
        "1 0.02855000\n",
        "0 -0.00855000\n",
        "0 -0.01235000\n",
        "1 0.01700000\n",
        "1 0.01400000\n",
        "0 -0.00245000\n",
        "1 0.00095000\n",
        "0 -0.00470000\n",
        "1 0.00495000\n",
        "1 0.00120000\n",
        "1 0.00940000\n",
        "1 0.00600000\n",
        "0 -0.00580000\n",
        "1 0.00160000\n",
        "0 -0.01325000\n",
        "1 0.00110000\n",
        "1 0.00340000\n",
        "0 -0.00480000\n",
        "1 0.00155500\n",
        "1 0.00693500\n",
        "0 -0.00506000\n",
        "1 0.01345500\n",
        "1 0.01672500\n",
        "1 0.00456500\n",
        "0 -0.00482000\n",
        "0 -0.00079500\n",
        "0 -0.00113000\n",
        "0 -0.01073500\n",
        "1 0.00698500\n",
        "0 -0.00250000\n",
        "1 0.00237000\n",
        "0 -0.00211000\n",
        "1 0.00138500\n",
        "1 0.01346500\n",
        "0 -0.00118500\n",
        "0 -0.00141000\n",
        "0 -0.00454000\n",
        "0 -0.00560000\n",
        "1 0.01110500\n",
        "1 0.01407500\n",
        "1 0.00605500\n",
        "0 -0.00851500\n",
        "1 0.00397000\n",
        "1 0.00242500\n",
        "0 -0.01131000\n",
        "1 0.01517000\n",
        "0 -0.00821500\n",
        "0 -0.00583000\n",
        "0 -0.00749500\n",
        "0 -0.01041000\n",
        "1 0.00311500\n",
        "0 -0.01026000\n",
        "0 -0.00229500\n",
        "0 -0.00907500\n",
        "1 0.00089000\n",
        "0 -0.01149000\n",
        "0 -0.00147000\n",
        "1 0.01250000\n",
        "0 -0.00991500\n",
        "1 0.00355500\n",
        "0 -0.00265000\n",
        "0 -0.00148500\n",
        "0 -0.01418500\n",
        "0 -0.00323000\n",
        "1 0.00136000\n",
        "1 0.00630500\n",
        "1 0.00917000\n",
        "0 -0.00061500\n",
        "1 0.01487000\n",
        "0 -0.01121500\n",
        "0 -0.00115000\n",
        "0 -0.00601500\n",
        "1 0.00447000\n",
        "0 -0.00320000\n",
        "0 -0.01121000\n",
        "0 -0.00798000\n",
        "1 0.00131000\n",
        "0 -0.00481500\n",
        "1 0.01361500\n",
        "1 0.00484000\n",
        "1 0.01000000\n",
        "1 0.00042000\n",
        "1 0.00565000\n",
        "0 -0.00326500\n",
        "0 -0.00953500\n",
        "1 0.01444500\n",
        "0 -0.00874000\n",
        "1 0.01066500\n",
        "1 0.00485000\n",
        "0 -0.00656500\n",
        "0 -0.00796000\n",
        "0 -0.00631500\n",
        "0 -0.00338000\n",
        "1 0.00375500\n",
        "1 0.00191000\n",
        "0 -0.00614000\n",
        "0 -0.00873500\n",
        "1 0.00215500\n",
        "1 0.00041500\n",
        "0 -0.00226000\n",
        "1 0.00056000\n",
        "0 -0.00061500\n",
        "1 0.01392000\n",
        "1 0.00537000\n",
        "1 0.00797500\n",
        "0 -0.00254500\n",
        "0 -0.00736000\n",
        "1 0.00398000\n",
        "0 -0.00418500\n",
        "0 -0.00346500\n",
        "1 0.00900000\n",
        "0 -0.00972000\n",
        "0 -0.00066000\n",
        "1 0.00046500\n",
        "0 -0.00242000\n",
        "0 -0.00771500\n",
        "1 0.00428500\n",
        "0 -0.00442000\n",
        "0 -0.00290000\n",
        "1 0.00246000\n",
        "0 -0.00523000\n",
        "1 0.00035500\n",
        "1 0.00141000\n",
        "1 0.00839500\n",
        "0 -0.00106500\n",
        "1 0.00716500\n",
        "0 -0.00476500\n",
        "1 0.00629000\n",
        "1 0.00241000\n",
        "1 0.00195500\n",
        "1 0.00067000\n",
        "1 0.00545500\n",
        "1 0.01103500\n",
        "0 -0.00203500\n",
        "1 0.00639000\n",
        "0 -0.00996500\n",
        "1 0.00076500\n",
        "1 0.01164000\n",
        "1 0.00889000\n",
        "1 0.00554000\n",
        "1 0.00098500\n",
        "1 0.00607500\n",
        "1 0.00721000\n",
        "1 0.00914000\n",
        "1 0.00244500\n",
        "0 -0.00861500\n",
        "0 -0.01153500\n",
        "1 0.00218000\n",
        "0 -0.00659000\n",
        "1 0.00434500\n",
        "1 0.00027000\n",
        "1 0.01357000\n",
        "1 0.00032500\n",
        "0 -0.00814000\n",
        "0 -0.00635000\n",
        "0 -0.00038000\n",
        "1 0.00852000\n",
        "0 -0.00626000\n",
        "1 0.00039000\n",
        "1 0.01176500\n",
        "0 -0.00158500\n",
        "1 0.00354000\n",
        "1 0.00094500\n",
        "0 -0.00189000\n",
        "0 -0.00669500\n",
        "0 -0.00757500\n",
        "1 0.00283500\n",
        "1 0.00096000\n",
        "1 0.00621000\n",
        "1 0.01467000\n",
        "1 0.00931500\n",
        "1 0.00055500\n",
        "1 0.00308000\n",
        "1 0.00145000\n",
        "1 0.00289000\n",
        "0 -0.00391000\n",
        "0 -0.00615000\n",
        "1 0.00187000\n",
        "0 -0.00048000\n",
        "1 0.00241500\n",
        "1 0.01050500\n",
        "0 -0.00138500\n",
        "1 0.00524500\n",
        "0 -0.00560000\n",
        "0 -0.01564000\n",
        "0 -0.00346000\n",
        "1 0.00066000\n",
        "0 -0.00105500\n",
        "1 0.00499000\n",
        "1 0.00709000\n",
        "0 -0.02117500\n",
        "0 -0.00090000\n",
        "1 0.00052500\n",
        "1 0.00170500\n",
        "1 0.00853500\n",
        "1 0.00043500\n",
        "0 -0.00529000\n",
        "1 0.00203000\n",
        "1 0.00410500\n",
        "0 -0.00642000\n",
        "1 0.00143000\n",
        "0 -0.00209500\n",
        "0 -0.01074000\n",
        "0 -0.00868000\n",
        "0 -0.00128000\n",
        "1 0.00490000\n",
        "1 0.00288500\n",
        "0 -0.00744000\n",
        "1 0.00170500\n",
        "1 0.00215500\n",
        "0 -0.00595500\n",
        "0 -0.00417500\n",
        "1 0.00803500\n",
        "0 -0.00731000\n",
        "0 -0.00261000\n",
        "0 -0.01830500\n",
        "1 0.00109500\n",
        "0 -0.00851500\n",
        "0 -0.00615000\n",
        "0 -0.01021500\n",
        "0 -0.01041500\n",
        "1 0.00272000\n",
        "1 0.00509500\n",
        "1 0.00459500\n",
        "1 0.00284500\n",
        "0 -0.00026000\n",
        "1 0.00147500\n",
        "1 0.00358000\n",
        "1 0.00199000\n",
        "0 -0.00499500\n",
        "1 0.00721000\n",
        "0 -0.00740000\n",
        "0 -0.00085000\n",
        "0 -0.00230500\n",
        "0 -0.00878000\n",
        "0 -0.00219500\n",
        "1 0.00052500\n",
        "1 0.01295000\n",
        "0 -0.00098000\n",
        "0 -0.00621000\n",
        "0 -0.00249500\n",
        "0 -0.00594500\n",
        "0 -0.01314500\n",
        "1 0.00023000\n",
        "1 0.00200500\n",
        "1 0.00458000\n",
        "0 -0.00160000\n",
        "1 0.00660500\n",
        "1 0.00166000\n",
        "1 0.00330500\n",
        "0 -0.00015500\n",
        "1 0.00242000\n",
        "0 -0.00510500\n",
        "0 -0.00051000\n",
        "1 0.00338500\n",
        "1 0.00943000\n",
        "1 0.00400500\n",
        "0 -0.00724000\n",
        "1 0.01089000\n",
        "0 -0.00225500\n",
        "1 0.00628500\n",
        "1 0.00524500\n",
        "0 -0.00477500\n",
        "0 -0.00130000\n",
        "0 -0.00346000\n",
        "1 0.00272000\n",
        "0 -0.00362500\n",
        "1 0.00474500\n",
        "0 -0.00917500\n",
        "0 -0.00450000\n",
        "0 -0.00872500\n",
        "0 -0.00269000\n",
        "1 0.00490500\n",
        "0 -0.00136000\n",
        "0 -0.00468000\n",
        "1 0.00112000\n",
        "0 -0.00184500\n",
        "0 -0.00608000\n",
        "1 0.00602000\n",
        "1 0.00873000\n",
        "1 0.00417500\n",
        "0 -0.00528000\n",
        "0 -0.00466000\n",
        "0 -0.00858000\n",
        "0 -0.00041500\n",
        "0 -0.00749500\n",
        "0 -0.00092500\n",
        "0 -0.00759500\n",
        "1 0.00266000\n",
        "1 0.00289500\n",
        "1 0.00042500\n",
        "0 -0.00210500\n",
        "0 -0.00109500\n",
        "1 0.00255500\n",
        "1 0.00047000\n",
        "1 0.01231000\n",
        "1 0.01043500\n",
        "0 -0.00356000\n",
        "0 -0.00818000\n",
        "1 0.00449000\n",
        "1 0.00306500\n",
        "0 -0.02143500\n",
        "0 -0.00841500\n",
        "1 0.00352500\n",
        "1 0.00647000\n",
        "1 0.00087500\n",
        "0 -0.01034000\n",
        "1 0.00688500\n",
        "0 -0.00196000\n",
        "1 0.00324500\n",
        "0 -0.00026000\n",
        "0 -0.00511500\n",
        "0 -0.00993000\n",
        "1 0.00030000\n",
        "0 -0.00311000\n",
        "0 -0.00830000\n",
        "0 -0.00537000\n",
        "0 -0.00174000\n",
        "1 0.01344500\n",
        "0 -0.00909500\n",
        "1 0.00660500\n",
        "1 0.01008000\n",
        "1 0.00452500\n",
        "0 -0.00162500\n",
        "0 -0.00569000\n",
        "1 0.00085000\n",
        "1 0.00855500\n",
        "0 -0.00035500\n",
        "0 -0.00205500\n",
        "0 -0.00618500\n",
        "1 0.01484500\n",
        "1 0.00524000\n",
        "1 0.00231500\n",
        "1 0.01356500\n",
        "0 -0.00077000\n",
        "0 -0.00784500\n",
        "1 0.00669500\n",
        "1 0.00547000\n",
        "0 -0.00193500\n",
        "0 -0.00247500\n",
        "1 0.00655000\n",
        "0 -0.00979000\n",
        "1 0.00873500\n",
        "0 -0.00188000\n",
        "0 -0.00125000\n",
        "1 0.00826000\n",
        "0 -0.00565500\n",
        "0 -0.00641500\n",
        "0 -0.00440000\n",
        "1 0.00797000\n",
        "0 -0.00740500\n",
        "1 0.00330000\n",
        "0 -0.00739500\n",
        "1 0.01635500\n",
        "1 0.00247000\n",
        "1 0.00641500\n",
        "0 -0.00493000\n",
        "0 -0.00876500\n",
        "1 0.00629500\n",
        "0 -0.00417000\n",
        "0 -0.00796000\n",
        "0 -0.00639500\n",
        "0 -0.00576000\n",
        "0 -0.00445000\n",
        "1 0.00303500\n",
        "0 -0.00560000\n",
        "1 0.00010500\n",
        "1 0.00131000\n",
        "0 -0.01097000\n",
        "1 0.01183500\n",
        "0 -0.00113000\n",
        "1 0.00127000\n",
        "1 0.00413000\n",
        "1 0.00352000\n",
        "0 "
       ]
      },
      {
       "output_type": "stream",
       "stream": "stdout",
       "text": [
        "-0.00466000\n",
        "1 0.00101500\n",
        "1 0.00049500\n",
        "0 -0.00477500\n",
        "0 -0.00679000\n",
        "0 -0.00053000\n",
        "1 0.00955000\n",
        "0 -0.00425000\n",
        "1 0.00446500\n",
        "0 -0.00110000\n",
        "0 -0.00741500\n",
        "1 0.01227000\n",
        "1 0.00511500\n",
        "0 -0.00405500\n",
        "1 0.00728500\n",
        "1 0.00673500\n",
        "1 0.00105000\n",
        "1 0.00210000\n",
        "0 -0.00439000\n",
        "0 -0.00329500\n",
        "1 0.00729500\n",
        "0 -0.00737500\n",
        "0 -0.00139500\n",
        "1 0.00036000\n",
        "1 0.00619000\n",
        "0 -0.01066000\n",
        "0 -0.00729000\n",
        "1 0.00384000\n",
        "0 -0.00432000\n",
        "0 -0.00329500\n",
        "0 -0.00055500\n",
        "0 -0.01608000\n",
        "1 0.00389000\n",
        "0 -0.00707000\n",
        "0 -0.00385500\n",
        "0 -0.00436000\n",
        "1 0.00060000\n",
        "1 0.00025000\n",
        "0 -0.00326500\n",
        "0 -0.00368000\n",
        "1 0.01349000\n",
        "1 0.00177000\n",
        "1 0.01134500\n",
        "0 -0.00156000\n",
        "1 0.00451000\n",
        "1 0.00375000\n",
        "0 -0.00385500\n",
        "1 0.00571000\n",
        "0 -0.00381500\n",
        "1 0.00895000\n",
        "0 -0.00223000\n",
        "1 0.00969500\n",
        "1 0.00671500\n",
        "0 -0.00403000\n",
        "1 0.00828000\n",
        "0 -0.03546000\n",
        "1 0.00509500\n",
        "1 0.00157500\n",
        "0 -0.00013500\n",
        "0 -0.00704500\n",
        "1 0.00443000\n",
        "0 -0.00404500\n",
        "0 -0.00051000\n",
        "0 -0.00432500\n",
        "0 -0.00101000\n",
        "1 0.00031500\n",
        "0 -0.00769000\n",
        "1 0.00027500\n",
        "1 0.00300500\n",
        "0 -0.00018500\n",
        "0 -0.00199500\n",
        "1 0.00567000\n",
        "0 -0.00627500\n",
        "1 0.00125000\n",
        "0 -0.00343000\n",
        "0 -0.00399000\n",
        "0 -0.00441500\n",
        "1 0.00389000\n",
        "1 0.00139500\n",
        "1 0.00469000\n",
        "0 -0.00268500\n",
        "0 -0.00565000\n",
        "1 0.00179500\n",
        "0 -0.00234000\n",
        "0 -0.00713000\n",
        "1 0.00823500\n",
        "0 -0.00092500\n",
        "0 -0.00313500\n",
        "1 0.00080500\n",
        "0 -0.00103000\n",
        "1 0.00475500\n",
        "1 0.00964000\n",
        "1 0.00195000\n",
        "1 0.00168500\n",
        "1 0.00240000\n",
        "0 -0.00247000\n",
        "1 0.00564000\n",
        "0 -0.00446500\n",
        "0 -0.00912000\n",
        "1 0.00059000\n",
        "0 -0.00648500\n",
        "1 0.00368500\n",
        "0 -0.00129000\n",
        "1 0.00359000\n",
        "0 -0.00184500\n",
        "0 -0.01788000\n",
        "0 -0.00080000\n",
        "1 0.00133000\n",
        "1 0.00316000\n",
        "1 0.00278000\n",
        "0 -0.00569500\n",
        "1 0.00431000\n",
        "0 -0.00421500\n",
        "0 -0.00312000\n",
        "1 0.00140000\n",
        "0 -0.00847000\n",
        "0 -0.00168000\n",
        "1 0.00657000\n",
        "1 0.00010500\n",
        "0 -0.00032500\n",
        "1 0.00653000\n",
        "0 -0.00393500\n",
        "0 -0.00032500\n",
        "1 0.00004500\n",
        "1 0.00501500\n",
        "0 -0.00333500\n",
        "0 -0.01182000\n",
        "0 -0.00218000\n",
        "1 0.00096500\n",
        "0 -0.01215500\n",
        "0 -0.00028500\n",
        "0 -0.00176500\n",
        "1 0.00094000\n",
        "1 0.00303500\n",
        "1 0.00419000\n",
        "1 0.00274000\n",
        "1 0.01533000\n",
        "1 0.00682500\n",
        "0 -0.00174500\n",
        "0 -0.00112000\n",
        "0 -0.00094500\n",
        "1 0.01086500\n",
        "1 0.00386000\n",
        "0 -0.00315500\n",
        "0 -0.00566000\n",
        "0 -0.00168000\n",
        "1 0.00132500\n",
        "0 -0.00408500\n",
        "0 -0.00179500\n",
        "0 -0.00428500\n",
        "1 0.01332500\n",
        "0 -0.00482000\n",
        "0 -0.00911500\n",
        "1 0.00081500\n",
        "0 -0.00613000\n",
        "1 0.00094500\n",
        "0 -0.00258000\n",
        "1 0.00208000\n",
        "1 0.00656500\n",
        "0 -0.00536000\n",
        "0 -0.00134500\n",
        "0 -0.00604500\n",
        "0 -0.00419500\n",
        "0 -0.00504500\n",
        "0 -0.00022000\n",
        "0 -0.00345500\n",
        "1 0.00463000\n",
        "1 0.00049500\n",
        "0 -0.00164000\n",
        "0 -0.00048500\n",
        "1 0.01161000\n",
        "1 0.00219000\n",
        "0 -0.00358500\n",
        "0 -0.00022000\n",
        "0 -0.00478000\n",
        "0 -0.00106000\n",
        "0 -0.00590000\n",
        "1 0.00823000\n",
        "1 0.00757500\n",
        "0 -0.00418000\n",
        "0 -0.00076000\n",
        "1 0.00529000\n",
        "0 -0.00337000\n",
        "0 -0.00569500\n",
        "1 0.00149500\n",
        "1 0.00316000\n",
        "1 0.00110000\n",
        "1 0.00079500\n",
        "1 0.00719000\n",
        "0 -0.00145000\n",
        "0 -0.00197500\n",
        "1 0.00149500\n",
        "0 -0.01427000\n",
        "1 0.00083500\n",
        "1 0.00048500\n",
        "1 0.00262500\n",
        "1 0.00044000\n",
        "1 0.00982000\n",
        "1 0.00614500\n",
        "0 -0.00236500\n",
        "0 -0.00043000\n",
        "0 -0.00101000\n",
        "0 -0.00680500\n",
        "0 -0.00444500\n",
        "0 -0.00445500\n",
        "1 0.00388000\n",
        "1 0.00164500\n",
        "0 -0.00688500\n",
        "0 -0.00116000\n",
        "0 -0.00037000\n",
        "0 -0.00512500\n",
        "1 0.00095000\n",
        "1 0.00387500\n",
        "0 -0.00219500\n",
        "1 0.00023500\n",
        "0 -0.00048000\n",
        "1 0.00534000\n",
        "0 -0.00147500\n",
        "0 -0.01022500\n",
        "1 0.00466000\n",
        "1 0.00016000\n",
        "1 0.00077500\n",
        "0 -0.01342500\n",
        "0 -0.00188500\n",
        "1 0.00200000\n",
        "1 0.00134000\n",
        "0 -0.00493000\n",
        "1 0.00402500\n",
        "0 -0.00514500\n",
        "0 -0.00249500\n",
        "1 0.00095000\n",
        "1 0.00908000\n",
        "1 0.00474500\n",
        "0 -0.00094000\n",
        "0 -0.00330500\n",
        "1 0.00210000\n",
        "1 0.00299500\n",
        "1 0.00362500\n",
        "0 -0.00050500\n",
        "0 -0.00281000\n",
        "0 -0.00273500\n",
        "1 0.00442000\n",
        "1 0.00461500\n",
        "1 0.00089500\n",
        "0 -0.00448000\n",
        "0 -0.00501000\n",
        "0 -0.00542000\n",
        "0 -0.00449500\n",
        "1 0.00077000\n",
        "1 0.00396000\n",
        "0 -0.00024000\n",
        "0 -0.00213500\n",
        "1 0.00244500\n",
        "1 0.00159000\n",
        "0 -0.00207500\n",
        "0 -0.00055500\n",
        "0 -0.00091500\n",
        "0 -0.00020000\n",
        "0 -0.00382000\n",
        "1 0.00568500\n",
        "0 -0.00634000\n",
        "1 0.00087000\n",
        "0 -0.00097000\n",
        "0 -0.00050000\n",
        "0 -0.00458000\n",
        "1 0.00092500\n",
        "1 0.00777000\n",
        "1 0.00785000\n",
        "1 0.00003500\n",
        "1 0.00398500\n",
        "0 -0.00033000\n",
        "1 0.00047500\n",
        "1 0.00232500\n",
        "0 -0.00079500\n",
        "1 0.00099500\n",
        "1 0.00288000\n",
        "1 0.00268000\n",
        "1 0.00145500\n",
        "0 -0.00373500\n",
        "1 0.00207000\n",
        "1 0.00300000\n",
        "1 0.00021000\n",
        "0 -0.00296000\n",
        "0 -0.00098500\n",
        "1 0.00138500\n",
        "0 -0.00593000\n",
        "1 0.00153000\n",
        "1 0.00556000\n",
        "1 0.00569500\n",
        "0 -0.00116500\n",
        "0 -0.00149500\n",
        "1 0.00200500\n",
        "0 -0.00206500\n",
        "1 0.00161500\n",
        "0 -0.00440500\n",
        "0 -0.00305000\n",
        "1 0.00218000\n",
        "1 0.00078500\n",
        "0 -0.00114000\n",
        "0 -0.00269000\n",
        "1 0.00069500\n",
        "0 -0.00226000\n",
        "0 -0.00425000\n",
        "1 0.00104000\n",
        "1 0.00287000\n",
        "1 0.00395500\n",
        "0 -0.00189000\n",
        "0 -0.00089000\n",
        "0 -0.00335000\n",
        "1 0.00420000\n",
        "0 -0.00043500\n",
        "0 -0.00124000\n",
        "1 0.00516500\n",
        "1 0.00358500\n",
        "0 -0.00002000\n",
        "1 0.00035500\n",
        "1 0.00120000\n",
        "1 0.00606000\n",
        "1 0.00043500\n",
        "0 -0.00052500\n",
        "1 0.00358500\n",
        "0 -0.00036500\n",
        "1 0.00244500\n",
        "1 0.00132000\n",
        "1 0.00084000\n",
        "0 -0.00417500\n",
        "1 0.00050500\n",
        "1 0.00517000\n",
        "0 -0.00203500\n",
        "1 0.00319500\n",
        "0 -0.00535500\n",
        "1 0.00280500\n",
        "1 0.00063500\n",
        "1 0.00040500\n",
        "0 -0.00022000\n",
        "0 -0.00369000\n",
        "1 0.00381000\n",
        "1 0.00524500\n",
        "1 0.00604500\n",
        "0 -0.00405000\n",
        "1 0.00429000\n",
        "1 0.00018500\n",
        "1 0.00405000\n",
        "0 -0.00516000\n",
        "1 0.00346000\n",
        "1 0.00481000\n",
        "1 0.00019000\n",
        "0 -0.00066500\n",
        "0 -0.00241500\n",
        "1 0.02153000\n",
        "0 -0.00186000\n",
        "1 0.00664500\n",
        "0 -0.00555000\n",
        "1 0.00133000\n",
        "0 -0.00053000\n",
        "0 -0.00438500\n",
        "1 0.00210500\n",
        "0 -0.00086000\n",
        "1 0.00866500\n",
        "0 -0.00554000\n",
        "1 0.00908500\n",
        "1 0.00085500\n",
        "0 -0.00058500\n",
        "1 0.00895500\n",
        "1 0.00196500\n",
        "1 0.00634500\n",
        "0 -0.00143000\n",
        "1 0.00760000\n",
        "0 -0.00427000\n",
        "1 0.00047500\n",
        "1 0.01405000\n",
        "0 -0.00999000\n",
        "0 -0.00176500\n",
        "0 -0.01074500\n",
        "1 0.00460000\n",
        "1 0.00698000\n",
        "0 -0.00279000\n",
        "1 0.00778500\n",
        "0 -0.01756000\n",
        "1 0.00214000\n",
        "1 0.00360000\n",
        "0 -0.00527500\n",
        "1 0.00848000\n",
        "1 0.00871500\n",
        "0 -0.00175500\n",
        "0 -0.00137500\n",
        "0 -0.00042500\n",
        "0 -0.00256500\n",
        "1 0.01168000\n",
        "1 0.00156500\n",
        "1 0.00802500\n",
        "0 -0.00339500\n",
        "0 -0.00393000\n",
        "1 0.00449000\n",
        "1 0.01421000\n",
        "0 -0.00812500\n",
        "1 0.00640000\n",
        "0 -0.00495500\n",
        "1 0.00216000\n",
        "1 0.00047500\n",
        "0 -0.00818500\n",
        "1 0.00758000\n",
        "0 -0.00467000\n",
        "0 -0.00279500\n",
        "0 -0.00056500\n",
        "1 0.01652500\n",
        "0 -0.00227500\n",
        "0 -0.00520500\n",
        "0 -0.00363500\n",
        "1 0.00625500\n",
        "0 -0.00036500\n",
        "0 -0.00105500\n",
        "1 0.00810500\n",
        "1 0.00793000\n",
        "0 -0.00710500\n",
        "1 0.00934000\n",
        "0 -0.00256000\n",
        "0 -0.00827500\n",
        "0 -0.00527000\n",
        "1 0.00507000\n",
        "0 -0.00644000\n",
        "0 -0.00138500\n",
        "0 -0.00375000\n",
        "1 0.01466500\n",
        "1 0.00655000\n",
        "1 0.00505500\n",
        "1 0.00075000\n",
        "1 0.00586000\n",
        "1 0.00397000\n",
        "1 0.00570000\n",
        "0 -0.00174500\n",
        "1 0.00610000\n",
        "1 0.00520500\n",
        "0 -0.00094000\n",
        "1 0.00722500\n",
        "1 0.00530000\n",
        "1 0.00173000\n",
        "0 -0.00346000\n",
        "1 0.00178500\n",
        "1 0.00504500\n",
        "1 0.00103500\n",
        "1 0.01432500\n",
        "1 0.00688500\n",
        "0 -0.00200500\n",
        "1 0.00110500\n",
        "0 -0.00332500\n",
        "1 0.02552000\n",
        "1 0.01395000\n",
        "0 -0.00718000\n",
        "0 -0.00926000\n",
        "1 0.00673000\n",
        "0 -0.00584500\n",
        "1 0.00437500\n",
        "0 -0.00233000\n",
        "0 -0.01412500\n",
        "1 0.01177000\n",
        "0 -0.01178000\n",
        "1 0.01557000\n",
        "1 0.00034000\n",
        "1 0.00125500\n",
        "1 0.00058500\n",
        "0 -0.01184000\n",
        "1 0.00398000\n",
        "1 0.00564500\n",
        "0 -0.00431500\n",
        "0 -0.00098500\n",
        "1 0.00504500\n",
        "0 -0.00152500\n"
       ]
      }
     ],
     "prompt_number": 152
    },
    {
     "cell_type": "code",
     "collapsed": false,
     "input": [],
     "language": "python",
     "metadata": {},
     "outputs": []
    },
    {
     "cell_type": "code",
     "collapsed": false,
     "input": [],
     "language": "python",
     "metadata": {},
     "outputs": []
    },
    {
     "cell_type": "code",
     "collapsed": false,
     "input": [],
     "language": "python",
     "metadata": {},
     "outputs": [],
     "prompt_number": 138
    },
    {
     "cell_type": "code",
     "collapsed": false,
     "input": [
      "from pybrain.datasets            import ClassificationDataSet\n",
      "from pybrain.utilities           import percentError\n",
      "from pybrain.tools.shortcuts     import buildNetwork\n",
      "from pybrain.supervised.trainers import BackpropTrainer\n",
      "from pybrain.structure.modules   import SoftmaxLayer"
     ],
     "language": "python",
     "metadata": {},
     "outputs": [],
     "prompt_number": 71
    },
    {
     "cell_type": "code",
     "collapsed": false,
     "input": [
      "from pylab import ion, ioff, figure, draw, contourf, clf, show, hold, plot\n",
      "from scipy import diag, arange, meshgrid, where\n",
      "from numpy.random import multivariate_normal"
     ],
     "language": "python",
     "metadata": {},
     "outputs": [],
     "prompt_number": 72
    },
    {
     "cell_type": "code",
     "collapsed": false,
     "input": [],
     "language": "python",
     "metadata": {},
     "outputs": [],
     "prompt_number": 72
    },
    {
     "cell_type": "code",
     "collapsed": false,
     "input": [
      "\n",
      "alldata = ClassificationDataSet(19, 1, nb_classes=2)\n",
      "for key, value in enumerate(moving_average_list):\n",
      "    alldata.addSample(tuple(value), direction_list[key])\n"
     ],
     "language": "python",
     "metadata": {},
     "outputs": [],
     "prompt_number": 140
    },
    {
     "cell_type": "code",
     "collapsed": false,
     "input": [
      "alldata = ClassificationDataSet(2, 1, nb_classes=2)\n",
      "for key, value in enumerate(moving_average_list):\n",
      "    alldata.addSample((value[0], value[len(value)-1]), direction_list[key])"
     ],
     "language": "python",
     "metadata": {},
     "outputs": [],
     "prompt_number": 154
    },
    {
     "cell_type": "code",
     "collapsed": true,
     "input": [
      "tstdata, trndata = alldata.splitWithProportion( 0.15 )"
     ],
     "language": "python",
     "metadata": {},
     "outputs": [],
     "prompt_number": 155
    },
    {
     "cell_type": "code",
     "collapsed": false,
     "input": [
      "trndata._convertToOneOfMany( )\n",
      "tstdata._convertToOneOfMany( )\n"
     ],
     "language": "python",
     "metadata": {},
     "outputs": [],
     "prompt_number": 156
    },
    {
     "cell_type": "code",
     "collapsed": false,
     "input": [
      "print \"Number of training patterns: \", len(trndata)\n",
      "print \"Number of testing patterns: \", len(tstdata)\n",
      "print \"Input and output dimensions: \", trndata.indim, trndata.outdim\n",
      "print \"First sample (input, target, class):\"\n",
      "print trndata['input'][0], trndata['target'][0], trndata['class'][0]\n",
      "print trndata['input'][100], trndata['target'][2], trndata['class'][2]"
     ],
     "language": "python",
     "metadata": {},
     "outputs": [
      {
       "output_type": "stream",
       "stream": "stdout",
       "text": [
        "Number of training patterns:  1701\n",
        "Number of testing patterns:  300\n",
        "Input and output dimensions:  2 2\n",
        "First sample (input, target, class):\n",
        "[ 1.275   1.2768] [0 1] [ 1.]\n",
        "[ 1.31245  1.31305] [1 0] [ 0.]\n"
       ]
      }
     ],
     "prompt_number": 158
    },
    {
     "cell_type": "code",
     "collapsed": false,
     "input": [
      "fnn = buildNetwork( trndata.indim, 2, trndata.outdim, outclass=SoftmaxLayer )\n"
     ],
     "language": "python",
     "metadata": {},
     "outputs": [],
     "prompt_number": 159
    },
    {
     "cell_type": "code",
     "collapsed": false,
     "input": [
      "from pybrain.structure import FeedForwardNetwork\n",
      "from pybrain.structure import LinearLayer, SigmoidLayer\n",
      "n = FeedForwardNetwork()\n",
      "inLayer = LinearLayer(19)\n",
      "hiddenLayer = SigmoidLayer(60)\n",
      "#hiddenLayer2 = SigmoidLayer(30)\n",
      "outLayer = LinearLayer(2)\n",
      "n.addInputModule(inLayer)\n",
      "n.addModule(hiddenLayer)\n",
      "#n.addModule(hiddenLayer2)\n",
      "n.addOutputModule(outLayer)\n",
      "from pybrain.structure import FullConnection\n",
      "in_to_hidden = FullConnection(inLayer, hiddenLayer)\n",
      "#hidden_to_hidden = FullConnection(hiddenLayer, hiddenLayer2)\n",
      "#hidden_to_out = FullConnection(hiddenLayer2, outLayer)\n",
      "hidden_to_out = FullConnection(hiddenLayer, outLayer)\n",
      "n.addConnection(in_to_hidden)\n",
      "n.addConnection(hidden_to_out)\n",
      "#n.addConnection(hidden_to_hidden)\n",
      "n.sortModules()\n",
      "fnn = n"
     ],
     "language": "python",
     "metadata": {},
     "outputs": [],
     "prompt_number": 95
    },
    {
     "cell_type": "code",
     "collapsed": false,
     "input": [],
     "language": "python",
     "metadata": {},
     "outputs": [],
     "prompt_number": 95
    },
    {
     "cell_type": "code",
     "collapsed": false,
     "input": [
      "#trainer = BackpropTrainer( fnn, dataset=trndata, momentum=0.1, verbose=True, weightdecay=0.01)\n",
      "trainer = BackpropTrainer( fnn, dataset=trndata, momentum=0.1, learningrate=0.01 , verbose=True, weightdecay=0.01) "
     ],
     "language": "python",
     "metadata": {},
     "outputs": [],
     "prompt_number": 160
    },
    {
     "cell_type": "code",
     "collapsed": false,
     "input": [],
     "language": "python",
     "metadata": {},
     "outputs": [],
     "prompt_number": 148
    },
    {
     "cell_type": "code",
     "collapsed": false,
     "input": [],
     "language": "python",
     "metadata": {},
     "outputs": [],
     "prompt_number": 148
    },
    {
     "cell_type": "code",
     "collapsed": false,
     "input": [
      "for i in range(500):\n",
      "    trainer.trainEpochs (10)\n",
      "    print 'Percent Error on Test dataset: ' , percentError( trainer.testOnClassData (\n",
      "               dataset=tstdata )\n",
      "               , tstdata['class'] )\n",
      "    NetworkWriter.writeToFile(fnn, 'oliv.xml')"
     ],
     "language": "python",
     "metadata": {},
     "outputs": [
      {
       "output_type": "stream",
       "stream": "stdout",
       "text": [
        "Total error: 0.131515000304\n",
        "Total error:"
       ]
      },
      {
       "output_type": "stream",
       "stream": "stdout",
       "text": [
        " 0.125856890685\n",
        "Total error:"
       ]
      },
      {
       "output_type": "stream",
       "stream": "stdout",
       "text": [
        " 0.125819065207\n",
        "Total error:"
       ]
      },
      {
       "output_type": "stream",
       "stream": "stdout",
       "text": [
        " 0.125832750963\n",
        "Total error:"
       ]
      },
      {
       "output_type": "stream",
       "stream": "stdout",
       "text": [
        " 0.125667137019\n",
        "Total error:"
       ]
      },
      {
       "output_type": "stream",
       "stream": "stdout",
       "text": [
        " 0.125472295089\n",
        "Total error:"
       ]
      },
      {
       "output_type": "stream",
       "stream": "stdout",
       "text": [
        " 0.125700495068\n",
        "Total error:"
       ]
      },
      {
       "output_type": "stream",
       "stream": "stdout",
       "text": [
        " 0.125597512119\n",
        "Total error:"
       ]
      },
      {
       "output_type": "stream",
       "stream": "stdout",
       "text": [
        " 0.125349458279\n",
        "Total error:"
       ]
      },
      {
       "output_type": "stream",
       "stream": "stdout",
       "text": [
        " 0.125846998615\n",
        "Percent Error on Test dataset:  "
       ]
      },
      {
       "output_type": "stream",
       "stream": "stdout",
       "text": [
        "48.6666666667\n",
        "Total error:"
       ]
      },
      {
       "output_type": "stream",
       "stream": "stdout",
       "text": [
        " 0.125754863182\n",
        "Total error:"
       ]
      },
      {
       "output_type": "stream",
       "stream": "stdout",
       "text": [
        " 0.125387020242\n",
        "Total error:"
       ]
      },
      {
       "output_type": "stream",
       "stream": "stdout",
       "text": [
        " 0.125478624617\n",
        "Total error:"
       ]
      },
      {
       "output_type": "stream",
       "stream": "stdout",
       "text": [
        " 0.125748027821\n",
        "Total error:"
       ]
      },
      {
       "output_type": "stream",
       "stream": "stdout",
       "text": [
        " 0.125442338402\n",
        "Total error:"
       ]
      },
      {
       "output_type": "stream",
       "stream": "stdout",
       "text": [
        " 0.125756610666\n",
        "Total error:"
       ]
      },
      {
       "output_type": "stream",
       "stream": "stdout",
       "text": [
        " 0.125806789187\n",
        "Total error:"
       ]
      },
      {
       "output_type": "stream",
       "stream": "stdout",
       "text": [
        " 0.125601594351\n",
        "Total error:"
       ]
      },
      {
       "output_type": "stream",
       "stream": "stdout",
       "text": [
        " 0.12568575917\n",
        "Total error:"
       ]
      },
      {
       "output_type": "stream",
       "stream": "stdout",
       "text": [
        " 0.125804708369\n",
        "Percent Error on Test dataset:  "
       ]
      },
      {
       "output_type": "stream",
       "stream": "stdout",
       "text": [
        "48.6666666667\n",
        "Total error:"
       ]
      },
      {
       "output_type": "stream",
       "stream": "stdout",
       "text": [
        " 0.125712992094\n",
        "Total error:"
       ]
      },
      {
       "output_type": "stream",
       "stream": "stdout",
       "text": [
        " 0.12554679817\n",
        "Total error:"
       ]
      },
      {
       "output_type": "stream",
       "stream": "stdout",
       "text": [
        " 0.125771739945\n",
        "Total error:"
       ]
      },
      {
       "output_type": "stream",
       "stream": "stdout",
       "text": [
        " 0.12535865244\n",
        "Total error:"
       ]
      },
      {
       "output_type": "stream",
       "stream": "stdout",
       "text": [
        " 0.125694569444\n",
        "Total error:"
       ]
      },
      {
       "output_type": "stream",
       "stream": "stdout",
       "text": [
        " 0.125675016981\n",
        "Total error:"
       ]
      },
      {
       "output_type": "stream",
       "stream": "stdout",
       "text": [
        " 0.12558134951\n",
        "Total error:"
       ]
      },
      {
       "output_type": "stream",
       "stream": "stdout",
       "text": [
        " 0.125382208678\n",
        "Total error:"
       ]
      },
      {
       "output_type": "stream",
       "stream": "stdout",
       "text": [
        " 0.125604298562\n",
        "Total error:"
       ]
      },
      {
       "output_type": "stream",
       "stream": "stdout",
       "text": [
        " 0.125713290554\n",
        "Percent Error on Test dataset:  "
       ]
      },
      {
       "output_type": "stream",
       "stream": "stdout",
       "text": [
        "48.6666666667\n",
        "Total error:"
       ]
      },
      {
       "output_type": "stream",
       "stream": "stdout",
       "text": [
        " 0.125342842016\n",
        "Total error:"
       ]
      },
      {
       "output_type": "stream",
       "stream": "stdout",
       "text": [
        " 0.125455186417\n",
        "Total error:"
       ]
      },
      {
       "output_type": "stream",
       "stream": "stdout",
       "text": [
        " 0.125697067616\n",
        "Total error:"
       ]
      },
      {
       "output_type": "stream",
       "stream": "stdout",
       "text": [
        " 0.125721391803\n",
        "Total error:"
       ]
      },
      {
       "output_type": "stream",
       "stream": "stdout",
       "text": [
        " 0.125590038192\n",
        "Total error:"
       ]
      },
      {
       "output_type": "stream",
       "stream": "stdout",
       "text": [
        " 0.125515917485\n",
        "Total error:"
       ]
      },
      {
       "output_type": "stream",
       "stream": "stdout",
       "text": [
        " 0.12574005874\n",
        "Total error:"
       ]
      },
      {
       "output_type": "stream",
       "stream": "stdout",
       "text": [
        " 0.125481677483\n",
        "Total error:"
       ]
      },
      {
       "output_type": "stream",
       "stream": "stdout",
       "text": [
        " 0.125687991168\n",
        "Total error:"
       ]
      },
      {
       "output_type": "stream",
       "stream": "stdout",
       "text": [
        " 0.125456125669\n",
        "Percent Error on Test dataset:  "
       ]
      },
      {
       "output_type": "stream",
       "stream": "stdout",
       "text": [
        "51.3333333333\n",
        "Total error:"
       ]
      },
      {
       "output_type": "stream",
       "stream": "stdout",
       "text": [
        " 0.125592559678\n",
        "Total error:"
       ]
      },
      {
       "output_type": "stream",
       "stream": "stdout",
       "text": [
        " 0.125458723771\n",
        "Total error:"
       ]
      },
      {
       "output_type": "stream",
       "stream": "stdout",
       "text": [
        " 0.125654725476\n",
        "Total error:"
       ]
      },
      {
       "output_type": "stream",
       "stream": "stdout",
       "text": [
        " 0.125562467415\n",
        "Total error:"
       ]
      },
      {
       "output_type": "stream",
       "stream": "stdout",
       "text": [
        " 0.125282996255\n",
        "Total error:"
       ]
      },
      {
       "output_type": "stream",
       "stream": "stdout",
       "text": [
        " 0.125605895247\n",
        "Total error:"
       ]
      },
      {
       "output_type": "stream",
       "stream": "stdout",
       "text": [
        " 0.125818248851\n",
        "Total error:"
       ]
      },
      {
       "output_type": "stream",
       "stream": "stdout",
       "text": [
        " 0.125743783274\n",
        "Total error:"
       ]
      },
      {
       "output_type": "stream",
       "stream": "stdout",
       "text": [
        " 0.12545508652\n",
        "Total error:"
       ]
      },
      {
       "output_type": "stream",
       "stream": "stdout",
       "text": [
        " 0.125592981016\n",
        "Percent Error on Test dataset:  "
       ]
      },
      {
       "output_type": "stream",
       "stream": "stdout",
       "text": [
        "48.6666666667\n",
        "Total error:"
       ]
      },
      {
       "output_type": "stream",
       "stream": "stdout",
       "text": [
        " 0.125584630484\n",
        "Total error:"
       ]
      },
      {
       "output_type": "stream",
       "stream": "stdout",
       "text": [
        " 0.124976170751\n",
        "Total error:"
       ]
      },
      {
       "output_type": "stream",
       "stream": "stdout",
       "text": [
        " 0.125540454039\n"
       ]
      },
      {
       "ename": "KeyboardInterrupt",
       "evalue": "",
       "output_type": "pyerr",
       "traceback": [
        "\u001b[1;31m---------------------------------------------------------------------------\u001b[0m\n\u001b[1;31mKeyboardInterrupt\u001b[0m                         Traceback (most recent call last)",
        "\u001b[1;32m<ipython-input-161-5996f0c83997>\u001b[0m in \u001b[0;36m<module>\u001b[1;34m()\u001b[0m\n\u001b[0;32m      1\u001b[0m \u001b[1;32mfor\u001b[0m \u001b[0mi\u001b[0m \u001b[1;32min\u001b[0m \u001b[0mrange\u001b[0m\u001b[1;33m(\u001b[0m\u001b[1;36m500\u001b[0m\u001b[1;33m)\u001b[0m\u001b[1;33m:\u001b[0m\u001b[1;33m\u001b[0m\u001b[0m\n\u001b[1;32m----> 2\u001b[1;33m     \u001b[0mtrainer\u001b[0m\u001b[1;33m.\u001b[0m\u001b[0mtrainEpochs\u001b[0m \u001b[1;33m(\u001b[0m\u001b[1;36m10\u001b[0m\u001b[1;33m)\u001b[0m\u001b[1;33m\u001b[0m\u001b[0m\n\u001b[0m\u001b[0;32m      3\u001b[0m     print 'Percent Error on Test dataset: ' , percentError( trainer.testOnClassData (\n\u001b[0;32m      4\u001b[0m                dataset=tstdata )\n\u001b[0;32m      5\u001b[0m                , tstdata['class'] )\n",
        "\u001b[1;32m/home/ubuntu/anaconda/lib/python2.7/site-packages/pybrain/supervised/trainers/trainer.pyc\u001b[0m in \u001b[0;36mtrainEpochs\u001b[1;34m(self, epochs, *args, **kwargs)\u001b[0m\n\u001b[0;32m     35\u001b[0m         Additional arguments are passed on to the train method.\"\"\"\n\u001b[0;32m     36\u001b[0m         \u001b[1;32mfor\u001b[0m \u001b[0mdummy\u001b[0m \u001b[1;32min\u001b[0m \u001b[0mrange\u001b[0m\u001b[1;33m(\u001b[0m\u001b[0mepochs\u001b[0m\u001b[1;33m)\u001b[0m\u001b[1;33m:\u001b[0m\u001b[1;33m\u001b[0m\u001b[0m\n\u001b[1;32m---> 37\u001b[1;33m             \u001b[0mself\u001b[0m\u001b[1;33m.\u001b[0m\u001b[0mtrain\u001b[0m\u001b[1;33m(\u001b[0m\u001b[1;33m*\u001b[0m\u001b[0margs\u001b[0m\u001b[1;33m,\u001b[0m \u001b[1;33m**\u001b[0m\u001b[0mkwargs\u001b[0m\u001b[1;33m)\u001b[0m\u001b[1;33m\u001b[0m\u001b[0m\n\u001b[0m\u001b[0;32m     38\u001b[0m \u001b[1;33m\u001b[0m\u001b[0m\n\u001b[0;32m     39\u001b[0m     \u001b[1;32mdef\u001b[0m \u001b[0mtrain\u001b[0m\u001b[1;33m(\u001b[0m\u001b[0mself\u001b[0m\u001b[1;33m)\u001b[0m\u001b[1;33m:\u001b[0m\u001b[1;33m\u001b[0m\u001b[0m\n",
        "\u001b[1;32m/home/ubuntu/anaconda/lib/python2.7/site-packages/pybrain/supervised/trainers/backprop.pyc\u001b[0m in \u001b[0;36mtrain\u001b[1;34m(self)\u001b[0m\n\u001b[0;32m     57\u001b[0m         \u001b[0mshuffle\u001b[0m\u001b[1;33m(\u001b[0m\u001b[0mshuffledSequences\u001b[0m\u001b[1;33m)\u001b[0m\u001b[1;33m\u001b[0m\u001b[0m\n\u001b[0;32m     58\u001b[0m         \u001b[1;32mfor\u001b[0m \u001b[0mseq\u001b[0m \u001b[1;32min\u001b[0m \u001b[0mshuffledSequences\u001b[0m\u001b[1;33m:\u001b[0m\u001b[1;33m\u001b[0m\u001b[0m\n\u001b[1;32m---> 59\u001b[1;33m             \u001b[0me\u001b[0m\u001b[1;33m,\u001b[0m \u001b[0mp\u001b[0m \u001b[1;33m=\u001b[0m \u001b[0mself\u001b[0m\u001b[1;33m.\u001b[0m\u001b[0m_calcDerivs\u001b[0m\u001b[1;33m(\u001b[0m\u001b[0mseq\u001b[0m\u001b[1;33m)\u001b[0m\u001b[1;33m\u001b[0m\u001b[0m\n\u001b[0m\u001b[0;32m     60\u001b[0m             \u001b[0merrors\u001b[0m \u001b[1;33m+=\u001b[0m \u001b[0me\u001b[0m\u001b[1;33m\u001b[0m\u001b[0m\n\u001b[0;32m     61\u001b[0m             \u001b[0mponderation\u001b[0m \u001b[1;33m+=\u001b[0m \u001b[0mp\u001b[0m\u001b[1;33m\u001b[0m\u001b[0m\n",
        "\u001b[1;32m/home/ubuntu/anaconda/lib/python2.7/site-packages/pybrain/supervised/trainers/backprop.pyc\u001b[0m in \u001b[0;36m_calcDerivs\u001b[1;34m(self, seq)\u001b[0m\n\u001b[0;32m    100\u001b[0m                 \u001b[1;31m# know why that is, but somehow the __str__ method of the\u001b[0m\u001b[1;33m\u001b[0m\u001b[1;33m\u001b[0m\u001b[0m\n\u001b[0;32m    101\u001b[0m                 \u001b[1;31m# ndarray class fixes something,\u001b[0m\u001b[1;33m\u001b[0m\u001b[1;33m\u001b[0m\u001b[0m\n\u001b[1;32m--> 102\u001b[1;33m                 \u001b[0mstr\u001b[0m\u001b[1;33m(\u001b[0m\u001b[0mouterr\u001b[0m\u001b[1;33m)\u001b[0m\u001b[1;33m\u001b[0m\u001b[0m\n\u001b[0m\u001b[0;32m    103\u001b[0m                 \u001b[0mself\u001b[0m\u001b[1;33m.\u001b[0m\u001b[0mmodule\u001b[0m\u001b[1;33m.\u001b[0m\u001b[0mbackActivate\u001b[0m\u001b[1;33m(\u001b[0m\u001b[0mouterr\u001b[0m\u001b[1;33m)\u001b[0m\u001b[1;33m\u001b[0m\u001b[0m\n\u001b[0;32m    104\u001b[0m \u001b[1;33m\u001b[0m\u001b[0m\n",
        "\u001b[1;32m/home/ubuntu/anaconda/lib/python2.7/site-packages/numpy/core/numeric.pyc\u001b[0m in \u001b[0;36marray_str\u001b[1;34m(a, max_line_width, precision, suppress_small)\u001b[0m\n\u001b[0;32m   1713\u001b[0m \u001b[1;33m\u001b[0m\u001b[0m\n\u001b[0;32m   1714\u001b[0m     \"\"\"\n\u001b[1;32m-> 1715\u001b[1;33m     \u001b[1;32mreturn\u001b[0m \u001b[0marray2string\u001b[0m\u001b[1;33m(\u001b[0m\u001b[0ma\u001b[0m\u001b[1;33m,\u001b[0m \u001b[0mmax_line_width\u001b[0m\u001b[1;33m,\u001b[0m \u001b[0mprecision\u001b[0m\u001b[1;33m,\u001b[0m \u001b[0msuppress_small\u001b[0m\u001b[1;33m,\u001b[0m \u001b[1;34m' '\u001b[0m\u001b[1;33m,\u001b[0m \u001b[1;34m\"\"\u001b[0m\u001b[1;33m,\u001b[0m \u001b[0mstr\u001b[0m\u001b[1;33m)\u001b[0m\u001b[1;33m\u001b[0m\u001b[0m\n\u001b[0m\u001b[0;32m   1716\u001b[0m \u001b[1;33m\u001b[0m\u001b[0m\n\u001b[0;32m   1717\u001b[0m \u001b[1;32mdef\u001b[0m \u001b[0mset_string_function\u001b[0m\u001b[1;33m(\u001b[0m\u001b[0mf\u001b[0m\u001b[1;33m,\u001b[0m \u001b[0mrepr\u001b[0m\u001b[1;33m=\u001b[0m\u001b[0mTrue\u001b[0m\u001b[1;33m)\u001b[0m\u001b[1;33m:\u001b[0m\u001b[1;33m\u001b[0m\u001b[0m\n",
        "\u001b[1;32m/home/ubuntu/anaconda/lib/python2.7/site-packages/numpy/core/arrayprint.pyc\u001b[0m in \u001b[0;36marray2string\u001b[1;34m(a, max_line_width, precision, suppress_small, separator, prefix, style, formatter)\u001b[0m\n\u001b[0;32m    452\u001b[0m     \u001b[1;32melse\u001b[0m\u001b[1;33m:\u001b[0m\u001b[1;33m\u001b[0m\u001b[0m\n\u001b[0;32m    453\u001b[0m         lst = _array2string(a, max_line_width, precision, suppress_small,\n\u001b[1;32m--> 454\u001b[1;33m                             separator, prefix, formatter=formatter)\n\u001b[0m\u001b[0;32m    455\u001b[0m     \u001b[1;32mreturn\u001b[0m \u001b[0mlst\u001b[0m\u001b[1;33m\u001b[0m\u001b[0m\n\u001b[0;32m    456\u001b[0m \u001b[1;33m\u001b[0m\u001b[0m\n",
        "\u001b[1;32m/home/ubuntu/anaconda/lib/python2.7/site-packages/numpy/core/arrayprint.pyc\u001b[0m in \u001b[0;36m_array2string\u001b[1;34m(a, max_line_width, precision, suppress_small, separator, prefix, formatter)\u001b[0m\n\u001b[0;32m    326\u001b[0m     lst = _formatArray(a, format_function, len(a.shape), max_line_width,\n\u001b[0;32m    327\u001b[0m                        \u001b[0mnext_line_prefix\u001b[0m\u001b[1;33m,\u001b[0m \u001b[0mseparator\u001b[0m\u001b[1;33m,\u001b[0m\u001b[1;33m\u001b[0m\u001b[0m\n\u001b[1;32m--> 328\u001b[1;33m                        _summaryEdgeItems, summary_insert)[:-1]\n\u001b[0m\u001b[0;32m    329\u001b[0m     \u001b[1;32mreturn\u001b[0m \u001b[0mlst\u001b[0m\u001b[1;33m\u001b[0m\u001b[0m\n\u001b[0;32m    330\u001b[0m \u001b[1;33m\u001b[0m\u001b[0m\n",
        "\u001b[1;32m/home/ubuntu/anaconda/lib/python2.7/site-packages/numpy/core/arrayprint.pyc\u001b[0m in \u001b[0;36m_formatArray\u001b[1;34m(a, format_function, rank, max_line_len, next_line_prefix, separator, edge_items, summary_insert)\u001b[0m\n\u001b[0;32m    495\u001b[0m \u001b[1;33m\u001b[0m\u001b[0m\n\u001b[0;32m    496\u001b[0m         \u001b[1;32mfor\u001b[0m \u001b[0mi\u001b[0m \u001b[1;32min\u001b[0m \u001b[0mrange\u001b[0m\u001b[1;33m(\u001b[0m\u001b[0mtrailing_items\u001b[0m\u001b[1;33m,\u001b[0m \u001b[1;36m1\u001b[0m\u001b[1;33m,\u001b[0m \u001b[1;33m-\u001b[0m\u001b[1;36m1\u001b[0m\u001b[1;33m)\u001b[0m\u001b[1;33m:\u001b[0m\u001b[1;33m\u001b[0m\u001b[0m\n\u001b[1;32m--> 497\u001b[1;33m             \u001b[0mword\u001b[0m \u001b[1;33m=\u001b[0m \u001b[0mformat_function\u001b[0m\u001b[1;33m(\u001b[0m\u001b[0ma\u001b[0m\u001b[1;33m[\u001b[0m\u001b[1;33m-\u001b[0m\u001b[0mi\u001b[0m\u001b[1;33m]\u001b[0m\u001b[1;33m)\u001b[0m \u001b[1;33m+\u001b[0m \u001b[0mseparator\u001b[0m\u001b[1;33m\u001b[0m\u001b[0m\n\u001b[0m\u001b[0;32m    498\u001b[0m             \u001b[0ms\u001b[0m\u001b[1;33m,\u001b[0m \u001b[0mline\u001b[0m \u001b[1;33m=\u001b[0m \u001b[0m_extendLine\u001b[0m\u001b[1;33m(\u001b[0m\u001b[0ms\u001b[0m\u001b[1;33m,\u001b[0m \u001b[0mline\u001b[0m\u001b[1;33m,\u001b[0m \u001b[0mword\u001b[0m\u001b[1;33m,\u001b[0m \u001b[0mmax_line_len\u001b[0m\u001b[1;33m,\u001b[0m \u001b[0mnext_line_prefix\u001b[0m\u001b[1;33m)\u001b[0m\u001b[1;33m\u001b[0m\u001b[0m\n\u001b[0;32m    499\u001b[0m \u001b[1;33m\u001b[0m\u001b[0m\n",
        "\u001b[1;32m/home/ubuntu/anaconda/lib/python2.7/site-packages/numpy/core/arrayprint.pyc\u001b[0m in \u001b[0;36m__call__\u001b[1;34m(self, x, strip_zeros)\u001b[0m\n\u001b[0;32m    612\u001b[0m                         \u001b[1;32mreturn\u001b[0m \u001b[0mself\u001b[0m\u001b[1;33m.\u001b[0m\u001b[0mspecial_fmt\u001b[0m \u001b[1;33m%\u001b[0m \u001b[1;33m(\u001b[0m\u001b[0m_inf_str\u001b[0m\u001b[1;33m,\u001b[0m\u001b[1;33m)\u001b[0m\u001b[1;33m\u001b[0m\u001b[0m\n\u001b[0;32m    613\u001b[0m                 \u001b[1;32melse\u001b[0m\u001b[1;33m:\u001b[0m\u001b[1;33m\u001b[0m\u001b[0m\n\u001b[1;32m--> 614\u001b[1;33m                     \u001b[1;32mreturn\u001b[0m \u001b[0mself\u001b[0m\u001b[1;33m.\u001b[0m\u001b[0mspecial_fmt\u001b[0m \u001b[1;33m%\u001b[0m \u001b[1;33m(\u001b[0m\u001b[1;34m'-'\u001b[0m \u001b[1;33m+\u001b[0m \u001b[0m_inf_str\u001b[0m\u001b[1;33m,\u001b[0m\u001b[1;33m)\u001b[0m\u001b[1;33m\u001b[0m\u001b[0m\n\u001b[0m\u001b[0;32m    615\u001b[0m \u001b[1;33m\u001b[0m\u001b[0m\n\u001b[0;32m    616\u001b[0m         \u001b[0ms\u001b[0m \u001b[1;33m=\u001b[0m \u001b[0mself\u001b[0m\u001b[1;33m.\u001b[0m\u001b[0mformat\u001b[0m \u001b[1;33m%\u001b[0m \u001b[0mx\u001b[0m\u001b[1;33m\u001b[0m\u001b[0m\n",
        "\u001b[1;32m/home/ubuntu/anaconda/lib/python2.7/site-packages/numpy/core/numeric.pyc\u001b[0m in \u001b[0;36m__exit__\u001b[1;34m(self, *exc_info)\u001b[0m\n\u001b[0;32m   2816\u001b[0m             \u001b[0mself\u001b[0m\u001b[1;33m.\u001b[0m\u001b[0moldcall\u001b[0m \u001b[1;33m=\u001b[0m \u001b[0mseterrcall\u001b[0m\u001b[1;33m(\u001b[0m\u001b[0mself\u001b[0m\u001b[1;33m.\u001b[0m\u001b[0mcall\u001b[0m\u001b[1;33m)\u001b[0m\u001b[1;33m\u001b[0m\u001b[0m\n\u001b[0;32m   2817\u001b[0m \u001b[1;33m\u001b[0m\u001b[0m\n\u001b[1;32m-> 2818\u001b[1;33m     \u001b[1;32mdef\u001b[0m \u001b[0m__exit__\u001b[0m\u001b[1;33m(\u001b[0m\u001b[0mself\u001b[0m\u001b[1;33m,\u001b[0m \u001b[1;33m*\u001b[0m\u001b[0mexc_info\u001b[0m\u001b[1;33m)\u001b[0m\u001b[1;33m:\u001b[0m\u001b[1;33m\u001b[0m\u001b[0m\n\u001b[0m\u001b[0;32m   2819\u001b[0m         \u001b[0mseterr\u001b[0m\u001b[1;33m(\u001b[0m\u001b[1;33m**\u001b[0m\u001b[0mself\u001b[0m\u001b[1;33m.\u001b[0m\u001b[0moldstate\u001b[0m\u001b[1;33m)\u001b[0m\u001b[1;33m\u001b[0m\u001b[0m\n\u001b[0;32m   2820\u001b[0m         \u001b[1;32mif\u001b[0m \u001b[0mself\u001b[0m\u001b[1;33m.\u001b[0m\u001b[0mcall\u001b[0m \u001b[1;32mis\u001b[0m \u001b[1;32mnot\u001b[0m \u001b[0m_Unspecified\u001b[0m\u001b[1;33m:\u001b[0m\u001b[1;33m\u001b[0m\u001b[0m\n",
        "\u001b[1;31mKeyboardInterrupt\u001b[0m: "
       ]
      }
     ],
     "prompt_number": 161
    },
    {
     "cell_type": "code",
     "collapsed": false,
     "input": [
      "for i in range(500):\n",
      "    trainer.trainEpochs( 1 )\n",
      "    trnresult = percentError( trainer.testOnClassData(),\n",
      "                              trndata['class'] )\n",
      "    tstresult = percentError( trainer.testOnClassData(\n",
      "           dataset=tstdata ), tstdata['class'] )\n",
      "    if i % 10 == 0:\n",
      "        print \"epoch: %4d\" % trainer.totalepochs, \\\n",
      "              \"  train error: %5.2f%%\" % trnresult, \\\n",
      "              \"  test error: %5.2f%%\" % tstresult"
     ],
     "language": "python",
     "metadata": {},
     "outputs": []
    },
    {
     "cell_type": "code",
     "collapsed": false,
     "input": [],
     "language": "python",
     "metadata": {},
     "outputs": []
    },
    {
     "cell_type": "code",
     "collapsed": false,
     "input": [],
     "language": "python",
     "metadata": {},
     "outputs": []
    },
    {
     "cell_type": "code",
     "collapsed": false,
     "input": [],
     "language": "python",
     "metadata": {},
     "outputs": []
    },
    {
     "cell_type": "code",
     "collapsed": false,
     "input": [],
     "language": "python",
     "metadata": {},
     "outputs": []
    },
    {
     "cell_type": "code",
     "collapsed": false,
     "input": [
      "from sklearn import datasets\n",
      "olivetti = datasets.fetch_olivetti_faces()\n",
      "X, y = olivetti.data, olivetti.target"
     ],
     "language": "python",
     "metadata": {},
     "outputs": [],
     "prompt_number": 45
    },
    {
     "cell_type": "code",
     "collapsed": false,
     "input": [
      "pp.pprint(X[0])"
     ],
     "language": "python",
     "metadata": {},
     "outputs": [
      {
       "output_type": "stream",
       "stream": "stdout",
       "text": [
        "array([ 0.30991736,  0.36776859,  0.41735536, ...,  0.15289256,\n",
        "        0.16115703,  0.1570248 ], dtype=float32)\n"
       ]
      }
     ],
     "prompt_number": 46
    },
    {
     "cell_type": "code",
     "collapsed": false,
     "input": [
      "X.shape"
     ],
     "language": "python",
     "metadata": {},
     "outputs": [
      {
       "metadata": {},
       "output_type": "pyout",
       "prompt_number": 48,
       "text": [
        "(400, 4096)"
       ]
      }
     ],
     "prompt_number": 48
    },
    {
     "cell_type": "code",
     "collapsed": false,
     "input": [],
     "language": "python",
     "metadata": {},
     "outputs": [
      {
       "output_type": "stream",
       "stream": "stdout",
       "text": [
        "array([ 0,  0,  0,  0,  0,  0,  0,  0,  0,  0,  1,  1,  1,  1,  1,  1,  1,\n",
        "        1,  1,  1,  2,  2,  2,  2,  2,  2,  2,  2,  2,  2,  3,  3,  3,  3,\n",
        "        3,  3,  3,  3,  3,  3,  4,  4,  4,  4,  4,  4,  4,  4,  4,  4,  5,\n",
        "        5,  5,  5,  5,  5,  5,  5,  5,  5,  6,  6,  6,  6,  6,  6,  6,  6,\n",
        "        6,  6,  7,  7,  7,  7,  7,  7,  7,  7,  7,  7,  8,  8,  8,  8,  8,\n",
        "        8,  8,  8,  8,  8,  9,  9,  9,  9,  9,  9,  9,  9,  9,  9, 10, 10,\n",
        "       10, 10, 10, 10, 10, 10, 10, 10, 11, 11, 11, 11, 11, 11, 11, 11, 11,\n",
        "       11, 12, 12, 12, 12, 12, 12, 12, 12, 12, 12, 13, 13, 13, 13, 13, 13,\n",
        "       13, 13, 13, 13, 14, 14, 14, 14, 14, 14, 14, 14, 14, 14, 15, 15, 15,\n",
        "       15, 15, 15, 15, 15, 15, 15, 16, 16, 16, 16, 16, 16, 16, 16, 16, 16,\n",
        "       17, 17, 17, 17, 17, 17, 17, 17, 17, 17, 18, 18, 18, 18, 18, 18, 18,\n",
        "       18, 18, 18, 19, 19, 19, 19, 19, 19, 19, 19, 19, 19, 20, 20, 20, 20,\n",
        "       20, 20, 20, 20, 20, 20, 21, 21, 21, 21, 21, 21, 21, 21, 21, 21, 22,\n",
        "       22, 22, 22, 22, 22, 22, 22, 22, 22, 23, 23, 23, 23, 23, 23, 23, 23,\n",
        "       23, 23, 24, 24, 24, 24, 24, 24, 24, 24, 24, 24, 25, 25, 25, 25, 25,\n",
        "       25, 25, 25, 25, 25, 26, 26, 26, 26, 26, 26, 26, 26, 26, 26, 27, 27,\n",
        "       27, 27, 27, 27, 27, 27, 27, 27, 28, 28, 28, 28, 28, 28, 28, 28, 28,\n",
        "       28, 29, 29, 29, 29, 29, 29, 29, 29, 29, 29, 30, 30, 30, 30, 30, 30,\n",
        "       30, 30, 30, 30, 31, 31, 31, 31, 31, 31, 31, 31, 31, 31, 32, 32, 32,\n",
        "       32, 32, 32, 32, 32, 32, 32, 33, 33, 33, 33, 33, 33, 33, 33, 33, 33,\n",
        "       34, 34, 34, 34, 34, 34, 34, 34, 34, 34, 35, 35, 35, 35, 35, 35, 35,\n",
        "       35, 35, 35, 36, 36, 36, 36, 36, 36, 36, 36, 36, 36, 37, 37, 37, 37,\n",
        "       37, 37, 37, 37, 37, 37, 38, 38, 38, 38, 38, 38, 38, 38, 38, 38, 39,\n",
        "       39, 39, 39, 39, 39, 39, 39, 39, 39])\n"
       ]
      }
     ],
     "prompt_number": 50
    },
    {
     "cell_type": "code",
     "collapsed": false,
     "input": [
      "from pybrain.datasets            import ClassificationDataSet\n",
      "from pybrain.utilities           import percentError\n",
      "from pybrain.tools.shortcuts     import buildNetwork\n",
      "from pybrain.supervised.trainers import BackpropTrainer\n",
      "from pybrain.structure.modules   import SoftmaxLayer\n",
      "from pybrain.tools.xml.networkwriter import NetworkWriter\n",
      "from pybrain.tools.xml.networkreader import NetworkReader"
     ],
     "language": "python",
     "metadata": {},
     "outputs": [],
     "prompt_number": 51
    },
    {
     "cell_type": "code",
     "collapsed": false,
     "input": [
      "ds = ClassificationDataSet(4096, 1 , nb_classes=40)\n",
      "for k in xrange(len(X)): \n",
      " ds.addSample(ravel(X[k]),y[k])"
     ],
     "language": "python",
     "metadata": {},
     "outputs": [],
     "prompt_number": 52
    },
    {
     "cell_type": "code",
     "collapsed": false,
     "input": [
      "tstdata, trndata = ds.splitWithProportion( 0.25 )"
     ],
     "language": "python",
     "metadata": {},
     "outputs": [],
     "prompt_number": 56
    },
    {
     "cell_type": "code",
     "collapsed": false,
     "input": [
      "trndata._convertToOneOfMany( )\n",
      "tstdata._convertToOneOfMany( )"
     ],
     "language": "python",
     "metadata": {},
     "outputs": [],
     "prompt_number": 57
    },
    {
     "cell_type": "code",
     "collapsed": false,
     "input": [
      "print trndata['input'], trndata['target'], tstdata.indim, tstdata.outdim"
     ],
     "language": "python",
     "metadata": {},
     "outputs": [
      {
       "output_type": "stream",
       "stream": "stdout",
       "text": [
        "[[ 0.30991736  0.36776859  0.41735536 ...,  0.15289256  0.16115703\n",
        "   0.1570248 ]\n",
        " [ 0.45454547  0.47107437  0.51239669 ...,  0.15289256  0.15289256\n",
        "   0.15289256]\n",
        " [ 0.31818181  0.40082645  0.49173555 ...,  0.14049587  0.14876033\n",
        "   0.15289256]\n",
        " ..., \n",
        " [ 0.5         0.53305787  0.60743803 ...,  0.17768595  0.14876033\n",
        "   0.19008264]\n",
        " [ 0.21487603  0.21900827  0.21900827 ...,  0.57438016  0.59090906\n",
        "   0.60330576]\n",
        " [ 0.5165289   0.46280992  0.28099173 ...,  0.35950413  0.35537189\n",
        "   0.38429752]] [[1 0 0 ..., 0 0 0]\n",
        " [1 0 0 ..., 0 0 0]\n",
        " [1 0 0 ..., 0 0 0]\n",
        " ..., \n",
        " [0 0 0 ..., 0 0 1]\n",
        " [0 0 0 ..., 0 0 1]\n",
        " [0 0 0 ..., 0 0 1]] 4096 40\n"
       ]
      }
     ],
     "prompt_number": 58
    },
    {
     "cell_type": "code",
     "collapsed": false,
     "input": [
      "import os\n",
      "if  os.path.isfile('oliv.xml'): \n",
      " fnn = NetworkReader.readFrom('oliv.xml') \n",
      "else:\n",
      " fnn = buildNetwork( trndata.indim, 64 , trndata.outdim, outclass=SoftmaxLayer )\n",
      "trainer = BackpropTrainer( fnn, dataset=trndata, momentum=0.1, learningrate=0.01 , verbose=True, weightdecay=0.01) \n"
     ],
     "language": "python",
     "metadata": {},
     "outputs": [],
     "prompt_number": 61
    },
    {
     "cell_type": "code",
     "collapsed": false,
     "input": [],
     "language": "python",
     "metadata": {},
     "outputs": [],
     "prompt_number": 62
    },
    {
     "cell_type": "code",
     "collapsed": false,
     "input": [
      "for i in range(500):\n",
      "    trainer.trainEpochs (1)\n",
      "    print 'Percent Error on Test dataset: ' , percentError( trainer.testOnClassData (\n",
      "               dataset=tstdata )\n",
      "               , tstdata['class'] )\n",
      "    NetworkWriter.writeToFile(fnn, 'oliv.xml')"
     ],
     "language": "python",
     "metadata": {},
     "outputs": [
      {
       "output_type": "stream",
       "stream": "stdout",
       "text": [
        "Total error: 0.00640064207636\n",
        "Percent Error on Test dataset:  24.0\n",
        "Total error:"
       ]
      },
      {
       "output_type": "stream",
       "stream": "stdout",
       "text": [
        " 0.0063992724623\n",
        "Percent Error on Test dataset:  24.0\n",
        "Total error:"
       ]
      },
      {
       "output_type": "stream",
       "stream": "stdout",
       "text": [
        " 0.00635200033117\n",
        "Percent Error on Test dataset:  21.0\n",
        "Total error:"
       ]
      },
      {
       "output_type": "stream",
       "stream": "stdout",
       "text": [
        " 0.00625341552924\n",
        "Percent Error on Test dataset:  25.0\n",
        "Total error:"
       ]
      },
      {
       "output_type": "stream",
       "stream": "stdout",
       "text": [
        " 0.00621470713814\n",
        "Percent Error on Test dataset:  26.0\n",
        "Total error:"
       ]
      },
      {
       "output_type": "stream",
       "stream": "stdout",
       "text": [
        " 0.00617433133399\n",
        "Percent Error on Test dataset:  25.0\n",
        "Total error:"
       ]
      },
      {
       "output_type": "stream",
       "stream": "stdout",
       "text": [
        " 0.00610500709417\n",
        "Percent Error on Test dataset:  17.0\n",
        "Total error:"
       ]
      },
      {
       "output_type": "stream",
       "stream": "stdout",
       "text": [
        " 0.00612393736105\n",
        "Percent Error on Test dataset:  21.0\n",
        "Total error:"
       ]
      },
      {
       "output_type": "stream",
       "stream": "stdout",
       "text": [
        " 0.0060956705097\n",
        "Percent Error on Test dataset:  22.0\n",
        "Total error:"
       ]
      },
      {
       "output_type": "stream",
       "stream": "stdout",
       "text": [
        " 0.00599389742387\n",
        "Percent Error on Test dataset:  20.0\n",
        "Total error:"
       ]
      },
      {
       "output_type": "stream",
       "stream": "stdout",
       "text": [
        " 0.0059678787211\n",
        "Percent Error on Test dataset:  21.0\n",
        "Total error:"
       ]
      },
      {
       "output_type": "stream",
       "stream": "stdout",
       "text": [
        " 0.00595772936204\n",
        "Percent Error on Test dataset:  19.0\n",
        "Total error:"
       ]
      },
      {
       "output_type": "stream",
       "stream": "stdout",
       "text": [
        " 0.00590181778596\n",
        "Percent Error on Test dataset:  16.0\n",
        "Total error:"
       ]
      },
      {
       "output_type": "stream",
       "stream": "stdout",
       "text": [
        " 0.00579293827724\n",
        "Percent Error on Test dataset:  16.0\n",
        "Total error:"
       ]
      },
      {
       "output_type": "stream",
       "stream": "stdout",
       "text": [
        " 0.0057733232008\n",
        "Percent Error on Test dataset:  19.0\n",
        "Total error:"
       ]
      },
      {
       "output_type": "stream",
       "stream": "stdout",
       "text": [
        " 0.00565892896304\n",
        "Percent Error on Test dataset:  31.0\n",
        "Total error:"
       ]
      },
      {
       "output_type": "stream",
       "stream": "stdout",
       "text": [
        " 0.00572071309178\n",
        "Percent Error on Test dataset:  13.0\n",
        "Total error:"
       ]
      },
      {
       "output_type": "stream",
       "stream": "stdout",
       "text": [
        " 0.00566278309603\n",
        "Percent Error on Test dataset:  18.0\n",
        "Total error:"
       ]
      },
      {
       "output_type": "stream",
       "stream": "stdout",
       "text": [
        " 0.00559674385247\n",
        "Percent Error on Test dataset:  15.0\n",
        "Total error:"
       ]
      },
      {
       "output_type": "stream",
       "stream": "stdout",
       "text": [
        " 0.00559505346117\n",
        "Percent Error on Test dataset:  21.0\n",
        "Total error:"
       ]
      },
      {
       "output_type": "stream",
       "stream": "stdout",
       "text": [
        " 0.00561697700608\n",
        "Percent Error on Test dataset:  18.0\n",
        "Total error:"
       ]
      },
      {
       "output_type": "stream",
       "stream": "stdout",
       "text": [
        " 0.0055318587948\n",
        "Percent Error on Test dataset:  13.0\n",
        "Total error:"
       ]
      },
      {
       "output_type": "stream",
       "stream": "stdout",
       "text": [
        " 0.00547232972238\n",
        "Percent Error on Test dataset:  15.0\n",
        "Total error:"
       ]
      },
      {
       "output_type": "stream",
       "stream": "stdout",
       "text": [
        " 0.0054642209612\n",
        "Percent Error on Test dataset:  13.0\n",
        "Total error:"
       ]
      },
      {
       "output_type": "stream",
       "stream": "stdout",
       "text": [
        " 0.00554505701435\n",
        "Percent Error on Test dataset:  14.0\n",
        "Total error:"
       ]
      },
      {
       "output_type": "stream",
       "stream": "stdout",
       "text": [
        " 0.00545237873396\n",
        "Percent Error on Test dataset:  18.0\n",
        "Total error:"
       ]
      },
      {
       "output_type": "stream",
       "stream": "stdout",
       "text": [
        " 0.00542926915087\n",
        "Percent Error on Test dataset:  15.0\n",
        "Total error:"
       ]
      },
      {
       "output_type": "stream",
       "stream": "stdout",
       "text": [
        " 0.00533500111369\n",
        "Percent Error on Test dataset:  16.0\n",
        "Total error:"
       ]
      },
      {
       "output_type": "stream",
       "stream": "stdout",
       "text": [
        " 0.00539954893892\n",
        "Percent Error on Test dataset:  20.0\n",
        "Total error:"
       ]
      },
      {
       "output_type": "stream",
       "stream": "stdout",
       "text": [
        " 0.00528689088923\n",
        "Percent Error on Test dataset:  19.0\n",
        "Total error:"
       ]
      },
      {
       "output_type": "stream",
       "stream": "stdout",
       "text": [
        " 0.00529460981779\n",
        "Percent Error on Test dataset:  12.0\n",
        "Total error:"
       ]
      },
      {
       "output_type": "stream",
       "stream": "stdout",
       "text": [
        " 0.00528802113874\n",
        "Percent Error on Test dataset:  17.0\n",
        "Total error:"
       ]
      },
      {
       "output_type": "stream",
       "stream": "stdout",
       "text": [
        " 0.00526020448144\n",
        "Percent Error on Test dataset:  20.0\n",
        "Total error:"
       ]
      },
      {
       "output_type": "stream",
       "stream": "stdout",
       "text": [
        " 0.00523952018411\n",
        "Percent Error on Test dataset:  15.0\n",
        "Total error:"
       ]
      },
      {
       "output_type": "stream",
       "stream": "stdout",
       "text": [
        " 0.0052104625397\n",
        "Percent Error on Test dataset:  13.0\n",
        "Total error:"
       ]
      },
      {
       "output_type": "stream",
       "stream": "stdout",
       "text": [
        " 0.00517970181213\n",
        "Percent Error on Test dataset:  20.0\n",
        "Total error:"
       ]
      },
      {
       "output_type": "stream",
       "stream": "stdout",
       "text": [
        " 0.00512523952916\n",
        "Percent Error on Test dataset:  23.0\n",
        "Total error:"
       ]
      },
      {
       "output_type": "stream",
       "stream": "stdout",
       "text": [
        " 0.00512532397497\n",
        "Percent Error on Test dataset:  15.0\n",
        "Total error:"
       ]
      },
      {
       "output_type": "stream",
       "stream": "stdout",
       "text": [
        " 0.00512220407684\n",
        "Percent Error on Test dataset:  17.0\n",
        "Total error:"
       ]
      },
      {
       "output_type": "stream",
       "stream": "stdout",
       "text": [
        " 0.00506710495152\n",
        "Percent Error on Test dataset:  16.0\n",
        "Total error:"
       ]
      },
      {
       "output_type": "stream",
       "stream": "stdout",
       "text": [
        " 0.00507580808101\n",
        "Percent Error on Test dataset:  22.0\n",
        "Total error:"
       ]
      },
      {
       "output_type": "stream",
       "stream": "stdout",
       "text": [
        " 0.00504693006694\n",
        "Percent Error on Test dataset:  12.0\n",
        "Total error:"
       ]
      },
      {
       "output_type": "stream",
       "stream": "stdout",
       "text": [
        " 0.00500046876673\n",
        "Percent Error on Test dataset:  12.0\n",
        "Total error:"
       ]
      },
      {
       "output_type": "stream",
       "stream": "stdout",
       "text": [
        " 0.00500088432755\n",
        "Percent Error on Test dataset:  11.0\n",
        "Total error:"
       ]
      },
      {
       "output_type": "stream",
       "stream": "stdout",
       "text": [
        " 0.00497052462775\n",
        "Percent Error on Test dataset:  13.0\n",
        "Total error:"
       ]
      },
      {
       "output_type": "stream",
       "stream": "stdout",
       "text": [
        " 0.00486841592282\n",
        "Percent Error on Test dataset:  17.0\n",
        "Total error:"
       ]
      },
      {
       "output_type": "stream",
       "stream": "stdout",
       "text": [
        " 0.00499096672297\n",
        "Percent Error on Test dataset:  21.0\n",
        "Total error:"
       ]
      },
      {
       "output_type": "stream",
       "stream": "stdout",
       "text": [
        " 0.00493045996136\n",
        "Percent Error on Test dataset:  12.0\n",
        "Total error:"
       ]
      },
      {
       "output_type": "stream",
       "stream": "stdout",
       "text": [
        " 0.00490166871889\n",
        "Percent Error on Test dataset:  12.0\n",
        "Total error:"
       ]
      },
      {
       "output_type": "stream",
       "stream": "stdout",
       "text": [
        " 0.00488476302682\n",
        "Percent Error on Test dataset:  13.0\n",
        "Total error:"
       ]
      },
      {
       "output_type": "stream",
       "stream": "stdout",
       "text": [
        " 0.00488120128521\n",
        "Percent Error on Test dataset:  20.0\n",
        "Total error:"
       ]
      },
      {
       "output_type": "stream",
       "stream": "stdout",
       "text": [
        " 0.00487974189288\n",
        "Percent Error on Test dataset:  13.0\n",
        "Total error:"
       ]
      },
      {
       "output_type": "stream",
       "stream": "stdout",
       "text": [
        " 0.00486963486976\n",
        "Percent Error on Test dataset:  16.0\n",
        "Total error:"
       ]
      },
      {
       "output_type": "stream",
       "stream": "stdout",
       "text": [
        " 0.00483335844401\n",
        "Percent Error on Test dataset:  16.0\n",
        "Total error:"
       ]
      },
      {
       "output_type": "stream",
       "stream": "stdout",
       "text": [
        " 0.00481564426488\n",
        "Percent Error on Test dataset:  19.0\n",
        "Total error:"
       ]
      },
      {
       "output_type": "stream",
       "stream": "stdout",
       "text": [
        " 0.0048346191905\n",
        "Percent Error on Test dataset:  12.0\n",
        "Total error:"
       ]
      },
      {
       "output_type": "stream",
       "stream": "stdout",
       "text": [
        " 0.00482484236611\n",
        "Percent Error on Test dataset:  10.0\n",
        "Total error:"
       ]
      },
      {
       "output_type": "stream",
       "stream": "stdout",
       "text": [
        " 0.00475626851418\n",
        "Percent Error on Test dataset:  11.0\n",
        "Total error:"
       ]
      },
      {
       "output_type": "stream",
       "stream": "stdout",
       "text": [
        " 0.00476099668325\n",
        "Percent Error on Test dataset:  14.0\n",
        "Total error:"
       ]
      },
      {
       "output_type": "stream",
       "stream": "stdout",
       "text": [
        " 0.00477548985292\n",
        "Percent Error on Test dataset:  16.0\n",
        "Total error:"
       ]
      },
      {
       "output_type": "stream",
       "stream": "stdout",
       "text": [
        " 0.0047269554021\n",
        "Percent Error on Test dataset:  16.0\n",
        "Total error:"
       ]
      },
      {
       "output_type": "stream",
       "stream": "stdout",
       "text": [
        " 0.00475311693801\n",
        "Percent Error on Test dataset:  13.0\n",
        "Total error:"
       ]
      },
      {
       "output_type": "stream",
       "stream": "stdout",
       "text": [
        " 0.00470421093401\n",
        "Percent Error on Test dataset:  15.0\n",
        "Total error:"
       ]
      },
      {
       "output_type": "stream",
       "stream": "stdout",
       "text": [
        " 0.0046891295346\n",
        "Percent Error on Test dataset:  13.0\n",
        "Total error:"
       ]
      },
      {
       "output_type": "stream",
       "stream": "stdout",
       "text": [
        " 0.00464954675762\n",
        "Percent Error on Test dataset:  21.0\n",
        "Total error:"
       ]
      },
      {
       "output_type": "stream",
       "stream": "stdout",
       "text": [
        " 0.00465087196297\n",
        "Percent Error on Test dataset:  17.0\n",
        "Total error:"
       ]
      },
      {
       "output_type": "stream",
       "stream": "stdout",
       "text": [
        " 0.00460392233593\n",
        "Percent Error on Test dataset:  16.0\n",
        "Total error:"
       ]
      },
      {
       "output_type": "stream",
       "stream": "stdout",
       "text": [
        " 0.00468479121088\n",
        "Percent Error on Test dataset:  12.0\n",
        "Total error:"
       ]
      },
      {
       "output_type": "stream",
       "stream": "stdout",
       "text": [
        " 0.00465106892513\n",
        "Percent Error on Test dataset:  12.0\n",
        "Total error:"
       ]
      },
      {
       "output_type": "stream",
       "stream": "stdout",
       "text": [
        " 0.00459961531943\n",
        "Percent Error on Test dataset:  14.0\n",
        "Total error:"
       ]
      },
      {
       "output_type": "stream",
       "stream": "stdout",
       "text": [
        " 0.00455225035847\n",
        "Percent Error on Test dataset:  15.0\n",
        "Total error:"
       ]
      },
      {
       "output_type": "stream",
       "stream": "stdout",
       "text": [
        " 0.00458547798477\n",
        "Percent Error on Test dataset:  17.0\n",
        "Total error:"
       ]
      },
      {
       "output_type": "stream",
       "stream": "stdout",
       "text": [
        " 0.00457282242104\n",
        "Percent Error on Test dataset:  12.0\n",
        "Total error:"
       ]
      },
      {
       "output_type": "stream",
       "stream": "stdout",
       "text": [
        " 0.00456593905287\n",
        "Percent Error on Test dataset:  19.0\n",
        "Total error:"
       ]
      },
      {
       "output_type": "stream",
       "stream": "stdout",
       "text": [
        " 0.00460859193479\n",
        "Percent Error on Test dataset:  11.0\n",
        "Total error:"
       ]
      },
      {
       "output_type": "stream",
       "stream": "stdout",
       "text": [
        " 0.00453709627094\n",
        "Percent Error on Test dataset:  14.0\n"
       ]
      },
      {
       "ename": "KeyboardInterrupt",
       "evalue": "",
       "output_type": "pyerr",
       "traceback": [
        "\u001b[1;31m---------------------------------------------------------------------------\u001b[0m\n\u001b[1;31mKeyboardInterrupt\u001b[0m                         Traceback (most recent call last)",
        "\u001b[1;32m<ipython-input-66-2dc3580d8c36>\u001b[0m in \u001b[0;36m<module>\u001b[1;34m()\u001b[0m\n\u001b[0;32m      1\u001b[0m \u001b[1;32mfor\u001b[0m \u001b[0mi\u001b[0m \u001b[1;32min\u001b[0m \u001b[0mrange\u001b[0m\u001b[1;33m(\u001b[0m\u001b[1;36m500\u001b[0m\u001b[1;33m)\u001b[0m\u001b[1;33m:\u001b[0m\u001b[1;33m\u001b[0m\u001b[0m\n\u001b[1;32m----> 2\u001b[1;33m     \u001b[0mtrainer\u001b[0m\u001b[1;33m.\u001b[0m\u001b[0mtrainEpochs\u001b[0m \u001b[1;33m(\u001b[0m\u001b[1;36m1\u001b[0m\u001b[1;33m)\u001b[0m\u001b[1;33m\u001b[0m\u001b[0m\n\u001b[0m\u001b[0;32m      3\u001b[0m     print 'Percent Error on Test dataset: ' , percentError( trainer.testOnClassData (\n\u001b[0;32m      4\u001b[0m                dataset=tstdata )\n\u001b[0;32m      5\u001b[0m                , tstdata['class'] )\n",
        "\u001b[1;32m/home/ubuntu/anaconda/lib/python2.7/site-packages/pybrain/supervised/trainers/trainer.pyc\u001b[0m in \u001b[0;36mtrainEpochs\u001b[1;34m(self, epochs, *args, **kwargs)\u001b[0m\n\u001b[0;32m     35\u001b[0m         Additional arguments are passed on to the train method.\"\"\"\n\u001b[0;32m     36\u001b[0m         \u001b[1;32mfor\u001b[0m \u001b[0mdummy\u001b[0m \u001b[1;32min\u001b[0m \u001b[0mrange\u001b[0m\u001b[1;33m(\u001b[0m\u001b[0mepochs\u001b[0m\u001b[1;33m)\u001b[0m\u001b[1;33m:\u001b[0m\u001b[1;33m\u001b[0m\u001b[0m\n\u001b[1;32m---> 37\u001b[1;33m             \u001b[0mself\u001b[0m\u001b[1;33m.\u001b[0m\u001b[0mtrain\u001b[0m\u001b[1;33m(\u001b[0m\u001b[1;33m*\u001b[0m\u001b[0margs\u001b[0m\u001b[1;33m,\u001b[0m \u001b[1;33m**\u001b[0m\u001b[0mkwargs\u001b[0m\u001b[1;33m)\u001b[0m\u001b[1;33m\u001b[0m\u001b[0m\n\u001b[0m\u001b[0;32m     38\u001b[0m \u001b[1;33m\u001b[0m\u001b[0m\n\u001b[0;32m     39\u001b[0m     \u001b[1;32mdef\u001b[0m \u001b[0mtrain\u001b[0m\u001b[1;33m(\u001b[0m\u001b[0mself\u001b[0m\u001b[1;33m)\u001b[0m\u001b[1;33m:\u001b[0m\u001b[1;33m\u001b[0m\u001b[0m\n",
        "\u001b[1;32m/home/ubuntu/anaconda/lib/python2.7/site-packages/pybrain/supervised/trainers/backprop.pyc\u001b[0m in \u001b[0;36mtrain\u001b[1;34m(self)\u001b[0m\n\u001b[0;32m     57\u001b[0m         \u001b[0mshuffle\u001b[0m\u001b[1;33m(\u001b[0m\u001b[0mshuffledSequences\u001b[0m\u001b[1;33m)\u001b[0m\u001b[1;33m\u001b[0m\u001b[0m\n\u001b[0;32m     58\u001b[0m         \u001b[1;32mfor\u001b[0m \u001b[0mseq\u001b[0m \u001b[1;32min\u001b[0m \u001b[0mshuffledSequences\u001b[0m\u001b[1;33m:\u001b[0m\u001b[1;33m\u001b[0m\u001b[0m\n\u001b[1;32m---> 59\u001b[1;33m             \u001b[0me\u001b[0m\u001b[1;33m,\u001b[0m \u001b[0mp\u001b[0m \u001b[1;33m=\u001b[0m \u001b[0mself\u001b[0m\u001b[1;33m.\u001b[0m\u001b[0m_calcDerivs\u001b[0m\u001b[1;33m(\u001b[0m\u001b[0mseq\u001b[0m\u001b[1;33m)\u001b[0m\u001b[1;33m\u001b[0m\u001b[0m\n\u001b[0m\u001b[0;32m     60\u001b[0m             \u001b[0merrors\u001b[0m \u001b[1;33m+=\u001b[0m \u001b[0me\u001b[0m\u001b[1;33m\u001b[0m\u001b[0m\n\u001b[0;32m     61\u001b[0m             \u001b[0mponderation\u001b[0m \u001b[1;33m+=\u001b[0m \u001b[0mp\u001b[0m\u001b[1;33m\u001b[0m\u001b[0m\n",
        "\u001b[1;32m/home/ubuntu/anaconda/lib/python2.7/site-packages/pybrain/supervised/trainers/backprop.pyc\u001b[0m in \u001b[0;36m_calcDerivs\u001b[1;34m(self, seq)\u001b[0m\n\u001b[0;32m    100\u001b[0m                 \u001b[1;31m# know why that is, but somehow the __str__ method of the\u001b[0m\u001b[1;33m\u001b[0m\u001b[1;33m\u001b[0m\u001b[0m\n\u001b[0;32m    101\u001b[0m                 \u001b[1;31m# ndarray class fixes something,\u001b[0m\u001b[1;33m\u001b[0m\u001b[1;33m\u001b[0m\u001b[0m\n\u001b[1;32m--> 102\u001b[1;33m                 \u001b[0mstr\u001b[0m\u001b[1;33m(\u001b[0m\u001b[0mouterr\u001b[0m\u001b[1;33m)\u001b[0m\u001b[1;33m\u001b[0m\u001b[0m\n\u001b[0m\u001b[0;32m    103\u001b[0m                 \u001b[0mself\u001b[0m\u001b[1;33m.\u001b[0m\u001b[0mmodule\u001b[0m\u001b[1;33m.\u001b[0m\u001b[0mbackActivate\u001b[0m\u001b[1;33m(\u001b[0m\u001b[0mouterr\u001b[0m\u001b[1;33m)\u001b[0m\u001b[1;33m\u001b[0m\u001b[0m\n\u001b[0;32m    104\u001b[0m \u001b[1;33m\u001b[0m\u001b[0m\n",
        "\u001b[1;32m/home/ubuntu/anaconda/lib/python2.7/site-packages/numpy/core/numeric.pyc\u001b[0m in \u001b[0;36marray_str\u001b[1;34m(a, max_line_width, precision, suppress_small)\u001b[0m\n\u001b[0;32m   1713\u001b[0m \u001b[1;33m\u001b[0m\u001b[0m\n\u001b[0;32m   1714\u001b[0m     \"\"\"\n\u001b[1;32m-> 1715\u001b[1;33m     \u001b[1;32mreturn\u001b[0m \u001b[0marray2string\u001b[0m\u001b[1;33m(\u001b[0m\u001b[0ma\u001b[0m\u001b[1;33m,\u001b[0m \u001b[0mmax_line_width\u001b[0m\u001b[1;33m,\u001b[0m \u001b[0mprecision\u001b[0m\u001b[1;33m,\u001b[0m \u001b[0msuppress_small\u001b[0m\u001b[1;33m,\u001b[0m \u001b[1;34m' '\u001b[0m\u001b[1;33m,\u001b[0m \u001b[1;34m\"\"\u001b[0m\u001b[1;33m,\u001b[0m \u001b[0mstr\u001b[0m\u001b[1;33m)\u001b[0m\u001b[1;33m\u001b[0m\u001b[0m\n\u001b[0m\u001b[0;32m   1716\u001b[0m \u001b[1;33m\u001b[0m\u001b[0m\n\u001b[0;32m   1717\u001b[0m \u001b[1;32mdef\u001b[0m \u001b[0mset_string_function\u001b[0m\u001b[1;33m(\u001b[0m\u001b[0mf\u001b[0m\u001b[1;33m,\u001b[0m \u001b[0mrepr\u001b[0m\u001b[1;33m=\u001b[0m\u001b[0mTrue\u001b[0m\u001b[1;33m)\u001b[0m\u001b[1;33m:\u001b[0m\u001b[1;33m\u001b[0m\u001b[0m\n",
        "\u001b[1;32m/home/ubuntu/anaconda/lib/python2.7/site-packages/numpy/core/arrayprint.pyc\u001b[0m in \u001b[0;36marray2string\u001b[1;34m(a, max_line_width, precision, suppress_small, separator, prefix, style, formatter)\u001b[0m\n\u001b[0;32m    452\u001b[0m     \u001b[1;32melse\u001b[0m\u001b[1;33m:\u001b[0m\u001b[1;33m\u001b[0m\u001b[0m\n\u001b[0;32m    453\u001b[0m         lst = _array2string(a, max_line_width, precision, suppress_small,\n\u001b[1;32m--> 454\u001b[1;33m                             separator, prefix, formatter=formatter)\n\u001b[0m\u001b[0;32m    455\u001b[0m     \u001b[1;32mreturn\u001b[0m \u001b[0mlst\u001b[0m\u001b[1;33m\u001b[0m\u001b[0m\n\u001b[0;32m    456\u001b[0m \u001b[1;33m\u001b[0m\u001b[0m\n",
        "\u001b[1;32m/home/ubuntu/anaconda/lib/python2.7/site-packages/numpy/core/arrayprint.pyc\u001b[0m in \u001b[0;36m_array2string\u001b[1;34m(a, max_line_width, precision, suppress_small, separator, prefix, formatter)\u001b[0m\n\u001b[0;32m    326\u001b[0m     lst = _formatArray(a, format_function, len(a.shape), max_line_width,\n\u001b[0;32m    327\u001b[0m                        \u001b[0mnext_line_prefix\u001b[0m\u001b[1;33m,\u001b[0m \u001b[0mseparator\u001b[0m\u001b[1;33m,\u001b[0m\u001b[1;33m\u001b[0m\u001b[0m\n\u001b[1;32m--> 328\u001b[1;33m                        _summaryEdgeItems, summary_insert)[:-1]\n\u001b[0m\u001b[0;32m    329\u001b[0m     \u001b[1;32mreturn\u001b[0m \u001b[0mlst\u001b[0m\u001b[1;33m\u001b[0m\u001b[0m\n\u001b[0;32m    330\u001b[0m \u001b[1;33m\u001b[0m\u001b[0m\n",
        "\u001b[1;32m/home/ubuntu/anaconda/lib/python2.7/site-packages/numpy/core/arrayprint.pyc\u001b[0m in \u001b[0;36m_formatArray\u001b[1;34m(a, format_function, rank, max_line_len, next_line_prefix, separator, edge_items, summary_insert)\u001b[0m\n\u001b[0;32m    495\u001b[0m \u001b[1;33m\u001b[0m\u001b[0m\n\u001b[0;32m    496\u001b[0m         \u001b[1;32mfor\u001b[0m \u001b[0mi\u001b[0m \u001b[1;32min\u001b[0m \u001b[0mrange\u001b[0m\u001b[1;33m(\u001b[0m\u001b[0mtrailing_items\u001b[0m\u001b[1;33m,\u001b[0m \u001b[1;36m1\u001b[0m\u001b[1;33m,\u001b[0m \u001b[1;33m-\u001b[0m\u001b[1;36m1\u001b[0m\u001b[1;33m)\u001b[0m\u001b[1;33m:\u001b[0m\u001b[1;33m\u001b[0m\u001b[0m\n\u001b[1;32m--> 497\u001b[1;33m             \u001b[0mword\u001b[0m \u001b[1;33m=\u001b[0m \u001b[0mformat_function\u001b[0m\u001b[1;33m(\u001b[0m\u001b[0ma\u001b[0m\u001b[1;33m[\u001b[0m\u001b[1;33m-\u001b[0m\u001b[0mi\u001b[0m\u001b[1;33m]\u001b[0m\u001b[1;33m)\u001b[0m \u001b[1;33m+\u001b[0m \u001b[0mseparator\u001b[0m\u001b[1;33m\u001b[0m\u001b[0m\n\u001b[0m\u001b[0;32m    498\u001b[0m             \u001b[0ms\u001b[0m\u001b[1;33m,\u001b[0m \u001b[0mline\u001b[0m \u001b[1;33m=\u001b[0m \u001b[0m_extendLine\u001b[0m\u001b[1;33m(\u001b[0m\u001b[0ms\u001b[0m\u001b[1;33m,\u001b[0m \u001b[0mline\u001b[0m\u001b[1;33m,\u001b[0m \u001b[0mword\u001b[0m\u001b[1;33m,\u001b[0m \u001b[0mmax_line_len\u001b[0m\u001b[1;33m,\u001b[0m \u001b[0mnext_line_prefix\u001b[0m\u001b[1;33m)\u001b[0m\u001b[1;33m\u001b[0m\u001b[0m\n\u001b[0;32m    499\u001b[0m \u001b[1;33m\u001b[0m\u001b[0m\n",
        "\u001b[1;32m/home/ubuntu/anaconda/lib/python2.7/site-packages/numpy/core/arrayprint.pyc\u001b[0m in \u001b[0;36m__call__\u001b[1;34m(self, x, strip_zeros)\u001b[0m\n\u001b[0;32m    612\u001b[0m                         \u001b[1;32mreturn\u001b[0m \u001b[0mself\u001b[0m\u001b[1;33m.\u001b[0m\u001b[0mspecial_fmt\u001b[0m \u001b[1;33m%\u001b[0m \u001b[1;33m(\u001b[0m\u001b[0m_inf_str\u001b[0m\u001b[1;33m,\u001b[0m\u001b[1;33m)\u001b[0m\u001b[1;33m\u001b[0m\u001b[0m\n\u001b[0;32m    613\u001b[0m                 \u001b[1;32melse\u001b[0m\u001b[1;33m:\u001b[0m\u001b[1;33m\u001b[0m\u001b[0m\n\u001b[1;32m--> 614\u001b[1;33m                     \u001b[1;32mreturn\u001b[0m \u001b[0mself\u001b[0m\u001b[1;33m.\u001b[0m\u001b[0mspecial_fmt\u001b[0m \u001b[1;33m%\u001b[0m \u001b[1;33m(\u001b[0m\u001b[1;34m'-'\u001b[0m \u001b[1;33m+\u001b[0m \u001b[0m_inf_str\u001b[0m\u001b[1;33m,\u001b[0m\u001b[1;33m)\u001b[0m\u001b[1;33m\u001b[0m\u001b[0m\n\u001b[0m\u001b[0;32m    615\u001b[0m \u001b[1;33m\u001b[0m\u001b[0m\n\u001b[0;32m    616\u001b[0m         \u001b[0ms\u001b[0m \u001b[1;33m=\u001b[0m \u001b[0mself\u001b[0m\u001b[1;33m.\u001b[0m\u001b[0mformat\u001b[0m \u001b[1;33m%\u001b[0m \u001b[0mx\u001b[0m\u001b[1;33m\u001b[0m\u001b[0m\n",
        "\u001b[1;32m/home/ubuntu/anaconda/lib/python2.7/site-packages/numpy/core/numeric.pyc\u001b[0m in \u001b[0;36m__exit__\u001b[1;34m(self, *exc_info)\u001b[0m\n\u001b[0;32m   2817\u001b[0m \u001b[1;33m\u001b[0m\u001b[0m\n\u001b[0;32m   2818\u001b[0m     \u001b[1;32mdef\u001b[0m \u001b[0m__exit__\u001b[0m\u001b[1;33m(\u001b[0m\u001b[0mself\u001b[0m\u001b[1;33m,\u001b[0m \u001b[1;33m*\u001b[0m\u001b[0mexc_info\u001b[0m\u001b[1;33m)\u001b[0m\u001b[1;33m:\u001b[0m\u001b[1;33m\u001b[0m\u001b[0m\n\u001b[1;32m-> 2819\u001b[1;33m         \u001b[0mseterr\u001b[0m\u001b[1;33m(\u001b[0m\u001b[1;33m**\u001b[0m\u001b[0mself\u001b[0m\u001b[1;33m.\u001b[0m\u001b[0moldstate\u001b[0m\u001b[1;33m)\u001b[0m\u001b[1;33m\u001b[0m\u001b[0m\n\u001b[0m\u001b[0;32m   2820\u001b[0m         \u001b[1;32mif\u001b[0m \u001b[0mself\u001b[0m\u001b[1;33m.\u001b[0m\u001b[0mcall\u001b[0m \u001b[1;32mis\u001b[0m \u001b[1;32mnot\u001b[0m \u001b[0m_Unspecified\u001b[0m\u001b[1;33m:\u001b[0m\u001b[1;33m\u001b[0m\u001b[0m\n\u001b[0;32m   2821\u001b[0m             \u001b[0mseterrcall\u001b[0m\u001b[1;33m(\u001b[0m\u001b[0mself\u001b[0m\u001b[1;33m.\u001b[0m\u001b[0moldcall\u001b[0m\u001b[1;33m)\u001b[0m\u001b[1;33m\u001b[0m\u001b[0m\n",
        "\u001b[1;32m/home/ubuntu/anaconda/lib/python2.7/site-packages/numpy/core/numeric.pyc\u001b[0m in \u001b[0;36mseterr\u001b[1;34m(all, divide, over, under, invalid)\u001b[0m\n\u001b[0;32m   2505\u001b[0m \u001b[1;33m\u001b[0m\u001b[0m\n\u001b[0;32m   2506\u001b[0m     \u001b[0mpyvals\u001b[0m \u001b[1;33m=\u001b[0m \u001b[0mumath\u001b[0m\u001b[1;33m.\u001b[0m\u001b[0mgeterrobj\u001b[0m\u001b[1;33m(\u001b[0m\u001b[1;33m)\u001b[0m\u001b[1;33m\u001b[0m\u001b[0m\n\u001b[1;32m-> 2507\u001b[1;33m     \u001b[0mold\u001b[0m \u001b[1;33m=\u001b[0m \u001b[0mgeterr\u001b[0m\u001b[1;33m(\u001b[0m\u001b[1;33m)\u001b[0m\u001b[1;33m\u001b[0m\u001b[0m\n\u001b[0m\u001b[0;32m   2508\u001b[0m \u001b[1;33m\u001b[0m\u001b[0m\n\u001b[0;32m   2509\u001b[0m     \u001b[1;32mif\u001b[0m \u001b[0mdivide\u001b[0m \u001b[1;32mis\u001b[0m \u001b[0mNone\u001b[0m\u001b[1;33m:\u001b[0m \u001b[0mdivide\u001b[0m \u001b[1;33m=\u001b[0m \u001b[0mall\u001b[0m \u001b[1;32mor\u001b[0m \u001b[0mold\u001b[0m\u001b[1;33m[\u001b[0m\u001b[1;34m'divide'\u001b[0m\u001b[1;33m]\u001b[0m\u001b[1;33m\u001b[0m\u001b[0m\n",
        "\u001b[1;32m/home/ubuntu/anaconda/lib/python2.7/site-packages/numpy/core/numeric.pyc\u001b[0m in \u001b[0;36mgeterr\u001b[1;34m()\u001b[0m\n\u001b[0;32m   2568\u001b[0m     \u001b[0mval\u001b[0m \u001b[1;33m=\u001b[0m \u001b[1;33m(\u001b[0m\u001b[0mmaskvalue\u001b[0m \u001b[1;33m>>\u001b[0m \u001b[0mSHIFT_UNDERFLOW\u001b[0m\u001b[1;33m)\u001b[0m \u001b[1;33m&\u001b[0m \u001b[0mmask\u001b[0m\u001b[1;33m\u001b[0m\u001b[0m\n\u001b[0;32m   2569\u001b[0m     \u001b[0mres\u001b[0m\u001b[1;33m[\u001b[0m\u001b[1;34m'under'\u001b[0m\u001b[1;33m]\u001b[0m \u001b[1;33m=\u001b[0m \u001b[0m_errdict_rev\u001b[0m\u001b[1;33m[\u001b[0m\u001b[0mval\u001b[0m\u001b[1;33m]\u001b[0m\u001b[1;33m\u001b[0m\u001b[0m\n\u001b[1;32m-> 2570\u001b[1;33m     \u001b[0mval\u001b[0m \u001b[1;33m=\u001b[0m \u001b[1;33m(\u001b[0m\u001b[0mmaskvalue\u001b[0m \u001b[1;33m>>\u001b[0m \u001b[0mSHIFT_INVALID\u001b[0m\u001b[1;33m)\u001b[0m \u001b[1;33m&\u001b[0m \u001b[0mmask\u001b[0m\u001b[1;33m\u001b[0m\u001b[0m\n\u001b[0m\u001b[0;32m   2571\u001b[0m     \u001b[0mres\u001b[0m\u001b[1;33m[\u001b[0m\u001b[1;34m'invalid'\u001b[0m\u001b[1;33m]\u001b[0m \u001b[1;33m=\u001b[0m \u001b[0m_errdict_rev\u001b[0m\u001b[1;33m[\u001b[0m\u001b[0mval\u001b[0m\u001b[1;33m]\u001b[0m\u001b[1;33m\u001b[0m\u001b[0m\n\u001b[0;32m   2572\u001b[0m     \u001b[1;32mreturn\u001b[0m \u001b[0mres\u001b[0m\u001b[1;33m\u001b[0m\u001b[0m\n",
        "\u001b[1;31mKeyboardInterrupt\u001b[0m: "
       ]
      }
     ],
     "prompt_number": 66
    },
    {
     "cell_type": "code",
     "collapsed": false,
     "input": [],
     "language": "python",
     "metadata": {},
     "outputs": []
    }
   ],
   "metadata": {}
  }
 ]
}