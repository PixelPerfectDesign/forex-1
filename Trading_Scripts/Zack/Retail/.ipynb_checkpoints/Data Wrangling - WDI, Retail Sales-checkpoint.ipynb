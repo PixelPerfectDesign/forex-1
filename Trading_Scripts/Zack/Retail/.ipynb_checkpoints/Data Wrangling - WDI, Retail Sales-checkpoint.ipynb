{
 "cells": [
  {
   "cell_type": "code",
   "execution_count": 1,
   "metadata": {
    "collapsed": true
   },
   "outputs": [],
   "source": [
    "import glob\n",
    "import pybrain\n",
    "from pybrain.structure import FeedForwardNetwork\n",
    "from pybrain.structure import LinearLayer, SigmoidLayer\n",
    "from pybrain.structure import FullConnection\n",
    "from pybrain.datasets import SupervisedDataSet\n",
    "from pybrain.supervised.trainers import BackpropTrainer\n",
    "import matplotlib.pyplot as plt\n",
    "import datetime\n",
    "%matplotlib inline\n",
    "import random\n",
    "import ast\n",
    "import time\n",
    "import sqlalchemy\n",
    "from sqlalchemy import *\n",
    "from sqlalchemy import event\n",
    "import sqlite3\n",
    "from sqlalchemy.ext.declarative import declarative_base\n",
    "from sqlalchemy.orm import *\n",
    "import urllib2\n",
    "import urllib\n",
    "import json\n",
    "import glob\n",
    "import pprint\n",
    "import dateutil.parser\n",
    "import pprint\n",
    "import re\n",
    "from sklearn import linear_model, datasets\n",
    "import time\n",
    "from sklearn.naive_bayes import GaussianNB\n",
    "import nltk\n",
    "from collections import defaultdict\n",
    "from sklearn import svm\n",
    "pp = pprint.PrettyPrinter(indent=4)\n",
    "import numpy\n",
    "import time\n",
    "import sqlalchemy\n",
    "from sqlalchemy import *\n",
    "from sqlalchemy import event\n",
    "from sqlalchemy.dialects.mysql import LONGTEXT\n",
    "import sqlite3\n",
    "from sqlalchemy.ext.declarative import declarative_base\n",
    "from sqlalchemy.orm import *\n",
    "import urllib2\n",
    "import urllib\n",
    "import json\n",
    "import pprint\n",
    "import dateutil.parser\n",
    "import gevent\n",
    "import datetime\n",
    "import marshal\n",
    "\n",
    "import re, math, collections, itertools\n",
    "import nltk, nltk.classify.util, nltk.metrics\n",
    "from nltk.classify import NaiveBayesClassifier\n",
    "from nltk.metrics import BigramAssocMeasures\n",
    "from nltk.probability import FreqDist, ConditionalFreqDist\n",
    "import numpy as np\n",
    "import csv\n",
    "import re\n",
    "import nltk.classify.util\n",
    "from nltk.classify import NaiveBayesClassifier\n",
    "from nltk.corpus import movie_reviews\n",
    "from sklearn.svm import LinearSVC\n",
    "from nltk.classify.scikitlearn import SklearnClassifier\n",
    "import os\n"
   ]
  },
  {
   "cell_type": "code",
   "execution_count": null,
   "metadata": {
    "collapsed": true
   },
   "outputs": [],
   "source": []
  },
  {
   "cell_type": "code",
   "execution_count": 6,
   "metadata": {
    "collapsed": false
   },
   "outputs": [],
   "source": [
    "import csv\n",
    "from os.path import expanduser\n",
    "home = expanduser(\"~\")\n",
    "with open(home + \"/forex/data/datasets/WorldDevelopmentIndex/WDI_Data.csv\") as csvfile:\n",
    "    with open(home + \"/forex/data/datasets/WorldDevelopmentIndex/WDI_Data_out.csv\", \"rw\") as outfile:\n",
    "    reader = csv.DictReader(csvfile)\n",
    "    writer = csv.writer(outfile)\n",
    "    writer.writerow([])\n",
    "    for line in reader:\n",
    "        for key in line.keys():\n",
    "            if '19' in key:\n",
    "                writer.writerow([line['Country Name'], line['Country Code'], line['Indicator Code'], line[key]]"
   ]
  },
  {
   "cell_type": "code",
   "execution_count": 7,
   "metadata": {
    "collapsed": false
   },
   "outputs": [
    {
     "data": {
      "text/plain": [
       "{'1960': '',\n",
       " '1961': '',\n",
       " '1962': '',\n",
       " '1963': '',\n",
       " '1964': '',\n",
       " '1965': '',\n",
       " '1966': '',\n",
       " '1967': '',\n",
       " '1968': '',\n",
       " '1969': '',\n",
       " '1970': '',\n",
       " '1971': '',\n",
       " '1972': '',\n",
       " '1973': '',\n",
       " '1974': '',\n",
       " '1975': '',\n",
       " '1976': '',\n",
       " '1977': '',\n",
       " '1978': '',\n",
       " '1979': '',\n",
       " '1980': '',\n",
       " '1981': '',\n",
       " '1982': '',\n",
       " '1983': '',\n",
       " '1984': '',\n",
       " '1985': '',\n",
       " '1986': '',\n",
       " '1987': '',\n",
       " '1988': '',\n",
       " '1989': '',\n",
       " '1990': '6.77304964539007E+01',\n",
       " '1991': '6.79802955665025E+01',\n",
       " '1992': '6.79943100995733E+01',\n",
       " '1993': '6.83453237410072E+01',\n",
       " '1994': '6.87045123726346E+01',\n",
       " '1995': '6.90370370370370E+01',\n",
       " '1996': '7.03703703703704E+01',\n",
       " '1997': '7.23880597014925E+01',\n",
       " '1998': '7.44360902255639E+01',\n",
       " '1999': '7.37226277372263E+01',\n",
       " '2000': '7.49890940817217E+01',\n",
       " '2001': '7.28114599913182E+01',\n",
       " '2002': '7.90639711991138E+01',\n",
       " '2003': '6.62909836065574E+01',\n",
       " '2004': '7.24358974358974E+01',\n",
       " '2005': '7.40618101545254E+01',\n",
       " '2006': '7.07557502738226E+01',\n",
       " '2007': '7.20000000000000E+01',\n",
       " '2008': '6.86548223350254E+01',\n",
       " '2009': '8.71766029246344E+01',\n",
       " '2010': '8.59865470852018E+01',\n",
       " '2011': '8.24875621890547E+01',\n",
       " '2012': '0.00000000000000E+00',\n",
       " '2013': '',\n",
       " '2014': '',\n",
       " 'Country Code': 'AFG',\n",
       " 'Country Name': 'Afghanistan',\n",
       " 'Indicator Code': 'EG.ELC.RNEW.ZS',\n",
       " 'Indicator Name': 'Renewable electricity output (% of total electricity output)'}"
      ]
     },
     "execution_count": 7,
     "metadata": {},
     "output_type": "execute_result"
    }
   ],
   "source": [
    "out[1]"
   ]
  },
  {
   "cell_type": "code",
   "execution_count": null,
   "metadata": {
    "collapsed": true
   },
   "outputs": [],
   "source": [
    "i want to extract all the features of all the countries for a certain year, and use that to predict the next year's retail sales.\n",
    "\n",
    "there's 300000 features\n",
    "limit it to only features that have good data for most countries back 15+ years\n",
    "\n",
    "put the data into a format with each row containing country, indicator type, year, and data value"
   ]
  },
  {
   "cell_type": "code",
   "execution_count": null,
   "metadata": {
    "collapsed": true
   },
   "outputs": [],
   "source": []
  },
  {
   "cell_type": "code",
   "execution_count": null,
   "metadata": {
    "collapsed": true
   },
   "outputs": [],
   "source": []
  }
 ],
 "metadata": {
  "kernelspec": {
   "display_name": "Python 2",
   "language": "python",
   "name": "python2"
  },
  "language_info": {
   "codemirror_mode": {
    "name": "ipython",
    "version": 2
   },
   "file_extension": ".py",
   "mimetype": "text/x-python",
   "name": "python",
   "nbconvert_exporter": "python",
   "pygments_lexer": "ipython2",
   "version": "2.7.8"
  }
 },
 "nbformat": 4,
 "nbformat_minor": 0
}
