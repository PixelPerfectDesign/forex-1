{
 "cells": [
  {
   "cell_type": "code",
   "execution_count": null,
   "metadata": {
    "collapsed": false
   },
   "outputs": [],
   "source": [
    "import theano\n",
    "print theano.config.device\n",
    "import os\n",
    "import pylearn2"
   ]
  },
  {
   "cell_type": "code",
   "execution_count": null,
   "metadata": {
    "collapsed": false
   },
   "outputs": [],
   "source": [
    "os.environ['PYLEARN2_DATA_PATH']='/home/ubuntu/forex/datasets'"
   ]
  },
  {
   "cell_type": "code",
   "execution_count": null,
   "metadata": {
    "collapsed": false
   },
   "outputs": [],
   "source": [
    "THEANO_FLAGS='cuda.root=/usr/local/cuda-6.5,device=gpu,floatX=float32'"
   ]
  },
  {
   "cell_type": "code",
   "execution_count": null,
   "metadata": {
    "collapsed": false
   },
   "outputs": [],
   "source": [
    "path = os.path.join(pylearn2.__path__[0], 'scripts', 'tutorials', 'multilayer_perceptron', 'mlp_tutorial_part_2.yaml')\n",
    "with open(path, 'r') as f:\n",
    "    train = f.read()\n",
    "hyper_params = {'train_stop' : 50000,\n",
    "                'valid_stop' : 60000,\n",
    "                'dim_h0' : 500,\n",
    "                'max_epochs' : 10000,\n",
    "                'save_path' : '.'}\n",
    "train = train % (hyper_params)\n",
    "print train"
   ]
  },
  {
   "cell_type": "code",
   "execution_count": null,
   "metadata": {
    "collapsed": false
   },
   "outputs": [],
   "source": [
    "from pylearn2.config import yaml_parse\n",
    "train = yaml_parse.load(train)\n",
    "train.main_loop()"
   ]
  },
  {
   "cell_type": "code",
   "execution_count": null,
   "metadata": {
    "collapsed": false
   },
   "outputs": [],
   "source": [
    "!print_monitor.py mlp_best.pkl | grep test_y_misclass"
   ]
  },
  {
   "cell_type": "code",
   "execution_count": null,
   "metadata": {
    "collapsed": false
   },
   "outputs": [],
   "source": []
  },
  {
   "cell_type": "code",
   "execution_count": null,
   "metadata": {
    "collapsed": false
   },
   "outputs": [],
   "source": [
    "import os\n",
    "import pylearn2\n",
    "path = os.path.join(pylearn2.__path__[0], 'scripts', 'tutorials', 'softmax_regression')\n",
    "with open(os.path.join(path, 'sr_dataset.yaml'), 'r') as f:\n",
    "    dataset = f.read()\n",
    "hyper_params = {'train_stop' : 50000}\n",
    "dataset = dataset % (hyper_params)\n",
    "print dataset"
   ]
  },
  {
   "cell_type": "code",
   "execution_count": null,
   "metadata": {
    "collapsed": false
   },
   "outputs": [],
   "source": [
    "\n",
    "with open(os.path.join(path, 'sr_model.yaml'), 'r') as f:\n",
    "    model = f.read()\n",
    "\n",
    "print model"
   ]
  },
  {
   "cell_type": "code",
   "execution_count": null,
   "metadata": {
    "collapsed": false
   },
   "outputs": [],
   "source": [
    "import os\n",
    "import pylearn2\n",
    "dirname = os.path.abspath(os.path.dirname('softmax_regression.ipynb'))\n",
    "with open(os.path.join(path, 'sr_algorithm.yaml'), 'r') as f:\n",
    "    algorithm = f.read()\n",
    "hyper_params = {'batch_size' : 10000,\n",
    "                'valid_stop' : 60000}\n",
    "algorithm = algorithm % (hyper_params)\n",
    "print algorithm"
   ]
  },
  {
   "cell_type": "code",
   "execution_count": null,
   "metadata": {
    "collapsed": false
   },
   "outputs": [],
   "source": [
    "import os\n",
    "import pylearn2\n",
    "dirname = os.path.abspath(os.path.dirname('softmax_regression.ipynb'))\n",
    "with open(os.path.join(path, 'sr_train.yaml'), 'r') as f:\n",
    "    train = f.read()\n",
    "save_path = '.'\n",
    "train = train %locals()"
   ]
  },
  {
   "cell_type": "code",
   "execution_count": null,
   "metadata": {
    "collapsed": false
   },
   "outputs": [],
   "source": [
    "print train"
   ]
  },
  {
   "cell_type": "code",
   "execution_count": null,
   "metadata": {
    "collapsed": false
   },
   "outputs": [],
   "source": [
    "from pylearn2.config import yaml_parse\n",
    "train = yaml_parse.load(train)\n",
    "train.main_loop()"
   ]
  },
  {
   "cell_type": "code",
   "execution_count": null,
   "metadata": {
    "collapsed": false
   },
   "outputs": [],
   "source": [
    "from theano import function, config, shared, sandbox\n",
    "import theano.tensor as T\n",
    "import numpy\n",
    "import time\n",
    "\n",
    "vlen = 10 * 30 * 768  # 10 x #cores x # threads per core\n",
    "iters = 20\n",
    "\n",
    "rng = numpy.random.RandomState(22)\n",
    "x = shared(numpy.asarray(rng.rand(vlen), config.floatX))\n",
    "f = function([], T.exp(x))\n",
    "print f.maker.fgraph.toposort()\n",
    "t0 = time.time()\n",
    "for i in xrange(iters):\n",
    "    r = f()\n",
    "t1 = time.time()\n",
    "print 'Looping %d times took' % iters, t1 - t0, 'seconds'\n",
    "print 'Result is', r\n",
    "if numpy.any([isinstance(x.op, T.Elemwise) for x in f.maker.fgraph.toposort()]):\n",
    "    print 'Used the cpu'\n",
    "else:\n",
    "    print 'Used the gpu'"
   ]
  },
  {
   "cell_type": "code",
   "execution_count": null,
   "metadata": {
    "collapsed": false
   },
   "outputs": [],
   "source": [
    "THEANO_FLAGS='cuda.root=/usr/local/cuda-6.5,device=gpu1,floatX=float32'"
   ]
  },
  {
   "cell_type": "code",
   "execution_count": null,
   "metadata": {
    "collapsed": false
   },
   "outputs": [],
   "source": []
  }
 ],
 "metadata": {
  "kernelspec": {
   "display_name": "Python 2",
   "language": "python",
   "name": "python2"
  },
  "language_info": {
   "codemirror_mode": {
    "name": "ipython",
    "version": 2
   },
   "file_extension": ".py",
   "mimetype": "text/x-python",
   "name": "python",
   "nbconvert_exporter": "python",
   "pygments_lexer": "ipython2",
   "version": "2.7.8"
  }
 },
 "nbformat": 4,
 "nbformat_minor": 0
}
