{
 "cells": [
  {
   "cell_type": "code",
   "execution_count": 2,
   "metadata": {
    "collapsed": false
   },
   "outputs": [
    {
     "name": "stderr",
     "output_type": "stream",
     "text": [
      "Using gpu device 0: GRID K520\n"
     ]
    }
   ],
   "source": [
    "import glob\n",
    "import pybrain\n",
    "import numpy as np\n",
    "from pybrain.structure import FeedForwardNetwork\n",
    "from pybrain.structure import LinearLayer, SigmoidLayer\n",
    "from pybrain.structure import FullConnection\n",
    "from pybrain.datasets import SupervisedDataSet\n",
    "from pybrain.supervised.trainers import BackpropTrainer\n",
    "import matplotlib.pyplot as plt\n",
    "import datetime\n",
    "%matplotlib inline\n",
    "import random\n",
    "import ast\n",
    "import time\n",
    "import sqlalchemy\n",
    "from sqlalchemy import *\n",
    "from sqlalchemy import event\n",
    "import sqlite3\n",
    "from sqlalchemy.ext.declarative import declarative_base\n",
    "from sqlalchemy.orm import *\n",
    "import urllib2\n",
    "import urllib\n",
    "import json\n",
    "import glob\n",
    "import pprint\n",
    "import dateutil.parser\n",
    "import pprint\n",
    "import re\n",
    "from sklearn import linear_model, datasets\n",
    "import time\n",
    "from sklearn.naive_bayes import GaussianNB\n",
    "import nltk\n",
    "from collections import defaultdict\n",
    "from sklearn import svm\n",
    "pp = pprint.PrettyPrinter(indent=4)\n",
    "import gevent.monkey\n",
    "gevent.monkey.patch_socket()\n",
    "import numpy\n",
    "import time\n",
    "import sqlalchemy\n",
    "from sqlalchemy import *\n",
    "from sqlalchemy import event\n",
    "from sqlalchemy.dialects.mysql import LONGTEXT\n",
    "import sqlite3\n",
    "from sqlalchemy.ext.declarative import declarative_base\n",
    "from sqlalchemy.orm import *\n",
    "import urllib2\n",
    "import urllib\n",
    "import json\n",
    "import pprint\n",
    "import dateutil.parser\n",
    "import gevent\n",
    "import datetime\n",
    "import marshal\n",
    "from pylearn2.datasets.dense_design_matrix import DenseDesignMatrix\n",
    "\n",
    "from __future__ import division\n",
    "import os\n",
    "\n",
    "import pylearn2\n",
    "import numpy as np\n",
    "from pylearn2.train import Train\n",
    "from pylearn2.datasets.mnist import MNIST\n",
    "from pylearn2.models import softmax_regression, mlp, svm\n",
    "from pylearn2.training_algorithms import bgd, sgd\n",
    "from pylearn2.termination_criteria import MonitorBased, EpochCounter\n",
    "from pylearn2.train_extensions import best_params, live_monitoring\n",
    "from pylearn2.utils import serial\n",
    "from pylearn2.costs.mlp.dropout import Dropout\n",
    "from pylearn2.costs.mlp import WeightDecay\n",
    "from theano import function\n",
    "from theano import tensor as T\n",
    "import pickle"
   ]
  },
  {
   "cell_type": "code",
   "execution_count": 7,
   "metadata": {
    "collapsed": true
   },
   "outputs": [],
   "source": [
    "trainfile = open('usd_eur_trainingdata.csv', 'r')\n",
    "testfile = open('usd_eur_testingdata.csv', 'r')\n",
    "\n",
    "train, test = [], []\n",
    "for line in trainfile:\n",
    "    line = line.strip().split(',')\n",
    "    features = line[:-3]\n",
    "    outputs = line[-3:]\n",
    "    train.append([features, outputs])\n",
    "\n",
    "for line in testfile:\n",
    "    line = line.strip().split(',')\n",
    "    features = line[:-3]\n",
    "    outputs = line[-3:]\n",
    "    test.append([features, outputs])"
   ]
  },
  {
   "cell_type": "code",
   "execution_count": null,
   "metadata": {
    "collapsed": true
   },
   "outputs": [],
   "source": [
    "trainfile = open('usd_eur_trainingdata.csv', 'r')\n",
    "testfile = open('usd_eur_testingdata.csv', 'r')\n",
    "\n",
    "train_out, test_out = [], []\n",
    "for line in trainfile:\n",
    "    line = line.strip().split(',')\n",
    "    outputs = line[-3:]\n",
    "    train_out.append(outputs)\n",
    "\n",
    "for line in testfile:\n",
    "    line = line.strip().split(',')\n",
    "    outputs = line[-3:]\n",
    "    test_out.append(outputs)"
   ]
  },
  {
   "cell_type": "code",
   "execution_count": 68,
   "metadata": {
    "collapsed": true
   },
   "outputs": [],
   "source": []
  },
  {
   "cell_type": "code",
   "execution_count": 66,
   "metadata": {
    "collapsed": false
   },
   "outputs": [
    {
     "name": "stdout",
     "output_type": "stream",
     "text": [
      "Training set\n",
      "0.518590998043\n",
      "0.526139222812\n",
      "0.51607492312\n",
      "test set\n",
      "0.0542353927873\n",
      "0.0539558289069\n",
      "0.0567514677104\n"
     ]
    }
   ],
   "source": [
    "ds = SupervisedDataSet(9, 3)\n",
    "for t in train:\n",
    "    ds.addSample(t[0], t[1])\n",
    "p = net.activateOnDataset( ds )\n",
    "comparison = zip(train_out, p)\n",
    "\n",
    "print \"Training set\"\n",
    "for i in range(3):\n",
    "    right = 0\n",
    "    for row in comparison:\n",
    "        if float(row[0][i]) * float(row[1][i]) >= 0:\n",
    "            right += 1\n",
    "    print right/float(len(p))\n",
    "    \n",
    "ds = SupervisedDataSet(9, 3)\n",
    "for t in test:\n",
    "    ds.addSample(t[0], t[1])\n",
    "comparison = zip(test_out, p)\n",
    "\n",
    "print \"test set\"\n",
    "for i in range(3):\n",
    "    right = 0\n",
    "    for row in comparison:\n",
    "        if float(row[0][i]) * float(row[1][i]) >= 0:\n",
    "            right += 1\n",
    "    print right/float(len(p))"
   ]
  },
  {
   "cell_type": "code",
   "execution_count": 71,
   "metadata": {
    "collapsed": false
   },
   "outputs": [],
   "source": [
    "trainfile = open('usd_eur_trainingdata.csv', 'r')\n",
    "testfile = open('usd_eur_testingdata.csv', 'r')\n",
    "\n",
    "train_all, test_all = [], []\n",
    "for line in trainfile:\n",
    "    train_all.append(line.strip().split(','))\n",
    "\n",
    "for line in testfile:\n",
    "\n",
    "    test_all.append(line.strip().split(','))"
   ]
  },
  {
   "cell_type": "code",
   "execution_count": 88,
   "metadata": {
    "collapsed": false
   },
   "outputs": [
    {
     "name": "stdout",
     "output_type": "stream",
     "text": [
      "0.477774671512\n",
      "0.476376852111\n",
      "0.474326716988\n",
      "0.519280205656\n",
      "0.517994858612\n",
      "0.510711225364\n"
     ]
    }
   ],
   "source": [
    "up = 0\n",
    "down = 0\n",
    "\n",
    "for x in range(9, 12):\n",
    "    for row in train_all:\n",
    "        if float(row[x]) > 0:\n",
    "            up += 1\n",
    "        else:\n",
    "            down += 1\n",
    "    print up /(down + up)\n",
    "    \n",
    "up = 0\n",
    "down = 0\n",
    "\n",
    "for x in range(9, 12):\n",
    "    for row in test_all:\n",
    "\n",
    "        if float(row[x]) > 0:\n",
    "            up += 1\n",
    "        else:\n",
    "            down += 1\n",
    "    print up /(down + up)"
   ]
  }
 ],
 "metadata": {
  "kernelspec": {
   "display_name": "Python 2",
   "language": "python",
   "name": "python2"
  },
  "language_info": {
   "codemirror_mode": {
    "name": "ipython",
    "version": 2
   },
   "file_extension": ".py",
   "mimetype": "text/x-python",
   "name": "python",
   "nbconvert_exporter": "python",
   "pygments_lexer": "ipython2",
   "version": "2.7.8"
  }
 },
 "nbformat": 4,
 "nbformat_minor": 0
}
