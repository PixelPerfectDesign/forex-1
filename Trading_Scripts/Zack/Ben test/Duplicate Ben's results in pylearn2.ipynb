{
 "cells": [
  {
   "cell_type": "code",
   "execution_count": 1,
   "metadata": {
    "collapsed": false
   },
   "outputs": [
    {
     "name": "stderr",
     "output_type": "stream",
     "text": [
      "Using gpu device 0: GRID K520\n"
     ]
    }
   ],
   "source": [
    "import glob\n",
    "import pybrain\n",
    "import numpy as np\n",
    "from pybrain.structure import FeedForwardNetwork\n",
    "from pybrain.structure import LinearLayer, SigmoidLayer\n",
    "from pybrain.structure import FullConnection\n",
    "from pybrain.datasets import SupervisedDataSet\n",
    "from pybrain.supervised.trainers import BackpropTrainer\n",
    "import matplotlib.pyplot as plt\n",
    "import datetime\n",
    "%matplotlib inline\n",
    "import random\n",
    "import ast\n",
    "import time\n",
    "import sqlalchemy\n",
    "from sqlalchemy import *\n",
    "from sqlalchemy import event\n",
    "import sqlite3\n",
    "from sqlalchemy.ext.declarative import declarative_base\n",
    "from sqlalchemy.orm import *\n",
    "import urllib2\n",
    "import urllib\n",
    "import json\n",
    "import glob\n",
    "import pprint\n",
    "import dateutil.parser\n",
    "import pprint\n",
    "import re\n",
    "from sklearn import linear_model, datasets\n",
    "import time\n",
    "from sklearn.naive_bayes import GaussianNB\n",
    "import nltk\n",
    "from collections import defaultdict\n",
    "from sklearn import svm\n",
    "pp = pprint.PrettyPrinter(indent=4)\n",
    "import gevent.monkey\n",
    "gevent.monkey.patch_socket()\n",
    "import numpy\n",
    "import time\n",
    "import sqlalchemy\n",
    "from sqlalchemy import *\n",
    "from sqlalchemy import event\n",
    "from sqlalchemy.dialects.mysql import LONGTEXT\n",
    "import sqlite3\n",
    "from sqlalchemy.ext.declarative import declarative_base\n",
    "from sqlalchemy.orm import *\n",
    "import urllib2\n",
    "import urllib\n",
    "import json\n",
    "import pprint\n",
    "import dateutil.parser\n",
    "import gevent\n",
    "import datetime\n",
    "import marshal\n",
    "from pylearn2.datasets.dense_design_matrix import DenseDesignMatrix\n",
    "\n",
    "from __future__ import division\n",
    "import os\n",
    "\n",
    "import pylearn2\n",
    "import numpy as np\n",
    "from pylearn2.train import Train\n",
    "from pylearn2.datasets.mnist import MNIST\n",
    "from pylearn2.models import softmax_regression, mlp, svm\n",
    "from pylearn2.training_algorithms import bgd, sgd\n",
    "from pylearn2.termination_criteria import MonitorBased, EpochCounter\n",
    "from pylearn2.train_extensions import best_params, live_monitoring\n",
    "from pylearn2.utils import serial\n",
    "from pylearn2.costs.mlp.dropout import Dropout\n",
    "from pylearn2.costs.mlp import WeightDecay\n",
    "from theano import function\n",
    "from theano import tensor as T\n",
    "import cPickle as pickle"
   ]
  },
  {
   "cell_type": "code",
   "execution_count": null,
   "metadata": {
    "collapsed": false
   },
   "outputs": [],
   "source": []
  },
  {
   "cell_type": "code",
   "execution_count": null,
   "metadata": {
    "collapsed": true
   },
   "outputs": [],
   "source": []
  },
  {
   "cell_type": "code",
   "execution_count": null,
   "metadata": {
    "collapsed": true
   },
   "outputs": [],
   "source": []
  },
  {
   "cell_type": "code",
   "execution_count": 165,
   "metadata": {
    "collapsed": false
   },
   "outputs": [],
   "source": [
    "trainfile = open('usd_eur_trainingdata.csv', 'r')\n",
    "testfile = open('usd_eur_testingdata.csv', 'r')\n",
    "\n",
    "X_train = []\n",
    "Y_train = []\n",
    "\n",
    "X_test = []\n",
    "Y_test = []\n",
    "\n",
    "for line in trainfile:\n",
    "    line = line.strip().split(',')\n",
    "    features = line[:-3]\n",
    "    outputs = line[-3:]\n",
    "    X_train.append(features)\n",
    "    Y_train.append(outputs)\n",
    "\n",
    "for line in testfile:\n",
    "    line = line.strip().split(',')\n",
    "    features = line[:-3]\n",
    "    outputs = line[-3:]\n",
    "    X_test.append(features)\n",
    "    Y_test.append(outputs)\n",
    "\n",
    "X_train = np.asarray(X_train)\n",
    "Y_train = np.asarray(Y_train)\n",
    "\n",
    "X_test = np.asarray(X_test)\n",
    "Y_test = np.asarray(Y_test)\n",
    "    \n",
    "def load_test_data():\n",
    "    \n",
    "    X_out = X_test\n",
    "    Y_out = Y_test\n",
    " \n",
    "    return DenseDesignMatrix(X=X_out, y=Y_out)\n",
    "def load_train_data():\n",
    "    \n",
    "    X_out = X_train\n",
    "    Y_out = Y_train\n",
    " \n",
    "    return DenseDesignMatrix(X=X_out, y=Y_out)"
   ]
  },
  {
   "cell_type": "code",
   "execution_count": 166,
   "metadata": {
    "collapsed": false
   },
   "outputs": [
    {
     "name": "stdout",
     "output_type": "stream",
     "text": [
      "3577\n",
      "3577\n",
      "389\n",
      "389\n"
     ]
    }
   ],
   "source": [
    "print len(X_train)\n",
    "print len(Y_train)\n",
    "print len(X_test)\n",
    "print len(Y_test)"
   ]
  },
  {
   "cell_type": "code",
   "execution_count": 167,
   "metadata": {
    "collapsed": false
   },
   "outputs": [
    {
     "name": "stdout",
     "output_type": "stream",
     "text": [
      "(3577, 9)\n",
      "(3577, 3)\n",
      "(389, 9)\n",
      "(389, 3)\n"
     ]
    }
   ],
   "source": [
    "print np.shape(X_train)\n",
    "print np.shape(Y_train)\n",
    "\n",
    "print np.shape(X_test)\n",
    "print np.shape(Y_test)"
   ]
  },
  {
   "cell_type": "code",
   "execution_count": 168,
   "metadata": {
    "collapsed": false
   },
   "outputs": [],
   "source": [
    "\n",
    "train = load_train_data()\n",
    "valid = load_test_data()\n",
    "train_monitor = train"
   ]
  },
  {
   "cell_type": "code",
   "execution_count": 9,
   "metadata": {
    "collapsed": false
   },
   "outputs": [],
   "source": [
    "monitor = live_monitoring.LiveMonitoring()"
   ]
  },
  {
   "cell_type": "code",
   "execution_count": 169,
   "metadata": {
    "collapsed": false,
    "scrolled": true
   },
   "outputs": [
    {
     "name": "stdout",
     "output_type": "stream",
     "text": [
      "Parameter and initial learning rate summary:\n",
      "\th0_W: 0.0500000007451\n",
      "\th0_b: 0.0500000007451\n",
      "\th1_W: 0.0500000007451\n",
      "\th1_b: 0.0500000007451\n",
      "\ty_W: 0.0500000007451\n",
      "\ty_b: 0.0500000007451\n",
      "Compiling sgd_update...\n",
      "Compiling sgd_update done. Time elapsed: 0.618457 seconds\n",
      "Time this epoch: 0.162152 seconds\n",
      "Time this epoch: 0.157301 seconds\n",
      "Time this epoch: 0.156941 seconds\n",
      "Time this epoch: 0.157778 seconds\n",
      "Time this epoch: 0.156457 seconds\n",
      "Time this epoch: 0.156536 seconds\n",
      "Time this epoch: 0.157387 seconds\n",
      "Time this epoch: 0.157318 seconds\n",
      "Time this epoch: 0.158328 seconds\n",
      "Time this epoch: 0.158106 seconds\n",
      "Time this epoch: 0.157929 seconds\n",
      "Time this epoch: 0.158115 seconds\n",
      "Time this epoch: 0.157346 seconds\n",
      "Time this epoch: 0.157682 seconds\n",
      "Time this epoch: 0.157339 seconds\n",
      "Time this epoch: 0.157792 seconds\n",
      "Time this epoch: 0.157748 seconds\n",
      "Time this epoch: 0.157934 seconds\n",
      "Time this epoch: 0.158150 seconds\n",
      "Time this epoch: 0.157580 seconds\n",
      "Time this epoch: 0.162263 seconds\n",
      "Time this epoch: 0.157548 seconds\n",
      "Time this epoch: 0.157423 seconds\n",
      "Time this epoch: 0.156834 seconds\n",
      "Time this epoch: 0.157077 seconds\n",
      "Time this epoch: 0.156860 seconds\n",
      "Time this epoch: 0.157606 seconds\n",
      "Time this epoch: 0.155968 seconds\n",
      "Time this epoch: 0.156908 seconds\n",
      "Time this epoch: 0.157461 seconds\n",
      "Time this epoch: 0.158233 seconds\n",
      "Time this epoch: 0.156780 seconds\n",
      "Time this epoch: 0.156921 seconds\n",
      "Time this epoch: 0.158114 seconds\n",
      "Time this epoch: 0.157176 seconds\n",
      "Time this epoch: 0.156266 seconds\n",
      "Time this epoch: 0.156938 seconds\n",
      "Time this epoch: 0.157629 seconds\n",
      "Time this epoch: 0.158255 seconds\n",
      "Time this epoch: 0.157158 seconds\n",
      "Time this epoch: 0.157602 seconds\n",
      "Time this epoch: 0.157090 seconds\n",
      "Time this epoch: 0.158170 seconds\n",
      "Time this epoch: 0.157543 seconds\n",
      "Time this epoch: 0.158247 seconds\n",
      "Time this epoch: 0.157423 seconds\n",
      "Time this epoch: 0.159381 seconds\n",
      "Time this epoch: 0.158544 seconds\n",
      "Time this epoch: 0.186849 seconds\n",
      "Time this epoch: 0.156175 seconds\n"
     ]
    },
    {
     "ename": "KeyboardInterrupt",
     "evalue": "",
     "output_type": "error",
     "traceback": [
      "\u001b[1;31m---------------------------------------------------------------------------\u001b[0m",
      "\u001b[1;31mKeyboardInterrupt\u001b[0m                         Traceback (most recent call last)",
      "\u001b[1;32m<ipython-input-169-2ceae847fb76>\u001b[0m in \u001b[0;36m<module>\u001b[1;34m()\u001b[0m\n\u001b[0;32m     26\u001b[0m \u001b[1;33m\u001b[0m\u001b[0m\n\u001b[0;32m     27\u001b[0m \u001b[1;33m\u001b[0m\u001b[0m\n\u001b[1;32m---> 28\u001b[1;33m \u001b[0mtrain_job\u001b[0m\u001b[1;33m.\u001b[0m\u001b[0mmain_loop\u001b[0m\u001b[1;33m(\u001b[0m\u001b[1;33m)\u001b[0m\u001b[1;33m\u001b[0m\u001b[0m\n\u001b[0m",
      "\u001b[1;32m/home/ubuntu/temp/pylearn2/pylearn2/train.pyc\u001b[0m in \u001b[0;36mmain_loop\u001b[1;34m(self, time_budget)\u001b[0m\n\u001b[0;32m    205\u001b[0m                             \u001b[0mlog\u001b[0m\u001b[1;33m,\u001b[0m \u001b[0mNone\u001b[0m\u001b[1;33m,\u001b[0m \u001b[0mfinal_msg\u001b[0m\u001b[1;33m=\u001b[0m\u001b[1;34m'Time this epoch:'\u001b[0m\u001b[1;33m,\u001b[0m\u001b[1;33m\u001b[0m\u001b[0m\n\u001b[0;32m    206\u001b[0m                             callbacks=[self.training_seconds.set_value]):\n\u001b[1;32m--> 207\u001b[1;33m                         \u001b[0mrval\u001b[0m \u001b[1;33m=\u001b[0m \u001b[0mself\u001b[0m\u001b[1;33m.\u001b[0m\u001b[0malgorithm\u001b[0m\u001b[1;33m.\u001b[0m\u001b[0mtrain\u001b[0m\u001b[1;33m(\u001b[0m\u001b[0mdataset\u001b[0m\u001b[1;33m=\u001b[0m\u001b[0mself\u001b[0m\u001b[1;33m.\u001b[0m\u001b[0mdataset\u001b[0m\u001b[1;33m)\u001b[0m\u001b[1;33m\u001b[0m\u001b[0m\n\u001b[0m\u001b[0;32m    208\u001b[0m                     \u001b[1;32mif\u001b[0m \u001b[0mrval\u001b[0m \u001b[1;32mis\u001b[0m \u001b[1;32mnot\u001b[0m \u001b[0mNone\u001b[0m\u001b[1;33m:\u001b[0m\u001b[1;33m\u001b[0m\u001b[0m\n\u001b[0;32m    209\u001b[0m                         raise ValueError(\"TrainingAlgorithm.train should not \"\n",
      "\u001b[1;32m/home/ubuntu/temp/pylearn2/pylearn2/training_algorithms/sgd.pyc\u001b[0m in \u001b[0;36mtrain\u001b[1;34m(self, dataset)\u001b[0m\n\u001b[0;32m    453\u001b[0m             \u001b[1;32mfor\u001b[0m \u001b[0mcallback\u001b[0m \u001b[1;32min\u001b[0m \u001b[0mon_load_batch\u001b[0m\u001b[1;33m:\u001b[0m\u001b[1;33m\u001b[0m\u001b[0m\n\u001b[0;32m    454\u001b[0m                 \u001b[0mcallback\u001b[0m\u001b[1;33m(\u001b[0m\u001b[1;33m*\u001b[0m\u001b[0mbatch\u001b[0m\u001b[1;33m)\u001b[0m\u001b[1;33m\u001b[0m\u001b[0m\n\u001b[1;32m--> 455\u001b[1;33m             \u001b[0mself\u001b[0m\u001b[1;33m.\u001b[0m\u001b[0msgd_update\u001b[0m\u001b[1;33m(\u001b[0m\u001b[1;33m*\u001b[0m\u001b[0mbatch\u001b[0m\u001b[1;33m)\u001b[0m\u001b[1;33m\u001b[0m\u001b[0m\n\u001b[0m\u001b[0;32m    456\u001b[0m             \u001b[1;31m# iterator might return a smaller batch if dataset size\u001b[0m\u001b[1;33m\u001b[0m\u001b[1;33m\u001b[0m\u001b[0m\n\u001b[0;32m    457\u001b[0m             \u001b[1;31m# isn't divisible by batch_size\u001b[0m\u001b[1;33m\u001b[0m\u001b[1;33m\u001b[0m\u001b[0m\n",
      "\u001b[1;32m/home/ubuntu/temp/Theano/theano/compile/function_module.pyc\u001b[0m in \u001b[0;36m__call__\u001b[1;34m(self, *args, **kwargs)\u001b[0m\n\u001b[0;32m    593\u001b[0m         \u001b[0mt0_fn\u001b[0m \u001b[1;33m=\u001b[0m \u001b[0mtime\u001b[0m\u001b[1;33m.\u001b[0m\u001b[0mtime\u001b[0m\u001b[1;33m(\u001b[0m\u001b[1;33m)\u001b[0m\u001b[1;33m\u001b[0m\u001b[0m\n\u001b[0;32m    594\u001b[0m         \u001b[1;32mtry\u001b[0m\u001b[1;33m:\u001b[0m\u001b[1;33m\u001b[0m\u001b[0m\n\u001b[1;32m--> 595\u001b[1;33m             \u001b[0moutputs\u001b[0m \u001b[1;33m=\u001b[0m \u001b[0mself\u001b[0m\u001b[1;33m.\u001b[0m\u001b[0mfn\u001b[0m\u001b[1;33m(\u001b[0m\u001b[1;33m)\u001b[0m\u001b[1;33m\u001b[0m\u001b[0m\n\u001b[0m\u001b[0;32m    596\u001b[0m         \u001b[1;32mexcept\u001b[0m \u001b[0mException\u001b[0m\u001b[1;33m:\u001b[0m\u001b[1;33m\u001b[0m\u001b[0m\n\u001b[0;32m    597\u001b[0m             \u001b[1;32mif\u001b[0m \u001b[0mhasattr\u001b[0m\u001b[1;33m(\u001b[0m\u001b[0mself\u001b[0m\u001b[1;33m.\u001b[0m\u001b[0mfn\u001b[0m\u001b[1;33m,\u001b[0m \u001b[1;34m'position_of_error'\u001b[0m\u001b[1;33m)\u001b[0m\u001b[1;33m:\u001b[0m\u001b[1;33m\u001b[0m\u001b[0m\n",
      "\u001b[1;31mKeyboardInterrupt\u001b[0m: "
     ]
    }
   ],
   "source": [
    "if model:\n",
    "    model.monitor.disable_logging()\n",
    "\n",
    "monitor.req_sock.close()\n",
    "monitor.pub_sock.close()\n",
    "monitor = live_monitoring.LiveMonitoring()\n",
    "\n",
    "h0 = mlp.Sigmoid(layer_name='h0', dim=9, sparse_init=5)\n",
    "h1 = mlp.Sigmoid(layer_name='h1', dim=18, sparse_init=5)\n",
    "ylayer = mlp.Linear(layer_name='y', dim=3, sparse_init=3)\n",
    "\n",
    "layers = [h0, h1, ylayer]\n",
    "model = mlp.MLP(layers, nvis=9)\n",
    "\n",
    "monitoring = dict(valid=valid, train=train_monitor)\n",
    "termination = EpochCounter(10000)\n",
    "extensions = [monitor]\n",
    "\n",
    "algorithm = sgd.SGD(.05, batch_size=30, cost=Dropout(.8),\n",
    "                     monitoring_dataset = monitoring, termination_criterion = termination)\n",
    "\n",
    "#algorithm = bgd.BGD(batch_size=2000, cost=WeightDecay({'h0':1., 'h1':1.}),\n",
    " #                   monitoring_dataset = monitoring, termination_criterion = termination)\n",
    "\n",
    "train_job = Train(train, model, algorithm, extensions=extensions)\n",
    "\n",
    "\n",
    "train_job.main_loop()"
   ]
  },
  {
   "cell_type": "code",
   "execution_count": null,
   "metadata": {
    "collapsed": false
   },
   "outputs": [],
   "source": []
  },
  {
   "cell_type": "code",
   "execution_count": 31,
   "metadata": {
    "collapsed": false
   },
   "outputs": [],
   "source": [
    "with open(r\"zackmodel2.pickle\", \"wb\") as output_file:\n",
    "    pickle.dump(model, output_file)"
   ]
  },
  {
   "cell_type": "code",
   "execution_count": 144,
   "metadata": {
    "collapsed": false
   },
   "outputs": [
    {
     "ename": "IOError",
     "evalue": "[Errno 9] Bad file descriptor",
     "output_type": "error",
     "traceback": [
      "\u001b[1;31m---------------------------------------------------------------------------\u001b[0m",
      "\u001b[1;31mIOError\u001b[0m                                   Traceback (most recent call last)",
      "\u001b[1;32m<ipython-input-144-43914426d2d7>\u001b[0m in \u001b[0;36m<module>\u001b[1;34m()\u001b[0m\n\u001b[0;32m      1\u001b[0m \u001b[1;32mwith\u001b[0m \u001b[0mopen\u001b[0m\u001b[1;33m(\u001b[0m\u001b[1;34mr\"zackmodelc.pickle\"\u001b[0m\u001b[1;33m,\u001b[0m \u001b[1;34m\"wb\"\u001b[0m\u001b[1;33m)\u001b[0m \u001b[1;32mas\u001b[0m \u001b[0moutput_file\u001b[0m\u001b[1;33m:\u001b[0m\u001b[1;33m\u001b[0m\u001b[0m\n\u001b[1;32m----> 2\u001b[1;33m     \u001b[0mmodel\u001b[0m \u001b[1;33m=\u001b[0m \u001b[0mpickle\u001b[0m\u001b[1;33m.\u001b[0m\u001b[0mload\u001b[0m\u001b[1;33m(\u001b[0m\u001b[0moutput_file\u001b[0m\u001b[1;33m)\u001b[0m\u001b[1;33m\u001b[0m\u001b[0m\n\u001b[0m",
      "\u001b[1;31mIOError\u001b[0m: [Errno 9] Bad file descriptor"
     ]
    }
   ],
   "source": [
    "with open(r\"zackmodelc.pickle\", \"rb\") as output_file:\n",
    "    model = pickle.load(output_file)"
   ]
  },
  {
   "cell_type": "code",
   "execution_count": null,
   "metadata": {
    "collapsed": false
   },
   "outputs": [],
   "source": []
  },
  {
   "cell_type": "code",
   "execution_count": null,
   "metadata": {
    "collapsed": true
   },
   "outputs": [],
   "source": []
  },
  {
   "cell_type": "code",
   "execution_count": null,
   "metadata": {
    "collapsed": true
   },
   "outputs": [],
   "source": []
  },
  {
   "cell_type": "code",
   "execution_count": null,
   "metadata": {
    "collapsed": true
   },
   "outputs": [],
   "source": []
  },
  {
   "cell_type": "code",
   "execution_count": null,
   "metadata": {
    "collapsed": true
   },
   "outputs": [],
   "source": []
  },
  {
   "cell_type": "code",
   "execution_count": null,
   "metadata": {
    "collapsed": false
   },
   "outputs": [],
   "source": []
  },
  {
   "cell_type": "code",
   "execution_count": 173,
   "metadata": {
    "collapsed": false
   },
   "outputs": [
    {
     "name": "stdout",
     "output_type": "stream",
     "text": [
      "training set\n",
      "0.485043332401\n",
      "test set\n",
      "0.449871465296\n",
      "training set\n",
      "0.485043332401\n",
      "test set\n",
      "0.449871465296\n"
     ]
    }
   ],
   "source": [
    "import copy\n",
    "\n",
    "X = T.matrix()\n",
    "X = model.get_input_space().make_theano_batch()\n",
    "Y = model.fprop(X)\n",
    "f = function([X], Y)\n",
    "\n",
    "def compare(x, y, set_name, shuffle=False):\n",
    "    x = copy.deepcopy(x).astype(np.float32)\n",
    "    y = copy.deepcopy(y).astype(np.float32)\n",
    "    if shuffle:\n",
    "        numpy.random.shuffle(y)\n",
    "    test = f(x)\n",
    "\n",
    "    comparison = zip(y, test)\n",
    "\n",
    "    print set_name\n",
    "    for i in range(1):\n",
    "        right = 0\n",
    "        for row in comparison:\n",
    "            if float(row[0][i]) * float(row[1][i]) > 0:\n",
    "                right += 1\n",
    "        print right/float(len(x))\n",
    "        \n",
    "compare(X_train, Y_train, \"training set\")\n",
    "compare(X_test, Y_test, \"test set\")\n",
    "compare(X_train, Y_train,  \"training set\", True)\n",
    "compare(X_test, Y_test, \"test set\", True)"
   ]
  },
  {
   "cell_type": "code",
   "execution_count": 85,
   "metadata": {
    "collapsed": false
   },
   "outputs": [
    {
     "ename": "SyntaxError",
     "evalue": "invalid syntax (<ipython-input-85-5a7ccd4f90b6>, line 2)",
     "output_type": "error",
     "traceback": [
      "\u001b[1;36m  File \u001b[1;32m\"<ipython-input-85-5a7ccd4f90b6>\"\u001b[1;36m, line \u001b[1;32m2\u001b[0m\n\u001b[1;33m    Training set\u001b[0m\n\u001b[1;37m               ^\u001b[0m\n\u001b[1;31mSyntaxError\u001b[0m\u001b[1;31m:\u001b[0m invalid syntax\n"
     ]
    }
   ],
   "source": [
    "ben;s\n",
    "Training set\n",
    "0.518590998043\n",
    "0.526139222812\n",
    "0.51607492312\n",
    "test set\n",
    "0.0542353927873\n",
    "0.0539558289069\n",
    "0.0567514677104"
   ]
  },
  {
   "cell_type": "code",
   "execution_count": null,
   "metadata": {
    "collapsed": true
   },
   "outputs": [],
   "source": [
    "random\n",
    "0.477774671512\n",
    "0.476376852111\n",
    "0.474326716988\n",
    "\n",
    "0.519280205656\n",
    "0.517994858612\n",
    "0.510711225364"
   ]
  },
  {
   "cell_type": "code",
   "execution_count": null,
   "metadata": {
    "collapsed": true
   },
   "outputs": [],
   "source": []
  },
  {
   "cell_type": "code",
   "execution_count": null,
   "metadata": {
    "collapsed": true
   },
   "outputs": [],
   "source": []
  },
  {
   "cell_type": "code",
   "execution_count": null,
   "metadata": {
    "collapsed": true
   },
   "outputs": [],
   "source": []
  },
  {
   "cell_type": "code",
   "execution_count": 154,
   "metadata": {
    "collapsed": false
   },
   "outputs": [
    {
     "name": "stdout",
     "output_type": "stream",
     "text": [
      "0.5\n",
      "0.5\n"
     ]
    }
   ],
   "source": [
    "up = 0\n",
    "down = 0\n",
    "\n",
    "for x in range(0, 1):\n",
    "    for row in Y_train:\n",
    "\n",
    "        if float(row[x]) > 0:\n",
    "            up += 1\n",
    "        else:\n",
    "            down += 1\n",
    "\n",
    "\n",
    "    print up /(down + up)\n",
    "    \n",
    "up = 0\n",
    "down = 0\n",
    "\n",
    "for x in range(0, 1):\n",
    "    for row in Y_test:\n",
    "\n",
    "        if float(row[x]) > 0:\n",
    "            up += 1\n",
    "        else:\n",
    "            down += 1\n",
    "\n",
    "\n",
    "    print up /(down + up)"
   ]
  },
  {
   "cell_type": "code",
   "execution_count": null,
   "metadata": {
    "collapsed": true
   },
   "outputs": [],
   "source": []
  },
  {
   "cell_type": "code",
   "execution_count": null,
   "metadata": {
    "collapsed": true
   },
   "outputs": [],
   "source": []
  },
  {
   "cell_type": "code",
   "execution_count": null,
   "metadata": {
    "collapsed": true
   },
   "outputs": [],
   "source": []
  },
  {
   "cell_type": "code",
   "execution_count": null,
   "metadata": {
    "collapsed": true
   },
   "outputs": [],
   "source": []
  },
  {
   "cell_type": "code",
   "execution_count": 171,
   "metadata": {
    "collapsed": false
   },
   "outputs": [
    {
     "name": "stdout",
     "output_type": "stream",
     "text": [
      "training set\n",
      "-0.0001 9.30458e-05\n",
      "0.0002 9.57008e-05\n",
      "-0.00025 9.44521e-05\n",
      "0.00036 9.49848e-05\n",
      "-0.0007 9.53064e-05\n",
      "0.0015 9.35847e-05\n",
      "0.0004 9.59994e-05\n",
      "-0.00039 9.43916e-05\n",
      "-0.0003 9.31552e-05\n",
      "0.0003 9.48308e-05\n",
      "-0.0007 9.34287e-05\n",
      "0.0007 9.71084e-05\n",
      "-1e-05 9.44837e-05\n",
      "0.002 9.43504e-05\n",
      "-0.0006 9.47759e-05\n",
      "0.0008 9.37533e-05\n",
      "0.00015 9.44906e-05\n",
      "-0.00034 9.41362e-05\n",
      "5e-05 9.4405e-05\n",
      "0.00053 9.49802e-05\n",
      "-0.0002 9.4362e-05\n",
      "0.0 9.47029e-05\n",
      "0.0002 9.47977e-05\n",
      "0.0001 9.70737e-05\n",
      "-0.00016 9.4392e-05\n",
      "0.0004 9.38772e-05\n",
      "-0.0006 9.40594e-05\n",
      "0.0009 9.64628e-05\n",
      "-0.0001 9.43795e-05\n",
      "-0.0001 9.64154e-05\n",
      "0.00027 9.32687e-05\n",
      "-0.0001 9.41828e-05\n",
      "-0.0015 9.59296e-05\n",
      "-0.00093 9.40194e-05\n",
      "-0.0018 9.30449e-05\n",
      "0.0001 9.49781e-05\n",
      "0.0 9.59639e-05\n",
      "-0.0019 9.67756e-05\n",
      "3e-05 9.48517e-05\n",
      "0.00068 9.42297e-05\n",
      "0.00042 9.50412e-05\n",
      "0.00073 9.4719e-05\n",
      "0.0005 9.49824e-05\n",
      "-0.00097 9.50287e-05\n",
      "-0.0007 9.47157e-05\n",
      "0.0011 9.49676e-05\n",
      "-0.0016 9.49315e-05\n",
      "-0.00052 9.44677e-05\n",
      "-0.0003 9.58501e-05\n",
      "-0.0005 9.51499e-05\n",
      "-0.0011 9.49491e-05\n",
      "-0.0002 9.3611e-05\n",
      "0.0001 9.27637e-05\n",
      "-0.0012 9.49196e-05\n",
      "-0.0018 9.58752e-05\n",
      "0.00078 9.37255e-05\n",
      "0.0016 9.449e-05\n",
      "-0.0008 9.54458e-05\n",
      "-0.0016 9.59131e-05\n",
      "0.0074 9.51443e-05\n",
      "0.0007 9.54227e-05\n",
      "-0.0005 9.58939e-05\n",
      "-0.0001 9.30378e-05\n",
      "-0.00088 9.45875e-05\n",
      "0.0027 9.58584e-05\n",
      "0.0015 9.34335e-05\n",
      "-0.0018 9.58804e-05\n",
      "-0.0011 9.35015e-05\n",
      "0.0002 9.5098e-05\n",
      "0.0015 9.5968e-05\n",
      "0.00032 9.5127e-05\n",
      "0.00215 9.45367e-05\n",
      "-0.0002 9.43799e-05\n",
      "0.0009 9.43144e-05\n",
      "-0.0015 9.63294e-05\n",
      "-0.0009 9.629e-05\n",
      "0.002 9.4951e-05\n",
      "0.0028 9.68895e-05\n",
      "0.0006 9.40388e-05\n",
      "0.0004 9.50878e-05\n",
      "-0.00017 9.48326e-05\n",
      "0.00028 9.4232e-05\n",
      "-0.0063 9.54584e-05\n",
      "-4e-05 9.49455e-05\n",
      "-0.0006 9.39104e-05\n",
      "0.001 9.3572e-05\n",
      "0.00019 9.49439e-05\n",
      "0.0004 9.44402e-05\n",
      "-0.00214 9.40091e-05\n",
      "-0.00075 9.43226e-05\n",
      "0.0004 9.56356e-05\n",
      "-0.0002 9.38061e-05\n",
      "0.00066 9.42782e-05\n",
      "0.0001 9.60845e-05\n",
      "0.0032 9.53625e-05\n",
      "-0.0007 9.41546e-05\n",
      "-0.0005 9.41206e-05\n",
      "0.0002 9.50913e-05\n",
      "0.0004 9.46709e-05\n",
      "-0.0001 9.4387e-05\n",
      "-0.001 9.37266e-05\n",
      "0.0001 9.5829e-05\n",
      "0.0009 9.43305e-05\n",
      "0.002 9.4458e-05\n",
      "0.00011 9.43283e-05\n",
      "0.00125 9.39858e-05\n",
      "0.0008 9.49176e-05\n",
      "0.00017 9.48529e-05\n",
      "0.0013 9.3002e-05\n",
      "-0.00055 9.37657e-05\n",
      "0.0009 9.4796e-05\n",
      "0.00125 9.4492e-05\n",
      "-0.00218 9.35821e-05\n",
      "-2e-05 9.3568e-05\n",
      "-0.0008 9.57869e-05\n",
      "0.0009 9.29134e-05\n",
      "0.001 9.40322e-05\n",
      "-0.001 9.58554e-05\n",
      "-0.0003 9.52961e-05\n",
      "0.001 9.30194e-05\n",
      "0.00026 9.42683e-05\n",
      "0.0011 9.57408e-05\n",
      "0.0006 9.52779e-05\n",
      "0.00015 9.51219e-05\n",
      "-0.0001 9.31671e-05\n",
      "-0.0001 9.36444e-05\n",
      "0.0013 9.31231e-05\n",
      "0.0005 9.59686e-05\n",
      "-0.0002 9.29414e-05\n",
      "0.0002 9.27042e-05\n",
      "0.0008 9.51589e-05\n",
      "0.0002 9.38154e-05\n",
      "0.0002 9.55803e-05\n",
      "-0.0009 9.69128e-05\n",
      "0.0003 9.39655e-05\n",
      "-0.0036 9.43511e-05\n",
      "0.0023 9.29306e-05\n",
      "0.0003 9.6062e-05\n",
      "-0.00027 9.39865e-05\n",
      "4e-05 9.38651e-05\n",
      "-0.0021 9.60758e-05\n",
      "0.00037 9.44385e-05\n",
      "0.0007 9.48332e-05\n",
      "0.00045 9.33377e-05\n",
      "0.0002 9.5932e-05\n",
      "-0.00116 9.23619e-05\n",
      "0.0009 9.53743e-05\n",
      "-0.0003 9.61626e-05\n",
      "-0.00155 9.45336e-05\n",
      "0.0018 9.30539e-05\n",
      "0.0005 9.59797e-05\n",
      "-0.0019 9.57286e-05\n",
      "-0.0006 9.61208e-05\n",
      "-0.0013 9.43983e-05\n",
      "0.0002 9.43639e-05\n",
      "-0.0002 9.37921e-05\n",
      "-0.0004 9.42615e-05\n",
      "-0.0036 9.44642e-05\n",
      "0.00013 9.45473e-05\n",
      "0.0 9.32616e-05\n",
      "0.0004 9.41195e-05\n",
      "8e-05 9.43052e-05\n",
      "0.0004 9.48896e-05\n",
      "-0.0002 9.5033e-05\n",
      "-0.00088 9.44342e-05\n",
      "0.00188 9.45469e-05\n",
      "8e-05 9.50799e-05\n",
      "0.0004 9.45055e-05\n",
      "-0.0006 9.58307e-05\n",
      "-0.002 9.46306e-05\n",
      "0.0002 9.39163e-05\n",
      "0.0025 9.52135e-05\n",
      "0.0012 9.45566e-05\n",
      "0.0001 9.67725e-05\n",
      "0.00059 9.41079e-05\n",
      "0.0002 9.40946e-05\n",
      "0.0025 9.54061e-05\n",
      "-0.0004 9.7098e-05\n",
      "0.0014 9.67503e-05\n",
      "0.0 9.39522e-05\n",
      "-0.00013 9.42265e-05\n",
      "-0.00101 9.50662e-05\n",
      "0.0003 9.42476e-05\n",
      "-0.0008 9.60722e-05\n",
      "0.00315 9.48828e-05\n",
      "0.0019 9.4066e-05\n",
      "-0.00109 9.25506e-05\n",
      "-0.0019 9.59017e-05\n",
      "0.00127 9.4721e-05\n",
      "-0.003 9.71021e-05\n",
      "0.0013 9.40079e-05\n",
      "-0.0003 9.34126e-05\n",
      "3e-05 9.51608e-05\n",
      "0.00124 9.35391e-05\n",
      "-0.0042 9.41807e-05\n",
      "-0.0014 9.27904e-05\n",
      "7e-05 9.30609e-05\n",
      "-0.0014 9.50618e-05\n",
      "7e-05 9.47658e-05\n",
      "-0.00026 9.35455e-05\n",
      "-0.00013 9.46271e-05\n",
      "-0.0018 9.61117e-05\n",
      "-0.00074 9.50791e-05\n",
      "-0.0006 9.3883e-05\n",
      "0.0007 9.35808e-05\n",
      "-0.0014 9.29154e-05\n",
      "-0.0012 9.50802e-05\n",
      "-0.0008 9.46716e-05\n",
      "0.0024 9.35097e-05\n",
      "-0.0001 9.53415e-05\n",
      "-0.0001 9.55789e-05\n",
      "-0.0003 9.31947e-05\n",
      "-0.00156 9.40995e-05\n",
      "0.0001 9.54231e-05\n",
      "0.0002 9.48143e-05\n",
      "0.0002 9.33166e-05\n",
      "0.0001 9.29087e-05\n",
      "0.0023 9.62655e-05\n",
      "0.0008 9.48161e-05\n",
      "0.0007 9.31247e-05\n",
      "0.0007 9.64823e-05\n",
      "-0.00101 9.39428e-05\n",
      "0.0007 9.45017e-05\n",
      "7e-05 9.51228e-05\n",
      "-0.0003 9.29651e-05\n",
      "0.0014 9.44141e-05\n",
      "0.0004 9.52025e-05\n",
      "0.0 9.436e-05\n",
      "0.0015 9.69205e-05\n",
      "0.0001 9.54326e-05\n",
      "0.0018 9.36566e-05\n",
      "0.0005 9.39499e-05\n",
      "-0.0001 9.63537e-05\n",
      "0.0008 9.61391e-05\n",
      "0.00015 9.50554e-05\n",
      "-0.0022 9.33905e-05\n",
      "0.0033 9.36247e-05\n",
      "-0.0003 9.59565e-05\n",
      "-0.0006 9.54716e-05\n",
      "0.0002 9.52648e-05\n",
      "-0.0005 9.37104e-05\n",
      "-0.0005 9.67176e-05\n",
      "-0.0009 9.60801e-05\n",
      "-0.0001 9.31255e-05\n",
      "-0.0028 9.53976e-05\n",
      "0.001 9.68995e-05\n",
      "-0.0003 9.52449e-05\n",
      "-0.0006 9.40992e-05\n",
      "0.0009 9.5792e-05\n",
      "0.00044 9.50085e-05\n",
      "0.0016 9.39351e-05\n",
      "0.00014 9.4781e-05\n",
      "0.0003 9.47821e-05\n",
      "-0.00146 9.43301e-05\n",
      "0.0002 9.47312e-05\n",
      "-0.00024 9.45196e-05\n",
      "0.00013 9.41021e-05\n",
      "-0.0011 9.5371e-05\n",
      "-0.0011 9.49779e-05\n",
      "0.0 9.60789e-05\n",
      "0.00148 9.21334e-05\n",
      "0.0004 9.395e-05\n",
      "-0.0001 9.54596e-05\n",
      "-0.0013 9.68484e-05\n",
      "0.0 9.48585e-05\n",
      "0.00025 9.51462e-05\n",
      "-0.0018 9.31921e-05\n",
      "-0.00049 9.51219e-05\n",
      "0.0001 9.31614e-05\n",
      "0.0023 9.54416e-05\n",
      "0.00036 9.45078e-05\n",
      "-0.0011 9.38365e-05\n",
      "0.0023 9.52478e-05\n",
      "-0.0015 9.70755e-05\n",
      "-0.0006 9.61459e-05\n",
      "9e-05 9.46074e-05\n",
      "-0.0002 9.69686e-05\n",
      "-0.001 9.31329e-05\n",
      "-1e-05 9.44674e-05\n",
      "-0.0004 9.71138e-05\n",
      "0.0001 9.29911e-05\n",
      "-0.0003 9.55319e-05\n",
      "-0.0006 9.59314e-05\n",
      "0.00187 9.3518e-05\n",
      "0.0005 9.51912e-05\n",
      "0.00048 9.37599e-05\n",
      "-0.0041 9.36813e-05\n",
      "0.0001 9.35014e-05\n",
      "0.0 9.37725e-05\n",
      "-0.0005 9.5462e-05\n",
      "0.00046 9.51411e-05\n",
      "-0.0004 9.3364e-05\n",
      "-0.0008 9.42637e-05\n",
      "0.0002 9.32146e-05\n",
      "4e-05 9.48545e-05\n",
      "0.0011 9.49317e-05\n",
      "-0.0004 9.3999e-05\n",
      "0.0021 9.47144e-05\n",
      "-0.0046 9.69977e-05\n",
      "0.0008 9.52253e-05\n",
      "0.00085 9.51214e-05\n",
      "-0.0001 9.51554e-05\n",
      "-0.0007 9.60879e-05\n",
      "-0.0026 9.54375e-05\n",
      "0.0003 9.40791e-05\n",
      "0.0004 9.70511e-05\n",
      "0.0004 9.49991e-05\n",
      "0.0004 9.44117e-05\n",
      "0.0017 9.3223e-05\n",
      "0.0 9.49769e-05\n",
      "0.0009 9.71605e-05\n",
      "-0.0002 9.45858e-05\n",
      "0.0003 9.41501e-05\n",
      "-0.00342 9.34688e-05\n",
      "-0.0008 9.67335e-05\n",
      "0.0039 9.40884e-05\n",
      "0.0009 9.43878e-05\n",
      "-0.00031 9.49091e-05\n",
      "-0.00021 9.36035e-05\n",
      "0.0013 9.34501e-05\n",
      "-0.0012 9.53963e-05\n",
      "0.0031 9.49377e-05\n",
      "0.0007 9.35858e-05\n",
      "-0.0003 9.33664e-05\n",
      "0.0007 9.62293e-05\n",
      "0.001 9.62072e-05\n",
      "0.0009 9.37881e-05\n",
      "0.0007 9.58673e-05\n",
      "-0.00015 9.49614e-05\n",
      "0.0003 9.50117e-05\n",
      "-0.0001 9.38673e-05\n",
      "-0.0005 9.5022e-05\n",
      "-0.0028 9.48571e-05\n",
      "-3e-05 9.36003e-05\n",
      "0.0016 9.51666e-05\n",
      "5e-05 9.50931e-05\n",
      "-0.00083 9.46126e-05\n",
      "0.0012 9.59893e-05\n",
      "0.0006 9.69911e-05\n",
      "-0.0001 9.3993e-05\n",
      "0.0006 9.58418e-05\n",
      "0.0016 9.47563e-05\n",
      "0.0024 9.51663e-05\n",
      "1e-05 9.37268e-05\n",
      "0.0 9.48067e-05\n",
      "-0.0001 9.36816e-05\n",
      "0.0001 9.60982e-05\n",
      "0.0007 9.6027e-05\n",
      "-0.00041 9.4511e-05\n",
      "0.00076 9.44116e-05\n",
      "-0.0002 9.31523e-05\n",
      "-0.00178 9.35104e-05\n",
      "-0.0003 9.45611e-05\n",
      "0.0035 9.27738e-05\n",
      "0.00071 9.41423e-05\n",
      "-0.00013 9.515e-05\n",
      "-0.0007 9.4232e-05\n",
      "0.0002 9.27762e-05\n",
      "0.0003 9.32468e-05\n",
      "-0.0004 9.57952e-05\n",
      "0.0 9.36357e-05\n",
      "-0.0015 9.39543e-05\n",
      "0.0006 9.50567e-05\n",
      "-0.00019 9.38776e-05\n",
      "0.00044 9.51144e-05\n",
      "-0.0013 9.48872e-05\n",
      "-0.00092 9.44094e-05\n",
      "0.0013 9.35921e-05\n",
      "-0.0003 9.30632e-05\n",
      "0.00031 9.45356e-05\n",
      "-0.0001 9.60794e-05\n",
      "0.0 9.38336e-05\n",
      "-0.0006 9.4687e-05\n",
      "-0.0001 9.42231e-05\n",
      "-0.00025 9.40454e-05\n",
      "-0.0004 9.38347e-05\n",
      "0.0013 9.55378e-05\n",
      "-0.0004 9.35733e-05\n",
      "0.0014 9.44684e-05\n",
      "0.0004 9.30377e-05\n",
      "0.0015 9.29866e-05\n",
      "0.0012 9.70292e-05\n",
      "0.00273 9.27211e-05\n",
      "-0.0001 9.37999e-05\n",
      "-0.0005 9.47885e-05\n",
      "-0.00057 9.50907e-05\n",
      "0.0035 9.70506e-05\n",
      "-5e-05 9.49814e-05\n",
      "0.0003 9.31196e-05\n",
      "0.550128534704\n"
     ]
    }
   ],
   "source": [
    "def compare(x, y, set_name, shuffle=False):\n",
    "    x = copy.deepcopy(x).astype(np.float32)\n",
    "    y = copy.deepcopy(y).astype(np.float32)\n",
    "    if shuffle:\n",
    "        numpy.random.shuffle(y)\n",
    "    test = f(x)\n",
    "\n",
    "    comparison = zip(y, test)\n",
    "    numpy.random.shuffle(comparison)\n",
    "    print set_name\n",
    "    for i in range(1):\n",
    "        right = 0\n",
    "        for row in comparison:\n",
    "            print row[0][i] , row[1][i]\n",
    "            if float(row[0][i]) * float(row[1][i]) >= 0:\n",
    "                right += 1\n",
    "        print right/float(len(x))\n",
    "        \n",
    "compare(X_test, Y_test, \"training set\")"
   ]
  },
  {
   "cell_type": "code",
   "execution_count": null,
   "metadata": {
    "collapsed": true
   },
   "outputs": [],
   "source": []
  },
  {
   "cell_type": "code",
   "execution_count": null,
   "metadata": {
    "collapsed": true
   },
   "outputs": [],
   "source": []
  },
  {
   "cell_type": "code",
   "execution_count": null,
   "metadata": {
    "collapsed": true
   },
   "outputs": [],
   "source": []
  },
  {
   "cell_type": "code",
   "execution_count": null,
   "metadata": {
    "collapsed": true
   },
   "outputs": [],
   "source": []
  },
  {
   "cell_type": "code",
   "execution_count": null,
   "metadata": {
    "collapsed": true
   },
   "outputs": [],
   "source": []
  },
  {
   "cell_type": "code",
   "execution_count": null,
   "metadata": {
    "collapsed": true
   },
   "outputs": [],
   "source": []
  },
  {
   "cell_type": "code",
   "execution_count": null,
   "metadata": {
    "collapsed": true
   },
   "outputs": [],
   "source": []
  },
  {
   "cell_type": "code",
   "execution_count": null,
   "metadata": {
    "collapsed": true
   },
   "outputs": [],
   "source": []
  },
  {
   "cell_type": "code",
   "execution_count": null,
   "metadata": {
    "collapsed": false
   },
   "outputs": [],
   "source": [
    "#monitoring = dict(valid=valid)\n",
    "monitoring = dict()\n",
    "#termination = MonitorBased(channel_name=\"valid_y_misclass\", N=100)\n",
    "termination = EpochCounter(10)\n",
    "#extensions = [best_params.MonitorBasedSaveBest(channel_name=\"valid_y_misclass\",\n",
    "#save_path=\"train_best.pkl\"), monitor]\n",
    "extensions = [monitor]\n",
    "\n",
    "\n",
    "algorithm = sgd.SGD(0.1, batch_size=100, cost=Dropout(),\n",
    "                    monitoring_dataset = monitoring, termination_criterion = termination)\n",
    "\n",
    "save_path = \"train_bes3t.pkl\"\n",
    "#if os.path.exists(save_path):\n",
    "#    model = serial.load(save_path)\n",
    "#else:\n",
    "#    print 'Running training'\n",
    "#    train_job = Train(train, model, algorithm, extensions=extensions, save_path=\"train.pkl\", save_freq=1)\n",
    "#    train_job.main_loop()\n",
    "\n",
    "train_job = Train(train, model, algorithm, extensions=extensions, save_path=\"train.pkl\", save_freq=1)\n",
    "train_job.main_loop()\n",
    "\n",
    "\n",
    "#X = model.get_input_space().make_batch_theano()\n",
    "#Y = model.fprop(X)\n",
    "\n",
    "#y = T.argmax(Y, axis=1)\n",
    "#f = function([X], y)\n",
    "#yhat = f(test.X)\n",
    "\n",
    "#y = np.where(test.get_targets())[1]\n",
    "#print 'accuracy', (y==yhat).sum() / y.size"
   ]
  },
  {
   "cell_type": "code",
   "execution_count": null,
   "metadata": {
    "collapsed": true
   },
   "outputs": [],
   "source": []
  }
 ],
 "metadata": {
  "kernelspec": {
   "display_name": "Python 2",
   "language": "python",
   "name": "python2"
  },
  "language_info": {
   "codemirror_mode": {
    "name": "ipython",
    "version": 2
   },
   "file_extension": ".py",
   "mimetype": "text/x-python",
   "name": "python",
   "nbconvert_exporter": "python",
   "pygments_lexer": "ipython2",
   "version": "2.7.8"
  }
 },
 "nbformat": 4,
 "nbformat_minor": 0
}
