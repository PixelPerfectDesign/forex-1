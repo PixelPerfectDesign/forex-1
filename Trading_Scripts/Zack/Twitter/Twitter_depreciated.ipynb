{
 "cells": [
  {
   "cell_type": "code",
   "execution_count": 3,
   "metadata": {
    "collapsed": false
   },
   "outputs": [],
   "source": [
    "import gevent.monkey\n",
    "gevent.monkey.patch_socket()"
   ]
  },
  {
   "cell_type": "code",
   "execution_count": 4,
   "metadata": {
    "collapsed": true
   },
   "outputs": [],
   "source": [
    "import requests"
   ]
  },
  {
   "cell_type": "code",
   "execution_count": 5,
   "metadata": {
    "collapsed": false
   },
   "outputs": [
    {
     "data": {
      "text/plain": [
       "<Response [401]>"
      ]
     },
     "execution_count": 5,
     "metadata": {},
     "output_type": "execute_result"
    }
   ],
   "source": [
    "requests.get(\"https://stream.twitter.com/1.1/statuses/sample.json&oauth_consumer_key=GfqAfMzJhKFGGDOEfwguxWm7W&oauth_nonce=9dab9ebf2f2b7c5ae89fc1f364163c32&oauth_signature_method=HMAC-SHA1&oauth_timestamp=3D1428108735&oauth_token=342987024-JqRfvDSpcRizGY8oUNkuKSw6NiJCg934if4AjDiG&oauth_version=1.0\", stream=True, timeout=5)"
   ]
  },
  {
   "cell_type": "code",
   "execution_count": null,
   "metadata": {
    "collapsed": true
   },
   "outputs": [],
   "source": [
    "\n"
   ]
  },
  {
   "cell_type": "code",
   "execution_count": null,
   "metadata": {
    "collapsed": true
   },
   "outputs": [],
   "source": []
  },
  {
   "cell_type": "code",
   "execution_count": null,
   "metadata": {
    "collapsed": true
   },
   "outputs": [],
   "source": []
  },
  {
   "cell_type": "code",
   "execution_count": null,
   "metadata": {
    "collapsed": true
   },
   "outputs": [],
   "source": []
  },
  {
   "cell_type": "code",
   "execution_count": 5,
   "metadata": {
    "collapsed": true
   },
   "outputs": [],
   "source": [
    "consumer_key = \"GfqAfMzJhKFGGDOEfwguxWm7W\"\n",
    "consumer_secret = \"RJMr1p50oWPE1Z7r04PxBCQUyVyzGotyeOu0W50YjJ6tEdE7ev\"\n",
    "access_token = \"342987024-JqRfvDSpcRizGY8oUNkuKSw6NiJCg934if4AjDiG\"\n",
    "access_token_secret = \"DuHEbWCbvTt1YeBrEvIrTyBOWFFCQy6OOfrRcXJVNKAWF\""
   ]
  },
  {
   "cell_type": "code",
   "execution_count": 7,
   "metadata": {
    "collapsed": false
   },
   "outputs": [],
   "source": [
    "import requests\n",
    "import json\n",
    "import time\n",
    "from requests_oauthlib import OAuth1Session\n",
    "\n",
    "twitter = OAuth1Session(consumer_key,client_secret=consumer_secret,resource_owner_key=access_token,resource_owner_secret=access_token_secret)\n",
    "\n",
    "\n",
    "url = 'https://stream.twitter.com/1.1/statuses/sample.json'\n",
    "r = twitter.get(url, stream=True)"
   ]
  },
  {
   "cell_type": "code",
   "execution_count": 8,
   "metadata": {
    "collapsed": false
   },
   "outputs": [
    {
     "data": {
      "text/plain": [
       "<Response [200]>"
      ]
     },
     "execution_count": 8,
     "metadata": {},
     "output_type": "execute_result"
    }
   ],
   "source": [
    "r"
   ]
  },
  {
   "cell_type": "code",
   "execution_count": null,
   "metadata": {
    "collapsed": true
   },
   "outputs": [],
   "source": []
  },
  {
   "cell_type": "code",
   "execution_count": null,
   "metadata": {
    "collapsed": true
   },
   "outputs": [],
   "source": []
  },
  {
   "cell_type": "code",
   "execution_count": null,
   "metadata": {
    "collapsed": true
   },
   "outputs": [],
   "source": []
  },
  {
   "cell_type": "code",
   "execution_count": 9,
   "metadata": {
    "collapsed": false
   },
   "outputs": [
    {
     "ename": "NameError",
     "evalue": "name 'tweepy' is not defined",
     "output_type": "error",
     "traceback": [
      "\u001b[1;31m---------------------------------------------------------------------------\u001b[0m",
      "\u001b[1;31mNameError\u001b[0m                                 Traceback (most recent call last)",
      "\u001b[1;32m<ipython-input-9-7bea00dbf45a>\u001b[0m in \u001b[0;36m<module>\u001b[1;34m()\u001b[0m\n\u001b[0;32m      1\u001b[0m \u001b[1;32mfrom\u001b[0m \u001b[0mgetpass\u001b[0m \u001b[1;32mimport\u001b[0m \u001b[0mgetpass\u001b[0m\u001b[1;33m\u001b[0m\u001b[0m\n\u001b[0;32m      2\u001b[0m \u001b[1;32mfrom\u001b[0m \u001b[0mtextwrap\u001b[0m \u001b[1;32mimport\u001b[0m \u001b[0mTextWrapper\u001b[0m\u001b[1;33m\u001b[0m\u001b[0m\n\u001b[1;32m----> 3\u001b[1;33m \u001b[1;32mclass\u001b[0m \u001b[0mStreamWatcherListener\u001b[0m\u001b[1;33m(\u001b[0m\u001b[0mtweepy\u001b[0m\u001b[1;33m.\u001b[0m\u001b[0mStreamListener\u001b[0m\u001b[1;33m)\u001b[0m\u001b[1;33m:\u001b[0m\u001b[1;33m\u001b[0m\u001b[0m\n\u001b[0m\u001b[0;32m      4\u001b[0m \u001b[1;33m\u001b[0m\u001b[0m\n\u001b[0;32m      5\u001b[0m     \u001b[0mstatus_wrapper\u001b[0m \u001b[1;33m=\u001b[0m \u001b[0mTextWrapper\u001b[0m\u001b[1;33m(\u001b[0m\u001b[0mwidth\u001b[0m\u001b[1;33m=\u001b[0m\u001b[1;36m60\u001b[0m\u001b[1;33m,\u001b[0m \u001b[0minitial_indent\u001b[0m\u001b[1;33m=\u001b[0m\u001b[1;34m'    '\u001b[0m\u001b[1;33m,\u001b[0m \u001b[0msubsequent_indent\u001b[0m\u001b[1;33m=\u001b[0m\u001b[1;34m'    '\u001b[0m\u001b[1;33m)\u001b[0m\u001b[1;33m\u001b[0m\u001b[0m\n",
      "\u001b[1;31mNameError\u001b[0m: name 'tweepy' is not defined"
     ]
    }
   ],
   "source": [
    "from getpass import getpass\n",
    "from textwrap import TextWrapper\n",
    "class StreamWatcherListener(tweepy.StreamListener):\n",
    "\n",
    "    status_wrapper = TextWrapper(width=60, initial_indent='    ', subsequent_indent='    ')\n",
    "\n",
    "    def on_status(self, status):\n",
    "        try:\n",
    "            print self.status_wrapper.fill(status.text)\n",
    "            print '\\n %s  %s  via %s\\n' % (status.author.screen_name, status.created_at, status.source)\n",
    "        except:\n",
    "            # Catch any unicode errors while printing to console\n",
    "            # and just ignore them to avoid breaking application.\n",
    "            pass\n",
    "\n",
    "    def on_error(self, status_code):\n",
    "        print 'An error has occured! Status code = %s' % status_code\n",
    "        return True  # keep stream alive\n",
    "\n",
    "    def on_timeout(self):\n",
    "        print 'Snoozing Zzzzzz'\n"
   ]
  },
  {
   "cell_type": "code",
   "execution_count": null,
   "metadata": {
    "collapsed": true
   },
   "outputs": [],
   "source": [
    "import tweepy\n",
    "\n",
    "#auth = tweepy.OAuthHandler(key, secret)\n",
    "#auth.set_access_token(token, token_secret)\n",
    "\n",
    "\n",
    "listener = StreamWatcherListener()\n",
    "#api = tweepy.API(auth)\n",
    "\n",
    "auth = tweepy.OAuthHandler(consumer_key, consumer_secret)\n",
    "auth.set_access_token(access_token, access_token_secret)\n",
    "\n",
    "#public_tweets = api.home_timeline()\n",
    "\n",
    "stream = tweepy.Stream(auth, listener, timeout=None)\n",
    "stream.firehose()\n",
    "#stream.filter(track=['programming'])\n",
    "\n",
    "\n",
    "#for tweet in public_tweets:\n",
    "#    print tweet.text"
   ]
  }
 ],
 "metadata": {
  "kernelspec": {
   "display_name": "Python 2",
   "language": "python",
   "name": "python2"
  },
  "language_info": {
   "codemirror_mode": {
    "name": "ipython",
    "version": 2
   },
   "file_extension": ".py",
   "mimetype": "text/x-python",
   "name": "python",
   "nbconvert_exporter": "python",
   "pygments_lexer": "ipython2",
   "version": "2.7.8"
  }
 },
 "nbformat": 4,
 "nbformat_minor": 0
}
