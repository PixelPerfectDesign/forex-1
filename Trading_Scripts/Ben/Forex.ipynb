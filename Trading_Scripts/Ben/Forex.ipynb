{
 "metadata": {
  "name": "",
  "signature": "sha256:13865ea4b939ea39dc1444adf27650a76eae54cf5b25f22fcde6273532cc7b81"
 },
 "nbformat": 3,
 "nbformat_minor": 0,
 "worksheets": [
  {
   "cells": [
    {
     "cell_type": "code",
     "collapsed": false,
     "input": [
      "import matplotlib.pyplot as plt\n",
      "import datetime\n",
      "%matplotlib inline\n",
      "import random\n",
      "import ast\n",
      "import time\n",
      "import sqlalchemy\n",
      "from sqlalchemy import *\n",
      "from sqlalchemy import event\n",
      "import sqlite3\n",
      "from sqlalchemy.ext.declarative import declarative_base\n",
      "from sqlalchemy.orm import *\n",
      "import urllib2\n",
      "import urllib\n",
      "import json\n",
      "import pprint\n",
      "import dateutil.parser\n",
      "import pprint\n",
      "import re\n",
      "from sklearn import linear_model, datasets\n",
      "import time\n",
      "from sklearn.naive_bayes import GaussianNB\n",
      "import nltk\n",
      "from collections import defaultdict\n",
      "from sklearn import svm\n",
      "pp = pprint.PrettyPrinter(indent=4)\n"
     ],
     "language": "python",
     "metadata": {},
     "outputs": [],
     "prompt_number": 1
    },
    {
     "cell_type": "code",
     "collapsed": false,
     "input": [
      "def mean(l):\n",
      "    return sum(l)/float(len(l))"
     ],
     "language": "python",
     "metadata": {},
     "outputs": [],
     "prompt_number": 2
    },
    {
     "cell_type": "code",
     "collapsed": false,
     "input": [
      "def create_vector(allWords, wordMap, counts):\n",
      "    \n",
      "    vec = []\n",
      "    c = 0\n",
      "    for ind in range(100):\n",
      "        vec.append(0)\n",
      "    for word in counts:\n",
      "#         print word\n",
      "        if word in wordMap:\n",
      "            if wordMap[word] < 100:\n",
      "                vec[wordMap[word]] = counts[word]\n",
      "    return vec\n",
      "            \n",
      "    "
     ],
     "language": "python",
     "metadata": {},
     "outputs": [],
     "prompt_number": 3
    },
    {
     "cell_type": "code",
     "collapsed": false,
     "input": [
      "def create_vector(allWords, wordMap, counts):\n",
      "    v = []\n",
      "    words = ['euro', 'dollar', 'bull', 'bear', 'rupee', 'exchange', 'rate', 'war', 'attack', 'negociation', 'storm',\n",
      "            'summit', 'conference', 'eu', 'imf', 'jewish', 'islam', 'terrorist',\n",
      "            'bloomberg', 'president', 'minister', 'prime', 'isis', 'today', 'bailout',\n",
      "            'bail', 'greece', 'greedy', 'government', 'senate', ]\n",
      "    \n",
      "#     words = ['euro',]\n",
      "    for word in words:\n",
      "        if word in counts:\n",
      "            v.append(counts[word])\n",
      "        else:\n",
      "            v.append(0)\n",
      "    return v"
     ],
     "language": "python",
     "metadata": {},
     "outputs": [],
     "prompt_number": 4
    },
    {
     "cell_type": "code",
     "collapsed": false,
     "input": [
      "def normalize(text):\n",
      "    text = re.sub('<[^>]*>', '', text)\n",
      "    return text.lower()"
     ],
     "language": "python",
     "metadata": {},
     "outputs": [],
     "prompt_number": 5
    },
    {
     "cell_type": "code",
     "collapsed": false,
     "input": [
      "dates=[]; times=[]; asks=[]\n",
      "def rec_dd():\n",
      "    return defaultdict(rec_dd)\n",
      "tree = lambda: defaultdict(tree)\n",
      "dct = tree()\n",
      "for line in open('2014/data.csv'):\n",
      "    line = line.strip('\\n').split(' ')\n",
      "    date = line[0]\n",
      "    rest  = line[1].split(';')\n",
      "    time = rest[0]\n",
      "    ask = rest[1]\n",
      "#     print int(date[:4]), int(date[4:6]), int(date[6:8]), int(time[:2]), int(time[2:4]), int(time[4:])\n",
      "    d = datetime.datetime(int(date[:4]), int(date[4:6]), int(date[6:8]), int(time[:2]), int(time[2:4]), int(time[4:]))\n",
      "#     print d\n",
      "#     dates.append( date[:4]+\" \"+date[4:6]*3600*24*30+\" \"+date[6:8]*3600*24+\" \"+time[0:2]*3600+\" \"+time[2:4]*60 )\n",
      "    dates.append(d)\n",
      "    times.append(time)\n",
      "    asks.append(ask)\n",
      "    dct[d.year][d.month][d.day][d.hour][d.minute] = ask\n",
      "\n",
      "    \n",
      "for line in open('jan/data.csv'):\n",
      "    line = line.strip('\\n').split(' ')\n",
      "    date = line[0]\n",
      "    rest  = line[1].split(';')\n",
      "    time = rest[0]\n",
      "    ask = rest[1]\n",
      "#     print int(date[:4]), int(date[4:6]), int(date[6:8]), int(time[:2]), int(time[2:4]), int(time[4:])\n",
      "    d = datetime.datetime(int(date[:4]), int(date[4:6]), int(date[6:8]), int(time[:2]), int(time[2:4]), int(time[4:]))\n",
      "#     print d\n",
      "#     dates.append( date[:4]+\" \"+date[4:6]*3600*24*30+\" \"+date[6:8]*3600*24+\" \"+time[0:2]*3600+\" \"+time[2:4]*60 )\n",
      "    dates.append(d)\n",
      "    times.append(time)\n",
      "    asks.append(ask)\n",
      "    dct[d.year][d.month][d.day][d.hour][d.minute] = ask\n",
      "\n",
      "    \n",
      "for line in open('feb/data.csv'):\n",
      "    line = line.strip('\\n').split(' ')\n",
      "    date = line[0]\n",
      "    rest  = line[1].split(';')\n",
      "    time = rest[0]\n",
      "    ask = rest[1]\n",
      "#     print int(date[:4]), int(date[4:6]), int(date[6:8]), int(time[:2]), int(time[2:4]), int(time[4:])\n",
      "    d = datetime.datetime(int(date[:4]), int(date[4:6]), int(date[6:8]), int(time[:2]), int(time[2:4]), int(time[4:]))\n",
      "#     print d\n",
      "#     dates.append( date[:4]+\" \"+date[4:6]*3600*24*30+\" \"+date[6:8]*3600*24+\" \"+time[0:2]*3600+\" \"+time[2:4]*60 )\n",
      "    dates.append(d)\n",
      "    times.append(time)\n",
      "    asks.append(ask)\n",
      "    dct[d.year][d.month][d.day][d.hour][d.minute] = ask\n",
      "    print type(d.year)\n",
      "    break\n"
     ],
     "language": "python",
     "metadata": {},
     "outputs": [
      {
       "output_type": "stream",
       "stream": "stdout",
       "text": [
        "<type 'int'>\n"
       ]
      }
     ],
     "prompt_number": 6
    },
    {
     "cell_type": "code",
     "collapsed": false,
     "input": [
      "db = create_engine('sqlite:///database.db', echo=False)\n",
      "session = sessionmaker()\n",
      "session.configure(bind=db)\n",
      "session = session()\n"
     ],
     "language": "python",
     "metadata": {},
     "outputs": [],
     "prompt_number": 10
    },
    {
     "cell_type": "code",
     "collapsed": false,
     "input": [
      "s = [f for f in session.execute(\"SELECT * FROM articles\")]\n"
     ],
     "language": "python",
     "metadata": {},
     "outputs": [],
     "prompt_number": 11
    },
    {
     "cell_type": "code",
     "collapsed": false,
     "input": [
      "print len(s)"
     ],
     "language": "python",
     "metadata": {},
     "outputs": [
      {
       "output_type": "stream",
       "stream": "stdout",
       "text": [
        "17960\n"
       ]
      }
     ],
     "prompt_number": 12
    },
    {
     "cell_type": "code",
     "collapsed": false,
     "input": [
      "allwords = set()\n",
      "wordMap = {}\n",
      "inc = 0\n",
      "for x in s:\n",
      "\n",
      "    text = normalize(x[6])\n",
      "    text = text.split(' ')\n",
      "    for word in text:\n",
      "        allwords.add(word)\n",
      "        if word not in wordMap:\n",
      "            wordMap[word] = inc\n",
      "            inc += 1\n"
     ],
     "language": "python",
     "metadata": {},
     "outputs": [],
     "prompt_number": 13
    },
    {
     "cell_type": "code",
     "collapsed": false,
     "input": [
      "print [f for f in wordMap if wordMap[f] <= 100]"
     ],
     "language": "python",
     "metadata": {},
     "outputs": [
      {
       "output_type": "stream",
       "stream": "stdout",
       "text": [
        "[u'', u'with', u'more', u'skeptical', u'as', u'at', u'see', u'described', u'in', u'slipping', u'divergent', u'lackadaisical', u'washington', u'bush', u'you', u'chicago', u'a', u'he', u'harsh', u'iran,', u'nsa', u'about', u'everything', u'\\u201ceverywhere', u'that', u'relations', u'obama\\u2019s,', u'foreign', u'appeared', u'on', u'program', u'warning', u'america', u'addressing', u'jeb', u'2016', u'controversial', u'israeli', u'mounted', u'minister', u'bush.', u'george', u'reform', u'800', u'w', u'foolish,', u'cuba.', u'carefully', u'bid.', u'brother,', u'iraq', u'characterized', u'choreographed', u'crowd', u'israel', u'backs', u'global', u'president', u'speech', u'his', u'vision', u'next', u'safe', u'of', u'from', u'obama', u'subtly', u'control,\\u201d', u'keep', u'and', u'look,', u'to', u'white', u'related:', u'policy', u'prime', u\"brother's\", u'demonstratively', u'sharply', u'attack', u'binyamin', u'netanyahu\\u2019s', u'disdainful', u'odds', u'step', u'council', u'surveillance', u'house', u'wednesday,', u'covered', u'world', u'visit', u'out', u'be', u'rollout', u'presidential', u'the', u'legacy', u'supportive', u'was', u'affairs,']\n"
       ]
      }
     ],
     "prompt_number": 11
    },
    {
     "cell_type": "code",
     "collapsed": false,
     "input": [],
     "language": "python",
     "metadata": {},
     "outputs": [
      {
       "output_type": "stream",
       "stream": "stdout",
       "text": [
        "1.370220\n"
       ]
      }
     ],
     "prompt_number": 51
    },
    {
     "cell_type": "code",
     "collapsed": false,
     "input": [
      "count = 0\n",
      "training = {}\n",
      "for x in s:\n",
      "    if count % 2500 == 0:\n",
      "        print count\n",
      "    count += 1\n",
      "    dt = str(x[7])\n",
      "    counts = {}\n",
      "    d = datetime.datetime(int(dt[:4]), int(dt[5:7]), int(dt[8:10]), int(dt[11:13]), int(dt[14:16]), int(dt[17:19]))\n",
      "    closest =  dct[d.year][d.month][d.day][d.hour][d.minute]\n",
      "#     print type(closest)\n",
      "    text = normalize(x[6])\n",
      "    for word in text.split(' '):\n",
      "        if word in counts:\n",
      "            counts[word] += 1\n",
      "        else:\n",
      "            counts[word] = 1\n",
      "    v = create_vector(allwords, wordMap, counts)\n",
      "    if str(type(closest)) != \"<type 'collections.defaultdict'>\":\n",
      "#         print closest\n",
      "        ask = closest\n",
      "\n",
      "        op = closest\n",
      "        startPrice = closest\n",
      "        d1 = d + datetime.timedelta(hours=.75)\n",
      "\n",
      "#         end =  [z for z in dates if (d1 - z).seconds < 120 and (d1-z).days == 0]\n",
      "        \n",
      "        closest2 =  dct[d1.year][d1.month][d1.day][d1.hour][d1.minute]\n",
      "    \n",
      "        if str(type(closest2)) != \"<type 'collections.defaultdict'>\":\n",
      "#             def create_vector(allWords, wordMap, counts):\n",
      "#             print closest2\n",
      "            endPrice = closest2\n",
      "            delta = float(endPrice) - float(startPrice)\n",
      "            training[str(v)] = delta\n",
      "print \"Training data built.\"\n",
      "print str(len(training.keys())) + \" data points.\""
     ],
     "language": "python",
     "metadata": {},
     "outputs": [
      {
       "output_type": "stream",
       "stream": "stdout",
       "text": [
        "0\n",
        "2500"
       ]
      },
      {
       "output_type": "stream",
       "stream": "stdout",
       "text": [
        "\n",
        "5000"
       ]
      },
      {
       "output_type": "stream",
       "stream": "stdout",
       "text": [
        "\n",
        "7500"
       ]
      },
      {
       "output_type": "stream",
       "stream": "stdout",
       "text": [
        "\n",
        "10000"
       ]
      },
      {
       "output_type": "stream",
       "stream": "stdout",
       "text": [
        "\n",
        "12500"
       ]
      },
      {
       "output_type": "stream",
       "stream": "stdout",
       "text": [
        "\n",
        "15000"
       ]
      },
      {
       "output_type": "stream",
       "stream": "stdout",
       "text": [
        "\n",
        "17500"
       ]
      },
      {
       "output_type": "stream",
       "stream": "stdout",
       "text": [
        "\n",
        "Training data built."
       ]
      },
      {
       "output_type": "stream",
       "stream": "stdout",
       "text": [
        "\n",
        "2979 data points.\n"
       ]
      }
     ],
     "prompt_number": 14
    },
    {
     "cell_type": "code",
     "collapsed": false,
     "input": [
      "mades = []\n",
      "\n",
      "keys = training.keys()\n",
      "random.shuffle(keys)\n",
      "xs = [ast.literal_eval(f) for f in keys]\n",
      "# ys = [1 if training[str(f)] > 0 else -1 for f in xs]\n",
      "ys = [training[str(f)] for f in xs]\n",
      "samples = [y for y in range(2300,2700,25)]\n",
      "random.shuffle(samples)\n",
      "dates2, bals2 = [], []\n",
      "\n",
      "for x in samples:\n",
      "#     print x\n",
      "    keys = training.keys()\n",
      "    random.shuffle(keys)\n",
      "    xs = [ast.literal_eval(f) for f in keys]\n",
      "    # ys = [1 if training[str(f)] > 0 else -1 for f in xs]\n",
      "    ys = [training[str(f)] for f in xs]\n",
      "    bal = 1000.0\n",
      "    moneyPerTrade = 500000\n",
      "    splitPoint = x\n",
      "    trainX = xs[:splitPoint]\n",
      "    testX = xs[splitPoint:]\n",
      "\n",
      "    trainY = ys[:splitPoint]\n",
      "    testY = ys[splitPoint:]\n",
      "\n",
      "    regr = linear_model.LinearRegression()\n",
      "#     regr2 = linear_model.BayesianRidge()\n",
      "#     regr = svm.SVC()\n",
      "    regr.fit(trainX, trainY)\n",
      "#     regr2.fit(trainX, trainY)\n",
      "\n",
      "    results = []\n",
      "    for t in range(len(testX)):\n",
      "    #     print testX[t]\n",
      "        pre = regr.predict(testX[t])\n",
      "#         pre2 = regr.predict(testX[t])\n",
      "\n",
      "#         invest = moneyPerTrade * pre\n",
      "        invest = bal / 20\n",
      "#         print testY[t]\n",
      "#         print pre\n",
      "        if pre > 0:\n",
      "    #         print pre, testY[t]\n",
      "            results.append(testY[t] > 0)\n",
      "            \n",
      "            bal += testY[t] * invest\n",
      "        elif pre < 0:\n",
      "    #         print pre, testY[t]\n",
      "#               pass\n",
      "            bal += -1 * testY[t] * invest\n",
      "#             results.append(testY[t] < 0 )\n",
      "\n",
      "\n",
      "    # r = regr.coef_\n",
      "    print \"Ending Bal: $\" + str(bal) + \" from \" + str(len(results)) + \" trades.\" \n",
      "    mades.append(bal)\n",
      "#     print len(results)\n",
      "    # for x in range(len(words)):\n",
      "    #     print \"X: \" + words[x] + \" \" + str(r[x])\n",
      "#     print float(results.count(True))/len(results)\n",
      "print \"Avg Profit : $\" + str(mean(mades) - 1000)\n",
      "print \"Made $ \" + str(100*(float(len([f for f in mades if f > 1000]))/len(mades))) + \" percent of the time\""
     ],
     "language": "python",
     "metadata": {},
     "outputs": [
      {
       "output_type": "stream",
       "stream": "stdout",
       "text": [
        "Ending Bal: $1004.01494695 from 200 trades.\n",
        "Ending Bal: $999.860658416 from 257 trades."
       ]
      },
      {
       "output_type": "stream",
       "stream": "stdout",
       "text": [
        "\n",
        "Ending Bal: $997.640650783 from 343 trades."
       ]
      },
      {
       "output_type": "stream",
       "stream": "stdout",
       "text": [
        "\n",
        "Ending Bal: $1000.00031512 from 226 trades."
       ]
      },
      {
       "output_type": "stream",
       "stream": "stdout",
       "text": [
        "\n",
        "Ending Bal: $1000.86340759 from 127 trades."
       ]
      },
      {
       "output_type": "stream",
       "stream": "stdout",
       "text": [
        "\n",
        "Ending Bal: $1000.2980547 from 161 trades."
       ]
      },
      {
       "output_type": "stream",
       "stream": "stdout",
       "text": [
        "\n",
        "Ending Bal: $1000.49185481 from 141 trades."
       ]
      },
      {
       "output_type": "stream",
       "stream": "stdout",
       "text": [
        "\n",
        "Ending Bal: $999.437357354 from 194 trades."
       ]
      },
      {
       "output_type": "stream",
       "stream": "stdout",
       "text": [
        "\n",
        "Ending Bal: $1000.8077531 from 153 trades."
       ]
      },
      {
       "output_type": "stream",
       "stream": "stdout",
       "text": [
        "\n",
        "Ending Bal: $998.835537275 from 237 trades."
       ]
      },
      {
       "output_type": "stream",
       "stream": "stdout",
       "text": [
        "\n",
        "Ending Bal: $998.234469737 from 207 trades."
       ]
      },
      {
       "output_type": "stream",
       "stream": "stdout",
       "text": [
        "\n",
        "Ending Bal: $1000.11367721 from 259 trades."
       ]
      },
      {
       "output_type": "stream",
       "stream": "stdout",
       "text": [
        "\n",
        "Ending Bal: $1000.64147896 from 324 trades."
       ]
      },
      {
       "output_type": "stream",
       "stream": "stdout",
       "text": [
        "\n",
        "Ending Bal: $1001.33943736 from 235 trades."
       ]
      },
      {
       "output_type": "stream",
       "stream": "stdout",
       "text": [
        "\n",
        "Ending Bal: $999.364089666 from 185 trades."
       ]
      },
      {
       "output_type": "stream",
       "stream": "stdout",
       "text": [
        "\n",
        "Ending Bal: $1000.16260457 from 172 trades."
       ]
      },
      {
       "output_type": "stream",
       "stream": "stdout",
       "text": [
        "\n",
        "Avg Profit : $0.131643349565\n",
        "Made $ 62.5 percent of the time\n"
       ]
      }
     ],
     "prompt_number": 163
    },
    {
     "cell_type": "raw",
     "metadata": {},
     "source": []
    },
    {
     "cell_type": "code",
     "collapsed": false,
     "input": [
      "plt.plot(dates,asks)\n",
      "plt.show()"
     ],
     "language": "python",
     "metadata": {},
     "outputs": [
      {
       "metadata": {},
       "output_type": "display_data",
       "png": "[encoded data removed]",
       "text": [
        "<matplotlib.figure.Figure at 0x10a954290>"
       ]
      }
     ],
     "prompt_number": 144
    },
    {
     "cell_type": "code",
     "collapsed": false,
     "input": [],
     "language": "python",
     "metadata": {},
     "outputs": [],
     "prompt_number": 37
    },
    {
     "cell_type": "code",
     "collapsed": false,
     "input": [],
     "language": "python",
     "metadata": {},
     "outputs": []
    }
   ],
   "metadata": {}
  }
 ]
}