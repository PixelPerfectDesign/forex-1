{
 "metadata": {
  "name": "",
  "signature": "sha256:666f914650e78dc3fb46ebd8ca9c4d7460166cb09f9cac7f3cb377c890b5cd6a"
 },
 "nbformat": 3,
 "nbformat_minor": 0,
 "worksheets": [
  {
   "cells": [
    {
     "cell_type": "code",
     "collapsed": false,
     "input": [
      "import matplotlib.pyplot as plt\n",
      "import datetime\n",
      "%matplotlib inline\n",
      "import random\n",
      "import ast\n",
      "import time\n",
      "import sqlalchemy\n",
      "from sqlalchemy import *\n",
      "from sqlalchemy import event\n",
      "import sqlite3\n",
      "from sqlalchemy.ext.declarative import declarative_base\n",
      "from sqlalchemy.orm import *\n",
      "import urllib2\n",
      "import urllib\n",
      "import json\n",
      "import glob\n",
      "import pprint\n",
      "import dateutil.parser\n",
      "import pprint\n",
      "import re\n",
      "from sklearn import linear_model, datasets\n",
      "import time\n",
      "from sklearn.naive_bayes import GaussianNB\n",
      "import nltk\n",
      "from collections import defaultdict\n",
      "from sklearn import svm\n",
      "pp = pprint.PrettyPrinter(indent=4)"
     ],
     "language": "python",
     "metadata": {},
     "outputs": [],
     "prompt_number": 1
    },
    {
     "cell_type": "code",
     "collapsed": false,
     "input": [
      "def mean(l):\n",
      "    return sum(l)/float(len(l))"
     ],
     "language": "python",
     "metadata": {},
     "outputs": [],
     "prompt_number": 2
    },
    {
     "cell_type": "code",
     "collapsed": false,
     "input": [
      "dates=[]; times=[]; asks=[]\n",
      "alls = {}\n",
      "tree = lambda: defaultdict(tree)\n",
      "dct = tree()\n",
      "for fl in glob.glob('Forex_Data/EURO_USD/*/*.csv'):\n",
      "    print fl\n",
      "    for line in open(fl):\n",
      "        line = line.strip('\\n').split(' ')\n",
      "        date = line[0]\n",
      "        rest  = line[1].split(';')\n",
      "        time = rest[0]\n",
      "        ask = rest[1]\n",
      "    #     print int(date[:4]), int(date[4:6]), int(date[6:8]), int(time[:2]), int(time[2:4]), int(time[4:])\n",
      "        d = datetime.datetime(int(date[:4]), int(date[4:6]), int(date[6:8]), int(time[:2]), int(time[2:4]), int(time[4:]))\n",
      "    #     print d\n",
      "    #     dates.append( date[:4]+\" \"+date[4:6]*3600*24*30+\" \"+date[6:8]*3600*24+\" \"+time[0:2]*3600+\" \"+time[2:4]*60 )\n",
      "        dates.append(d)\n",
      "        times.append(time)\n",
      "        asks.append(ask)\n",
      "        dct[d.year][d.month][d.day][d.hour][d.minute] = ask\n",
      "        alls[d] = ask"
     ],
     "language": "python",
     "metadata": {},
     "outputs": [
      {
       "output_type": "stream",
       "stream": "stdout",
       "text": [
        "Forex_Data/EURO_USD/HISTDATA_COM_ASCII_EURUSD_M12004/DAT_ASCII_EURUSD_M1_2004.csv\n",
        "Forex_Data/EURO_USD/HISTDATA_COM_ASCII_EURUSD_M12005/DAT_ASCII_EURUSD_M1_2005.csv"
       ]
      },
      {
       "output_type": "stream",
       "stream": "stdout",
       "text": [
        "\n",
        "Forex_Data/EURO_USD/HISTDATA_COM_ASCII_EURUSD_M12006/data.csv"
       ]
      },
      {
       "output_type": "stream",
       "stream": "stdout",
       "text": [
        "\n",
        "Forex_Data/EURO_USD/HISTDATA_COM_ASCII_EURUSD_M12007/data.csv"
       ]
      },
      {
       "output_type": "stream",
       "stream": "stdout",
       "text": [
        "\n",
        "Forex_Data/EURO_USD/HISTDATA_COM_ASCII_EURUSD_M12008/data.csv"
       ]
      },
      {
       "output_type": "stream",
       "stream": "stdout",
       "text": [
        "\n",
        "Forex_Data/EURO_USD/HISTDATA_COM_ASCII_EURUSD_M12009/DAT_ASCII_EURUSD_M1_2009.csv"
       ]
      },
      {
       "output_type": "stream",
       "stream": "stdout",
       "text": [
        "\n",
        "Forex_Data/EURO_USD/HISTDATA_COM_ASCII_EURUSD_M12010/DAT_ASCII_EURUSD_M1_2010.csv"
       ]
      },
      {
       "output_type": "stream",
       "stream": "stdout",
       "text": [
        "\n",
        "Forex_Data/EURO_USD/HISTDATA_COM_ASCII_EURUSD_M12011/DAT_ASCII_EURUSD_M1_2011.csv"
       ]
      },
      {
       "output_type": "stream",
       "stream": "stdout",
       "text": [
        "\n",
        "Forex_Data/EURO_USD/HISTDATA_COM_ASCII_EURUSD_M12012/DAT_ASCII_EURUSD_M1_2012.csv"
       ]
      },
      {
       "output_type": "stream",
       "stream": "stdout",
       "text": [
        "\n",
        "Forex_Data/EURO_USD/HISTDATA_COM_ASCII_EURUSD_M12013/DAT_ASCII_EURUSD_M1_2013.csv"
       ]
      },
      {
       "output_type": "stream",
       "stream": "stdout",
       "text": [
        "\n",
        "Forex_Data/EURO_USD/HISTDATA_COM_ASCII_EURUSD_M12014/DAT_ASCII_EURUSD_M1_2014.csv"
       ]
      },
      {
       "output_type": "stream",
       "stream": "stdout",
       "text": [
        "\n",
        "Forex_Data/EURO_USD/HISTDATA_COM_ASCII_EURUSD_M1201501/DAT_ASCII_EURUSD_M1_201501.csv"
       ]
      },
      {
       "output_type": "stream",
       "stream": "stdout",
       "text": [
        "\n",
        "Forex_Data/EURO_USD/HISTDATA_COM_ASCII_EURUSD_M1201502/DAT_ASCII_EURUSD_M1_201502.csv"
       ]
      },
      {
       "output_type": "stream",
       "stream": "stdout",
       "text": [
        "\n"
       ]
      }
     ],
     "prompt_number": 3
    },
    {
     "cell_type": "code",
     "collapsed": false,
     "input": [
      "plt.plot(dates,asks)\n",
      "plt.show()"
     ],
     "language": "python",
     "metadata": {},
     "outputs": [
      {
       "metadata": {},
       "output_type": "display_data",
       "png": "[encoded data removed]",
       "text": [
        "<matplotlib.figure.Figure at 0x10403e150>"
       ]
      }
     ],
     "prompt_number": 4
    },
    {
     "cell_type": "code",
     "collapsed": false,
     "input": [
      "sortedKeys = sorted(alls.keys())\n",
      "cache = {}\n",
      "count = 0\n",
      "for k in sortedKeys:\n",
      "    cache[k] = count\n",
      "    count += 1"
     ],
     "language": "python",
     "metadata": {},
     "outputs": [],
     "prompt_number": 5
    },
    {
     "cell_type": "code",
     "collapsed": false,
     "input": [
      "def moving_average(delta, data, date):\n",
      "#     date = date - delta\n",
      "    kys = sortedKeys\n",
      "#     print kys\n",
      "    i1, i2 = 1, 1\n",
      "#     print delta.hours\n",
      "    try:\n",
      "        d1 = closest_date(date)\n",
      "        i1 = cache[d1]\n",
      "    except:\n",
      "        count = 0\n",
      "        for k in kys:\n",
      "    #       print k\n",
      "            if k > date:\n",
      "                i1 = count\n",
      "                break   \n",
      "        count += 1\n",
      "    try:\n",
      "        d2 = closest_date(date - delta)\n",
      "        i2 = cache[d2]\n",
      "    except:\n",
      "        count = 0\n",
      "        for k in kys:\n",
      "    #       print k\n",
      "            if k > date - delta:\n",
      "                i2 = count\n",
      "                break   \n",
      "            count += 1#     print d1, d2\n",
      "    points = []\n",
      "#     print i1, i2\n",
      "    #compute avg approx for speed\n",
      "    datapoints = 5\n",
      "    ptz = []\n",
      "    if abs(i1-i2)/5 == 0:\n",
      "        return mean([float(alls[kys[i1]]), float(alls[kys[i2]])])\n",
      "    for z in range(i2, i1, abs(i1-i2)/5):\n",
      "        ptz.append(float(alls[kys[z]]))\n",
      "    return mean(ptz)\n",
      "    for z in kys[i2:i1]:\n",
      "        if z < date:\n",
      "            points.append(float(alls[z]))\n",
      "    return mean(points)"
     ],
     "language": "python",
     "metadata": {},
     "outputs": [],
     "prompt_number": 34
    },
    {
     "cell_type": "raw",
     "metadata": {},
     "source": []
    },
    {
     "cell_type": "code",
     "collapsed": false,
     "input": [
      "def get_past_averages(date):\n",
      "    print date\n",
      "    vec = []\n",
      "    for back in [1/24.0,.25,1,3,7,31,90,180,365]:\n",
      "        dlt = datetime.timedelta(hours=back * 24)\n",
      "        vec.append(moving_average(dlt, dct, date))\n",
      "    return vec"
     ],
     "language": "python",
     "metadata": {},
     "outputs": [],
     "prompt_number": 22
    },
    {
     "cell_type": "code",
     "collapsed": false,
     "input": [
      "def closest_datapoint(d):\n",
      "    closest =  dct[d.year][d.month][d.day][d.hour][d.minute]\n",
      "    if str(type(closest)) != \"<type 'collections.defaultdict'>\":\n",
      "        return closest\n",
      "    else:\n",
      "        return closest_datapoint(d + datetime.timedelta(seconds=60))\n"
     ],
     "language": "python",
     "metadata": {},
     "outputs": [],
     "prompt_number": 23
    },
    {
     "cell_type": "code",
     "collapsed": false,
     "input": [
      "def closest_date(d):\n",
      "    closest =  dct[d.year][d.month][d.day][d.hour][d.minute]\n",
      "    if str(type(closest)) != \"<type 'collections.defaultdict'>\":\n",
      "        return datetime.datetime(d.year,d.month,d.day,d.hour,d.minute)\n",
      "    else:\n",
      "        return closest_date(d + datetime.timedelta(seconds=120))\n"
     ],
     "language": "python",
     "metadata": {},
     "outputs": [],
     "prompt_number": 24
    },
    {
     "cell_type": "code",
     "collapsed": false,
     "input": [
      "print len(alls.keys())"
     ],
     "language": "python",
     "metadata": {},
     "outputs": [
      {
       "output_type": "stream",
       "stream": "stdout",
       "text": [
        "3826012\n"
       ]
      }
     ],
     "prompt_number": 25
    },
    {
     "cell_type": "code",
     "collapsed": false,
     "input": [
      "dp = datetime.datetime(2014,1,1,1,1)\n",
      "# srt = sorted(dct.keys(), key = lambda x: x)\n",
      "print get_past_averages(dp)"
     ],
     "language": "python",
     "metadata": {},
     "outputs": [
      {
       "output_type": "stream",
       "stream": "stdout",
       "text": [
        "2014-01-01 01:01:00\n",
        "3407716 3407716\n",
        "3407716 3407716\n",
        "3407716 3406818\n",
        "3407716 3404915\n",
        "3407716 3402820\n",
        "3407716"
       ]
      },
      {
       "output_type": "stream",
       "stream": "stdout",
       "text": [
        " 3378542\n",
        "3407716 3318826\n",
        "3407716 3227037\n",
        "3407716 3037105\n",
        "[1.37592, 1.37592, 1.3772583333333335, 1.377481666666667, 1.374765, 1.3707366666666667, 1.361822, 1.3422933333333333, 1.3297033333333335]\n"
       ]
      }
     ],
     "prompt_number": 28
    },
    {
     "cell_type": "code",
     "collapsed": false,
     "input": [
      "trainfile = open('usd_eur_trainingdata.csv', 'a')\n",
      "testfile = open('usd_eur_testingdata.csv', 'a')\n",
      "\n",
      "train_size = 1000\n",
      "training, testing = [], []\n",
      "keys = alls.keys()\n",
      "random.shuffle(keys)\n",
      "\n",
      "for i in range(train_size):\n",
      "    try:\n",
      "        diff30 = float(closest_datapoint(keys[i] + datetime.timedelta(hours=.5))) - float(closest_datapoint(keys[i]))\n",
      "        diff60 = float(closest_datapoint(keys[i] + datetime.timedelta(hours=1))) - float(closest_datapoint(keys[i]))\n",
      "        diff120 = float(closest_datapoint(keys[i] + datetime.timedelta(hours=2))) - float(closest_datapoint(keys[i]))\n",
      "        diffs = [diff30, diff60, diff120]\n",
      "        \n",
      "        avgs = get_past_averages(keys[i])\n",
      "        training.append([avgs,  diff])\n",
      "        if random.randint(1,10) == 7:\n",
      "            fl = testfile\n",
      "        else:\n",
      "            fl = trainfile\n",
      "        for a in avgs:\n",
      "            fl.write(str(a) + \",\")\n",
      "        for diff in diffs[:-1]:\n",
      "            fl.write(str(diff) + \",\")\n",
      "        fl.write(str(diffs[-1]) + \"\\n\")\n",
      "        fl.flush()\n",
      "    except:\n",
      "        pass\n",
      "\n",
      "# for i in range(train_size/5):\n",
      "#     diff = float(closest_datapoint(keys[train_size + i] + datetime.timedelta(hours=.5))) - float(closest_datapoint(keys[train_size + i]))\n",
      "#     avgs = get_past_averages(keys[train_size + i])\n",
      "#     print diff\n",
      "#     testing.append([avgs,  diff])\n",
      "#     for a in avgs:\n",
      "#         testfile.write(str(a) + \",\")\n",
      "#     testfile.write(str(diff) + \"\\n\")\n",
      "#     testfile.flush()\n",
      "\n",
      "# print training\n",
      "# print testing"
     ],
     "language": "python",
     "metadata": {},
     "outputs": [
      {
       "output_type": "stream",
       "stream": "stdout",
       "text": [
        "2008-08-18 02:10:00\n",
        "2005-05-17 11:13:00\n",
        "2006-09-04 04:42:00"
       ]
      },
      {
       "output_type": "stream",
       "stream": "stdout",
       "text": [
        "\n",
        "2005-09-27 11:02:00\n",
        "2009-07-14 14:41:00\n",
        "2012-10-31 16:25:00"
       ]
      },
      {
       "output_type": "stream",
       "stream": "stdout",
       "text": [
        "\n",
        "2014-12-04 10:59:00\n",
        "2013-02-25 19:07:00\n",
        "2011-08-18 12:55:00"
       ]
      },
      {
       "output_type": "stream",
       "stream": "stdout",
       "text": [
        "\n",
        "2004-08-12 20:03:00\n",
        "2009-04-15 03:57:00"
       ]
      },
      {
       "output_type": "stream",
       "stream": "stdout",
       "text": [
        "\n",
        "2004-07-20 21:34:00\n",
        "2007-11-08 10:56:00\n",
        "2010-03-01 21:26:00"
       ]
      },
      {
       "output_type": "stream",
       "stream": "stdout",
       "text": [
        "\n",
        "2007-06-06 12:12:00"
       ]
      },
      {
       "output_type": "stream",
       "stream": "stdout",
       "text": [
        "\n",
        "2015-01-23 04:25:00\n",
        "2004-01-07 10:43:00"
       ]
      },
      {
       "output_type": "stream",
       "stream": "stdout",
       "text": [
        "\n",
        "2013-12-15 20:08:00"
       ]
      },
      {
       "output_type": "stream",
       "stream": "stdout",
       "text": [
        "\n",
        "2009-04-09 02:31:00\n",
        "2014-07-23 17:04:00"
       ]
      },
      {
       "output_type": "stream",
       "stream": "stdout",
       "text": [
        "\n",
        "2014-12-03 22:41:00"
       ]
      },
      {
       "output_type": "stream",
       "stream": "stdout",
       "text": [
        "\n",
        "2005-10-25 12:29:00"
       ]
      },
      {
       "output_type": "stream",
       "stream": "stdout",
       "text": [
        "\n",
        "2010-03-01 08:05:00\n",
        "2011-08-31 18:10:00\n",
        "2006-09-13 12:42:00"
       ]
      },
      {
       "output_type": "stream",
       "stream": "stdout",
       "text": [
        "\n",
        "2011-03-28 16:21:00\n",
        "2012-12-17 12:28:00\n",
        "2010-04-27 18:58:00\n",
        "2007-09-28 12:46:00\n",
        "2005-09-06 12:22:00\n",
        "2012-11-22 20:27:00"
       ]
      },
      {
       "output_type": "stream",
       "stream": "stdout",
       "text": [
        "\n",
        "2009-09-17 00:39:00"
       ]
      },
      {
       "output_type": "stream",
       "stream": "stdout",
       "text": [
        "\n",
        "2005-05-23 02:15:00"
       ]
      },
      {
       "output_type": "stream",
       "stream": "stdout",
       "text": [
        "\n",
        "2012-06-19 08:08:00\n",
        "2008-10-22 18:04:00"
       ]
      },
      {
       "output_type": "stream",
       "stream": "stdout",
       "text": [
        "\n",
        "2011-11-23 20:08:00"
       ]
      },
      {
       "output_type": "stream",
       "stream": "stdout",
       "text": [
        "\n",
        "2005-12-22 11:31:00"
       ]
      },
      {
       "output_type": "stream",
       "stream": "stdout",
       "text": [
        "\n",
        "2012-09-21 03:09:00\n",
        "2004-02-03 09:43:00"
       ]
      },
      {
       "output_type": "stream",
       "stream": "stdout",
       "text": [
        "\n",
        "2007-01-16 10:21:00\n",
        "2012-10-04 04:01:00"
       ]
      },
      {
       "output_type": "stream",
       "stream": "stdout",
       "text": [
        "\n",
        "2015-01-30 02:11:00"
       ]
      },
      {
       "output_type": "stream",
       "stream": "stdout",
       "text": [
        "\n",
        "2013-05-13 17:15:00"
       ]
      },
      {
       "output_type": "stream",
       "stream": "stdout",
       "text": [
        "\n",
        "2011-11-09 16:35:00"
       ]
      },
      {
       "output_type": "stream",
       "stream": "stdout",
       "text": [
        "\n",
        "2014-10-20 08:19:00\n",
        "2004-12-01 05:42:00\n",
        "2014-07-30 00:43:00\n",
        "2012-07-23 15:03:00\n",
        "2009-01-21 16:10:00\n",
        "2008-10-07 08:07:00\n",
        "2010-05-25 15:31:00"
       ]
      },
      {
       "output_type": "stream",
       "stream": "stdout",
       "text": [
        "\n",
        "2011-08-11 12:31:00\n",
        "2011-05-31 00:20:00\n",
        "2013-10-30 10:23:00"
       ]
      },
      {
       "output_type": "stream",
       "stream": "stdout",
       "text": [
        "\n",
        "2012-08-22 06:31:00\n",
        "2006-10-10 11:56:00\n",
        "2009-07-16 08:54:00\n",
        "2009-09-25 10:43:00\n",
        "2006-01-09 09:20:00\n",
        "2006-04-03 20:20:00"
       ]
      },
      {
       "output_type": "stream",
       "stream": "stdout",
       "text": [
        "\n",
        "2007-04-03 02:18:00"
       ]
      },
      {
       "output_type": "stream",
       "stream": "stdout",
       "text": [
        "\n",
        "2011-02-15 18:23:00"
       ]
      },
      {
       "output_type": "stream",
       "stream": "stdout",
       "text": [
        "\n",
        "2007-11-02 04:56:00\n",
        "2010-02-10 04:27:00"
       ]
      },
      {
       "output_type": "stream",
       "stream": "stdout",
       "text": [
        "\n",
        "2012-04-06 07:39:00\n",
        "2008-10-13 04:14:00"
       ]
      },
      {
       "output_type": "stream",
       "stream": "stdout",
       "text": [
        "\n",
        "2006-12-20 09:41:00\n",
        "2013-10-30 04:39:00\n",
        "2005-04-08 10:19:00\n",
        "2012-04-16 09:33:00\n",
        "2008-07-02 16:48:00\n",
        "2011-09-12 23:48:00\n",
        "2013-10-11 03:58:00"
       ]
      },
      {
       "output_type": "stream",
       "stream": "stdout",
       "text": [
        "\n",
        "2006-12-14 21:10:00"
       ]
      },
      {
       "output_type": "stream",
       "stream": "stdout",
       "text": [
        "\n",
        "2011-09-26 04:39:00"
       ]
      },
      {
       "output_type": "stream",
       "stream": "stdout",
       "text": [
        "\n",
        "2006-03-19 21:59:00\n",
        "2014-02-27 10:27:00\n",
        "2013-02-24 21:19:00\n",
        "2010-09-16 12:03:00"
       ]
      },
      {
       "output_type": "stream",
       "stream": "stdout",
       "text": [
        "\n",
        "2006-07-03 21:52:00\n",
        "2005-02-11 10:00:00"
       ]
      },
      {
       "output_type": "stream",
       "stream": "stdout",
       "text": [
        "\n",
        "2007-01-03 10:03:00\n",
        "2008-06-20 04:37:00"
       ]
      },
      {
       "output_type": "stream",
       "stream": "stdout",
       "text": [
        "\n",
        "2012-10-02 15:27:00"
       ]
      },
      {
       "output_type": "stream",
       "stream": "stdout",
       "text": [
        "\n",
        "2004-08-24 22:32:00\n",
        "2014-12-11 17:51:00\n",
        "2011-08-29 04:17:00"
       ]
      },
      {
       "output_type": "stream",
       "stream": "stdout",
       "text": [
        "\n",
        "2012-04-24 15:33:00\n",
        "2015-02-13 09:01:00\n",
        "2005-07-14 12:08:00\n",
        "2008-11-24 10:05:00\n",
        "2004-01-23 06:14:00\n",
        "2011-06-09 17:01:00"
       ]
      },
      {
       "output_type": "stream",
       "stream": "stdout",
       "text": [
        "\n",
        "2006-11-24 08:04:00"
       ]
      },
      {
       "output_type": "stream",
       "stream": "stdout",
       "text": [
        "\n",
        "2012-07-06 06:05:00"
       ]
      },
      {
       "output_type": "stream",
       "stream": "stdout",
       "text": [
        "\n",
        "2010-04-02 01:45:00"
       ]
      },
      {
       "output_type": "stream",
       "stream": "stdout",
       "text": [
        "\n",
        "2007-05-14 19:39:00"
       ]
      },
      {
       "output_type": "stream",
       "stream": "stdout",
       "text": [
        "\n",
        "2013-01-11 07:50:00"
       ]
      },
      {
       "output_type": "stream",
       "stream": "stdout",
       "text": [
        "\n",
        "2005-05-23 23:16:00"
       ]
      },
      {
       "output_type": "stream",
       "stream": "stdout",
       "text": [
        "\n",
        "2007-11-27 13:53:00"
       ]
      },
      {
       "output_type": "stream",
       "stream": "stdout",
       "text": [
        "\n",
        "2007-07-05 18:35:00\n",
        "2012-02-29 19:21:00"
       ]
      },
      {
       "output_type": "stream",
       "stream": "stdout",
       "text": [
        "\n",
        "2006-10-24 14:50:00"
       ]
      },
      {
       "output_type": "stream",
       "stream": "stdout",
       "text": [
        "\n",
        "2011-05-19 13:31:00\n",
        "2010-07-29 08:33:00\n",
        "2008-05-19 14:14:00\n",
        "2015-02-15 23:40:00"
       ]
      },
      {
       "output_type": "stream",
       "stream": "stdout",
       "text": [
        "\n",
        "2011-12-12 22:38:00\n",
        "2009-11-26 02:03:00"
       ]
      },
      {
       "output_type": "stream",
       "stream": "stdout",
       "text": [
        "\n",
        "2014-08-25 23:31:00"
       ]
      },
      {
       "output_type": "stream",
       "stream": "stdout",
       "text": [
        "\n",
        "2008-05-01 09:59:00"
       ]
      },
      {
       "output_type": "stream",
       "stream": "stdout",
       "text": [
        "\n",
        "2013-04-08 16:31:00\n",
        "2008-09-16 16:24:00\n",
        "2014-02-24 22:16:00\n",
        "2013-07-01 14:59:00"
       ]
      },
      {
       "output_type": "stream",
       "stream": "stdout",
       "text": [
        "\n",
        "2009-03-30 16:47:00\n",
        "2009-03-09 00:29:00\n",
        "2011-01-21 11:01:00\n",
        "2011-11-23 12:19:00\n",
        "2012-11-20 16:57:00\n",
        "2011-12-08 16:25:00"
       ]
      },
      {
       "output_type": "stream",
       "stream": "stdout",
       "text": [
        "\n",
        "2013-03-29 05:22:00\n",
        "2007-04-16 06:27:00"
       ]
      },
      {
       "output_type": "stream",
       "stream": "stdout",
       "text": [
        "\n",
        "2009-08-13 18:20:00\n",
        "2007-01-07 19:23:00"
       ]
      },
      {
       "output_type": "stream",
       "stream": "stdout",
       "text": [
        "\n",
        "2010-07-22 15:37:00\n",
        "2005-02-08 09:50:00\n",
        "2010-10-12 08:01:00"
       ]
      },
      {
       "output_type": "stream",
       "stream": "stdout",
       "text": [
        "\n",
        "2008-08-08 09:08:00"
       ]
      },
      {
       "output_type": "stream",
       "stream": "stdout",
       "text": [
        "\n",
        "2004-08-19 12:14:00\n",
        "2013-08-28 06:56:00\n",
        "2008-09-23 07:33:00\n",
        "2012-11-26 03:46:00"
       ]
      },
      {
       "output_type": "stream",
       "stream": "stdout",
       "text": [
        "\n",
        "2009-01-02 09:54:00\n",
        "2011-06-12 19:55:00\n",
        "2010-03-29 00:10:00\n",
        "2015-01-21 09:52:00\n",
        "2006-05-18 18:48:00\n",
        "2013-12-03 16:33:00"
       ]
      },
      {
       "output_type": "stream",
       "stream": "stdout",
       "text": [
        "\n",
        "2007-12-03 17:05:00\n",
        "2005-10-16 22:52:00"
       ]
      },
      {
       "output_type": "stream",
       "stream": "stdout",
       "text": [
        "\n",
        "2004-07-26 15:13:00\n",
        "2005-02-28 17:19:00\n",
        "2014-08-07 18:16:00\n",
        "2012-06-12 08:43:00"
       ]
      },
      {
       "output_type": "stream",
       "stream": "stdout",
       "text": [
        "\n",
        "2006-08-08 23:29:00\n",
        "2004-06-08 03:16:00\n",
        "2005-02-10 03:30:00"
       ]
      },
      {
       "output_type": "stream",
       "stream": "stdout",
       "text": [
        "\n",
        "2011-02-15 20:03:00"
       ]
      },
      {
       "output_type": "stream",
       "stream": "stdout",
       "text": [
        "\n",
        "2013-01-09 17:53:00\n",
        "2009-01-29 00:33:00"
       ]
      },
      {
       "output_type": "stream",
       "stream": "stdout",
       "text": [
        "\n",
        "2004-05-06 23:21:00"
       ]
      },
      {
       "output_type": "stream",
       "stream": "stdout",
       "text": [
        "\n",
        "2004-06-07 12:06:00\n",
        "2005-11-08 20:21:00\n",
        "2009-12-01 15:44:00"
       ]
      },
      {
       "output_type": "stream",
       "stream": "stdout",
       "text": [
        "\n",
        "2006-05-17 19:44:00\n",
        "2014-01-29 09:33:00"
       ]
      },
      {
       "output_type": "stream",
       "stream": "stdout",
       "text": [
        "\n",
        "2010-08-31 04:32:00\n",
        "2007-01-08 10:24:00"
       ]
      },
      {
       "output_type": "stream",
       "stream": "stdout",
       "text": [
        "\n",
        "2010-12-15 12:34:00\n",
        "2006-09-19 00:46:00\n",
        "2010-02-01 07:45:00"
       ]
      },
      {
       "output_type": "stream",
       "stream": "stdout",
       "text": [
        "\n",
        "2013-03-13 16:29:00"
       ]
      },
      {
       "output_type": "stream",
       "stream": "stdout",
       "text": [
        "\n",
        "2011-04-22 13:36:00\n",
        "2008-05-28 07:30:00\n",
        "2010-05-06 02:36:00\n",
        "2014-06-25 21:01:00"
       ]
      },
      {
       "output_type": "stream",
       "stream": "stdout",
       "text": [
        "\n",
        "2013-02-22 04:47:00"
       ]
      },
      {
       "output_type": "stream",
       "stream": "stdout",
       "text": [
        "\n",
        "2010-01-19 11:31:00"
       ]
      },
      {
       "output_type": "stream",
       "stream": "stdout",
       "text": [
        "\n",
        "2010-05-30 19:35:00\n",
        "2008-07-22 11:22:00\n",
        "2004-06-22 00:48:00\n",
        "2014-08-15 08:16:00"
       ]
      },
      {
       "output_type": "stream",
       "stream": "stdout",
       "text": [
        "\n",
        "2008-02-28 10:07:00"
       ]
      },
      {
       "output_type": "stream",
       "stream": "stdout",
       "text": [
        "\n",
        "2005-02-14 06:59:00\n",
        "2004-10-20 20:28:00\n",
        "2006-01-26 01:02:00\n",
        "2005-04-14 15:30:00"
       ]
      },
      {
       "output_type": "stream",
       "stream": "stdout",
       "text": [
        "\n",
        "2006-01-24 00:15:00\n",
        "2005-04-07 22:28:00"
       ]
      },
      {
       "output_type": "stream",
       "stream": "stdout",
       "text": [
        "\n",
        "2011-06-30 13:09:00\n",
        "2014-06-23 10:45:00\n",
        "2012-11-18 23:19:00\n",
        "2014-08-18 18:27:00\n",
        "2011-01-17 13:58:00"
       ]
      },
      {
       "output_type": "stream",
       "stream": "stdout",
       "text": [
        "\n",
        "2004-01-12 22:56:00\n",
        "2006-02-19 20:36:00"
       ]
      },
      {
       "output_type": "stream",
       "stream": "stdout",
       "text": [
        "\n",
        "2014-03-07 13:40:00\n",
        "2008-10-26 19:31:00\n",
        "2009-01-27 21:46:00\n",
        "2008-08-14 09:55:00\n",
        "2013-01-22 04:00:00\n",
        "2005-02-07 19:49:00"
       ]
      },
      {
       "output_type": "stream",
       "stream": "stdout",
       "text": [
        "\n",
        "2004-08-03 07:24:00"
       ]
      },
      {
       "output_type": "stream",
       "stream": "stdout",
       "text": [
        "\n",
        "2012-06-04 01:28:00"
       ]
      },
      {
       "output_type": "stream",
       "stream": "stdout",
       "text": [
        "\n",
        "2005-10-20 07:24:00\n",
        "2010-07-14 13:17:00"
       ]
      },
      {
       "output_type": "stream",
       "stream": "stdout",
       "text": [
        "\n",
        "2014-01-20 04:02:00\n",
        "2004-04-06 18:03:00\n",
        "2014-08-28 10:54:00\n",
        "2014-10-06 14:34:00\n",
        "2005-08-09 20:09:00\n",
        "2011-09-30 07:04:00"
       ]
      },
      {
       "output_type": "stream",
       "stream": "stdout",
       "text": [
        "\n",
        "2008-10-03 01:20:00"
       ]
      },
      {
       "output_type": "stream",
       "stream": "stdout",
       "text": [
        "\n",
        "2007-04-06 08:39:00"
       ]
      },
      {
       "output_type": "stream",
       "stream": "stdout",
       "text": [
        "\n",
        "2011-11-02 18:37:00\n",
        "2006-04-14 09:07:00"
       ]
      },
      {
       "output_type": "stream",
       "stream": "stdout",
       "text": [
        "\n",
        "2004-03-19 08:54:00\n",
        "2014-09-01 20:44:00\n",
        "2012-07-03 21:15:00"
       ]
      },
      {
       "output_type": "stream",
       "stream": "stdout",
       "text": [
        "\n",
        "2009-01-26 02:48:00\n",
        "2005-08-04 10:59:00\n",
        "2013-11-19 19:12:00"
       ]
      },
      {
       "output_type": "stream",
       "stream": "stdout",
       "text": [
        "\n",
        "2006-08-18 12:49:00\n",
        "2010-05-25 21:10:00\n",
        "2007-01-30 20:00:00\n",
        "2009-10-30 05:49:00"
       ]
      },
      {
       "output_type": "stream",
       "stream": "stdout",
       "text": [
        "\n",
        "2008-05-13 06:31:00"
       ]
      },
      {
       "output_type": "stream",
       "stream": "stdout",
       "text": [
        "\n",
        "2008-01-09 09:39:00"
       ]
      },
      {
       "output_type": "stream",
       "stream": "stdout",
       "text": [
        "\n",
        "2007-01-18 16:49:00\n",
        "2013-12-19 08:59:00"
       ]
      },
      {
       "output_type": "stream",
       "stream": "stdout",
       "text": [
        "\n",
        "2010-09-23 22:48:00\n",
        "2008-12-02 07:07:00"
       ]
      },
      {
       "output_type": "stream",
       "stream": "stdout",
       "text": [
        "\n",
        "2009-11-03 17:45:00"
       ]
      },
      {
       "output_type": "stream",
       "stream": "stdout",
       "text": [
        "\n",
        "2012-01-16 14:25:00\n",
        "2011-10-06 11:51:00\n",
        "2009-06-02 13:25:00\n",
        "2008-06-09 11:09:00\n",
        "2013-10-10 22:44:00\n",
        "2013-04-17 01:14:00"
       ]
      },
      {
       "output_type": "stream",
       "stream": "stdout",
       "text": [
        "\n",
        "2008-02-05 02:25:00\n",
        "2005-04-17 22:07:00"
       ]
      },
      {
       "output_type": "stream",
       "stream": "stdout",
       "text": [
        "\n",
        "2008-07-23 00:47:00\n",
        "2005-04-21 11:12:00\n",
        "2004-12-16 19:26:00\n",
        "2006-09-14 06:28:00"
       ]
      },
      {
       "output_type": "stream",
       "stream": "stdout",
       "text": [
        "\n",
        "2013-08-26 00:42:00"
       ]
      },
      {
       "output_type": "stream",
       "stream": "stdout",
       "text": [
        "\n",
        "2006-04-23 23:11:00\n",
        "2005-03-22 08:44:00\n",
        "2008-12-12 00:10:00\n",
        "2011-04-04 00:14:00"
       ]
      },
      {
       "output_type": "stream",
       "stream": "stdout",
       "text": [
        "\n",
        "2008-07-23 12:34:00\n",
        "2011-11-25 05:34:00\n",
        "2006-08-21 05:27:00"
       ]
      },
      {
       "output_type": "stream",
       "stream": "stdout",
       "text": [
        "\n",
        "2013-06-04 21:39:00\n",
        "2004-03-19 12:49:00\n",
        "2009-08-24 23:36:00\n",
        "2006-11-17 10:54:00"
       ]
      },
      {
       "output_type": "stream",
       "stream": "stdout",
       "text": [
        "\n",
        "2011-12-22 14:07:00\n",
        "2010-11-10 06:23:00\n",
        "2008-03-18 07:52:00\n",
        "2010-09-20 10:21:00"
       ]
      },
      {
       "output_type": "stream",
       "stream": "stdout",
       "text": [
        "\n",
        "2008-10-29 02:26:00\n",
        "2007-09-07 04:05:00\n",
        "2012-02-20 22:26:00"
       ]
      },
      {
       "output_type": "stream",
       "stream": "stdout",
       "text": [
        "\n",
        "2010-04-28 17:48:00"
       ]
      },
      {
       "output_type": "stream",
       "stream": "stdout",
       "text": [
        "\n",
        "2009-02-09 20:13:00"
       ]
      },
      {
       "output_type": "stream",
       "stream": "stdout",
       "text": [
        "\n",
        "2013-03-19 07:56:00"
       ]
      },
      {
       "output_type": "stream",
       "stream": "stdout",
       "text": [
        "\n",
        "2004-03-24 08:09:00"
       ]
      },
      {
       "output_type": "stream",
       "stream": "stdout",
       "text": [
        "\n",
        "2005-03-02 06:48:00\n",
        "2010-04-13 23:55:00\n",
        "2004-01-08 09:25:00\n",
        "2015-01-22 07:35:00\n",
        "2006-03-07 08:42:00"
       ]
      },
      {
       "output_type": "stream",
       "stream": "stdout",
       "text": [
        "\n",
        "2013-10-01 17:09:00\n",
        "2006-09-10 18:14:00\n",
        "2010-06-07 14:36:00\n",
        "2011-07-27 04:24:00\n",
        "2013-07-05 13:13:00\n",
        "2012-08-06 19:10:00\n",
        "2005-08-31 19:23:00"
       ]
      },
      {
       "output_type": "stream",
       "stream": "stdout",
       "text": [
        "\n",
        "2010-07-13 12:20:00"
       ]
      },
      {
       "output_type": "stream",
       "stream": "stdout",
       "text": [
        "\n",
        "2009-12-23 02:45:00\n",
        "2011-08-03 23:57:00\n",
        "2011-01-27 16:42:00"
       ]
      },
      {
       "output_type": "stream",
       "stream": "stdout",
       "text": [
        "\n",
        "2014-12-17 06:07:00\n",
        "2006-05-10 03:40:00\n",
        "2010-12-21 21:54:00\n",
        "2013-04-22 12:53:00\n",
        "2011-05-25 08:09:00\n",
        "2007-11-15 13:11:00\n",
        "2010-03-24 11:32:00\n",
        "2008-02-05 15:06:00\n",
        "2009-04-28 10:38:00\n",
        "2014-04-04 01:15:00\n",
        "2006-08-03 06:00:00"
       ]
      },
      {
       "output_type": "stream",
       "stream": "stdout",
       "text": [
        "\n",
        "2012-07-24 17:32:00"
       ]
      },
      {
       "output_type": "stream",
       "stream": "stdout",
       "text": [
        "\n",
        "2005-01-12 02:20:00\n",
        "2011-01-20 22:52:00\n",
        "2009-04-09 11:26:00"
       ]
      },
      {
       "output_type": "stream",
       "stream": "stdout",
       "text": [
        "\n",
        "2006-11-20 07:03:00\n",
        "2008-01-16 20:18:00\n",
        "2005-11-10 22:59:00"
       ]
      },
      {
       "output_type": "stream",
       "stream": "stdout",
       "text": [
        "\n",
        "2009-10-13 20:58:00"
       ]
      },
      {
       "output_type": "stream",
       "stream": "stdout",
       "text": [
        "\n",
        "2014-12-09 08:10:00\n",
        "2007-07-20 03:20:00"
       ]
      },
      {
       "output_type": "stream",
       "stream": "stdout",
       "text": [
        "\n",
        "2005-05-06 06:37:00"
       ]
      },
      {
       "output_type": "stream",
       "stream": "stdout",
       "text": [
        "\n",
        "2004-12-08 05:48:00"
       ]
      },
      {
       "output_type": "stream",
       "stream": "stdout",
       "text": [
        "\n",
        "2013-04-23 07:51:00\n",
        "2009-03-25 21:26:00"
       ]
      },
      {
       "output_type": "stream",
       "stream": "stdout",
       "text": [
        "\n",
        "2011-03-18 05:25:00"
       ]
      },
      {
       "output_type": "stream",
       "stream": "stdout",
       "text": [
        "\n",
        "2013-11-13 18:02:00"
       ]
      },
      {
       "output_type": "stream",
       "stream": "stdout",
       "text": [
        "\n",
        "2014-12-03 15:48:00"
       ]
      },
      {
       "output_type": "stream",
       "stream": "stdout",
       "text": [
        "\n",
        "2006-08-21 14:54:00\n",
        "2007-10-25 10:15:00\n",
        "2006-09-18 19:57:00\n",
        "2013-05-23 00:49:00"
       ]
      },
      {
       "output_type": "stream",
       "stream": "stdout",
       "text": [
        "\n",
        "2005-12-29 07:16:00"
       ]
      },
      {
       "output_type": "stream",
       "stream": "stdout",
       "text": [
        "\n",
        "2012-10-25 18:11:00"
       ]
      },
      {
       "output_type": "stream",
       "stream": "stdout",
       "text": [
        "\n",
        "2014-11-17 15:32:00"
       ]
      },
      {
       "output_type": "stream",
       "stream": "stdout",
       "text": [
        "\n",
        "2009-12-03 18:29:00\n",
        "2014-08-06 00:47:00"
       ]
      },
      {
       "output_type": "stream",
       "stream": "stdout",
       "text": [
        "\n",
        "2004-02-03 16:54:00\n",
        "2009-01-02 09:36:00\n",
        "2011-06-15 03:17:00\n",
        "2005-01-05 01:44:00\n",
        "2004-04-05 08:04:00\n",
        "2009-06-29 05:52:00\n",
        "2014-12-29 09:01:00"
       ]
      },
      {
       "output_type": "stream",
       "stream": "stdout",
       "text": [
        "\n",
        "2007-03-16 07:29:00\n",
        "2011-09-28 15:28:00"
       ]
      },
      {
       "output_type": "stream",
       "stream": "stdout",
       "text": [
        "\n",
        "2014-10-16 17:52:00\n",
        "2009-09-27 21:02:00"
       ]
      },
      {
       "output_type": "stream",
       "stream": "stdout",
       "text": [
        "\n",
        "2010-11-02 07:18:00\n",
        "2006-08-31 03:44:00"
       ]
      },
      {
       "output_type": "stream",
       "stream": "stdout",
       "text": [
        "\n",
        "2009-10-28 11:51:00"
       ]
      },
      {
       "output_type": "stream",
       "stream": "stdout",
       "text": [
        "\n",
        "2008-10-30 13:08:00\n",
        "2013-03-12 21:34:00\n",
        "2011-06-02 20:29:00\n",
        "2010-01-15 13:42:00"
       ]
      },
      {
       "output_type": "stream",
       "stream": "stdout",
       "text": [
        "\n",
        "2013-10-15 22:50:00\n",
        "2008-12-11 07:24:00\n",
        "2009-06-23 03:31:00"
       ]
      },
      {
       "output_type": "stream",
       "stream": "stdout",
       "text": [
        "\n",
        "2009-11-18 21:01:00"
       ]
      },
      {
       "output_type": "stream",
       "stream": "stdout",
       "text": [
        "\n",
        "2012-05-29 07:36:00"
       ]
      },
      {
       "output_type": "stream",
       "stream": "stdout",
       "text": [
        "\n",
        "2008-07-23 13:29:00"
       ]
      },
      {
       "output_type": "stream",
       "stream": "stdout",
       "text": [
        "\n",
        "2014-02-11 05:16:00\n",
        "2006-06-09 12:00:00"
       ]
      },
      {
       "output_type": "stream",
       "stream": "stdout",
       "text": [
        "\n",
        "2012-06-13 11:06:00\n",
        "2009-02-17 17:36:00\n",
        "2014-07-02 06:29:00\n",
        "2013-09-02 23:17:00"
       ]
      },
      {
       "output_type": "stream",
       "stream": "stdout",
       "text": [
        "\n",
        "2012-05-09 07:28:00"
       ]
      },
      {
       "output_type": "stream",
       "stream": "stdout",
       "text": [
        "\n",
        "2012-02-19 18:22:00\n",
        "2009-02-10 10:56:00\n",
        "2009-02-06 07:26:00\n",
        "2012-11-13 21:33:00"
       ]
      },
      {
       "output_type": "stream",
       "stream": "stdout",
       "text": [
        "\n",
        "2013-09-25 09:25:00\n",
        "2004-04-07 16:08:00\n",
        "2007-08-03 03:05:00"
       ]
      },
      {
       "output_type": "stream",
       "stream": "stdout",
       "text": [
        "\n",
        "2010-03-08 18:57:00"
       ]
      },
      {
       "output_type": "stream",
       "stream": "stdout",
       "text": [
        "\n",
        "2007-10-03 06:02:00"
       ]
      },
      {
       "output_type": "stream",
       "stream": "stdout",
       "text": [
        "\n",
        "2006-03-10 04:08:00\n",
        "2014-11-12 18:01:00"
       ]
      },
      {
       "output_type": "stream",
       "stream": "stdout",
       "text": [
        "\n",
        "2006-04-05 04:30:00"
       ]
      },
      {
       "output_type": "stream",
       "stream": "stdout",
       "text": [
        "\n",
        "2008-01-08 06:24:00\n",
        "2006-01-31 07:57:00"
       ]
      },
      {
       "output_type": "stream",
       "stream": "stdout",
       "text": [
        "\n",
        "2006-07-10 21:44:00"
       ]
      },
      {
       "output_type": "stream",
       "stream": "stdout",
       "text": [
        "\n",
        "2010-05-05 03:07:00"
       ]
      },
      {
       "output_type": "stream",
       "stream": "stdout",
       "text": [
        "\n",
        "2008-04-23 07:27:00\n",
        "2005-08-24 20:55:00\n",
        "2011-06-30 17:19:00\n",
        "2010-09-13 02:32:00"
       ]
      },
      {
       "output_type": "stream",
       "stream": "stdout",
       "text": [
        "\n",
        "2012-07-20 07:10:00\n",
        "2014-02-06 08:49:00"
       ]
      },
      {
       "output_type": "stream",
       "stream": "stdout",
       "text": [
        "\n",
        "2008-06-12 23:29:00\n",
        "2006-12-04 12:47:00"
       ]
      },
      {
       "output_type": "stream",
       "stream": "stdout",
       "text": [
        "\n",
        "2011-10-26 21:11:00\n",
        "2004-07-01 15:58:00"
       ]
      },
      {
       "output_type": "stream",
       "stream": "stdout",
       "text": [
        "\n",
        "2010-11-24 22:12:00\n",
        "2010-02-12 12:12:00"
       ]
      },
      {
       "output_type": "stream",
       "stream": "stdout",
       "text": [
        "\n",
        "2013-05-27 07:30:00\n",
        "2010-05-06 13:18:00\n",
        "2006-11-16 13:21:00\n",
        "2006-04-03 20:31:00\n",
        "2005-08-23 20:47:00"
       ]
      },
      {
       "output_type": "stream",
       "stream": "stdout",
       "text": [
        "\n",
        "2008-08-10 20:05:00\n",
        "2013-07-12 08:20:00\n",
        "2013-03-13 01:08:00"
       ]
      },
      {
       "output_type": "stream",
       "stream": "stdout",
       "text": [
        "\n",
        "2009-03-05 23:00:00\n",
        "2011-09-21 21:53:00"
       ]
      },
      {
       "output_type": "stream",
       "stream": "stdout",
       "text": [
        "\n",
        "2010-09-26 20:59:00"
       ]
      },
      {
       "output_type": "stream",
       "stream": "stdout",
       "text": [
        "\n",
        "2004-04-06 16:34:00\n",
        "2013-05-08 17:49:00\n",
        "2007-04-18 23:46:00"
       ]
      },
      {
       "output_type": "stream",
       "stream": "stdout",
       "text": [
        "\n",
        "2007-11-28 15:19:00"
       ]
      },
      {
       "output_type": "stream",
       "stream": "stdout",
       "text": [
        "\n",
        "2006-03-07 08:22:00\n",
        "2007-08-29 14:49:00"
       ]
      },
      {
       "output_type": "stream",
       "stream": "stdout",
       "text": [
        "\n",
        "2010-09-10 01:17:00\n",
        "2014-10-06 18:36:00"
       ]
      },
      {
       "output_type": "stream",
       "stream": "stdout",
       "text": [
        "\n",
        "2005-08-19 12:25:00"
       ]
      },
      {
       "output_type": "stream",
       "stream": "stdout",
       "text": [
        "\n",
        "2011-09-19 22:41:00\n",
        "2006-04-03 17:33:00"
       ]
      },
      {
       "output_type": "stream",
       "stream": "stdout",
       "text": [
        "\n",
        "2011-03-17 02:48:00"
       ]
      },
      {
       "output_type": "stream",
       "stream": "stdout",
       "text": [
        "\n",
        "2012-02-13 23:10:00"
       ]
      },
      {
       "output_type": "stream",
       "stream": "stdout",
       "text": [
        "\n",
        "2005-11-23 10:49:00"
       ]
      },
      {
       "output_type": "stream",
       "stream": "stdout",
       "text": [
        "\n",
        "2008-08-04 01:48:00\n",
        "2010-07-21 04:05:00\n",
        "2012-11-08 14:43:00\n",
        "2006-08-28 00:29:00\n",
        "2006-02-12 17:31:00\n",
        "2015-01-06 20:18:00\n",
        "2009-08-30 18:56:00"
       ]
      },
      {
       "output_type": "stream",
       "stream": "stdout",
       "text": [
        "\n",
        "2013-03-20 04:08:00\n",
        "2010-02-18 13:22:00\n",
        "2010-10-13 10:56:00\n",
        "2007-06-27 04:36:00\n",
        "2006-12-19 01:18:00\n",
        "2011-10-31 07:03:00"
       ]
      },
      {
       "output_type": "stream",
       "stream": "stdout",
       "text": [
        "\n",
        "2004-04-27 22:23:00\n",
        "2009-02-18 08:32:00"
       ]
      },
      {
       "output_type": "stream",
       "stream": "stdout",
       "text": [
        "\n",
        "2013-11-06 02:34:00\n",
        "2011-05-05 19:46:00\n",
        "2006-12-14 16:08:00"
       ]
      },
      {
       "output_type": "stream",
       "stream": "stdout",
       "text": [
        "\n",
        "2013-12-05 08:00:00\n",
        "2008-10-16 03:33:00"
       ]
      },
      {
       "output_type": "stream",
       "stream": "stdout",
       "text": [
        "\n",
        "2010-05-03 04:22:00"
       ]
      },
      {
       "output_type": "stream",
       "stream": "stdout",
       "text": [
        "\n",
        "2005-09-05 21:34:00\n",
        "2005-08-17 05:03:00"
       ]
      },
      {
       "output_type": "stream",
       "stream": "stdout",
       "text": [
        "\n",
        "2006-04-11 12:37:00\n",
        "2007-07-25 05:55:00\n",
        "2013-03-13 03:05:00\n",
        "2008-09-18 01:35:00\n",
        "2014-06-23 22:08:00"
       ]
      },
      {
       "output_type": "stream",
       "stream": "stdout",
       "text": [
        "\n",
        "2014-08-19 01:52:00"
       ]
      },
      {
       "output_type": "stream",
       "stream": "stdout",
       "text": [
        "\n",
        "2014-08-20 08:32:00"
       ]
      },
      {
       "output_type": "stream",
       "stream": "stdout",
       "text": [
        "\n",
        "2014-05-01 12:46:00\n",
        "2014-10-24 11:49:00\n",
        "2007-07-24 07:36:00\n",
        "2011-12-29 15:43:00"
       ]
      },
      {
       "output_type": "stream",
       "stream": "stdout",
       "text": [
        "\n",
        "2005-05-03 11:56:00\n",
        "2008-09-03 02:33:00\n",
        "2014-10-23 15:13:00\n",
        "2006-02-26 20:50:00\n",
        "2010-02-25 00:40:00\n",
        "2007-07-12 13:37:00"
       ]
      },
      {
       "output_type": "stream",
       "stream": "stdout",
       "text": [
        "\n",
        "2014-02-18 03:33:00\n",
        "2008-08-27 05:43:00"
       ]
      },
      {
       "output_type": "stream",
       "stream": "stdout",
       "text": [
        "\n",
        "2013-11-04 06:34:00\n",
        "2005-09-26 06:25:00\n",
        "2010-04-30 01:36:00\n",
        "2011-07-15 12:50:00"
       ]
      },
      {
       "output_type": "stream",
       "stream": "stdout",
       "text": [
        "\n",
        "2010-01-06 23:56:00\n",
        "2011-05-17 07:17:00"
       ]
      },
      {
       "output_type": "stream",
       "stream": "stdout",
       "text": [
        "\n",
        "2005-09-05 23:32:00"
       ]
      },
      {
       "output_type": "stream",
       "stream": "stdout",
       "text": [
        "\n",
        "2013-07-30 13:26:00"
       ]
      },
      {
       "output_type": "stream",
       "stream": "stdout",
       "text": [
        "\n",
        "2013-09-26 09:19:00\n",
        "2010-10-06 08:19:00\n",
        "2007-11-05 03:41:00\n",
        "2014-12-03 22:16:00\n",
        "2012-09-20 20:48:00"
       ]
      },
      {
       "output_type": "stream",
       "stream": "stdout",
       "text": [
        "\n",
        "2014-03-17 16:27:00"
       ]
      },
      {
       "output_type": "stream",
       "stream": "stdout",
       "text": [
        "\n",
        "2007-01-10 08:51:00\n",
        "2009-07-29 21:04:00\n",
        "2012-03-21 15:04:00"
       ]
      },
      {
       "output_type": "stream",
       "stream": "stdout",
       "text": [
        "\n",
        "2011-08-03 08:03:00\n",
        "2010-10-19 17:02:00"
       ]
      },
      {
       "output_type": "stream",
       "stream": "stdout",
       "text": [
        "\n",
        "2014-08-10 19:46:00"
       ]
      },
      {
       "output_type": "stream",
       "stream": "stdout",
       "text": [
        "\n",
        "2010-08-11 14:30:00\n",
        "2006-10-25 11:57:00\n",
        "2006-06-08 19:29:00\n",
        "2011-09-15 10:52:00"
       ]
      },
      {
       "output_type": "stream",
       "stream": "stdout",
       "text": [
        "\n",
        "2009-10-13 21:26:00\n",
        "2009-08-13 08:29:00\n",
        "2008-09-29 07:41:00"
       ]
      },
      {
       "output_type": "stream",
       "stream": "stdout",
       "text": [
        "\n",
        "2012-10-22 12:11:00\n",
        "2005-10-06 07:24:00\n",
        "2005-08-16 09:51:00"
       ]
      },
      {
       "output_type": "stream",
       "stream": "stdout",
       "text": [
        "\n",
        "2011-11-16 08:18:00\n",
        "2011-07-18 01:35:00\n",
        "2009-06-19 12:00:00\n",
        "2005-09-22 07:31:00\n",
        "2007-08-22 03:40:00"
       ]
      },
      {
       "output_type": "stream",
       "stream": "stdout",
       "text": [
        "\n",
        "2007-04-25 09:22:00\n",
        "2014-08-04 23:26:00\n",
        "2009-04-10 05:41:00"
       ]
      },
      {
       "output_type": "stream",
       "stream": "stdout",
       "text": [
        "\n",
        "2004-09-13 05:43:00"
       ]
      },
      {
       "output_type": "stream",
       "stream": "stdout",
       "text": [
        "\n",
        "2011-03-01 02:46:00\n",
        "2008-01-16 02:57:00"
       ]
      },
      {
       "output_type": "stream",
       "stream": "stdout",
       "text": [
        "\n",
        "2013-07-09 23:06:00\n",
        "2008-11-26 10:51:00\n",
        "2013-05-22 08:05:00\n",
        "2007-07-27 13:57:00\n",
        "2007-06-29 11:49:00\n",
        "2007-02-12 11:51:00"
       ]
      },
      {
       "output_type": "stream",
       "stream": "stdout",
       "text": [
        "\n",
        "2009-09-06 19:21:00\n",
        "2006-11-01 13:59:00\n",
        "2010-05-05 21:38:00\n",
        "2009-07-20 00:42:00"
       ]
      },
      {
       "output_type": "stream",
       "stream": "stdout",
       "text": [
        "\n",
        "2004-07-05 11:15:00\n",
        "2008-07-16 19:00:00\n",
        "2004-01-02 00:51:00"
       ]
      },
      {
       "output_type": "stream",
       "stream": "stdout",
       "text": [
        "\n",
        "2010-01-26 12:31:00"
       ]
      },
      {
       "output_type": "stream",
       "stream": "stdout",
       "text": [
        "\n",
        "2008-04-17 16:48:00\n",
        "2011-12-04 20:48:00"
       ]
      },
      {
       "output_type": "stream",
       "stream": "stdout",
       "text": [
        "\n",
        "2012-10-11 22:30:00\n",
        "2009-11-23 11:14:00"
       ]
      },
      {
       "output_type": "stream",
       "stream": "stdout",
       "text": [
        "\n",
        "2005-09-29 18:08:00\n",
        "2009-09-23 16:43:00"
       ]
      },
      {
       "output_type": "stream",
       "stream": "stdout",
       "text": [
        "\n",
        "2007-10-08 09:56:00\n",
        "2015-01-28 17:21:00\n",
        "2006-01-24 03:29:00"
       ]
      },
      {
       "output_type": "stream",
       "stream": "stdout",
       "text": [
        "\n",
        "2010-05-06 19:16:00"
       ]
      },
      {
       "output_type": "stream",
       "stream": "stdout",
       "text": [
        "\n",
        "2010-03-05 04:33:00"
       ]
      },
      {
       "output_type": "stream",
       "stream": "stdout",
       "text": [
        "\n",
        "2011-08-31 04:50:00"
       ]
      },
      {
       "output_type": "stream",
       "stream": "stdout",
       "text": [
        "\n",
        "2014-01-28 16:48:00\n",
        "2008-08-27 11:01:00\n",
        "2013-07-30 00:30:00\n",
        "2006-07-25 09:41:00"
       ]
      },
      {
       "output_type": "stream",
       "stream": "stdout",
       "text": [
        "\n",
        "2009-09-15 14:01:00\n",
        "2009-05-14 18:21:00\n",
        "2007-01-19 04:19:00"
       ]
      },
      {
       "output_type": "stream",
       "stream": "stdout",
       "text": [
        "\n",
        "2011-07-20 21:17:00"
       ]
      },
      {
       "output_type": "stream",
       "stream": "stdout",
       "text": [
        "\n",
        "2011-09-26 03:43:00"
       ]
      },
      {
       "output_type": "stream",
       "stream": "stdout",
       "text": [
        "\n",
        "2007-05-07 11:41:00\n",
        "2010-07-14 15:28:00\n",
        "2010-12-01 23:39:00\n",
        "2013-10-24 03:49:00"
       ]
      },
      {
       "output_type": "stream",
       "stream": "stdout",
       "text": [
        "\n",
        "2010-06-28 04:01:00"
       ]
      },
      {
       "output_type": "stream",
       "stream": "stdout",
       "text": [
        "\n",
        "2007-08-06 11:29:00\n",
        "2014-05-06 22:46:00\n",
        "2007-10-12 00:53:00\n",
        "2011-07-08 05:24:00"
       ]
      },
      {
       "output_type": "stream",
       "stream": "stdout",
       "text": [
        "\n",
        "2013-02-19 07:50:00"
       ]
      },
      {
       "output_type": "stream",
       "stream": "stdout",
       "text": [
        "\n",
        "2009-03-19 16:57:00"
       ]
      },
      {
       "output_type": "stream",
       "stream": "stdout",
       "text": [
        "\n",
        "2009-03-22 22:05:00\n",
        "2006-06-09 02:28:00\n",
        "2005-04-18 15:03:00"
       ]
      },
      {
       "output_type": "stream",
       "stream": "stdout",
       "text": [
        "\n",
        "2006-01-25 00:18:00\n",
        "2006-09-21 15:16:00"
       ]
      },
      {
       "output_type": "stream",
       "stream": "stdout",
       "text": [
        "\n",
        "2006-09-29 13:19:00\n",
        "2014-08-29 06:03:00\n",
        "2009-07-06 10:56:00"
       ]
      },
      {
       "output_type": "stream",
       "stream": "stdout",
       "text": [
        "\n",
        "2013-09-04 19:15:00\n",
        "2006-05-29 07:23:00"
       ]
      },
      {
       "output_type": "stream",
       "stream": "stdout",
       "text": [
        "\n",
        "2011-10-14 09:10:00\n",
        "2006-04-04 06:31:00\n",
        "2011-12-02 13:52:00"
       ]
      },
      {
       "output_type": "stream",
       "stream": "stdout",
       "text": [
        "\n",
        "2009-01-05 06:37:00\n",
        "2013-02-19 15:01:00\n",
        "2011-10-27 04:09:00\n",
        "2010-08-30 11:33:00"
       ]
      },
      {
       "output_type": "stream",
       "stream": "stdout",
       "text": [
        "\n",
        "2008-12-12 02:23:00\n",
        "2011-06-28 06:39:00"
       ]
      },
      {
       "output_type": "stream",
       "stream": "stdout",
       "text": [
        "\n",
        "2007-05-03 00:20:00"
       ]
      },
      {
       "output_type": "stream",
       "stream": "stdout",
       "text": [
        "\n",
        "2004-02-09 00:38:00"
       ]
      },
      {
       "output_type": "stream",
       "stream": "stdout",
       "text": [
        "\n",
        "2011-06-17 13:12:00\n",
        "2007-05-31 08:08:00\n",
        "2009-04-10 07:00:00"
       ]
      },
      {
       "output_type": "stream",
       "stream": "stdout",
       "text": [
        "\n",
        "2010-08-31 21:58:00"
       ]
      },
      {
       "output_type": "stream",
       "stream": "stdout",
       "text": [
        "\n",
        "2013-02-12 00:59:00\n",
        "2008-10-13 22:25:00"
       ]
      },
      {
       "output_type": "stream",
       "stream": "stdout",
       "text": [
        "\n",
        "2014-11-06 12:47:00"
       ]
      },
      {
       "output_type": "stream",
       "stream": "stdout",
       "text": [
        "\n",
        "2008-11-23 23:59:00\n",
        "2012-05-28 01:35:00\n",
        "2013-07-15 06:07:00\n",
        "2004-01-05 00:58:00\n",
        "2011-08-30 05:53:00"
       ]
      },
      {
       "output_type": "stream",
       "stream": "stdout",
       "text": [
        "\n",
        "2004-11-08 01:02:00"
       ]
      },
      {
       "output_type": "stream",
       "stream": "stdout",
       "text": [
        "\n",
        "2007-06-12 14:51:00\n",
        "2005-04-05 20:39:00\n",
        "2012-09-11 05:26:00\n",
        "2004-08-27 01:07:00"
       ]
      },
      {
       "output_type": "stream",
       "stream": "stdout",
       "text": [
        "\n",
        "2013-09-02 11:17:00"
       ]
      },
      {
       "output_type": "stream",
       "stream": "stdout",
       "text": [
        "\n",
        "2004-07-01 00:43:00\n",
        "2014-05-06 22:41:00\n",
        "2005-02-28 10:03:00\n",
        "2011-06-16 01:38:00\n",
        "2005-01-26 02:50:00"
       ]
      },
      {
       "output_type": "stream",
       "stream": "stdout",
       "text": [
        "\n",
        "2014-02-28 10:23:00\n",
        "2014-01-15 12:02:00\n",
        "2006-06-16 10:54:00\n",
        "2008-03-26 16:50:00\n",
        "2014-05-12 04:08:00\n",
        "2009-11-30 00:18:00\n",
        "2011-11-10 09:06:00\n",
        "2009-06-12 14:11:00\n",
        "2011-06-16 11:17:00\n",
        "2012-01-18 04:05:00\n",
        "2014-05-02 12:38:00"
       ]
      },
      {
       "output_type": "stream",
       "stream": "stdout",
       "text": [
        "\n",
        "2012-11-13 08:45:00\n",
        "2013-01-08 10:42:00\n",
        "2013-04-05 06:26:00\n",
        "2013-03-27 06:22:00"
       ]
      },
      {
       "output_type": "stream",
       "stream": "stdout",
       "text": [
        "\n",
        "2014-06-05 09:25:00\n",
        "2014-10-16 23:18:00\n",
        "2009-08-05 17:34:00"
       ]
      },
      {
       "output_type": "stream",
       "stream": "stdout",
       "text": [
        "\n",
        "2014-11-10 10:29:00"
       ]
      },
      {
       "output_type": "stream",
       "stream": "stdout",
       "text": [
        "\n",
        "2011-03-22 10:30:00\n",
        "2004-09-09 02:36:00\n",
        "2010-04-30 07:02:00\n",
        "2008-08-06 17:49:00"
       ]
      },
      {
       "output_type": "stream",
       "stream": "stdout",
       "text": [
        "\n",
        "2011-12-29 17:07:00"
       ]
      },
      {
       "output_type": "stream",
       "stream": "stdout",
       "text": [
        "\n",
        "2006-06-20 12:16:00"
       ]
      },
      {
       "output_type": "stream",
       "stream": "stdout",
       "text": [
        "\n",
        "2008-02-07 01:59:00\n",
        "2012-05-11 04:02:00"
       ]
      },
      {
       "output_type": "stream",
       "stream": "stdout",
       "text": [
        "\n",
        "2009-04-13 02:26:00"
       ]
      },
      {
       "output_type": "stream",
       "stream": "stdout",
       "text": [
        "\n",
        "2004-05-04 04:06:00\n",
        "2012-12-11 21:49:00"
       ]
      },
      {
       "output_type": "stream",
       "stream": "stdout",
       "text": [
        "\n",
        "2013-09-03 11:45:00\n",
        "2010-10-06 12:26:00\n",
        "2014-08-25 15:58:00\n",
        "2014-08-06 08:17:00\n",
        "2004-04-13 07:07:00\n",
        "2005-03-22 21:39:00"
       ]
      },
      {
       "output_type": "stream",
       "stream": "stdout",
       "text": [
        "\n",
        "2013-07-22 14:53:00\n",
        "2013-09-11 10:18:00\n",
        "2008-02-12 19:48:00\n",
        "2012-06-25 02:24:00\n",
        "2011-05-05 02:37:00\n",
        "2014-08-21 00:12:00"
       ]
      },
      {
       "output_type": "stream",
       "stream": "stdout",
       "text": [
        "\n",
        "2009-02-18 18:46:00"
       ]
      },
      {
       "output_type": "stream",
       "stream": "stdout",
       "text": [
        "\n",
        "2010-11-15 17:16:00"
       ]
      },
      {
       "output_type": "stream",
       "stream": "stdout",
       "text": [
        "\n",
        "2007-07-31 08:18:00"
       ]
      },
      {
       "output_type": "stream",
       "stream": "stdout",
       "text": [
        "\n",
        "2014-12-30 20:59:00"
       ]
      },
      {
       "output_type": "stream",
       "stream": "stdout",
       "text": [
        "\n",
        "2013-10-29 04:47:00\n",
        "2008-09-30 17:20:00"
       ]
      },
      {
       "output_type": "stream",
       "stream": "stdout",
       "text": [
        "\n",
        "2004-10-15 08:38:00\n",
        "2006-09-13 21:11:00\n",
        "2010-09-08 10:41:00"
       ]
      },
      {
       "output_type": "stream",
       "stream": "stdout",
       "text": [
        "\n",
        "2011-01-03 18:32:00\n",
        "2008-12-22 03:05:00"
       ]
      },
      {
       "output_type": "stream",
       "stream": "stdout",
       "text": [
        "\n",
        "2010-12-16 04:29:00\n",
        "2009-10-02 10:03:00"
       ]
      },
      {
       "output_type": "stream",
       "stream": "stdout",
       "text": [
        "\n",
        "2007-05-28 21:55:00\n",
        "2011-09-21 11:19:00"
       ]
      },
      {
       "output_type": "stream",
       "stream": "stdout",
       "text": [
        "\n",
        "2008-02-11 07:47:00\n",
        "2006-08-16 18:23:00\n",
        "2011-04-22 03:26:00"
       ]
      },
      {
       "output_type": "stream",
       "stream": "stdout",
       "text": [
        "\n",
        "2009-02-25 07:08:00"
       ]
      },
      {
       "output_type": "stream",
       "stream": "stdout",
       "text": [
        "\n",
        "2010-01-26 09:59:00\n",
        "2013-12-09 18:22:00\n",
        "2010-12-22 02:35:00"
       ]
      },
      {
       "output_type": "stream",
       "stream": "stdout",
       "text": [
        "\n",
        "2005-07-26 17:36:00\n",
        "2011-10-03 00:54:00\n",
        "2011-10-12 21:23:00\n",
        "2010-02-10 15:57:00"
       ]
      },
      {
       "output_type": "stream",
       "stream": "stdout",
       "text": [
        "\n",
        "2009-01-19 05:40:00\n",
        "2008-07-02 14:39:00\n",
        "2010-11-09 07:52:00\n",
        "2011-08-23 22:53:00"
       ]
      },
      {
       "output_type": "stream",
       "stream": "stdout",
       "text": [
        "\n",
        "2013-12-23 00:18:00\n",
        "2005-05-18 13:39:00\n",
        "2007-11-05 08:49:00\n",
        "2013-07-03 01:27:00\n",
        "2004-02-27 08:37:00\n",
        "2011-01-26 18:07:00\n",
        "2009-08-28 12:20:00"
       ]
      },
      {
       "output_type": "stream",
       "stream": "stdout",
       "text": [
        "\n",
        "2012-08-08 22:01:00\n",
        "2011-04-26 00:50:00"
       ]
      },
      {
       "output_type": "stream",
       "stream": "stdout",
       "text": [
        "\n",
        "2005-08-25 21:20:00"
       ]
      },
      {
       "output_type": "stream",
       "stream": "stdout",
       "text": [
        "\n",
        "2008-09-10 00:19:00"
       ]
      },
      {
       "output_type": "stream",
       "stream": "stdout",
       "text": [
        "\n",
        "2011-05-10 22:26:00\n",
        "2014-04-18 04:01:00\n",
        "2011-08-23 05:40:00"
       ]
      },
      {
       "output_type": "stream",
       "stream": "stdout",
       "text": [
        "\n",
        "2012-11-08 04:52:00"
       ]
      },
      {
       "output_type": "stream",
       "stream": "stdout",
       "text": [
        "\n",
        "2008-11-27 15:53:00"
       ]
      },
      {
       "output_type": "stream",
       "stream": "stdout",
       "text": [
        "\n",
        "2010-05-13 08:22:00\n",
        "2005-08-28 19:19:00"
       ]
      },
      {
       "output_type": "stream",
       "stream": "stdout",
       "text": [
        "\n",
        "2009-09-24 20:52:00\n",
        "2011-09-27 18:31:00"
       ]
      },
      {
       "output_type": "stream",
       "stream": "stdout",
       "text": [
        "\n",
        "2005-01-04 22:20:00\n",
        "2011-08-12 08:44:00\n",
        "2005-01-19 03:45:00\n",
        "2004-07-26 03:21:00\n",
        "2006-11-28 07:33:00\n",
        "2011-03-28 12:35:00"
       ]
      },
      {
       "output_type": "stream",
       "stream": "stdout",
       "text": [
        "\n",
        "2008-10-31 07:57:00\n",
        "2008-02-28 14:46:00"
       ]
      },
      {
       "output_type": "stream",
       "stream": "stdout",
       "text": [
        "\n",
        "2010-02-11 05:13:00\n",
        "2006-11-22 13:39:00"
       ]
      },
      {
       "output_type": "stream",
       "stream": "stdout",
       "text": [
        "\n",
        "2011-02-17 13:17:00\n",
        "2010-12-28 12:34:00\n",
        "2009-04-23 00:32:00\n",
        "2013-05-30 21:53:00"
       ]
      },
      {
       "output_type": "stream",
       "stream": "stdout",
       "text": [
        "\n",
        "2012-04-11 17:07:00"
       ]
      },
      {
       "output_type": "stream",
       "stream": "stdout",
       "text": [
        "\n",
        "2011-02-15 18:07:00"
       ]
      },
      {
       "output_type": "stream",
       "stream": "stdout",
       "text": [
        "\n",
        "2011-05-05 10:12:00\n",
        "2007-10-02 04:02:00\n",
        "2008-04-03 01:33:00"
       ]
      },
      {
       "output_type": "stream",
       "stream": "stdout",
       "text": [
        "\n",
        "2005-06-14 12:09:00"
       ]
      },
      {
       "output_type": "stream",
       "stream": "stdout",
       "text": [
        "\n",
        "2010-01-20 08:14:00\n",
        "2014-02-10 19:07:00\n",
        "2004-01-06 17:59:00"
       ]
      },
      {
       "output_type": "stream",
       "stream": "stdout",
       "text": [
        "\n",
        "2009-12-09 10:23:00\n",
        "2010-11-22 05:03:00\n",
        "2011-09-06 01:16:00\n",
        "2004-05-14 11:52:00"
       ]
      },
      {
       "output_type": "stream",
       "stream": "stdout",
       "text": [
        "\n",
        "2014-09-05 13:20:00\n",
        "2011-02-18 12:35:00\n",
        "2006-05-16 13:40:00\n",
        "2006-07-31 03:25:00\n",
        "2014-07-10 10:05:00\n",
        "2015-02-10 17:07:00\n",
        "2012-11-29 07:49:00\n",
        "2009-06-30 02:09:00"
       ]
      },
      {
       "output_type": "stream",
       "stream": "stdout",
       "text": [
        "\n",
        "2009-04-16 00:39:00"
       ]
      },
      {
       "output_type": "stream",
       "stream": "stdout",
       "text": [
        "\n",
        "2011-02-22 09:38:00"
       ]
      },
      {
       "output_type": "stream",
       "stream": "stdout",
       "text": [
        "\n",
        "2014-09-07 18:35:00\n",
        "2014-08-22 12:32:00\n",
        "2011-12-01 09:24:00\n",
        "2013-07-02 23:39:00\n",
        "2004-06-16 00:33:00\n",
        "2009-07-15 08:13:00\n",
        "2011-01-07 04:11:00\n",
        "2009-04-16 16:44:00"
       ]
      },
      {
       "output_type": "stream",
       "stream": "stdout",
       "text": [
        "\n",
        "2011-05-05 21:24:00\n",
        "2012-12-30 20:31:00"
       ]
      },
      {
       "output_type": "stream",
       "stream": "stdout",
       "text": [
        "\n",
        "2006-03-27 04:17:00\n",
        "2008-06-13 13:04:00\n",
        "2009-04-22 00:46:00\n",
        "2008-05-14 11:27:00\n",
        "2012-11-14 04:47:00\n",
        "2006-04-21 03:53:00\n",
        "2007-07-10 12:43:00"
       ]
      },
      {
       "output_type": "stream",
       "stream": "stdout",
       "text": [
        "\n",
        "2008-08-07 09:13:00\n",
        "2004-04-23 04:52:00\n",
        "2012-05-25 13:56:00"
       ]
      },
      {
       "output_type": "stream",
       "stream": "stdout",
       "text": [
        "\n",
        "2013-10-29 12:40:00\n",
        "2005-09-14 01:52:00\n",
        "2008-11-28 09:17:00\n",
        "2004-01-05 11:48:00\n",
        "2007-02-27 13:22:00\n",
        "2008-02-05 14:51:00\n",
        "2009-06-14 22:27:00"
       ]
      },
      {
       "output_type": "stream",
       "stream": "stdout",
       "text": [
        "\n",
        "2009-12-24 16:20:00\n",
        "2010-09-28 16:37:00"
       ]
      },
      {
       "output_type": "stream",
       "stream": "stdout",
       "text": [
        "\n",
        "2012-12-11 12:34:00\n",
        "2005-02-13 22:43:00\n",
        "2005-02-15 02:00:00\n",
        "2013-04-08 19:28:00\n",
        "2006-08-29 21:12:00"
       ]
      },
      {
       "output_type": "stream",
       "stream": "stdout",
       "text": [
        "\n",
        "2007-05-02 08:50:00\n",
        "2006-02-01 14:23:00\n",
        "2014-05-22 22:56:00\n",
        "2011-07-14 21:59:00"
       ]
      },
      {
       "output_type": "stream",
       "stream": "stdout",
       "text": [
        "\n",
        "2009-05-07 20:11:00"
       ]
      },
      {
       "output_type": "stream",
       "stream": "stdout",
       "text": [
        "\n",
        "2012-06-01 02:10:00"
       ]
      },
      {
       "output_type": "stream",
       "stream": "stdout",
       "text": [
        "\n",
        "2008-11-12 23:37:00"
       ]
      },
      {
       "output_type": "stream",
       "stream": "stdout",
       "text": [
        "\n",
        "2009-02-18 13:52:00"
       ]
      },
      {
       "output_type": "stream",
       "stream": "stdout",
       "text": [
        "\n",
        "2010-09-30 17:19:00\n",
        "2012-12-27 03:14:00"
       ]
      },
      {
       "output_type": "stream",
       "stream": "stdout",
       "text": [
        "\n",
        "2008-10-16 15:23:00"
       ]
      },
      {
       "output_type": "stream",
       "stream": "stdout",
       "text": [
        "\n",
        "2012-07-11 09:58:00\n",
        "2011-08-30 21:39:00\n",
        "2004-04-16 13:26:00\n",
        "2011-05-10 04:09:00\n",
        "2014-11-18 11:52:00"
       ]
      },
      {
       "output_type": "stream",
       "stream": "stdout",
       "text": [
        "\n",
        "2012-07-23 16:13:00\n",
        "2007-05-29 13:32:00\n",
        "2012-03-02 10:01:00\n",
        "2013-06-25 20:34:00\n",
        "2013-09-30 04:05:00\n",
        "2004-03-26 07:58:00\n",
        "2013-10-31 09:42:00\n",
        "2013-10-20 17:20:00\n",
        "2012-02-16 07:33:00"
       ]
      },
      {
       "output_type": "stream",
       "stream": "stdout",
       "text": [
        "\n",
        "2007-06-05 10:53:00"
       ]
      },
      {
       "output_type": "stream",
       "stream": "stdout",
       "text": [
        "\n",
        "2010-02-26 14:43:00\n",
        "2012-08-30 13:33:00\n",
        "2005-12-22 12:34:00\n",
        "2011-05-22 19:45:00\n",
        "2014-01-13 01:46:00\n",
        "2004-01-22 18:08:00\n",
        "2014-05-08 05:07:00\n",
        "2010-12-06 05:09:00"
       ]
      },
      {
       "output_type": "stream",
       "stream": "stdout",
       "text": [
        "\n",
        "2011-02-17 02:49:00\n",
        "2009-07-07 16:03:00"
       ]
      },
      {
       "output_type": "stream",
       "stream": "stdout",
       "text": [
        "\n",
        "2012-02-01 05:32:00\n",
        "2005-04-21 21:36:00\n",
        "2011-09-23 03:49:00\n",
        "2007-08-28 20:18:00"
       ]
      },
      {
       "output_type": "stream",
       "stream": "stdout",
       "text": [
        "\n",
        "2014-06-27 03:54:00\n",
        "2008-11-26 01:52:00"
       ]
      },
      {
       "output_type": "stream",
       "stream": "stdout",
       "text": [
        "\n",
        "2008-02-29 13:25:00\n",
        "2005-08-23 05:01:00\n",
        "2007-09-24 21:11:00"
       ]
      },
      {
       "output_type": "stream",
       "stream": "stdout",
       "text": [
        "\n",
        "2005-07-11 04:27:00"
       ]
      },
      {
       "output_type": "stream",
       "stream": "stdout",
       "text": [
        "\n",
        "2009-08-13 16:00:00\n",
        "2007-02-23 10:26:00\n",
        "2013-02-27 03:22:00\n",
        "2010-03-17 21:14:00\n",
        "2004-01-07 11:37:00"
       ]
      },
      {
       "output_type": "stream",
       "stream": "stdout",
       "text": [
        "\n",
        "2010-06-24 08:42:00\n",
        "2013-05-22 02:29:00"
       ]
      },
      {
       "output_type": "stream",
       "stream": "stdout",
       "text": [
        "\n",
        "2010-02-24 07:46:00\n",
        "2015-02-10 02:47:00\n",
        "2013-05-16 08:35:00"
       ]
      },
      {
       "output_type": "stream",
       "stream": "stdout",
       "text": [
        "\n",
        "2006-05-24 05:53:00\n",
        "2012-07-03 09:40:00\n",
        "2012-02-20 13:57:00\n",
        "2007-02-28 09:20:00\n",
        "2014-10-23 13:58:00\n",
        "2013-08-15 05:26:00\n",
        "2011-01-31 02:49:00"
       ]
      },
      {
       "output_type": "stream",
       "stream": "stdout",
       "text": [
        "\n",
        "2013-02-08 04:08:00\n",
        "2012-08-28 11:18:00"
       ]
      },
      {
       "output_type": "stream",
       "stream": "stdout",
       "text": [
        "\n",
        "2011-05-03 19:00:00\n",
        "2012-02-13 01:01:00\n",
        "2007-03-06 09:48:00\n",
        "2009-04-27 20:08:00\n",
        "2007-06-17 23:19:00"
       ]
      },
      {
       "output_type": "stream",
       "stream": "stdout",
       "text": [
        "\n",
        "2014-04-21 02:33:00\n",
        "2012-06-08 00:22:00\n",
        "2012-06-11 03:25:00"
       ]
      },
      {
       "output_type": "stream",
       "stream": "stdout",
       "text": [
        "\n",
        "2008-10-21 22:25:00\n",
        "2012-01-06 14:39:00\n",
        "2012-12-13 19:29:00\n",
        "2014-09-08 00:16:00"
       ]
      },
      {
       "output_type": "stream",
       "stream": "stdout",
       "text": [
        "\n",
        "2014-10-15 17:18:00\n",
        "2006-06-30 03:28:00"
       ]
      },
      {
       "output_type": "stream",
       "stream": "stdout",
       "text": [
        "\n",
        "2015-01-13 18:19:00"
       ]
      },
      {
       "output_type": "stream",
       "stream": "stdout",
       "text": [
        "\n",
        "2005-08-03 11:53:00\n",
        "2012-04-09 18:48:00\n",
        "2014-02-10 06:09:00"
       ]
      },
      {
       "output_type": "stream",
       "stream": "stdout",
       "text": [
        "\n",
        "2014-07-01 12:40:00\n",
        "2013-10-29 18:09:00"
       ]
      },
      {
       "output_type": "stream",
       "stream": "stdout",
       "text": [
        "\n",
        "2014-11-28 00:53:00\n",
        "2013-03-29 14:46:00"
       ]
      },
      {
       "output_type": "stream",
       "stream": "stdout",
       "text": [
        "\n",
        "2006-08-30 09:48:00\n",
        "2004-08-16 20:07:00\n",
        "2007-03-20 10:55:00"
       ]
      },
      {
       "output_type": "stream",
       "stream": "stdout",
       "text": [
        "\n",
        "2013-11-12 18:55:00\n",
        "2013-12-12 05:21:00\n",
        "2014-06-18 17:17:00"
       ]
      },
      {
       "output_type": "stream",
       "stream": "stdout",
       "text": [
        "\n",
        "2007-07-31 10:10:00"
       ]
      },
      {
       "output_type": "stream",
       "stream": "stdout",
       "text": [
        "\n",
        "2013-12-26 19:14:00\n",
        "2006-10-09 14:31:00"
       ]
      },
      {
       "output_type": "stream",
       "stream": "stdout",
       "text": [
        "\n",
        "2005-12-07 21:11:00\n",
        "2012-04-25 18:06:00"
       ]
      },
      {
       "output_type": "stream",
       "stream": "stdout",
       "text": [
        "\n",
        "2010-09-15 02:48:00"
       ]
      },
      {
       "output_type": "stream",
       "stream": "stdout",
       "text": [
        "\n",
        "2012-10-02 02:32:00\n",
        "2014-07-21 09:50:00"
       ]
      },
      {
       "output_type": "stream",
       "stream": "stdout",
       "text": [
        "\n",
        "2012-10-09 21:07:00\n",
        "2011-10-14 04:05:00\n",
        "2012-06-19 03:05:00"
       ]
      },
      {
       "output_type": "stream",
       "stream": "stdout",
       "text": [
        "\n",
        "2006-06-13 09:48:00"
       ]
      },
      {
       "output_type": "stream",
       "stream": "stdout",
       "text": [
        "\n",
        "2005-09-01 17:53:00\n",
        "2011-06-03 07:19:00"
       ]
      },
      {
       "output_type": "stream",
       "stream": "stdout",
       "text": [
        "\n",
        "2005-03-28 19:14:00"
       ]
      },
      {
       "output_type": "stream",
       "stream": "stdout",
       "text": [
        "\n",
        "2013-06-24 13:32:00"
       ]
      },
      {
       "output_type": "stream",
       "stream": "stdout",
       "text": [
        "\n",
        "2011-04-05 20:13:00\n",
        "2013-05-08 04:47:00\n",
        "2008-03-26 16:26:00\n",
        "2005-02-06 22:12:00\n",
        "2012-11-01 09:33:00\n",
        "2010-01-31 22:47:00\n",
        "2012-12-19 13:05:00"
       ]
      },
      {
       "output_type": "stream",
       "stream": "stdout",
       "text": [
        "\n",
        "2010-06-28 13:22:00\n",
        "2010-10-12 07:19:00\n",
        "2007-08-20 12:30:00"
       ]
      },
      {
       "output_type": "stream",
       "stream": "stdout",
       "text": [
        "\n",
        "2009-09-29 20:36:00\n",
        "2008-12-22 22:41:00\n",
        "2009-06-15 17:54:00"
       ]
      },
      {
       "output_type": "stream",
       "stream": "stdout",
       "text": [
        "\n",
        "2012-06-28 07:14:00"
       ]
      },
      {
       "output_type": "stream",
       "stream": "stdout",
       "text": [
        "\n",
        "2012-01-30 12:22:00"
       ]
      },
      {
       "output_type": "stream",
       "stream": "stdout",
       "text": [
        "\n",
        "2005-05-03 20:10:00\n",
        "2008-02-08 14:41:00\n",
        "2011-04-19 06:58:00\n",
        "2011-02-03 23:47:00"
       ]
      },
      {
       "output_type": "stream",
       "stream": "stdout",
       "text": [
        "\n",
        "2013-12-08 22:31:00"
       ]
      },
      {
       "output_type": "stream",
       "stream": "stdout",
       "text": [
        "\n",
        "2007-08-02 20:34:00\n",
        "2005-10-18 05:50:00"
       ]
      },
      {
       "output_type": "stream",
       "stream": "stdout",
       "text": [
        "\n",
        "2013-07-01 06:16:00"
       ]
      },
      {
       "output_type": "stream",
       "stream": "stdout",
       "text": [
        "\n",
        "2008-10-13 17:38:00\n",
        "2014-01-02 22:57:00"
       ]
      },
      {
       "output_type": "stream",
       "stream": "stdout",
       "text": [
        "\n",
        "2005-02-03 11:52:00"
       ]
      },
      {
       "output_type": "stream",
       "stream": "stdout",
       "text": [
        "\n",
        "2005-02-03 15:26:00\n",
        "2008-08-26 22:13:00\n",
        "2004-01-05 13:25:00\n",
        "2011-08-09 04:04:00\n",
        "2009-10-29 02:40:00"
       ]
      },
      {
       "output_type": "stream",
       "stream": "stdout",
       "text": [
        "\n",
        "2004-04-28 17:52:00"
       ]
      },
      {
       "output_type": "stream",
       "stream": "stdout",
       "text": [
        "\n",
        "2014-04-09 09:18:00\n",
        "2012-01-25 05:07:00\n",
        "2005-01-19 21:50:00\n",
        "2013-07-17 10:44:00"
       ]
      },
      {
       "output_type": "stream",
       "stream": "stdout",
       "text": [
        "\n",
        "2008-09-30 07:27:00\n",
        "2007-07-24 12:19:00"
       ]
      },
      {
       "output_type": "stream",
       "stream": "stdout",
       "text": [
        "\n",
        "2012-07-17 10:10:00\n",
        "2009-01-22 02:33:00\n",
        "2010-02-01 04:49:00"
       ]
      },
      {
       "output_type": "stream",
       "stream": "stdout",
       "text": [
        "\n",
        "2011-02-16 09:24:00"
       ]
      },
      {
       "output_type": "stream",
       "stream": "stdout",
       "text": [
        "\n",
        "2007-06-19 02:03:00\n",
        "2012-04-02 10:26:00"
       ]
      },
      {
       "output_type": "stream",
       "stream": "stdout",
       "text": [
        "\n",
        "2008-05-13 12:33:00\n",
        "2008-12-04 10:17:00\n",
        "2007-11-18 22:23:00\n",
        "2011-01-11 00:22:00\n",
        "2005-05-11 20:37:00"
       ]
      },
      {
       "output_type": "stream",
       "stream": "stdout",
       "text": [
        "\n",
        "2011-08-10 14:00:00"
       ]
      },
      {
       "output_type": "stream",
       "stream": "stdout",
       "text": [
        "\n",
        "2011-09-14 09:12:00\n",
        "2014-09-11 09:25:00\n",
        "2004-03-25 10:59:00\n",
        "2009-10-01 00:14:00\n",
        "2012-10-26 07:34:00"
       ]
      },
      {
       "output_type": "stream",
       "stream": "stdout",
       "text": [
        "\n",
        "2013-10-02 23:43:00"
       ]
      },
      {
       "output_type": "stream",
       "stream": "stdout",
       "text": [
        "\n",
        "2006-07-10 23:16:00"
       ]
      },
      {
       "output_type": "stream",
       "stream": "stdout",
       "text": [
        "\n",
        "2008-05-09 09:16:00"
       ]
      },
      {
       "output_type": "stream",
       "stream": "stdout",
       "text": [
        "\n",
        "2007-07-26 14:50:00\n",
        "2007-11-29 02:46:00\n",
        "2008-06-24 23:36:00"
       ]
      },
      {
       "output_type": "stream",
       "stream": "stdout",
       "text": [
        "\n",
        "2011-05-11 09:16:00\n",
        "2010-11-24 20:34:00\n",
        "2008-11-03 17:19:00"
       ]
      },
      {
       "output_type": "stream",
       "stream": "stdout",
       "text": [
        "\n",
        "2004-05-25 17:40:00"
       ]
      },
      {
       "output_type": "stream",
       "stream": "stdout",
       "text": [
        "\n",
        "2009-10-23 00:36:00\n",
        "2012-07-18 16:54:00"
       ]
      },
      {
       "output_type": "stream",
       "stream": "stdout",
       "text": [
        "\n",
        "2014-06-24 00:23:00\n",
        "2006-05-02 13:35:00"
       ]
      },
      {
       "output_type": "stream",
       "stream": "stdout",
       "text": [
        "\n",
        "2006-02-14 16:52:00\n",
        "2013-07-10 04:57:00\n",
        "2010-10-28 23:09:00\n",
        "2006-07-17 17:26:00"
       ]
      },
      {
       "output_type": "stream",
       "stream": "stdout",
       "text": [
        "\n",
        "2013-06-17 16:09:00"
       ]
      },
      {
       "output_type": "stream",
       "stream": "stdout",
       "text": [
        "\n",
        "2007-07-04 00:24:00\n",
        "2014-09-04 18:36:00\n",
        "2012-10-10 19:09:00"
       ]
      },
      {
       "output_type": "stream",
       "stream": "stdout",
       "text": [
        "\n",
        "2004-05-17 03:21:00"
       ]
      },
      {
       "output_type": "stream",
       "stream": "stdout",
       "text": [
        "\n",
        "2014-05-29 05:34:00\n",
        "2011-02-18 13:46:00"
       ]
      },
      {
       "output_type": "stream",
       "stream": "stdout",
       "text": [
        "\n",
        "2004-11-04 13:06:00\n",
        "2005-01-18 02:23:00\n",
        "2007-05-15 05:00:00\n",
        "2006-11-12 17:17:00"
       ]
      },
      {
       "output_type": "stream",
       "stream": "stdout",
       "text": [
        "\n",
        "2012-11-29 21:32:00\n",
        "2004-01-29 09:44:00"
       ]
      },
      {
       "output_type": "stream",
       "stream": "stdout",
       "text": [
        "\n",
        "2004-08-17 11:50:00\n",
        "2010-05-27 05:43:00\n",
        "2007-07-03 08:57:00"
       ]
      },
      {
       "output_type": "stream",
       "stream": "stdout",
       "text": [
        "\n",
        "2010-11-23 23:27:00"
       ]
      },
      {
       "output_type": "stream",
       "stream": "stdout",
       "text": [
        "\n",
        "2006-11-28 20:03:00\n",
        "2008-10-02 02:57:00\n",
        "2013-10-30 15:56:00"
       ]
      },
      {
       "output_type": "stream",
       "stream": "stdout",
       "text": [
        "\n",
        "2010-05-04 22:55:00\n",
        "2013-11-21 05:56:00\n",
        "2011-03-17 15:37:00"
       ]
      },
      {
       "output_type": "stream",
       "stream": "stdout",
       "text": [
        "\n",
        "2004-09-21 11:11:00\n",
        "2006-03-27 23:52:00\n",
        "2004-02-23 03:38:00"
       ]
      },
      {
       "output_type": "stream",
       "stream": "stdout",
       "text": [
        "\n",
        "2009-11-26 17:23:00\n",
        "2011-10-31 01:07:00"
       ]
      },
      {
       "output_type": "stream",
       "stream": "stdout",
       "text": [
        "\n",
        "2004-09-14 13:27:00\n",
        "2004-05-14 08:55:00\n",
        "2012-10-28 18:21:00\n",
        "2010-09-14 10:00:00\n",
        "2004-05-19 12:31:00\n",
        "2007-10-09 13:52:00"
       ]
      },
      {
       "output_type": "stream",
       "stream": "stdout",
       "text": [
        "\n",
        "2014-06-15 22:26:00\n",
        "2006-03-23 10:31:00\n",
        "2008-12-29 23:12:00\n",
        "2008-07-16 09:17:00"
       ]
      },
      {
       "output_type": "stream",
       "stream": "stdout",
       "text": [
        "\n",
        "2007-08-06 15:46:00\n",
        "2014-05-09 11:16:00\n",
        "2008-05-13 17:30:00\n",
        "2010-09-22 18:47:00\n",
        "2011-10-13 02:55:00"
       ]
      },
      {
       "output_type": "stream",
       "stream": "stdout",
       "text": [
        "\n",
        "2009-02-04 07:16:00"
       ]
      },
      {
       "output_type": "stream",
       "stream": "stdout",
       "text": [
        "\n",
        "2005-06-29 18:05:00\n",
        "2007-06-07 22:21:00"
       ]
      },
      {
       "output_type": "stream",
       "stream": "stdout",
       "text": [
        "\n",
        "2011-11-17 03:17:00"
       ]
      },
      {
       "output_type": "stream",
       "stream": "stdout",
       "text": [
        "\n",
        "2014-11-16 21:50:00"
       ]
      },
      {
       "output_type": "stream",
       "stream": "stdout",
       "text": [
        "\n",
        "2014-07-17 12:21:00\n",
        "2012-05-08 22:34:00\n",
        "2012-08-20 11:37:00\n",
        "2013-09-16 17:46:00\n",
        "2010-10-14 19:38:00"
       ]
      },
      {
       "output_type": "stream",
       "stream": "stdout",
       "text": [
        "\n",
        "2010-02-23 00:33:00"
       ]
      },
      {
       "output_type": "stream",
       "stream": "stdout",
       "text": [
        "\n",
        "2011-09-30 08:17:00"
       ]
      },
      {
       "output_type": "stream",
       "stream": "stdout",
       "text": [
        "\n",
        "2004-03-12 10:30:00"
       ]
      },
      {
       "output_type": "stream",
       "stream": "stdout",
       "text": [
        "\n",
        "2004-11-03 17:18:00\n",
        "2008-06-17 02:17:00\n",
        "2011-04-06 22:42:00"
       ]
      },
      {
       "output_type": "stream",
       "stream": "stdout",
       "text": [
        "\n",
        "2006-08-03 04:30:00"
       ]
      },
      {
       "output_type": "stream",
       "stream": "stdout",
       "text": [
        "\n",
        "2013-10-03 02:08:00"
       ]
      },
      {
       "output_type": "stream",
       "stream": "stdout",
       "text": [
        "\n",
        "2013-04-18 12:31:00"
       ]
      },
      {
       "output_type": "stream",
       "stream": "stdout",
       "text": [
        "\n",
        "2009-10-08 03:26:00\n",
        "2015-01-12 09:45:00"
       ]
      },
      {
       "output_type": "stream",
       "stream": "stdout",
       "text": [
        "\n",
        "2015-02-12 13:41:00\n",
        "2006-10-17 08:05:00\n"
       ]
      }
     ],
     "prompt_number": 41
    },
    {
     "cell_type": "code",
     "collapsed": false,
     "input": [
      "print testing"
     ],
     "language": "python",
     "metadata": {},
     "outputs": [
      {
       "output_type": "stream",
       "stream": "stdout",
       "text": [
        "[]\n"
       ]
      }
     ],
     "prompt_number": 31
    },
    {
     "cell_type": "code",
     "collapsed": false,
     "input": [
      "\n",
      "# for d in datapoints:"
     ],
     "language": "python",
     "metadata": {},
     "outputs": [],
     "prompt_number": 32
    },
    {
     "cell_type": "code",
     "collapsed": false,
     "input": [],
     "language": "python",
     "metadata": {},
     "outputs": []
    }
   ],
   "metadata": {}
  }
 ]
}