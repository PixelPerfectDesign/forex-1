{
 "metadata": {
  "name": "",
  "signature": "sha256:42887f60f4f65dcee0610840cc60c90b864e26c8aadc10daf2460ce89a774420"
 },
 "nbformat": 3,
 "nbformat_minor": 0,
 "worksheets": [
  {
   "cells": [
    {
     "cell_type": "code",
     "collapsed": false,
     "input": [
      "import matplotlib.pyplot as plt\n",
      "import datetime\n",
      "%matplotlib inline\n",
      "import random\n",
      "import ast\n",
      "import time\n",
      "import sqlalchemy\n",
      "from sqlalchemy import *\n",
      "from sqlalchemy import event\n",
      "import sqlite3\n",
      "from sqlalchemy.ext.declarative import declarative_base\n",
      "from sqlalchemy.orm import *\n",
      "import urllib2\n",
      "import urllib\n",
      "import json\n",
      "import glob\n",
      "import pprint\n",
      "import dateutil.parser\n",
      "import pprint\n",
      "import re\n",
      "from sklearn import linear_model, datasets\n",
      "import time\n",
      "from sklearn.naive_bayes import GaussianNB\n",
      "import nltk\n",
      "from collections import defaultdict\n",
      "from sklearn import svm\n",
      "pp = pprint.PrettyPrinter(indent=4)"
     ],
     "language": "python",
     "metadata": {},
     "outputs": [],
     "prompt_number": 1
    },
    {
     "cell_type": "code",
     "collapsed": false,
     "input": [
      "def mean(l):\n",
      "    return sum(l)/float(len(l))"
     ],
     "language": "python",
     "metadata": {},
     "outputs": [],
     "prompt_number": 2
    },
    {
     "cell_type": "code",
     "collapsed": false,
     "input": [
      "dates=[]; times=[]; asks=[]\n",
      "alls = {}\n",
      "tree = lambda: defaultdict(tree)\n",
      "dct = tree()\n",
      "for fl in glob.glob('Forex_Data/EURO_USD/*/*.csv'):\n",
      "    print fl\n",
      "    for line in open(fl):\n",
      "        line = line.strip('\\n').split(' ')\n",
      "        date = line[0]\n",
      "        rest  = line[1].split(';')\n",
      "        time = rest[0]\n",
      "        ask = rest[1]\n",
      "    #     print int(date[:4]), int(date[4:6]), int(date[6:8]), int(time[:2]), int(time[2:4]), int(time[4:])\n",
      "        d = datetime.datetime(int(date[:4]), int(date[4:6]), int(date[6:8]), int(time[:2]), int(time[2:4]), int(time[4:]))\n",
      "    #     print d\n",
      "    #     dates.append( date[:4]+\" \"+date[4:6]*3600*24*30+\" \"+date[6:8]*3600*24+\" \"+time[0:2]*3600+\" \"+time[2:4]*60 )\n",
      "        dates.append(d)\n",
      "        times.append(time)\n",
      "        asks.append(ask)\n",
      "        dct[d.year][d.month][d.day][d.hour][d.minute] = ask\n",
      "        alls[d] = ask"
     ],
     "language": "python",
     "metadata": {},
     "outputs": [
      {
       "output_type": "stream",
       "stream": "stdout",
       "text": [
        "Forex_Data/EURO_USD/HISTDATA_COM_ASCII_EURUSD_M12004/DAT_ASCII_EURUSD_M1_2004.csv\n",
        "Forex_Data/EURO_USD/HISTDATA_COM_ASCII_EURUSD_M12005/DAT_ASCII_EURUSD_M1_2005.csv"
       ]
      },
      {
       "output_type": "stream",
       "stream": "stdout",
       "text": [
        "\n",
        "Forex_Data/EURO_USD/HISTDATA_COM_ASCII_EURUSD_M12006/data.csv"
       ]
      },
      {
       "output_type": "stream",
       "stream": "stdout",
       "text": [
        "\n",
        "Forex_Data/EURO_USD/HISTDATA_COM_ASCII_EURUSD_M12007/data.csv"
       ]
      },
      {
       "output_type": "stream",
       "stream": "stdout",
       "text": [
        "\n",
        "Forex_Data/EURO_USD/HISTDATA_COM_ASCII_EURUSD_M12008/data.csv"
       ]
      },
      {
       "output_type": "stream",
       "stream": "stdout",
       "text": [
        "\n",
        "Forex_Data/EURO_USD/HISTDATA_COM_ASCII_EURUSD_M12009/DAT_ASCII_EURUSD_M1_2009.csv"
       ]
      },
      {
       "output_type": "stream",
       "stream": "stdout",
       "text": [
        "\n",
        "Forex_Data/EURO_USD/HISTDATA_COM_ASCII_EURUSD_M12010/DAT_ASCII_EURUSD_M1_2010.csv"
       ]
      },
      {
       "output_type": "stream",
       "stream": "stdout",
       "text": [
        "\n",
        "Forex_Data/EURO_USD/HISTDATA_COM_ASCII_EURUSD_M12011/DAT_ASCII_EURUSD_M1_2011.csv"
       ]
      },
      {
       "output_type": "stream",
       "stream": "stdout",
       "text": [
        "\n",
        "Forex_Data/EURO_USD/HISTDATA_COM_ASCII_EURUSD_M12012/DAT_ASCII_EURUSD_M1_2012.csv"
       ]
      },
      {
       "output_type": "stream",
       "stream": "stdout",
       "text": [
        "\n",
        "Forex_Data/EURO_USD/HISTDATA_COM_ASCII_EURUSD_M12013/DAT_ASCII_EURUSD_M1_2013.csv"
       ]
      },
      {
       "output_type": "stream",
       "stream": "stdout",
       "text": [
        "\n",
        "Forex_Data/EURO_USD/HISTDATA_COM_ASCII_EURUSD_M12014/DAT_ASCII_EURUSD_M1_2014.csv"
       ]
      },
      {
       "output_type": "stream",
       "stream": "stdout",
       "text": [
        "\n",
        "Forex_Data/EURO_USD/HISTDATA_COM_ASCII_EURUSD_M1201501/DAT_ASCII_EURUSD_M1_201501.csv"
       ]
      },
      {
       "output_type": "stream",
       "stream": "stdout",
       "text": [
        "\n",
        "Forex_Data/EURO_USD/HISTDATA_COM_ASCII_EURUSD_M1201502/DAT_ASCII_EURUSD_M1_201502.csv"
       ]
      },
      {
       "output_type": "stream",
       "stream": "stdout",
       "text": [
        "\n"
       ]
      }
     ],
     "prompt_number": 3
    },
    {
     "cell_type": "code",
     "collapsed": false,
     "input": [
      "plt.plot(dates,asks)\n",
      "plt.show()"
     ],
     "language": "python",
     "metadata": {},
     "outputs": [
      {
       "metadata": {},
       "output_type": "display_data",
       "png": "[encoded data removed]",
       "text": [
        "<matplotlib.figure.Figure at 0x10403e150>"
       ]
      }
     ],
     "prompt_number": 4
    },
    {
     "cell_type": "code",
     "collapsed": false,
     "input": [
      "sortedKeys = sorted(alls.keys())\n",
      "cache = {}\n",
      "count = 0\n",
      "for k in sortedKeys:\n",
      "    cache[k] = count\n",
      "    count += 1"
     ],
     "language": "python",
     "metadata": {},
     "outputs": [],
     "prompt_number": 5
    },
    {
     "cell_type": "code",
     "collapsed": false,
     "input": [
      "def moving_average(delta, data, date):\n",
      "#     date = date - delta\n",
      "    kys = sortedKeys\n",
      "#     print kys\n",
      "    i1, i2 = 1, 1\n",
      "#     print delta.hours\n",
      "    try:\n",
      "        d1 = closest_date(date)\n",
      "        i1 = cache[d1]\n",
      "    except:\n",
      "        count = 0\n",
      "        for k in kys:\n",
      "    #       print k\n",
      "            if k > date:\n",
      "                i1 = count\n",
      "                break   \n",
      "        count += 1\n",
      "    try:\n",
      "        d2 = closest_date(date - delta)\n",
      "        i2 = cache[d2]\n",
      "    except:\n",
      "        count = 0\n",
      "        for k in kys:\n",
      "    #       print k\n",
      "            if k > date - delta:\n",
      "                i2 = count\n",
      "                break   \n",
      "            count += 1#     print d1, d2\n",
      "    points = []\n",
      "#     print i1, i2\n",
      "    #compute avg approx for speed\n",
      "    datapoints = 5\n",
      "    ptz = []\n",
      "    if abs(i1-i2)/5 == 0:\n",
      "        return mean([float(alls[kys[i1]]), float(alls[kys[i2]])])\n",
      "    for z in range(i2, i1, abs(i1-i2)/5):\n",
      "        ptz.append(float(alls[kys[z]]))\n",
      "    return mean(ptz)\n",
      "    for z in kys[i2:i1]:\n",
      "        if z < date:\n",
      "            points.append(float(alls[z]))\n",
      "    return mean(points)"
     ],
     "language": "python",
     "metadata": {},
     "outputs": [],
     "prompt_number": 34
    },
    {
     "cell_type": "raw",
     "metadata": {},
     "source": []
    },
    {
     "cell_type": "code",
     "collapsed": false,
     "input": [
      "def get_past_averages(date):\n",
      "    print date\n",
      "    vec = []\n",
      "    for back in [1/24.0,.25,1,3,7,31,90,180,365]:\n",
      "        dlt = datetime.timedelta(hours=back * 24)\n",
      "        vec.append(moving_average(dlt, dct, date))\n",
      "    return vec"
     ],
     "language": "python",
     "metadata": {},
     "outputs": [],
     "prompt_number": 22
    },
    {
     "cell_type": "code",
     "collapsed": false,
     "input": [
      "def closest_datapoint(d):\n",
      "    closest =  dct[d.year][d.month][d.day][d.hour][d.minute]\n",
      "    if str(type(closest)) != \"<type 'collections.defaultdict'>\":\n",
      "        return closest\n",
      "    else:\n",
      "        return closest_datapoint(d + datetime.timedelta(seconds=60))\n"
     ],
     "language": "python",
     "metadata": {},
     "outputs": [],
     "prompt_number": 23
    },
    {
     "cell_type": "code",
     "collapsed": false,
     "input": [
      "def closest_date(d):\n",
      "    closest =  dct[d.year][d.month][d.day][d.hour][d.minute]\n",
      "    if str(type(closest)) != \"<type 'collections.defaultdict'>\":\n",
      "        return datetime.datetime(d.year,d.month,d.day,d.hour,d.minute)\n",
      "    else:\n",
      "        return closest_date(d + datetime.timedelta(seconds=120))\n"
     ],
     "language": "python",
     "metadata": {},
     "outputs": [],
     "prompt_number": 24
    },
    {
     "cell_type": "code",
     "collapsed": false,
     "input": [
      "print len(alls.keys())"
     ],
     "language": "python",
     "metadata": {},
     "outputs": [
      {
       "output_type": "stream",
       "stream": "stdout",
       "text": [
        "3826012\n"
       ]
      }
     ],
     "prompt_number": 25
    },
    {
     "cell_type": "code",
     "collapsed": false,
     "input": [
      "dp = datetime.datetime(2014,1,1,1,1)\n",
      "# srt = sorted(dct.keys(), key = lambda x: x)\n",
      "print get_past_averages(dp)"
     ],
     "language": "python",
     "metadata": {},
     "outputs": [
      {
       "output_type": "stream",
       "stream": "stdout",
       "text": [
        "2014-01-01 01:01:00\n",
        "3407716 3407716\n",
        "3407716 3407716\n",
        "3407716 3406818\n",
        "3407716 3404915\n",
        "3407716 3402820\n",
        "3407716"
       ]
      },
      {
       "output_type": "stream",
       "stream": "stdout",
       "text": [
        " 3378542\n",
        "3407716 3318826\n",
        "3407716 3227037\n",
        "3407716 3037105\n",
        "[1.37592, 1.37592, 1.3772583333333335, 1.377481666666667, 1.374765, 1.3707366666666667, 1.361822, 1.3422933333333333, 1.3297033333333335]\n"
       ]
      }
     ],
     "prompt_number": 28
    },
    {
     "cell_type": "code",
     "collapsed": false,
     "input": [
      "trainfile = open('usd_eur_trainingdata.csv', 'a')\n",
      "testfile = open('usd_eur_testingdata.csv', 'a')\n",
      "\n",
      "train_size = 1000\n",
      "training, testing = [], []\n",
      "keys = alls.keys()\n",
      "random.shuffle(keys)\n",
      "\n",
      "for i in range(train_size):\n",
      "    try:\n",
      "        diff30 = float(closest_datapoint(keys[i] + datetime.timedelta(hours=.5))) - float(closest_datapoint(keys[i]))\n",
      "        diff60 = float(closest_datapoint(keys[i] + datetime.timedelta(hours=1))) - float(closest_datapoint(keys[i]))\n",
      "        diff120 = float(closest_datapoint(keys[i] + datetime.timedelta(hours=2))) - float(closest_datapoint(keys[i]))\n",
      "        diffs = [diff30, diff60, diff120]\n",
      "        \n",
      "        avgs = get_past_averages(keys[i])\n",
      "        training.append([avgs,  diff])\n",
      "        if random.randint(1,10) == 7:\n",
      "            fl = testfile\n",
      "        else:\n",
      "            fl = trainfile\n",
      "        for a in avgs:\n",
      "            fl.write(str(a) + \",\")\n",
      "        for diff in diffs[:-1]:\n",
      "            fl.write(str(diff) + \",\")\n",
      "        fl.write(str(diffs[-1]) + \"\\n\")\n",
      "        fl.flush()\n",
      "    except:\n",
      "        pass\n",
      "\n",
      "# for i in range(train_size/5):\n",
      "#     diff = float(closest_datapoint(keys[train_size + i] + datetime.timedelta(hours=.5))) - float(closest_datapoint(keys[train_size + i]))\n",
      "#     avgs = get_past_averages(keys[train_size + i])\n",
      "#     print diff\n",
      "#     testing.append([avgs,  diff])\n",
      "#     for a in avgs:\n",
      "#         testfile.write(str(a) + \",\")\n",
      "#     testfile.write(str(diff) + \"\\n\")\n",
      "#     testfile.flush()\n",
      "\n",
      "# print training\n",
      "# print testing"
     ],
     "language": "python",
     "metadata": {},
     "outputs": [
      {
       "output_type": "stream",
       "stream": "stdout",
       "text": [
        "[0.0007900000000000684, 0.00034000000000000696, 0.00026999999999999247]\n",
        "2012-01-19 20:03:00\n",
        "[0.0004999999999999449, -0.00039999999999995595, -0.0006999999999999229]"
       ]
      },
      {
       "output_type": "stream",
       "stream": "stdout",
       "text": [
        "\n",
        "2009-10-08 03:20:00\n",
        "[-0.0009999999999998899, -0.00029999999999996696, -0.0030999999999998806]"
       ]
      },
      {
       "output_type": "stream",
       "stream": "stdout",
       "text": [
        "\n",
        "2008-03-06 06:36:00\n",
        "[-0.00039999999999995595, -0.00019999999999997797, -0.0005999999999999339]"
       ]
      },
      {
       "output_type": "stream",
       "stream": "stdout",
       "text": [
        "\n",
        "2009-11-10 07:34:00\n",
        "[-0.00029999999999996696, -0.000600000000000156, -0.001000000000000112]"
       ]
      },
      {
       "output_type": "stream",
       "stream": "stdout",
       "text": [
        "\n",
        "2006-11-10 07:04:00\n",
        "[-1.0000000000065512e-05, -0.0003500000000000725, -0.0011500000000002064]"
       ]
      },
      {
       "output_type": "stream",
       "stream": "stdout",
       "text": [
        "\n",
        "2013-12-26 06:49:00\n",
        "[-0.0005999999999999339, -0.00039999999999995595, -0.0005999999999999339]"
       ]
      },
      {
       "output_type": "stream",
       "stream": "stdout",
       "text": [
        "\n",
        "2008-02-14 19:46:00\n",
        "[0.0008999999999999009, 0.0006999999999999229, -0.0013000000000000789]"
       ]
      },
      {
       "output_type": "stream",
       "stream": "stdout",
       "text": [
        "\n",
        "2009-11-17 01:59:00\n",
        "[-0.0012000000000000899, -0.0012000000000000899, -0.001100000000000101]"
       ]
      },
      {
       "output_type": "stream",
       "stream": "stdout",
       "text": [
        "\n",
        "2004-02-16 11:43:00\n",
        "[-0.000600000000000156, -0.0015000000000000568, -0.001100000000000101]\n",
        "2005-02-24 13:31:00\n",
        "[0.0005399999999999849, 0.0005399999999999849, 0.0005399999999999849]\n",
        "2015-01-01 13:59:00\n",
        "[9.999999999998899e-05, 0.0007999999999999119, -0.0012000000000000899]\n",
        "2004-03-12 01:52:00\n",
        "[-0.0010999999999998789, -0.0012999999999998568, -0.0017000000000000348]"
       ]
      },
      {
       "output_type": "stream",
       "stream": "stdout",
       "text": [
        "\n",
        "2005-11-07 14:53:00\n",
        "[-9.999999999998899e-05, 0.0006999999999999229, 0.0]\n",
        "2006-09-28 00:04:00\n",
        "[0.000700000000000145, 0.0018000000000000238, 0.0013000000000000789]"
       ]
      },
      {
       "output_type": "stream",
       "stream": "stdout",
       "text": [
        "\n",
        "2006-04-03 23:53:00\n",
        "[-0.00029999999999996696, 0.0005999999999999339, -0.0018000000000000238]"
       ]
      },
      {
       "output_type": "stream",
       "stream": "stdout",
       "text": [
        "\n",
        "2004-01-29 23:02:00\n",
        "[-0.0014200000000001989, -0.000440000000000218, 0.0007499999999998064]\n",
        "2013-11-06 02:55:00\n",
        "[0.00039999999999995595, -0.0013000000000000789, -0.00019999999999997797]\n",
        "2009-01-01 23:38:00\n",
        "[-0.0005499999999998284, -0.0004999999999999449, -0.0011999999999998678]"
       ]
      },
      {
       "output_type": "stream",
       "stream": "stdout",
       "text": [
        "\n",
        "2014-11-16 23:23:00\n",
        "[-0.0012400000000001299, -0.0005900000000000905, 0.0009899999999998244]\n",
        "2012-09-24 05:48:00\n",
        "[-9.999999999998899e-05, -0.0001100000000000545, 5.999999999994898e-05]\n",
        "2013-12-10 01:38:00\n",
        "[-0.00039999999999995595, -0.000600000000000156, -0.00029999999999996696]"
       ]
      },
      {
       "output_type": "stream",
       "stream": "stdout",
       "text": [
        "\n",
        "2008-09-07 23:45:00\n",
        "[0.0009000000000001229, 0.002200000000000202, 0.0034000000000000696]\n",
        "2009-11-08 20:52:00\n",
        "[0.0008999999999999009, 0.0011999999999998678, 0.0008999999999999009]\n",
        "2011-11-07 19:58:00\n",
        "[-0.0019000000000000128, 0.0013000000000000789, 0.0045000000000001705]"
       ]
      },
      {
       "output_type": "stream",
       "stream": "stdout",
       "text": [
        "\n",
        "2009-05-06 07:07:00\n",
        "[-0.00015999999999993797, -0.00045999999999990493, 0.00026999999999999247]\n",
        "2014-09-07 19:42:00\n",
        "[-0.0005999999999999339, -0.0006999999999999229, 0.00029999999999996696]\n",
        "2011-05-02 07:17:00\n",
        "[9.999999999998899e-05, 0.00029999999999996696, 0.00019999999999997797]\n",
        "2005-01-26 00:15:00\n",
        "[-0.0006500000000000394, -0.0004900000000001015, -0.00026999999999999247]\n",
        "2014-05-23 01:13:00\n",
        "[-0.0010099999999999554, -0.0015000000000000568, -0.004329999999999945]"
       ]
      }
     ]
    },
    {
     "cell_type": "code",
     "collapsed": false,
     "input": [
      "print testing"
     ],
     "language": "python",
     "metadata": {},
     "outputs": [
      {
       "output_type": "stream",
       "stream": "stdout",
       "text": [
        "[]\n"
       ]
      }
     ],
     "prompt_number": 31
    },
    {
     "cell_type": "code",
     "collapsed": false,
     "input": [
      "\n",
      "# for d in datapoints:"
     ],
     "language": "python",
     "metadata": {},
     "outputs": [],
     "prompt_number": 32
    },
    {
     "cell_type": "code",
     "collapsed": false,
     "input": [],
     "language": "python",
     "metadata": {},
     "outputs": []
    }
   ],
   "metadata": {}
  }
 ]
}