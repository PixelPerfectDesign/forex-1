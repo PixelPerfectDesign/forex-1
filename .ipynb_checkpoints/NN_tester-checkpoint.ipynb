{
 "metadata": {
  "name": "",
  "signature": "sha256:f92a5872d4c919194cd7fa40725a2737bc8a96832286aa5f047d5affb3afbe8c"
 },
 "nbformat": 3,
 "nbformat_minor": 0,
 "worksheets": []
}