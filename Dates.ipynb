{
 "metadata": {
  "name": "",
  "signature": "sha256:da83a7ea766edd8b5cafbce21370b139223519e91541a446017472b5a639edec"
 },
 "nbformat": 3,
 "nbformat_minor": 0,
 "worksheets": [
  {
   "cells": [
    {
     "cell_type": "code",
     "collapsed": false,
     "input": [
      "import datetime, random, time\n",
      "from collections import *"
     ],
     "language": "python",
     "metadata": {},
     "outputs": [],
     "prompt_number": 23
    },
    {
     "cell_type": "code",
     "collapsed": false,
     "input": [
      "dates = []\n",
      "for x in range(1000000):\n",
      "    dates.append(datetime.datetime(random.randint(2010,2014), random.randint(1,12), random.randint(1,28), random.randint(0,23), random.randint(0,50), random.randint(0,25)))"
     ],
     "language": "python",
     "metadata": {},
     "outputs": [],
     "prompt_number": 62
    },
    {
     "cell_type": "code",
     "collapsed": false,
     "input": [
      "print dates[:10]"
     ],
     "language": "python",
     "metadata": {},
     "outputs": [
      {
       "output_type": "stream",
       "stream": "stdout",
       "text": [
        "[datetime.datetime(2010, 10, 21, 21, 5, 14), datetime.datetime(2012, 3, 26, 7, 3, 13), datetime.datetime(2013, 3, 28, 15, 25, 3), datetime.datetime(2010, 5, 12, 9, 48, 25), datetime.datetime(2012, 2, 3, 15, 24, 12), datetime.datetime(2011, 9, 14, 4, 15, 9), datetime.datetime(2012, 12, 23, 5, 48, 12), datetime.datetime(2010, 5, 17, 1, 15, 10), datetime.datetime(2010, 5, 7, 3, 44, 13), datetime.datetime(2013, 2, 20, 19, 50, 24)]\n"
       ]
      }
     ],
     "prompt_number": 63
    },
    {
     "cell_type": "code",
     "collapsed": false,
     "input": [
      "def closest_datapoint(d):\n",
      "    closest =  dct[d.year][d.month][d.day][d.hour][d.minute]\n",
      "    if str(type(closest)) != \"<type 'collections.defaultdict'>\":\n",
      "        return closest\n",
      "    else:\n",
      "        return closest_datapoint(d + datetime.timedelta(seconds=60))\n"
     ],
     "language": "python",
     "metadata": {},
     "outputs": [],
     "prompt_number": 64
    },
    {
     "cell_type": "code",
     "collapsed": false,
     "input": [
      "t = time.time()\n",
      "delta = datetime.timedelta(hours=8760)\n",
      "date = datetime.datetime(2013,2,2,3,3,3)\n",
      "m = [k for k in dates if abs(k - date ).days <= delta.days]\n",
      "print len(m)\n",
      "print time.time() - t"
     ],
     "language": "python",
     "metadata": {},
     "outputs": [
      {
       "output_type": "stream",
       "stream": "stdout",
       "text": [
        "400374\n",
        "0.562208890915\n"
       ]
      }
     ],
     "prompt_number": 65
    },
    {
     "cell_type": "code",
     "collapsed": false,
     "input": [
      "tree = lambda: defaultdict(tree)\n",
      "dct = tree()\n",
      "date = datetime.datetime(2013,2,2,3,3,3)\n",
      "pts = []\n",
      "for d in dates:\n",
      "    dct[d.year][d.month][d.day][d.hour][d.minute] = 1\n"
     ],
     "language": "python",
     "metadata": {},
     "outputs": [],
     "prompt_number": 66
    },
    {
     "cell_type": "code",
     "collapsed": false,
     "input": [
      "pts = []\n",
      "t = time.time()\n",
      "for daysAgo in [1,3,5,7,31,365]:\n",
      "    for ind in range(daysAgo):\n",
      "        d= diff - datetime.timedelta(days=ind)\n",
      "        for hour in range(0,23,2):\n",
      "            for minute in range(0,59,5):\n",
      "                pt =  dct[d.year][d.month][d.day][hour][minute]\n",
      "                if str(type(pt)) != \"<type 'collections.defaultdict'>\":\n",
      "                    pts.append(pt)\n",
      "    print len(pts)\n",
      "print pts[0]\n",
      "print time.time() - t"
     ],
     "language": "python",
     "metadata": {},
     "outputs": [
      {
       "output_type": "stream",
       "stream": "stdout",
       "text": [
        "51\n",
        "209\n",
        "479\n",
        "854\n",
        "2298\n",
        "19472"
       ]
      },
      {
       "output_type": "stream",
       "stream": "stdout",
       "text": [
        "\n",
        "1\n",
        "0.270603179932\n"
       ]
      }
     ],
     "prompt_number": 74
    },
    {
     "cell_type": "code",
     "collapsed": false,
     "input": [
      "date = datetime.datetime(2013,2,2,3,3,3)\n",
      "print dir(date)\n",
      "print date.isoformat()"
     ],
     "language": "python",
     "metadata": {},
     "outputs": [
      {
       "output_type": "stream",
       "stream": "stdout",
       "text": [
        "['__add__', '__class__', '__delattr__', '__doc__', '__eq__', '__format__', '__ge__', '__getattribute__', '__gt__', '__hash__', '__init__', '__le__', '__lt__', '__ne__', '__new__', '__radd__', '__reduce__', '__reduce_ex__', '__repr__', '__rsub__', '__setattr__', '__sizeof__', '__str__', '__sub__', '__subclasshook__', 'astimezone', 'combine', 'ctime', 'date', 'day', 'dst', 'fromordinal', 'fromtimestamp', 'hour', 'isocalendar', 'isoformat', 'isoweekday', 'max', 'microsecond', 'min', 'minute', 'month', 'now', 'replace', 'resolution', 'second', 'strftime', 'strptime', 'time', 'timetuple', 'timetz', 'today', 'toordinal', 'tzinfo', 'tzname', 'utcfromtimestamp', 'utcnow', 'utcoffset', 'utctimetuple', 'weekday', 'year']\n",
        "2013-02-02T03:03:03\n"
       ]
      }
     ],
     "prompt_number": 68
    },
    {
     "cell_type": "code",
     "collapsed": false,
     "input": [
      "print diff"
     ],
     "language": "python",
     "metadata": {},
     "outputs": [
      {
       "output_type": "stream",
       "stream": "stdout",
       "text": [
        "2013-01-26 03:03:03\n"
       ]
      }
     ],
     "prompt_number": 75
    },
    {
     "cell_type": "code",
     "collapsed": false,
     "input": [],
     "language": "python",
     "metadata": {},
     "outputs": []
    }
   ],
   "metadata": {}
  }
 ]
}